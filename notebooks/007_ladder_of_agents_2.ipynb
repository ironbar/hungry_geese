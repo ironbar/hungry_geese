{
 "cells": [
  {
   "cell_type": "markdown",
   "metadata": {
    "toc": true
   },
   "source": [
    "<h1>Table of Contents<span class=\"tocSkip\"></span></h1>\n",
    "<div class=\"toc\"><ul class=\"toc-item\"><li><span><a href=\"#Explore-other-reward-functions\" data-toc-modified-id=\"Explore-other-reward-functions-1\">Explore other reward functions</a></span><ul class=\"toc-item\"><li><span><a href=\"#Goal\" data-toc-modified-id=\"Goal-1.1\">Goal</a></span></li><li><span><a href=\"#Imports\" data-toc-modified-id=\"Imports-1.2\">Imports</a></span></li><li><span><a href=\"#Code\" data-toc-modified-id=\"Code-1.3\">Code</a></span><ul class=\"toc-item\"><li><span><a href=\"#Data-generation\" data-toc-modified-id=\"Data-generation-1.3.1\">Data generation</a></span></li><li><span><a href=\"#Evaluation\" data-toc-modified-id=\"Evaluation-1.3.2\">Evaluation</a></span></li><li><span><a href=\"#Visualization\" data-toc-modified-id=\"Visualization-1.3.3\">Visualization</a></span></li></ul></li><li><span><a href=\"#Exploring-with-softmax-policy\" data-toc-modified-id=\"Exploring-with-softmax-policy-1.4\">Exploring with softmax policy</a></span><ul class=\"toc-item\"><li><span><a href=\"#Compare-epsilon-greedy-policy-against-softmax-policy\" data-toc-modified-id=\"Compare-epsilon-greedy-policy-against-softmax-policy-1.4.1\">Compare epsilon greedy policy against softmax policy</a></span><ul class=\"toc-item\"><li><span><a href=\"#Elo-score\" data-toc-modified-id=\"Elo-score-1.4.1.1\">Elo score</a></span></li><li><span><a href=\"#Randomness-on-softmax-policy\" data-toc-modified-id=\"Randomness-on-softmax-policy-1.4.1.2\">Randomness on softmax policy</a></span></li><li><span><a href=\"#Comparison\" data-toc-modified-id=\"Comparison-1.4.1.3\">Comparison</a></span></li></ul></li><li><span><a href=\"#Generation\" data-toc-modified-id=\"Generation-1.4.2\">Generation</a></span></li><li><span><a href=\"#Evaluation\" data-toc-modified-id=\"Evaluation-1.4.3\">Evaluation</a></span><ul class=\"toc-item\"><li><span><a href=\"#Baseline-(lr-1e-3)\" data-toc-modified-id=\"Baseline-(lr-1e-3)-1.4.3.1\">Baseline (lr 1e-3)</a></span></li><li><span><a href=\"#Learning-rate-5e-4\" data-toc-modified-id=\"Learning-rate-5e-4-1.4.3.2\">Learning rate 5e-4</a></span></li><li><span><a href=\"#Learning-rate-2e-4\" data-toc-modified-id=\"Learning-rate-2e-4-1.4.3.3\">Learning rate 2e-4</a></span></li><li><span><a href=\"#Learning-rate-1e-4\" data-toc-modified-id=\"Learning-rate-1e-4-1.4.3.4\">Learning rate 1e-4</a></span></li><li><span><a href=\"#Learning-rate-1e-5\" data-toc-modified-id=\"Learning-rate-1e-5-1.4.3.5\">Learning rate 1e-5</a></span></li><li><span><a href=\"#From-zero\" data-toc-modified-id=\"From-zero-1.4.3.6\">From zero</a></span></li><li><span><a href=\"#40k-matches\" data-toc-modified-id=\"40k-matches-1.4.3.7\">40k matches</a></span></li></ul></li></ul></li><li><span><a href=\"#Trying-to-iterate\" data-toc-modified-id=\"Trying-to-iterate-1.5\">Trying to iterate</a></span><ul class=\"toc-item\"><li><span><a href=\"#Generation\" data-toc-modified-id=\"Generation-1.5.1\">Generation</a></span></li><li><span><a href=\"#Evaluation\" data-toc-modified-id=\"Evaluation-1.5.2\">Evaluation</a></span></li></ul></li><li><span><a href=\"#Study-match-length\" data-toc-modified-id=\"Study-match-length-1.6\">Study match length</a></span></li><li><span><a href=\"#Useful-snippets\" data-toc-modified-id=\"Useful-snippets-1.7\">Useful snippets</a></span></li><li><span><a href=\"#Summary\" data-toc-modified-id=\"Summary-1.8\">Summary</a></span></li></ul></li></ul></div>"
   ]
  },
  {
   "cell_type": "markdown",
   "metadata": {},
   "source": [
    "# Explore other reward functions"
   ]
  },
  {
   "cell_type": "markdown",
   "metadata": {},
   "source": [
    "## Goal"
   ]
  },
  {
   "cell_type": "markdown",
   "metadata": {},
   "source": [
    "The goal of this notebooks is to continue learning about the Q value function, but trying other reward methods.\n",
    "\n",
    "This is a continuation of notebook 004, which had become too big. In this notebook I will split the functionality\n",
    "of playing games and generating data from training from those games."
   ]
  },
  {
   "cell_type": "markdown",
   "metadata": {
    "heading_collapsed": true
   },
   "source": [
    "## Imports"
   ]
  },
  {
   "cell_type": "code",
   "execution_count": 3,
   "metadata": {
    "ExecuteTime": {
     "end_time": "2021-03-30T16:30:31.519718Z",
     "start_time": "2021-03-30T16:30:31.499345Z"
    },
    "hidden": true
   },
   "outputs": [],
   "source": [
    "# Use this to reload changes in python scripts\n",
    "%load_ext autoreload\n",
    "%autoreload 2"
   ]
  },
  {
   "cell_type": "code",
   "execution_count": 4,
   "metadata": {
    "ExecuteTime": {
     "end_time": "2021-03-30T16:30:34.360699Z",
     "start_time": "2021-03-30T16:30:31.521950Z"
    },
    "hidden": true
   },
   "outputs": [
    {
     "name": "stdout",
     "output_type": "stream",
     "text": [
      "Loading environment football failed: No module named 'gfootball'\n"
     ]
    }
   ],
   "source": [
    "import os\n",
    "import sys\n",
    "import kaggle_environments\n",
    "from kaggle_environments import make\n",
    "from kaggle_environments import evaluate\n",
    "from kaggle_environments.envs.hungry_geese.hungry_geese import Action\n",
    "import numpy as np\n",
    "import matplotlib.pyplot as plt\n",
    "import matplotlib as mpl\n",
    "import random\n",
    "import pandas as pd\n",
    "from tqdm.notebook import tqdm\n",
    "import time\n",
    "from itertools import permutations\n",
    "from functools import partial\n",
    "import gc\n",
    "from concurrent.futures import ProcessPoolExecutor\n",
    "import json\n",
    "import logging\n",
    "import glob\n",
    "from IPython.display import clear_output\n",
    "import tempfile\n",
    "\n",
    "os.environ['TF_FORCE_GPU_ALLOW_GROWTH'] = 'true'\n",
    "os.environ['CUDA_VISIBLE_DEVICES'] = ''\n",
    "#os.environ['CUDA_VISIBLE_DEVICES'] = '0'\n",
    "\n",
    "import tensorflow as tf\n",
    "import tensorflow.keras as keras\n",
    "\n",
    "from hungry_geese import GameState\n",
    "from hungry_geese.state import make_board_egocentric, get_head_position, combine_data, horizontal_simmetry, vertical_simmetry\n",
    "from hungry_geese.utils import ACTIONS, opposite_action, get_timestamp, log_ram_usage, configure_logging\n",
    "from hungry_geese.definitions import ACTION_TO_IDX\n",
    "from hungry_geese.agents import EpsilonAgent, QValueAgent\n",
    "from hungry_geese.evaluation import play_matches_in_parallel, monitor_progress\n",
    "from hungry_geese.elo import EloRanking\n",
    "from hungry_geese.model import simple_model, create_model_for_training\n",
    "\n",
    "%config Completer.use_jedi = False"
   ]
  },
  {
   "cell_type": "code",
   "execution_count": 5,
   "metadata": {
    "ExecuteTime": {
     "end_time": "2021-03-30T16:30:34.442249Z",
     "start_time": "2021-03-30T16:30:34.362964Z"
    },
    "hidden": true
   },
   "outputs": [],
   "source": [
    "plt.plot()\n",
    "plt.close('all')\n",
    "plt.rcParams[\"figure.figsize\"] = (30, 5)  \n",
    "mpl.rcParams['lines.linewidth'] = 3\n",
    "mpl.rcParams['font.size'] = 16\n",
    "\n",
    "configure_logging(logging.INFO)\n",
    "logger = logging.getLogger(__name__)"
   ]
  },
  {
   "cell_type": "markdown",
   "metadata": {
    "heading_collapsed": true
   },
   "source": [
    "## Code"
   ]
  },
  {
   "cell_type": "markdown",
   "metadata": {
    "hidden": true
   },
   "source": [
    "### Data generation"
   ]
  },
  {
   "cell_type": "code",
   "execution_count": 6,
   "metadata": {
    "ExecuteTime": {
     "end_time": "2021-03-30T16:30:34.517000Z",
     "start_time": "2021-03-30T16:30:34.444429Z"
    },
    "hidden": true
   },
   "outputs": [],
   "source": [
    "def play_matches_in_parallel_and_save_history(agents, max_workers=20, n_matches=1000,\n",
    "                                              output_path=None,\n",
    "                                              running_on_notebook=True):\n",
    "    \"\"\"\n",
    "    Plays n_matches in parallel using ProcessPoolExecutor\n",
    "\n",
    "    Parameters\n",
    "    -----------\n",
    "    agents : list\n",
    "        List of the agents that we will use for playing\n",
    "    \"\"\"\n",
    "    log_ram_usage()\n",
    "    output_path = output_path or get_games_output_path(agents, n_matches)\n",
    "    assert not os.path.exists(output_path), 'Output path already exists: %s' % output_path\n",
    "    with ProcessPoolExecutor(max_workers=max_workers) as pool:\n",
    "        matches_results = []\n",
    "        submits = []\n",
    "        for i in range(n_matches):\n",
    "            if isinstance(agents, list):\n",
    "                submits.append(pool.submit(play_game, agents=agents))\n",
    "            elif callable(agents):\n",
    "                submits.append(pool.submit(play_game, agents=agents()))\n",
    "            else:\n",
    "                raise TypeError(type(agents))\n",
    "        monitor_progress(submits, running_on_notebook)\n",
    "        matches_results = [submit.result() for submit in submits]\n",
    "    \n",
    "    log_ram_usage()\n",
    "    logger.info('saving matches to json: %s' % output_path)\n",
    "    os.makedirs(os.path.dirname(output_path), exist_ok=True)\n",
    "    with open(output_path, 'w') as f:\n",
    "        json.dump(matches_results, f)\n",
    "        \n",
    "    del submits\n",
    "    del matches_results\n",
    "    gc.collect()\n",
    "    log_ram_usage()\n",
    "\n",
    "def play_game(agents):\n",
    "    env = make(\"hungry_geese\")\n",
    "    return env.run(agents=agents)\n",
    "\n",
    "def get_games_output_path(agents, n_matches):\n",
    "    output_path = '/mnt/hdd0/Kaggle/hungry_geese/games/%s_vs_%s_matches_%i.json' % (\n",
    "        os.path.splitext(os.path.basename(agents[0]))[0], \n",
    "        os.path.splitext(os.path.basename(agents[1]))[0], \n",
    "        n_matches)\n",
    "    return output_path"
   ]
  },
  {
   "cell_type": "code",
   "execution_count": 7,
   "metadata": {
    "ExecuteTime": {
     "end_time": "2021-03-30T16:30:34.565740Z",
     "start_time": "2021-03-30T16:30:34.518968Z"
    },
    "hidden": true
   },
   "outputs": [],
   "source": [
    "def test_agent(agent):\n",
    "    print('Testing agent: %s' % agent)\n",
    "    env = make('hungry_geese', debug=True)\n",
    "    env.run([agent]*4)"
   ]
  },
  {
   "cell_type": "code",
   "execution_count": 8,
   "metadata": {
    "ExecuteTime": {
     "end_time": "2021-03-30T16:30:34.606261Z",
     "start_time": "2021-03-30T16:30:34.567614Z"
    },
    "hidden": true
   },
   "outputs": [],
   "source": [
    "def create_train_data_from_saved_matches(saved_games_paths, reward_name, output_path, agent_idx_range=None):\n",
    "    \"\"\"\n",
    "    Creates train data without any simmetry\n",
    "    \n",
    "    Parameters\n",
    "    ----------\n",
    "    saved_games_paths : list of str\n",
    "        Path to the games that we want to use\n",
    "    reward_name : str\n",
    "        Name of the reward function that we want to use\n",
    "    output_path : str\n",
    "        Path to the file were we are going to save the results\n",
    "    max_workers : int\n",
    "    agent_idx_range : list of int\n",
    "        Idx of the agents we want to use for collecting data, if None all the agents\n",
    "        will be used\n",
    "    \"\"\"\n",
    "    env = make(\"hungry_geese\")\n",
    "    conf = env.configuration\n",
    "\n",
    "    state = GameState(reward_name=reward_name)\n",
    "    train_data = []\n",
    "    agent_idx_range = agent_idx_range or list(range(4))\n",
    "    \n",
    "    for saved_games_path in tqdm(saved_games_paths, desc='looping over saved games'):\n",
    "        log_ram_usage()\n",
    "        with open(saved_games_path, 'r') as f:\n",
    "            matches_results = json.load(f)\n",
    "        log_ram_usage()\n",
    "    \n",
    "        for _ in tqdm(range(len(matches_results)), desc='Creating game data'):\n",
    "            match = matches_results[0]\n",
    "            for idx in agent_idx_range:\n",
    "                state.reset()\n",
    "                for step_idx, step in enumerate(match):\n",
    "                    observation = step[0]['observation'].copy()\n",
    "                    observation['index'] = idx\n",
    "                    state.update(observation, conf)\n",
    "                    if step_idx:\n",
    "                        state.add_action(step[idx]['action'])\n",
    "                    if not observation['geese'][idx]:\n",
    "                        break\n",
    "                train_data.append(state.prepare_data_for_training())\n",
    "            del matches_results[0]\n",
    "        \n",
    "    log_ram_usage()\n",
    "    logger.info('Going to combine the data')\n",
    "    train_data = combine_data(train_data)\n",
    "    log_ram_usage()\n",
    "    logger.info('Size of the boards is %.1f GB (%s [%.1f GB])' % (\n",
    "        train_data[0].nbytes/1e9,\n",
    "        str([round(data.nbytes/1e9, 1) for data in train_data]),\n",
    "        np.sum([data.nbytes/1e9 for data in train_data])))\n",
    "    logger.info('Saving data on: %s' % output_path)\n",
    "    os.makedirs(os.path.dirname(output_path), exist_ok=True)\n",
    "    np.savez_compressed(output_path, boards=train_data[0], features=train_data[1], actions=train_data[2], rewards=train_data[3])\n",
    "    del state\n",
    "    del train_data\n",
    "    gc.collect()\n",
    "    log_ram_usage()"
   ]
  },
  {
   "cell_type": "code",
   "execution_count": 9,
   "metadata": {
    "ExecuteTime": {
     "end_time": "2021-03-30T16:30:34.644263Z",
     "start_time": "2021-03-30T16:30:34.608525Z"
    },
    "hidden": true
   },
   "outputs": [],
   "source": [
    "def create_train_data(agents, n_matches, reward_name, agent_idx_range=None):\n",
    "    \"\"\"\n",
    "    Creates train data without any simmetry\n",
    "    \n",
    "    Parameters\n",
    "    ----------\n",
    "    agents : list of str\n",
    "        Names or paths of the agents\n",
    "    n_matches : int\n",
    "        Number of matches to play\n",
    "    reward_name : str\n",
    "        Name of the reward function that we want to use\n",
    "    max_workers : int\n",
    "    agent_idx_range : list of int\n",
    "        Idx of the agents we want to use for collecting data, if None all the agents\n",
    "        will be used\n",
    "    \"\"\"\n",
    "    saved_games_path = get_games_output_path(agents, n_matches)\n",
    "    if not os.path.exists(saved_games_path):\n",
    "        play_matches_in_parallel_and_save_history(agents, n_matches=n_matches)\n",
    "\n",
    "    output_path = get_data_output_path(agents, n_matches, reward_name)\n",
    "    create_train_data_from_saved_matches([saved_games_path], reward_name, output_path, agent_idx_range=agent_idx_range)\n",
    "    \n",
    "def get_data_output_path(agents, n_matches, reward_name):\n",
    "    output_file = '/mnt/hdd0/Kaggle/hungry_geese/data/%s/%s_vs_%s_matches_%i.npz' % (\n",
    "        reward_name,\n",
    "        os.path.splitext(os.path.basename(agents[0]))[0], \n",
    "        os.path.splitext(os.path.basename(agents[1]))[0], \n",
    "        n_matches)\n",
    "    return output_file"
   ]
  },
  {
   "cell_type": "markdown",
   "metadata": {
    "heading_collapsed": true,
    "hidden": true
   },
   "source": [
    "### Evaluation"
   ]
  },
  {
   "cell_type": "code",
   "execution_count": 10,
   "metadata": {
    "ExecuteTime": {
     "end_time": "2021-03-30T16:30:34.695235Z",
     "start_time": "2021-03-30T16:30:34.647154Z"
    },
    "hidden": true
   },
   "outputs": [
    {
     "data": {
      "text/html": [
       "<div>\n",
       "<style scoped>\n",
       "    .dataframe tbody tr th:only-of-type {\n",
       "        vertical-align: middle;\n",
       "    }\n",
       "\n",
       "    .dataframe tbody tr th {\n",
       "        vertical-align: top;\n",
       "    }\n",
       "\n",
       "    .dataframe thead th {\n",
       "        text-align: right;\n",
       "    }\n",
       "</style>\n",
       "<table border=\"1\" class=\"dataframe\">\n",
       "  <thead>\n",
       "    <tr style=\"text-align: right;\">\n",
       "      <th></th>\n",
       "      <th>ranking</th>\n",
       "    </tr>\n",
       "    <tr>\n",
       "      <th>model</th>\n",
       "      <th></th>\n",
       "    </tr>\n",
       "  </thead>\n",
       "  <tbody>\n",
       "    <tr>\n",
       "      <th>quantum</th>\n",
       "      <td>1398</td>\n",
       "    </tr>\n",
       "    <tr>\n",
       "      <th>boilergoose</th>\n",
       "      <td>1269</td>\n",
       "    </tr>\n",
       "    <tr>\n",
       "      <th>besthoarder</th>\n",
       "      <td>1227</td>\n",
       "    </tr>\n",
       "    <tr>\n",
       "      <th>crazy_goose</th>\n",
       "      <td>1186</td>\n",
       "    </tr>\n",
       "    <tr>\n",
       "      <th>risk_averse_goose</th>\n",
       "      <td>1176</td>\n",
       "    </tr>\n",
       "    <tr>\n",
       "      <th>goose_on_a_healthy_diet</th>\n",
       "      <td>1157</td>\n",
       "    </tr>\n",
       "    <tr>\n",
       "      <th>straightforward_bfs</th>\n",
       "      <td>1004</td>\n",
       "    </tr>\n",
       "    <tr>\n",
       "      <th>greedy</th>\n",
       "      <td>981</td>\n",
       "    </tr>\n",
       "    <tr>\n",
       "      <th>greedyhoarder</th>\n",
       "      <td>766</td>\n",
       "    </tr>\n",
       "    <tr>\n",
       "      <th>random_plus</th>\n",
       "      <td>706</td>\n",
       "    </tr>\n",
       "    <tr>\n",
       "      <th>random</th>\n",
       "      <td>523</td>\n",
       "    </tr>\n",
       "  </tbody>\n",
       "</table>\n",
       "</div>"
      ],
      "text/plain": [
       "                         ranking\n",
       "model                           \n",
       "quantum                     1398\n",
       "boilergoose                 1269\n",
       "besthoarder                 1227\n",
       "crazy_goose                 1186\n",
       "risk_averse_goose           1176\n",
       "goose_on_a_healthy_diet     1157\n",
       "straightforward_bfs         1004\n",
       "greedy                       981\n",
       "greedyhoarder                766\n",
       "random_plus                  706\n",
       "random                       523"
      ]
     },
     "execution_count": 10,
     "metadata": {},
     "output_type": "execute_result"
    }
   ],
   "source": [
    "initial_elo_ranking = pd.read_csv('../data/elo_ranking.csv', index_col='model')\n",
    "initial_elo_ranking"
   ]
  },
  {
   "cell_type": "code",
   "execution_count": 11,
   "metadata": {
    "ExecuteTime": {
     "end_time": "2021-03-30T16:30:34.728545Z",
     "start_time": "2021-03-30T16:30:34.697300Z"
    },
    "hidden": true
   },
   "outputs": [],
   "source": [
    "agents = {\n",
    "    'random': 'random',\n",
    "    'random_plus': '../forum/agents/random_plus.py',\n",
    "    'greedy': 'greedy',\n",
    "    'risk_averse_goose': '../forum/agents/risk_averse_goose.py',\n",
    "    'goose_on_a_healthy_diet': '../forum/agents/goose_on_a_healthy_diet.py',\n",
    "    'straightforward_bfs': '../forum/agents/straightforward_bfs.py',\n",
    "    'boilergoose': '../forum/agents/boilergoose.py',\n",
    "    'crazy_goose': '../forum/agents/crazy_goose.py',\n",
    "    'besthoarder': '../forum/agents/besthoarder.py',\n",
    "    'greedyhoarder': '../forum/agents/greedyhoarder.py',\n",
    "    'quantum': '../data/agents/quantum/quantum.py',\n",
    "}"
   ]
  },
  {
   "cell_type": "code",
   "execution_count": 12,
   "metadata": {
    "ExecuteTime": {
     "end_time": "2021-03-30T16:30:34.808068Z",
     "start_time": "2021-03-30T16:30:34.739456Z"
    },
    "hidden": true
   },
   "outputs": [],
   "source": [
    "def evaluate_agent(new_agent, adversary_agents, n_matches, single_agent=True, max_workers=20, run_agent_test=False):\n",
    "    agent_name = list(new_agent.keys())[0]\n",
    "    # I have found that for certain agents if the test is run then evaluation is frozen\n",
    "    if run_agent_test: test_agent(new_agent[agent_name])\n",
    "    reduced_agents_set = new_agent.copy()\n",
    "    for adversary_agent in adversary_agents:\n",
    "        reduced_agents_set[adversary_agent] = agents[adversary_agent]\n",
    "    \n",
    "    if single_agent:\n",
    "        sample_agents_func = lambda: [agent_name] + np.random.choice(adversary_agents, 3, replace=False).tolist()\n",
    "    else:\n",
    "        def sample_agents_func():\n",
    "            while 1:\n",
    "                sampled_agents = [agent_name] + np.random.choice(adversary_agents + [agent_name], 3).tolist()\n",
    "                if len(np.unique(sampled_agents)) >=2:\n",
    "                    break\n",
    "            return sampled_agents\n",
    "\n",
    "    matches_agents, matches_results = play_matches_in_parallel(reduced_agents_set, sample_agents_func, n_matches=n_matches, max_workers=max_workers)\n",
    "    return matches_agents, matches_results, reduced_agents_set\n",
    "    \n",
    "def compute_elo_ranking(matches_agents, matches_results, reduced_agents_set):\n",
    "    initial_agent_elo = 1000\n",
    "    for k in [32, 16, 8, 4, 2, 1]:\n",
    "        agent_name = [name for name in reduced_agents_set if name not in initial_elo_ranking][0]\n",
    "        initial_ranking = initial_elo_ranking.to_dict()['ranking']\n",
    "        initial_ranking[agent_name] = initial_agent_elo\n",
    "        initial_ranking = {key: initial_ranking[key] for key in reduced_agents_set}\n",
    "        elo_ranking = EloRanking(initial_ranking, {agent_name}, k=k)\n",
    "        for match_agents, match_results in zip(matches_agents, matches_results):\n",
    "            elo_ranking.add_match(match_agents, match_results)\n",
    "        initial_agent_elo = elo_ranking.summary().loc[agent_name, 'ranking']\n",
    "    elo_ranking.plot()\n",
    "    return elo_ranking.summary()"
   ]
  },
  {
   "cell_type": "code",
   "execution_count": 13,
   "metadata": {
    "ExecuteTime": {
     "end_time": "2021-03-30T16:30:34.865080Z",
     "start_time": "2021-03-30T16:30:34.809870Z"
    },
    "hidden": true
   },
   "outputs": [],
   "source": [
    "def simple_agent_evaluation(agent_path, n_matches=500):\n",
    "    \"\"\"\n",
    "    Computes single and multi agents scores and returns them\n",
    "    \n",
    "    Parameters\n",
    "    ----------\n",
    "    multi_agent_elo_score\n",
    "    single_agent_elo_score\n",
    "    \"\"\"\n",
    "    ret = evaluate_agent(\n",
    "        {'q_value_pretrained': agent_path},\n",
    "        initial_elo_ranking.index.values.tolist()[:5],\n",
    "        n_matches=n_matches, single_agent=False, max_workers=20)\n",
    "    table_multi = compute_elo_ranking(*ret)\n",
    "    ret = evaluate_agent(\n",
    "        {'q_value_pretrained': agent_path},\n",
    "        initial_elo_ranking.index.values.tolist()[:5],\n",
    "        n_matches=n_matches, single_agent=True, max_workers=20)\n",
    "    table_single = compute_elo_ranking(*ret)\n",
    "    plt.close('all')\n",
    "    clear_output()\n",
    "    print(agent_path)\n",
    "    print('Multi agent elo score: %i' % table_multi.loc['q_value_pretrained', 'ranking'])\n",
    "    print('Single agent elo score: %i' % table_single.loc['q_value_pretrained', 'ranking'])\n",
    "    return table_multi.loc['q_value_pretrained', 'ranking'], table_single.loc['q_value_pretrained', 'ranking']"
   ]
  },
  {
   "cell_type": "code",
   "execution_count": 14,
   "metadata": {
    "ExecuteTime": {
     "end_time": "2021-03-30T16:30:34.902304Z",
     "start_time": "2021-03-30T16:30:34.867077Z"
    },
    "hidden": true
   },
   "outputs": [],
   "source": [
    "def simple_model_evaluation(model_path, n_matches=500):\n",
    "    model_path = os.path.realpath(model_path)\n",
    "    text = \"\"\"\n",
    "import os\n",
    "from hungry_geese.agents import QValueAgent\n",
    "os.environ['CUDA_VISIBLE_DEVICES'] = ''\n",
    "import tensorflow as tf\n",
    "model = tf.keras.models.load_model('model_path', compile=False)\n",
    "model = tf.keras.models.Model(inputs=model.inputs[:2], outputs=model.layers[-3].output)\n",
    "q_value_agent = QValueAgent(model)\n",
    "def agent(obs, config):\n",
    "    return q_value_agent(obs, config)\n",
    "    \"\"\"\n",
    "    text = text.replace('model_path', model_path)\n",
    "    with tempfile.TemporaryDirectory() as tempdir:\n",
    "        agent_filepath = os.path.join(tempdir, 'agent.py')\n",
    "        with open(agent_filepath, 'w') as f:\n",
    "            f.write(text)\n",
    "        output = simple_agent_evaluation(agent_filepath, n_matches=n_matches)\n",
    "    return output"
   ]
  },
  {
   "cell_type": "markdown",
   "metadata": {
    "heading_collapsed": true,
    "hidden": true
   },
   "source": [
    "### Visualization"
   ]
  },
  {
   "cell_type": "code",
   "execution_count": 15,
   "metadata": {
    "ExecuteTime": {
     "end_time": "2021-03-30T16:30:34.947659Z",
     "start_time": "2021-03-30T16:30:34.904413Z"
    },
    "hidden": true
   },
   "outputs": [],
   "source": [
    "def plot_q_value(agent):\n",
    "    values = np.array(agent.q_values)\n",
    "    for idx, action in enumerate(ACTIONS):\n",
    "        plt.plot(values[:, idx], label=action, alpha=0.6)\n",
    "    plt.legend(loc=0)\n",
    "    plt.grid(axis='x')"
   ]
  },
  {
   "cell_type": "code",
   "execution_count": 16,
   "metadata": {
    "ExecuteTime": {
     "end_time": "2021-03-30T16:30:34.981512Z",
     "start_time": "2021-03-30T16:30:34.949305Z"
    },
    "hidden": true
   },
   "outputs": [],
   "source": [
    "def save_html_games(agents, output_folder, n_games=10):\n",
    "    os.makedirs(output_folder, exist_ok=True)\n",
    "    env = make('hungry_geese')\n",
    "    for game_idx in tqdm(range(n_games)):\n",
    "        ret = env.run(agents);\n",
    "        html_content = env.render(mode=\"html\")\n",
    "        filepath = os.path.join(output_folder, '%02d.html' % game_idx)\n",
    "        with open(filepath, 'w') as f:\n",
    "            f.write(html_content)"
   ]
  },
  {
   "cell_type": "markdown",
   "metadata": {
    "heading_collapsed": true
   },
   "source": [
    "## Exploring with softmax policy"
   ]
  },
  {
   "cell_type": "markdown",
   "metadata": {
    "heading_collapsed": true,
    "hidden": true
   },
   "source": [
    "### Compare epsilon greedy policy against softmax policy"
   ]
  },
  {
   "cell_type": "markdown",
   "metadata": {
    "hidden": true
   },
   "source": [
    "I want to compare the models both in terms of randomness and elo score. I will use quantum agent since I need a model to be able to do this experiments, with previous hand-crafted agent\n",
    "there was no option of doing this type of exploration."
   ]
  },
  {
   "cell_type": "markdown",
   "metadata": {
    "heading_collapsed": true,
    "hidden": true
   },
   "source": [
    "#### Elo score"
   ]
  },
  {
   "cell_type": "code",
   "execution_count": 25,
   "metadata": {
    "ExecuteTime": {
     "end_time": "2021-03-27T08:42:39.756993Z",
     "start_time": "2021-03-27T08:33:31.755500Z"
    },
    "deletable": false,
    "editable": false,
    "hidden": true,
    "hide_input": false,
    "run_control": {
     "frozen": true
    },
    "scrolled": true
   },
   "outputs": [
    {
     "name": "stdout",
     "output_type": "stream",
     "text": [
      "../data/agents/quantum/quantum.py\n",
      "Multi agent elo score: 1364\n",
      "Single agent elo score: 1377\n"
     ]
    },
    {
     "data": {
      "text/html": [
       "<div>\n",
       "<style scoped>\n",
       "    .dataframe tbody tr th:only-of-type {\n",
       "        vertical-align: middle;\n",
       "    }\n",
       "\n",
       "    .dataframe tbody tr th {\n",
       "        vertical-align: top;\n",
       "    }\n",
       "\n",
       "    .dataframe thead th {\n",
       "        text-align: right;\n",
       "    }\n",
       "</style>\n",
       "<table border=\"1\" class=\"dataframe\">\n",
       "  <thead>\n",
       "    <tr style=\"text-align: right;\">\n",
       "      <th></th>\n",
       "      <th>multi</th>\n",
       "      <th>single</th>\n",
       "    </tr>\n",
       "  </thead>\n",
       "  <tbody>\n",
       "    <tr>\n",
       "      <th>epsilon_quantum_002</th>\n",
       "      <td>1328.0</td>\n",
       "      <td>1365.0</td>\n",
       "    </tr>\n",
       "    <tr>\n",
       "      <th>epsilon_quantum_005</th>\n",
       "      <td>1259.0</td>\n",
       "      <td>1259.0</td>\n",
       "    </tr>\n",
       "    <tr>\n",
       "      <th>epsilon_quantum_010</th>\n",
       "      <td>1201.0</td>\n",
       "      <td>1220.0</td>\n",
       "    </tr>\n",
       "    <tr>\n",
       "      <th>epsilon_quantum_025</th>\n",
       "      <td>807.0</td>\n",
       "      <td>766.0</td>\n",
       "    </tr>\n",
       "    <tr>\n",
       "      <th>quantum</th>\n",
       "      <td>1364.0</td>\n",
       "      <td>1377.0</td>\n",
       "    </tr>\n",
       "  </tbody>\n",
       "</table>\n",
       "</div>"
      ],
      "text/plain": [
       "                      multi  single\n",
       "epsilon_quantum_002  1328.0  1365.0\n",
       "epsilon_quantum_005  1259.0  1259.0\n",
       "epsilon_quantum_010  1201.0  1220.0\n",
       "epsilon_quantum_025   807.0   766.0\n",
       "quantum              1364.0  1377.0"
      ]
     },
     "execution_count": 25,
     "metadata": {},
     "output_type": "execute_result"
    }
   ],
   "source": [
    "agent_filepaths = sorted(glob.glob('../data/agents/quantum/*.py'))\n",
    "df = pd.DataFrame()\n",
    "for agent_filepath in agent_filepaths:\n",
    "    print(df)\n",
    "    ret = simple_agent_evaluation(agent_filepath, n_matches=500)\n",
    "    name = os.path.splitext(os.path.basename(agent_filepath))[0]\n",
    "    df.loc[name, 'multi'] = ret[0]\n",
    "    df.loc[name, 'single'] = ret[1]\n",
    "df"
   ]
  },
  {
   "cell_type": "markdown",
   "metadata": {
    "hidden": true
   },
   "source": [
    "So that is the baseline for epsilon greedy policy. Let's now study softmax policy."
   ]
  },
  {
   "cell_type": "code",
   "execution_count": 105,
   "metadata": {
    "ExecuteTime": {
     "end_time": "2021-03-27T10:02:04.101287Z",
     "start_time": "2021-03-27T10:01:01.570294Z"
    },
    "deletable": false,
    "editable": false,
    "hidden": true,
    "hide_input": false,
    "run_control": {
     "frozen": true
    },
    "scrolled": true
   },
   "outputs": [
    {
     "name": "stdout",
     "output_type": "stream",
     "text": [
      "                     multi  single\n",
      "softmax_05_quantum   672.0   691.0\n",
      "softmax_1_quantum    956.0   964.0\n",
      "softmax_2_quantum   1104.0  1102.0\n",
      "softmax_4_quantum   1217.0  1193.0\n",
      "softmax_8_quantum   1303.0  1308.0\n",
      "softmax_16_quantum  1335.0  1350.0\n"
     ]
    },
    {
     "data": {
      "application/vnd.jupyter.widget-view+json": {
       "model_id": "2820d644790e4cb8ba72329c7ee5641a",
       "version_major": 2,
       "version_minor": 0
      },
      "text/plain": [
       "  0%|          | 0/500 [00:00<?, ?it/s]"
      ]
     },
     "metadata": {},
     "output_type": "display_data"
    },
    {
     "ename": "KeyboardInterrupt",
     "evalue": "",
     "output_type": "error",
     "traceback": [
      "\u001b[0;31m---------------------------------------------------------------------------\u001b[0m",
      "\u001b[0;31mKeyboardInterrupt\u001b[0m                         Traceback (most recent call last)",
      "\u001b[0;32m/mnt/hdd0/MEGA/AI/22 Kaggle/hungry_geese/hungry_geese/evaluation.py\u001b[0m in \u001b[0;36mplay_matches_in_parallel\u001b[0;34m(agents, sample_agents_func, max_workers, n_matches, running_on_notebook)\u001b[0m\n\u001b[1;32m     28\u001b[0m             \u001b[0mmatches_agents\u001b[0m\u001b[0;34m.\u001b[0m\u001b[0mappend\u001b[0m\u001b[0;34m(\u001b[0m\u001b[0msampled_keys\u001b[0m\u001b[0;34m)\u001b[0m\u001b[0;34m\u001b[0m\u001b[0;34m\u001b[0m\u001b[0m\n\u001b[0;32m---> 29\u001b[0;31m         \u001b[0mmonitor_progress\u001b[0m\u001b[0;34m(\u001b[0m\u001b[0msubmits\u001b[0m\u001b[0;34m,\u001b[0m \u001b[0mrunning_on_notebook\u001b[0m\u001b[0;34m)\u001b[0m\u001b[0;34m\u001b[0m\u001b[0;34m\u001b[0m\u001b[0m\n\u001b[0m\u001b[1;32m     30\u001b[0m \u001b[0;34m\u001b[0m\u001b[0m\n",
      "\u001b[0;32m/mnt/hdd0/MEGA/AI/22 Kaggle/hungry_geese/hungry_geese/evaluation.py\u001b[0m in \u001b[0;36mmonitor_progress\u001b[0;34m(submits, running_on_notebook)\u001b[0m\n\u001b[1;32m     43\u001b[0m     \u001b[0;32mwhile\u001b[0m \u001b[0;36m1\u001b[0m\u001b[0;34m:\u001b[0m\u001b[0;34m\u001b[0m\u001b[0;34m\u001b[0m\u001b[0m\n\u001b[0;32m---> 44\u001b[0;31m         \u001b[0mtime\u001b[0m\u001b[0;34m.\u001b[0m\u001b[0msleep\u001b[0m\u001b[0;34m(\u001b[0m\u001b[0;36m1\u001b[0m\u001b[0;34m)\u001b[0m\u001b[0;34m\u001b[0m\u001b[0;34m\u001b[0m\u001b[0m\n\u001b[0m\u001b[1;32m     45\u001b[0m         \u001b[0mcurrent_progress\u001b[0m \u001b[0;34m=\u001b[0m \u001b[0mnp\u001b[0m\u001b[0;34m.\u001b[0m\u001b[0msum\u001b[0m\u001b[0;34m(\u001b[0m\u001b[0;34m[\u001b[0m\u001b[0msubmit\u001b[0m\u001b[0;34m.\u001b[0m\u001b[0mdone\u001b[0m\u001b[0;34m(\u001b[0m\u001b[0;34m)\u001b[0m \u001b[0;32mfor\u001b[0m \u001b[0msubmit\u001b[0m \u001b[0;32min\u001b[0m \u001b[0msubmits\u001b[0m\u001b[0;34m]\u001b[0m\u001b[0;34m)\u001b[0m\u001b[0;34m\u001b[0m\u001b[0;34m\u001b[0m\u001b[0m\n",
      "\u001b[0;31mKeyboardInterrupt\u001b[0m: ",
      "\nDuring handling of the above exception, another exception occurred:\n",
      "\u001b[0;31mKeyboardInterrupt\u001b[0m                         Traceback (most recent call last)",
      "\u001b[0;32m<ipython-input-105-1fd0e54569e7>\u001b[0m in \u001b[0;36m<module>\u001b[0;34m\u001b[0m\n\u001b[1;32m      7\u001b[0m         \u001b[0;32mcontinue\u001b[0m\u001b[0;34m\u001b[0m\u001b[0;34m\u001b[0m\u001b[0m\n\u001b[1;32m      8\u001b[0m     \u001b[0mprint\u001b[0m\u001b[0;34m(\u001b[0m\u001b[0mdf\u001b[0m\u001b[0;34m)\u001b[0m\u001b[0;34m\u001b[0m\u001b[0;34m\u001b[0m\u001b[0m\n\u001b[0;32m----> 9\u001b[0;31m     \u001b[0mret\u001b[0m \u001b[0;34m=\u001b[0m \u001b[0msimple_agent_evaluation\u001b[0m\u001b[0;34m(\u001b[0m\u001b[0magent_filepath\u001b[0m\u001b[0;34m,\u001b[0m \u001b[0mn_matches\u001b[0m\u001b[0;34m=\u001b[0m\u001b[0;36m500\u001b[0m\u001b[0;34m)\u001b[0m\u001b[0;34m\u001b[0m\u001b[0;34m\u001b[0m\u001b[0m\n\u001b[0m\u001b[1;32m     10\u001b[0m     \u001b[0mdf\u001b[0m\u001b[0;34m.\u001b[0m\u001b[0mloc\u001b[0m\u001b[0;34m[\u001b[0m\u001b[0mname\u001b[0m\u001b[0;34m,\u001b[0m \u001b[0;34m'multi'\u001b[0m\u001b[0;34m]\u001b[0m \u001b[0;34m=\u001b[0m \u001b[0mret\u001b[0m\u001b[0;34m[\u001b[0m\u001b[0;36m0\u001b[0m\u001b[0;34m]\u001b[0m\u001b[0;34m\u001b[0m\u001b[0;34m\u001b[0m\u001b[0m\n\u001b[1;32m     11\u001b[0m     \u001b[0mdf\u001b[0m\u001b[0;34m.\u001b[0m\u001b[0mloc\u001b[0m\u001b[0;34m[\u001b[0m\u001b[0mname\u001b[0m\u001b[0;34m,\u001b[0m \u001b[0;34m'single'\u001b[0m\u001b[0;34m]\u001b[0m \u001b[0;34m=\u001b[0m \u001b[0mret\u001b[0m\u001b[0;34m[\u001b[0m\u001b[0;36m1\u001b[0m\u001b[0;34m]\u001b[0m\u001b[0;34m\u001b[0m\u001b[0;34m\u001b[0m\u001b[0m\n",
      "\u001b[0;32m<ipython-input-11-c53fb5733987>\u001b[0m in \u001b[0;36msimple_agent_evaluation\u001b[0;34m(agent_path, n_matches)\u001b[0m\n\u001b[1;32m     11\u001b[0m         \u001b[0;34m{\u001b[0m\u001b[0;34m'q_value_pretrained'\u001b[0m\u001b[0;34m:\u001b[0m \u001b[0magent_path\u001b[0m\u001b[0;34m}\u001b[0m\u001b[0;34m,\u001b[0m\u001b[0;34m\u001b[0m\u001b[0;34m\u001b[0m\u001b[0m\n\u001b[1;32m     12\u001b[0m         \u001b[0minitial_elo_ranking\u001b[0m\u001b[0;34m.\u001b[0m\u001b[0mindex\u001b[0m\u001b[0;34m.\u001b[0m\u001b[0mvalues\u001b[0m\u001b[0;34m.\u001b[0m\u001b[0mtolist\u001b[0m\u001b[0;34m(\u001b[0m\u001b[0;34m)\u001b[0m\u001b[0;34m[\u001b[0m\u001b[0;34m:\u001b[0m\u001b[0;36m5\u001b[0m\u001b[0;34m]\u001b[0m\u001b[0;34m,\u001b[0m\u001b[0;34m\u001b[0m\u001b[0;34m\u001b[0m\u001b[0m\n\u001b[0;32m---> 13\u001b[0;31m         n_matches=n_matches, single_agent=False, max_workers=20)\n\u001b[0m\u001b[1;32m     14\u001b[0m     \u001b[0mtable_multi\u001b[0m \u001b[0;34m=\u001b[0m \u001b[0mcompute_elo_ranking\u001b[0m\u001b[0;34m(\u001b[0m\u001b[0;34m*\u001b[0m\u001b[0mret\u001b[0m\u001b[0;34m)\u001b[0m\u001b[0;34m\u001b[0m\u001b[0;34m\u001b[0m\u001b[0m\n\u001b[1;32m     15\u001b[0m     ret = evaluate_agent(\n",
      "\u001b[0;32m<ipython-input-10-7ed12b3473ba>\u001b[0m in \u001b[0;36mevaluate_agent\u001b[0;34m(new_agent, adversary_agents, n_matches, single_agent, max_workers, run_agent_test)\u001b[0m\n\u001b[1;32m     17\u001b[0m             \u001b[0;32mreturn\u001b[0m \u001b[0msampled_agents\u001b[0m\u001b[0;34m\u001b[0m\u001b[0;34m\u001b[0m\u001b[0m\n\u001b[1;32m     18\u001b[0m \u001b[0;34m\u001b[0m\u001b[0m\n\u001b[0;32m---> 19\u001b[0;31m     \u001b[0mmatches_agents\u001b[0m\u001b[0;34m,\u001b[0m \u001b[0mmatches_results\u001b[0m \u001b[0;34m=\u001b[0m \u001b[0mplay_matches_in_parallel\u001b[0m\u001b[0;34m(\u001b[0m\u001b[0mreduced_agents_set\u001b[0m\u001b[0;34m,\u001b[0m \u001b[0msample_agents_func\u001b[0m\u001b[0;34m,\u001b[0m \u001b[0mn_matches\u001b[0m\u001b[0;34m=\u001b[0m\u001b[0mn_matches\u001b[0m\u001b[0;34m,\u001b[0m \u001b[0mmax_workers\u001b[0m\u001b[0;34m=\u001b[0m\u001b[0mmax_workers\u001b[0m\u001b[0;34m)\u001b[0m\u001b[0;34m\u001b[0m\u001b[0;34m\u001b[0m\u001b[0m\n\u001b[0m\u001b[1;32m     20\u001b[0m     \u001b[0;32mreturn\u001b[0m \u001b[0mmatches_agents\u001b[0m\u001b[0;34m,\u001b[0m \u001b[0mmatches_results\u001b[0m\u001b[0;34m,\u001b[0m \u001b[0mreduced_agents_set\u001b[0m\u001b[0;34m\u001b[0m\u001b[0;34m\u001b[0m\u001b[0m\n\u001b[1;32m     21\u001b[0m \u001b[0;34m\u001b[0m\u001b[0m\n",
      "\u001b[0;32m/mnt/hdd0/MEGA/AI/22 Kaggle/hungry_geese/hungry_geese/evaluation.py\u001b[0m in \u001b[0;36mplay_matches_in_parallel\u001b[0;34m(agents, sample_agents_func, max_workers, n_matches, running_on_notebook)\u001b[0m\n\u001b[1;32m     29\u001b[0m         \u001b[0mmonitor_progress\u001b[0m\u001b[0;34m(\u001b[0m\u001b[0msubmits\u001b[0m\u001b[0;34m,\u001b[0m \u001b[0mrunning_on_notebook\u001b[0m\u001b[0;34m)\u001b[0m\u001b[0;34m\u001b[0m\u001b[0;34m\u001b[0m\u001b[0m\n\u001b[1;32m     30\u001b[0m \u001b[0;34m\u001b[0m\u001b[0m\n\u001b[0;32m---> 31\u001b[0;31m         \u001b[0mmatches_results\u001b[0m \u001b[0;34m=\u001b[0m \u001b[0;34m[\u001b[0m\u001b[0msubmit\u001b[0m\u001b[0;34m.\u001b[0m\u001b[0mresult\u001b[0m\u001b[0;34m(\u001b[0m\u001b[0;34m)\u001b[0m\u001b[0;34m[\u001b[0m\u001b[0;36m0\u001b[0m\u001b[0;34m]\u001b[0m \u001b[0;32mfor\u001b[0m \u001b[0msubmit\u001b[0m \u001b[0;32min\u001b[0m \u001b[0msubmits\u001b[0m\u001b[0;34m]\u001b[0m\u001b[0;34m\u001b[0m\u001b[0;34m\u001b[0m\u001b[0m\n\u001b[0m\u001b[1;32m     32\u001b[0m     \u001b[0;32mreturn\u001b[0m \u001b[0mmatches_agents\u001b[0m\u001b[0;34m,\u001b[0m \u001b[0mmatches_results\u001b[0m\u001b[0;34m\u001b[0m\u001b[0;34m\u001b[0m\u001b[0m\n\u001b[1;32m     33\u001b[0m \u001b[0;34m\u001b[0m\u001b[0m\n",
      "\u001b[0;32m~/miniconda3/envs/goose/lib/python3.7/concurrent/futures/_base.py\u001b[0m in \u001b[0;36m__exit__\u001b[0;34m(self, exc_type, exc_val, exc_tb)\u001b[0m\n\u001b[1;32m    621\u001b[0m \u001b[0;34m\u001b[0m\u001b[0m\n\u001b[1;32m    622\u001b[0m     \u001b[0;32mdef\u001b[0m \u001b[0m__exit__\u001b[0m\u001b[0;34m(\u001b[0m\u001b[0mself\u001b[0m\u001b[0;34m,\u001b[0m \u001b[0mexc_type\u001b[0m\u001b[0;34m,\u001b[0m \u001b[0mexc_val\u001b[0m\u001b[0;34m,\u001b[0m \u001b[0mexc_tb\u001b[0m\u001b[0;34m)\u001b[0m\u001b[0;34m:\u001b[0m\u001b[0;34m\u001b[0m\u001b[0;34m\u001b[0m\u001b[0m\n\u001b[0;32m--> 623\u001b[0;31m         \u001b[0mself\u001b[0m\u001b[0;34m.\u001b[0m\u001b[0mshutdown\u001b[0m\u001b[0;34m(\u001b[0m\u001b[0mwait\u001b[0m\u001b[0;34m=\u001b[0m\u001b[0;32mTrue\u001b[0m\u001b[0;34m)\u001b[0m\u001b[0;34m\u001b[0m\u001b[0;34m\u001b[0m\u001b[0m\n\u001b[0m\u001b[1;32m    624\u001b[0m         \u001b[0;32mreturn\u001b[0m \u001b[0;32mFalse\u001b[0m\u001b[0;34m\u001b[0m\u001b[0;34m\u001b[0m\u001b[0m\n\u001b[1;32m    625\u001b[0m \u001b[0;34m\u001b[0m\u001b[0m\n",
      "\u001b[0;32m~/miniconda3/envs/goose/lib/python3.7/concurrent/futures/process.py\u001b[0m in \u001b[0;36mshutdown\u001b[0;34m(self, wait)\u001b[0m\n\u001b[1;32m    679\u001b[0m             \u001b[0mself\u001b[0m\u001b[0;34m.\u001b[0m\u001b[0m_queue_management_thread_wakeup\u001b[0m\u001b[0;34m.\u001b[0m\u001b[0mwakeup\u001b[0m\u001b[0;34m(\u001b[0m\u001b[0;34m)\u001b[0m\u001b[0;34m\u001b[0m\u001b[0;34m\u001b[0m\u001b[0m\n\u001b[1;32m    680\u001b[0m             \u001b[0;32mif\u001b[0m \u001b[0mwait\u001b[0m\u001b[0;34m:\u001b[0m\u001b[0;34m\u001b[0m\u001b[0;34m\u001b[0m\u001b[0m\n\u001b[0;32m--> 681\u001b[0;31m                 \u001b[0mself\u001b[0m\u001b[0;34m.\u001b[0m\u001b[0m_queue_management_thread\u001b[0m\u001b[0;34m.\u001b[0m\u001b[0mjoin\u001b[0m\u001b[0;34m(\u001b[0m\u001b[0;34m)\u001b[0m\u001b[0;34m\u001b[0m\u001b[0;34m\u001b[0m\u001b[0m\n\u001b[0m\u001b[1;32m    682\u001b[0m         \u001b[0;31m# To reduce the risk of opening too many files, remove references to\u001b[0m\u001b[0;34m\u001b[0m\u001b[0;34m\u001b[0m\u001b[0;34m\u001b[0m\u001b[0m\n\u001b[1;32m    683\u001b[0m         \u001b[0;31m# objects that use file descriptors.\u001b[0m\u001b[0;34m\u001b[0m\u001b[0;34m\u001b[0m\u001b[0;34m\u001b[0m\u001b[0m\n",
      "\u001b[0;32m~/miniconda3/envs/goose/lib/python3.7/threading.py\u001b[0m in \u001b[0;36mjoin\u001b[0;34m(self, timeout)\u001b[0m\n\u001b[1;32m   1042\u001b[0m \u001b[0;34m\u001b[0m\u001b[0m\n\u001b[1;32m   1043\u001b[0m         \u001b[0;32mif\u001b[0m \u001b[0mtimeout\u001b[0m \u001b[0;32mis\u001b[0m \u001b[0;32mNone\u001b[0m\u001b[0;34m:\u001b[0m\u001b[0;34m\u001b[0m\u001b[0;34m\u001b[0m\u001b[0m\n\u001b[0;32m-> 1044\u001b[0;31m             \u001b[0mself\u001b[0m\u001b[0;34m.\u001b[0m\u001b[0m_wait_for_tstate_lock\u001b[0m\u001b[0;34m(\u001b[0m\u001b[0;34m)\u001b[0m\u001b[0;34m\u001b[0m\u001b[0;34m\u001b[0m\u001b[0m\n\u001b[0m\u001b[1;32m   1045\u001b[0m         \u001b[0;32melse\u001b[0m\u001b[0;34m:\u001b[0m\u001b[0;34m\u001b[0m\u001b[0;34m\u001b[0m\u001b[0m\n\u001b[1;32m   1046\u001b[0m             \u001b[0;31m# the behavior of a negative timeout isn't documented, but\u001b[0m\u001b[0;34m\u001b[0m\u001b[0;34m\u001b[0m\u001b[0;34m\u001b[0m\u001b[0m\n",
      "\u001b[0;32m~/miniconda3/envs/goose/lib/python3.7/threading.py\u001b[0m in \u001b[0;36m_wait_for_tstate_lock\u001b[0;34m(self, block, timeout)\u001b[0m\n\u001b[1;32m   1058\u001b[0m         \u001b[0;32mif\u001b[0m \u001b[0mlock\u001b[0m \u001b[0;32mis\u001b[0m \u001b[0;32mNone\u001b[0m\u001b[0;34m:\u001b[0m  \u001b[0;31m# already determined that the C code is done\u001b[0m\u001b[0;34m\u001b[0m\u001b[0;34m\u001b[0m\u001b[0m\n\u001b[1;32m   1059\u001b[0m             \u001b[0;32massert\u001b[0m \u001b[0mself\u001b[0m\u001b[0;34m.\u001b[0m\u001b[0m_is_stopped\u001b[0m\u001b[0;34m\u001b[0m\u001b[0;34m\u001b[0m\u001b[0m\n\u001b[0;32m-> 1060\u001b[0;31m         \u001b[0;32melif\u001b[0m \u001b[0mlock\u001b[0m\u001b[0;34m.\u001b[0m\u001b[0macquire\u001b[0m\u001b[0;34m(\u001b[0m\u001b[0mblock\u001b[0m\u001b[0;34m,\u001b[0m \u001b[0mtimeout\u001b[0m\u001b[0;34m)\u001b[0m\u001b[0;34m:\u001b[0m\u001b[0;34m\u001b[0m\u001b[0;34m\u001b[0m\u001b[0m\n\u001b[0m\u001b[1;32m   1061\u001b[0m             \u001b[0mlock\u001b[0m\u001b[0;34m.\u001b[0m\u001b[0mrelease\u001b[0m\u001b[0;34m(\u001b[0m\u001b[0;34m)\u001b[0m\u001b[0;34m\u001b[0m\u001b[0;34m\u001b[0m\u001b[0m\n\u001b[1;32m   1062\u001b[0m             \u001b[0mself\u001b[0m\u001b[0;34m.\u001b[0m\u001b[0m_stop\u001b[0m\u001b[0;34m(\u001b[0m\u001b[0;34m)\u001b[0m\u001b[0;34m\u001b[0m\u001b[0;34m\u001b[0m\u001b[0m\n",
      "\u001b[0;31mKeyboardInterrupt\u001b[0m: "
     ]
    }
   ],
   "source": [
    "agent_filepaths = sorted(glob.glob('../data/agents/quantum/*.py'))\n",
    "agent_filepaths = filter(lambda x: 'softmax' in x, agent_filepaths)\n",
    "if 'df' not in locals(): df = pd.DataFrame()\n",
    "for agent_filepath in agent_filepaths:\n",
    "    name = os.path.splitext(os.path.basename(agent_filepath))[0]\n",
    "    if name in df.index:\n",
    "        continue\n",
    "    print(df)\n",
    "    ret = simple_agent_evaluation(agent_filepath, n_matches=500)\n",
    "    df.loc[name, 'multi'] = ret[0]\n",
    "    df.loc[name, 'single'] = ret[1]\n",
    "clear_output()\n",
    "df"
   ]
  },
  {
   "cell_type": "markdown",
   "metadata": {
    "hidden": true
   },
   "source": [
    "And this are the scores for softmax policy. Now I have to find how random this policy is. If I play a hand of matches and keep the predictions of the model I could later compute the probability of selectin a non maximum action easily and more precise than playing a ton of matches."
   ]
  },
  {
   "cell_type": "markdown",
   "metadata": {
    "heading_collapsed": true,
    "hidden": true
   },
   "source": [
    "#### Randomness on softmax policy"
   ]
  },
  {
   "cell_type": "code",
   "execution_count": 27,
   "metadata": {
    "ExecuteTime": {
     "end_time": "2021-03-27T09:11:20.722466Z",
     "start_time": "2021-03-27T09:11:20.585970Z"
    },
    "deletable": false,
    "editable": false,
    "hidden": true,
    "run_control": {
     "frozen": true
    }
   },
   "outputs": [],
   "source": [
    "model_path = '/mnt/hdd0/MEGA/AI/22 Kaggle/hungry_geese/data/agents/quantum/best_model.h5'\n",
    "model = tf.keras.models.load_model(model_path, compile=False)\n",
    "model = tf.keras.models.Model(inputs=model.inputs[:2], outputs=model.layers[-3].output)\n",
    "q_value_agent = QValueAgent(model)"
   ]
  },
  {
   "cell_type": "code",
   "execution_count": 95,
   "metadata": {
    "ExecuteTime": {
     "end_time": "2021-03-27T09:44:19.444587Z",
     "start_time": "2021-03-27T09:43:31.253029Z"
    },
    "deletable": false,
    "editable": false,
    "hidden": true,
    "run_control": {
     "frozen": true
    },
    "scrolled": true
   },
   "outputs": [
    {
     "data": {
      "application/vnd.jupyter.widget-view+json": {
       "model_id": "6400998c561a4f3d89fdcef50a9d7f3a",
       "version_major": 2,
       "version_minor": 0
      },
      "text/plain": [
       "  0%|          | 0/50 [00:00<?, ?it/s]"
      ]
     },
     "metadata": {},
     "output_type": "display_data"
    },
    {
     "name": "stdout",
     "output_type": "stream",
     "text": [
      "[20015, 12408, 12404, 20004]\n",
      "[20017, 20008, 12204, 20004]\n",
      "[20011, 20010, 20008, 20004]\n",
      "[12107, 20008, 13008, 20004]\n",
      "[20009, 4907, 20008, 20004]\n",
      "[20013, 4008, 1502, 20004]\n",
      "[7206, 20009, 20007, 20004]\n",
      "[9513, 20008, 20008, 20004]\n",
      "[20016, 20008, 8305, 20004]\n",
      "[20018, 18510, 20008, 9405]\n",
      "[20011, 20008, 12207, 20004]\n",
      "[20013, 20009, 20008, 20005]\n",
      "[20011, 5607, 20008, 5604]\n",
      "[20012, 1604, 20008, 1601]\n",
      "[3607, 20008, 20008, 20004]\n",
      "[20002, 20009, 20008, 6007]\n",
      "[7310, 7308, 20009, 20007]\n",
      "[20012, 20008, 8804, 19908]\n",
      "[20015, 12807, 20010, 20004]\n",
      "[20010, 20008, 10906, 10905]\n",
      "[20013, 20010, 8707, 20004]\n",
      "[10314, 20008, 20008, 20004]\n",
      "[20014, 20008, 7609, 10905]\n",
      "[20013, 7609, 17408, 20004]\n",
      "[5010, 20009, 20008, 20005]\n",
      "[20012, 20008, 3504, 20006]\n",
      "[20011, 14008, 7108, 20004]\n",
      "[13817, 15008, 12909, 14905]\n",
      "[20018, 20009, 11406, 20004]\n",
      "[20013, 10008, 20008, 20004]\n",
      "[20016, 20009, 11608, 16408]\n",
      "[20013, 20008, 17308, 20004]\n",
      "[20006, 8909, 20008, 20004]\n",
      "[20011, 20009, 17309, 20004]\n",
      "[16513, 16607, 16507, 9603]\n",
      "[20014, 20009, 9208, 20004]\n",
      "[20004, 20008, 20008, 20005]\n",
      "[20010, 20009, 6305, 20004]\n",
      "[7610, 20008, 20008, 7604]\n",
      "[20011, 20008, 20008, 20010]\n",
      "[7510, 20008, 20008, 20004]\n",
      "[20013, 4008, 1502, 20004]\n",
      "[20014, 20009, 7909, 20007]\n",
      "[9413, 7108, 20009, 20004]\n",
      "[20011, 18708, 20008, 18705]\n",
      "[20011, 1604, 20008, 1601]\n",
      "[20015, 20010, 20010, 4001]\n",
      "[20010, 4008, 20008, 20004]\n",
      "[20013, 20008, 7508, 7505]\n",
      "[6206, 6209, 20008, 20004]\n"
     ]
    }
   ],
   "source": [
    "env = make('hungry_geese')\n",
    "q_values = []\n",
    "for _ in tqdm(range(50)):\n",
    "    q_value_agent.reset()\n",
    "    ret = env.run([q_value_agent] + [agents[name] for name in initial_elo_ranking.index.values[1:4]])\n",
    "    print([obj['reward'] for obj in ret[-1]])\n",
    "    raw_q_values = q_value_agent.q_values\n",
    "    for idx, action in enumerate(q_value_agent.state.actions[:-1]):\n",
    "        raw_q_values[idx+1][ACTION_TO_IDX[action]] -= 1e3\n",
    "    q_values.append(raw_q_values)"
   ]
  },
  {
   "cell_type": "code",
   "execution_count": 96,
   "metadata": {
    "ExecuteTime": {
     "end_time": "2021-03-27T09:44:19.490727Z",
     "start_time": "2021-03-27T09:44:19.447438Z"
    },
    "deletable": false,
    "editable": false,
    "hidden": true,
    "run_control": {
     "frozen": true
    }
   },
   "outputs": [
    {
     "data": {
      "text/plain": [
       "8523"
      ]
     },
     "execution_count": 96,
     "metadata": {},
     "output_type": "execute_result"
    }
   ],
   "source": [
    "q_values = np.concatenate(q_values)\n",
    "len(q_values)"
   ]
  },
  {
   "cell_type": "markdown",
   "metadata": {
    "deletable": false,
    "editable": false,
    "hidden": true,
    "run_control": {
     "frozen": true
    }
   },
   "source": [
    "It is probably enough to compute an estimate."
   ]
  },
  {
   "cell_type": "code",
   "execution_count": 97,
   "metadata": {
    "ExecuteTime": {
     "end_time": "2021-03-27T09:44:19.537458Z",
     "start_time": "2021-03-27T09:44:19.493324Z"
    },
    "deletable": false,
    "editable": false,
    "hidden": true,
    "run_control": {
     "frozen": true
    }
   },
   "outputs": [],
   "source": [
    "def compute_probabilities(q_values, scale):\n",
    "    probabilities = np.exp(q_values*scale)\n",
    "    probabilities /= np.expand_dims(np.sum(probabilities, axis=1), axis=1)\n",
    "    return probabilities"
   ]
  },
  {
   "cell_type": "code",
   "execution_count": 98,
   "metadata": {
    "ExecuteTime": {
     "end_time": "2021-03-27T09:44:19.569051Z",
     "start_time": "2021-03-27T09:44:19.540003Z"
    },
    "deletable": false,
    "editable": false,
    "hidden": true,
    "run_control": {
     "frozen": true
    }
   },
   "outputs": [],
   "source": [
    "def compute_probability_of_sampling_non_maximum_action(q_values, scale):\n",
    "    probabilities = compute_probabilities(q_values, scale)\n",
    "    return 1 - np.max(probabilities, axis=1)"
   ]
  },
  {
   "cell_type": "code",
   "execution_count": 102,
   "metadata": {
    "ExecuteTime": {
     "end_time": "2021-03-27T09:50:53.750523Z",
     "start_time": "2021-03-27T09:50:52.329033Z"
    },
    "deletable": false,
    "editable": false,
    "hidden": true,
    "hide_input": true,
    "run_control": {
     "frozen": true
    }
   },
   "outputs": [
    {
     "data": {
      "image/png": "[encoded data removed]",
      "text/plain": [
       "<Figure size 2160x360 with 1 Axes>"
      ]
     },
     "metadata": {
      "needs_background": "light"
     },
     "output_type": "display_data"
    }
   ],
   "source": [
    "bins = np.linspace(0, 2./3, 100)\n",
    "for scale in [0.5, 1, 2, 4, 8, 16, 24]:\n",
    "    probabilities = compute_probability_of_sampling_non_maximum_action(q_values, scale=scale)\n",
    "    label = 'scale %.1f (mean %.2f)' % (scale, np.mean(probabilities))\n",
    "    plt.hist(probabilities, bins, label=label, alpha=0.5)\n",
    "plt.xlabel('Probability of selecting a non maximum action')\n",
    "plt.legend(loc=0);"
   ]
  },
  {
   "cell_type": "markdown",
   "metadata": {
    "hidden": true
   },
   "source": [
    "This is really interesting, it shows that even when using big scale values there is a much bigger probability of selecting non maximum action compared to epsilon greedy."
   ]
  },
  {
   "cell_type": "markdown",
   "metadata": {
    "heading_collapsed": true,
    "hidden": true
   },
   "source": [
    "#### Comparison"
   ]
  },
  {
   "cell_type": "code",
   "execution_count": 111,
   "metadata": {
    "ExecuteTime": {
     "end_time": "2021-03-27T10:06:12.071067Z",
     "start_time": "2021-03-27T10:06:11.887917Z"
    },
    "deletable": false,
    "editable": false,
    "hidden": true,
    "hide_input": true,
    "run_control": {
     "frozen": true
    },
    "scrolled": true
   },
   "outputs": [
    {
     "data": {
      "image/png": "[encoded data removed]",
      "text/plain": [
       "<Figure size 720x360 with 1 Axes>"
      ]
     },
     "metadata": {
      "needs_background": "light"
     },
     "output_type": "display_data"
    }
   ],
   "source": [
    "plt.figure(figsize=(10, 5))\n",
    "plt.title('Comparison between epsilon greedy and softmax policy')\n",
    "epsilon = [0.02, 0.05, 0.1, 0.25]\n",
    "epsilon_elo_multi = [1328, 1259, 1201, 807]\n",
    "plt.plot(epsilon, epsilon_elo_multi, label='epsilon greedy policy', marker='o')\n",
    "\n",
    "softmax_non_maximum_action_probability = [0.62, 0.59, 0.54, 0.45, 0.33, 0.23]\n",
    "softmax_elo_multi = [672, 956, 1104, 1217, 1303, 1335]\n",
    "plt.plot(softmax_non_maximum_action_probability, softmax_elo_multi, label='softmax policy', marker='o')\n",
    "plt.grid()\n",
    "plt.ylabel('elo score')\n",
    "plt.xlabel('Probability of chosing a non maximum action')\n",
    "plt.legend(loc=0);"
   ]
  },
  {
   "cell_type": "markdown",
   "metadata": {
    "hidden": true
   },
   "source": [
    "This looks very promising, because we are able to achieve very good elo scores while mantaining a exploratory policy. So it's time to generate matches and train."
   ]
  },
  {
   "cell_type": "markdown",
   "metadata": {
    "heading_collapsed": true,
    "hidden": true
   },
   "source": [
    "### Generation"
   ]
  },
  {
   "cell_type": "markdown",
   "metadata": {
    "hidden": true
   },
   "source": [
    "I'm going to start with a scale of 8. I will play against other q value agents with same policy."
   ]
  },
  {
   "cell_type": "code",
   "execution_count": 20,
   "metadata": {
    "ExecuteTime": {
     "end_time": "2021-03-27T10:20:30.102534Z",
     "start_time": "2021-03-27T10:12:00.347243Z"
    },
    "deletable": false,
    "editable": false,
    "hidden": true,
    "run_control": {
     "frozen": true
    }
   },
   "outputs": [
    {
     "name": "stderr",
     "output_type": "stream",
     "text": [
      "2021-03-27 11:12:00,365 - hungry_geese.utils - INFO - ram_memory used: 0.34 GB\t available: 60.68 GB\n"
     ]
    },
    {
     "data": {
      "application/vnd.jupyter.widget-view+json": {
       "model_id": "5b284f2071454813849d874c0dd170b0",
       "version_major": 2,
       "version_minor": 0
      },
      "text/plain": [
       "  0%|          | 0/2000 [00:00<?, ?it/s]"
      ]
     },
     "metadata": {},
     "output_type": "display_data"
    },
    {
     "name": "stderr",
     "output_type": "stream",
     "text": [
      "2021-03-27 11:18:09,509 - hungry_geese.utils - INFO - ram_memory used: 2.97 GB\t available: 58.10 GB\n",
      "2021-03-27 11:18:09,510 - __main__ - INFO - saving matches to json: /mnt/hdd0/Kaggle/hungry_geese/games/softmax_8_quantum_vs_softmax_8_quantum_matches_2000.json\n",
      "2021-03-27 11:18:36,534 - hungry_geese.utils - INFO - ram_memory used: 0.35 GB\t available: 60.74 GB\n"
     ]
    },
    {
     "data": {
      "application/vnd.jupyter.widget-view+json": {
       "model_id": "5c3531b8483748ec971a56c2aca1f0ed",
       "version_major": 2,
       "version_minor": 0
      },
      "text/plain": [
       "looping over saved games:   0%|          | 0/1 [00:00<?, ?it/s]"
      ]
     },
     "metadata": {},
     "output_type": "display_data"
    },
    {
     "name": "stderr",
     "output_type": "stream",
     "text": [
      "2021-03-27 11:18:36,574 - hungry_geese.utils - INFO - ram_memory used: 0.35 GB\t available: 60.73 GB\n",
      "2021-03-27 11:18:44,432 - hungry_geese.utils - INFO - ram_memory used: 2.18 GB\t available: 58.91 GB\n"
     ]
    },
    {
     "data": {
      "application/vnd.jupyter.widget-view+json": {
       "model_id": "7e9f229c90974b26a32d6eefbc6e278b",
       "version_major": 2,
       "version_minor": 0
      },
      "text/plain": [
       "Creating game data:   0%|          | 0/2000 [00:00<?, ?it/s]"
      ]
     },
     "metadata": {},
     "output_type": "display_data"
    },
    {
     "name": "stderr",
     "output_type": "stream",
     "text": [
      "2021-03-27 11:20:09,606 - hungry_geese.utils - INFO - ram_memory used: 2.78 GB\t available: 58.31 GB\n",
      "2021-03-27 11:20:09,606 - __main__ - INFO - Going to combine the data\n",
      "2021-03-27 11:20:10,049 - hungry_geese.utils - INFO - ram_memory used: 3.77 GB\t available: 57.29 GB\n",
      "2021-03-27 11:20:10,050 - __main__ - INFO - Size of the boards is 1.6 GB ([1.6, 0.0, 0.0, 0.0] [1.7 GB])\n",
      "2021-03-27 11:20:10,051 - __main__ - INFO - Saving data on: /mnt/hdd0/Kaggle/hungry_geese/data/ranking_reward_-4_4/softmax_8_quantum_vs_softmax_8_quantum_matches_2000.npz\n",
      "2021-03-27 11:20:30,099 - hungry_geese.utils - INFO - ram_memory used: 2.06 GB\t available: 59.03 GB\n"
     ]
    }
   ],
   "source": [
    "agent_base = '../data/agents/quantum/softmax_8_quantum.py'\n",
    "reward_name = 'ranking_reward_-4_4'\n",
    "\n",
    "for n_matches in [2000]:\n",
    "    output_path = '/mnt/hdd0/Kaggle/hungry_geese/games/%s_vs_%s_matches_%i.json' % (\n",
    "        os.path.splitext(os.path.basename(agent_base))[0], os.path.splitext(os.path.basename(agent_base))[0], n_matches)\n",
    "    play_matches_in_parallel_and_save_history(agents=[agent_base]*4, n_matches=n_matches, output_path=output_path)\n",
    "    \n",
    "    saved_games_path = '/mnt/hdd0/Kaggle/hungry_geese/games/%s_vs_%s_matches_%i.json' % (\n",
    "            os.path.splitext(os.path.basename(agent_base))[0], os.path.splitext(os.path.basename(agent_base))[0], n_matches)\n",
    "    output_path = '/mnt/hdd0/Kaggle/hungry_geese/data/%s/%s_vs_%s_matches_%i.npz' % (\n",
    "        reward_name, os.path.splitext(os.path.basename(agent_base))[0], os.path.splitext(os.path.basename(agent_base))[0], n_matches)\n",
    "    create_train_data_from_saved_matches([saved_games_path], reward_name, output_path)"
   ]
  },
  {
   "cell_type": "code",
   "execution_count": 21,
   "metadata": {
    "ExecuteTime": {
     "end_time": "2021-03-27T11:06:26.624373Z",
     "start_time": "2021-03-27T10:23:26.566059Z"
    },
    "deletable": false,
    "editable": false,
    "hidden": true,
    "run_control": {
     "frozen": true
    }
   },
   "outputs": [
    {
     "name": "stderr",
     "output_type": "stream",
     "text": [
      "2021-03-27 11:23:26,604 - hungry_geese.utils - INFO - ram_memory used: 2.06 GB\t available: 59.03 GB\n"
     ]
    },
    {
     "data": {
      "application/vnd.jupyter.widget-view+json": {
       "model_id": "6eca7246309b453b83bde07b839416c5",
       "version_major": 2,
       "version_minor": 0
      },
      "text/plain": [
       "  0%|          | 0/10000 [00:00<?, ?it/s]"
      ]
     },
     "metadata": {},
     "output_type": "display_data"
    },
    {
     "name": "stderr",
     "output_type": "stream",
     "text": [
      "2021-03-27 11:54:17,560 - hungry_geese.utils - INFO - ram_memory used: 15.21 GB\t available: 45.72 GB\n",
      "2021-03-27 11:54:17,561 - __main__ - INFO - saving matches to json: /mnt/hdd0/Kaggle/hungry_geese/games/softmax_8_quantum_vs_softmax_8_quantum_matches_10000.json\n",
      "2021-03-27 11:56:33,121 - hungry_geese.utils - INFO - ram_memory used: 2.08 GB\t available: 58.79 GB\n"
     ]
    },
    {
     "data": {
      "application/vnd.jupyter.widget-view+json": {
       "model_id": "465431ac1b814355b559777fe7a186b1",
       "version_major": 2,
       "version_minor": 0
      },
      "text/plain": [
       "looping over saved games:   0%|          | 0/1 [00:00<?, ?it/s]"
      ]
     },
     "metadata": {},
     "output_type": "display_data"
    },
    {
     "name": "stderr",
     "output_type": "stream",
     "text": [
      "2021-03-27 11:56:33,139 - hungry_geese.utils - INFO - ram_memory used: 2.08 GB\t available: 58.79 GB\n",
      "2021-03-27 11:57:10,790 - hungry_geese.utils - INFO - ram_memory used: 11.24 GB\t available: 49.61 GB\n"
     ]
    },
    {
     "data": {
      "application/vnd.jupyter.widget-view+json": {
       "model_id": "26d503eb41f5499c82bd01af5a4df58c",
       "version_major": 2,
       "version_minor": 0
      },
      "text/plain": [
       "Creating game data:   0%|          | 0/10000 [00:00<?, ?it/s]"
      ]
     },
     "metadata": {},
     "output_type": "display_data"
    },
    {
     "name": "stderr",
     "output_type": "stream",
     "text": [
      "2021-03-27 12:04:43,381 - hungry_geese.utils - INFO - ram_memory used: 12.56 GB\t available: 47.92 GB\n",
      "2021-03-27 12:04:43,382 - __main__ - INFO - Going to combine the data\n",
      "2021-03-27 12:04:45,636 - hungry_geese.utils - INFO - ram_memory used: 17.49 GB\t available: 43.00 GB\n",
      "2021-03-27 12:04:45,637 - __main__ - INFO - Size of the boards is 8.2 GB ([8.2, 0.2, 0.1, 0.0] [8.5 GB])\n",
      "2021-03-27 12:04:45,638 - __main__ - INFO - Saving data on: /mnt/hdd0/Kaggle/hungry_geese/data/ranking_reward_-4_4/softmax_8_quantum_vs_softmax_8_quantum_matches_10000.npz\n",
      "2021-03-27 12:06:26,620 - hungry_geese.utils - INFO - ram_memory used: 8.94 GB\t available: 51.46 GB\n"
     ]
    }
   ],
   "source": [
    "agent_base = '../data/agents/quantum/softmax_8_quantum.py'\n",
    "reward_name = 'ranking_reward_-4_4'\n",
    "\n",
    "for n_matches in [10000]:\n",
    "    output_path = '/mnt/hdd0/Kaggle/hungry_geese/games/%s_vs_%s_matches_%i.json' % (\n",
    "        os.path.splitext(os.path.basename(agent_base))[0], os.path.splitext(os.path.basename(agent_base))[0], n_matches)\n",
    "    play_matches_in_parallel_and_save_history(agents=[agent_base]*4, n_matches=n_matches, output_path=output_path)\n",
    "    \n",
    "    saved_games_path = '/mnt/hdd0/Kaggle/hungry_geese/games/%s_vs_%s_matches_%i.json' % (\n",
    "            os.path.splitext(os.path.basename(agent_base))[0], os.path.splitext(os.path.basename(agent_base))[0], n_matches)\n",
    "    output_path = '/mnt/hdd0/Kaggle/hungry_geese/data/%s/%s_vs_%s_matches_%i.npz' % (\n",
    "        reward_name, os.path.splitext(os.path.basename(agent_base))[0], os.path.splitext(os.path.basename(agent_base))[0], n_matches)\n",
    "    create_train_data_from_saved_matches([saved_games_path], reward_name, output_path)"
   ]
  },
  {
   "cell_type": "code",
   "execution_count": 38,
   "metadata": {
    "ExecuteTime": {
     "end_time": "2021-03-27T19:15:29.645107Z",
     "start_time": "2021-03-27T17:36:27.829564Z"
    },
    "deletable": false,
    "editable": false,
    "hidden": true,
    "run_control": {
     "frozen": true
    }
   },
   "outputs": [
    {
     "name": "stderr",
     "output_type": "stream",
     "text": [
      "2021-03-27 18:36:27,853 - hungry_geese.utils - INFO - ram_memory used: 0.44 GB\t available: 59.18 GB\n"
     ]
    },
    {
     "data": {
      "application/vnd.jupyter.widget-view+json": {
       "model_id": "312fac7d0b58462b96f44169ab2f6127",
       "version_major": 2,
       "version_minor": 0
      },
      "text/plain": [
       "  0%|          | 0/10001 [00:00<?, ?it/s]"
      ]
     },
     "metadata": {},
     "output_type": "display_data"
    },
    {
     "name": "stderr",
     "output_type": "stream",
     "text": [
      "2021-03-27 19:06:59,313 - hungry_geese.utils - INFO - ram_memory used: 13.55 GB\t available: 46.06 GB\n",
      "2021-03-27 19:06:59,313 - __main__ - INFO - saving matches to json: /mnt/hdd0/Kaggle/hungry_geese/games/softmax_8_quantum_vs_softmax_8_quantum_matches_10001.json\n",
      "2021-03-27 19:09:10,997 - hungry_geese.utils - INFO - ram_memory used: 0.47 GB\t available: 59.19 GB\n",
      "2021-03-27 19:09:10,998 - hungry_geese.utils - INFO - ram_memory used: 0.47 GB\t available: 59.20 GB\n"
     ]
    },
    {
     "data": {
      "application/vnd.jupyter.widget-view+json": {
       "model_id": "f642d2bbd3b64571a8293c9de5db2db5",
       "version_major": 2,
       "version_minor": 0
      },
      "text/plain": [
       "  0%|          | 0/10002 [00:00<?, ?it/s]"
      ]
     },
     "metadata": {},
     "output_type": "display_data"
    },
    {
     "name": "stderr",
     "output_type": "stream",
     "text": [
      "2021-03-27 19:40:17,492 - hungry_geese.utils - INFO - ram_memory used: 13.56 GB\t available: 45.29 GB\n",
      "2021-03-27 19:40:17,492 - __main__ - INFO - saving matches to json: /mnt/hdd0/Kaggle/hungry_geese/games/softmax_8_quantum_vs_softmax_8_quantum_matches_10002.json\n",
      "2021-03-27 19:42:29,625 - hungry_geese.utils - INFO - ram_memory used: 0.47 GB\t available: 58.40 GB\n",
      "2021-03-27 19:42:29,626 - hungry_geese.utils - INFO - ram_memory used: 0.47 GB\t available: 58.40 GB\n"
     ]
    },
    {
     "data": {
      "application/vnd.jupyter.widget-view+json": {
       "model_id": "499e993c5fe74302884c97abb497a46e",
       "version_major": 2,
       "version_minor": 0
      },
      "text/plain": [
       "  0%|          | 0/10003 [00:00<?, ?it/s]"
      ]
     },
     "metadata": {},
     "output_type": "display_data"
    },
    {
     "name": "stderr",
     "output_type": "stream",
     "text": [
      "2021-03-27 20:13:19,408 - hungry_geese.utils - INFO - ram_memory used: 13.55 GB\t available: 46.07 GB\n",
      "2021-03-27 20:13:19,409 - __main__ - INFO - saving matches to json: /mnt/hdd0/Kaggle/hungry_geese/games/softmax_8_quantum_vs_softmax_8_quantum_matches_10003.json\n",
      "2021-03-27 20:15:29,641 - hungry_geese.utils - INFO - ram_memory used: 0.47 GB\t available: 59.19 GB\n"
     ]
    }
   ],
   "source": [
    "agent_base = '../data/agents/quantum/softmax_8_quantum.py'\n",
    "reward_name = 'ranking_reward_-4_4'\n",
    "\n",
    "for n_matches in [10001, 10002, 10003]:\n",
    "    output_path = '/mnt/hdd0/Kaggle/hungry_geese/games/%s_vs_%s_matches_%i.json' % (\n",
    "        os.path.splitext(os.path.basename(agent_base))[0], os.path.splitext(os.path.basename(agent_base))[0], n_matches)\n",
    "    play_matches_in_parallel_and_save_history(agents=[agent_base]*4, n_matches=n_matches, output_path=output_path)"
   ]
  },
  {
   "cell_type": "code",
   "execution_count": 40,
   "metadata": {
    "ExecuteTime": {
     "end_time": "2021-03-27T20:32:06.917406Z",
     "start_time": "2021-03-27T19:53:31.204633Z"
    },
    "deletable": false,
    "editable": false,
    "hidden": true,
    "run_control": {
     "frozen": true
    }
   },
   "outputs": [
    {
     "data": {
      "application/vnd.jupyter.widget-view+json": {
       "model_id": "e99118670bdc432884774253b97480ce",
       "version_major": 2,
       "version_minor": 0
      },
      "text/plain": [
       "looping over saved games:   0%|          | 0/4 [00:00<?, ?it/s]"
      ]
     },
     "metadata": {},
     "output_type": "display_data"
    },
    {
     "name": "stderr",
     "output_type": "stream",
     "text": [
      "2021-03-27 20:53:31,264 - hungry_geese.utils - INFO - ram_memory used: 0.47 GB\t available: 59.10 GB\n",
      "2021-03-27 20:54:11,710 - hungry_geese.utils - INFO - ram_memory used: 9.61 GB\t available: 49.93 GB\n"
     ]
    },
    {
     "data": {
      "application/vnd.jupyter.widget-view+json": {
       "model_id": "51f51dd7d8bc4cdaa7af3b0884a857b0",
       "version_major": 2,
       "version_minor": 0
      },
      "text/plain": [
       "Creating game data:   0%|          | 0/10000 [00:00<?, ?it/s]"
      ]
     },
     "metadata": {},
     "output_type": "display_data"
    },
    {
     "name": "stderr",
     "output_type": "stream",
     "text": [
      "2021-03-27 21:01:28,071 - hungry_geese.utils - INFO - ram_memory used: 12.61 GB\t available: 46.95 GB\n",
      "2021-03-27 21:02:05,282 - hungry_geese.utils - INFO - ram_memory used: 18.16 GB\t available: 41.38 GB\n"
     ]
    },
    {
     "data": {
      "application/vnd.jupyter.widget-view+json": {
       "model_id": "c3040d330d7542fcb4a48e30b4df93d1",
       "version_major": 2,
       "version_minor": 0
      },
      "text/plain": [
       "Creating game data:   0%|          | 0/10001 [00:00<?, ?it/s]"
      ]
     },
     "metadata": {},
     "output_type": "display_data"
    },
    {
     "name": "stderr",
     "output_type": "stream",
     "text": [
      "2021-03-27 21:09:11,390 - hungry_geese.utils - INFO - ram_memory used: 23.35 GB\t available: 36.13 GB\n",
      "2021-03-27 21:09:44,589 - hungry_geese.utils - INFO - ram_memory used: 26.73 GB\t available: 32.69 GB\n"
     ]
    },
    {
     "data": {
      "application/vnd.jupyter.widget-view+json": {
       "model_id": "93277cab61754cf2a30f2af5a590796f",
       "version_major": 2,
       "version_minor": 0
      },
      "text/plain": [
       "Creating game data:   0%|          | 0/10002 [00:00<?, ?it/s]"
      ]
     },
     "metadata": {},
     "output_type": "display_data"
    },
    {
     "name": "stderr",
     "output_type": "stream",
     "text": [
      "2021-03-27 21:16:49,202 - hungry_geese.utils - INFO - ram_memory used: 33.23 GB\t available: 26.24 GB\n",
      "2021-03-27 21:17:26,886 - hungry_geese.utils - INFO - ram_memory used: 35.28 GB\t available: 24.18 GB\n"
     ]
    },
    {
     "data": {
      "application/vnd.jupyter.widget-view+json": {
       "model_id": "c3b5a8b502ff4a258374a9b6337fb72b",
       "version_major": 2,
       "version_minor": 0
      },
      "text/plain": [
       "Creating game data:   0%|          | 0/10003 [00:00<?, ?it/s]"
      ]
     },
     "metadata": {},
     "output_type": "display_data"
    },
    {
     "name": "stderr",
     "output_type": "stream",
     "text": [
      "2021-03-27 21:24:30,851 - hungry_geese.utils - INFO - ram_memory used: 42.59 GB\t available: 16.86 GB\n",
      "2021-03-27 21:24:30,852 - __main__ - INFO - Going to combine the data\n",
      "2021-03-27 21:25:27,122 - hungry_geese.utils - INFO - ram_memory used: 60.71 GB\t available: 3.67 GB\n",
      "2021-03-27 21:25:27,188 - __main__ - INFO - Size of the boards is 32.7 GB ([32.7, 0.9, 0.4, 0.1] [34.1 GB])\n",
      "2021-03-27 21:25:27,191 - __main__ - INFO - Saving data on: /mnt/hdd0/Kaggle/hungry_geese/data/ranking_reward_-4_4/softmax_8_quantum_vs_softmax_8_quantum_matches_40000.npz\n",
      "2021-03-27 21:32:06,913 - hungry_geese.utils - INFO - ram_memory used: 26.75 GB\t available: 36.64 GB\n"
     ]
    }
   ],
   "source": [
    "n_matches = 40000\n",
    "saved_games_paths = ['/mnt/hdd0/Kaggle/hungry_geese/games/%s_vs_%s_matches_%i.json' % (\n",
    "        os.path.splitext(os.path.basename(agent_base))[0], os.path.splitext(os.path.basename(agent_base))[0], n_matches) for n_matches in range(10000, 10004)]\n",
    "output_path = '/mnt/hdd0/Kaggle/hungry_geese/data/%s/%s_vs_%s_matches_%i.npz' % (\n",
    "    reward_name, os.path.splitext(os.path.basename(agent_base))[0], os.path.splitext(os.path.basename(agent_base))[0], n_matches)\n",
    "create_train_data_from_saved_matches(saved_games_paths, reward_name, output_path)"
   ]
  },
  {
   "cell_type": "markdown",
   "metadata": {
    "heading_collapsed": true,
    "hidden": true
   },
   "source": [
    "### Evaluation"
   ]
  },
  {
   "cell_type": "markdown",
   "metadata": {
    "hidden": true
   },
   "source": [
    "The biggest changes from the previous experiments is that we are using a softmax policy for playing, and that we are going to save multiple versions of the model to see how it changes over time. On a first experiment I will use quantum model as the initial weights, and on a second experiment I will train from zero and compare."
   ]
  },
  {
   "cell_type": "markdown",
   "metadata": {
    "hidden": true
   },
   "source": [
    "I have created a new function to evaluate models."
   ]
  },
  {
   "cell_type": "markdown",
   "metadata": {
    "heading_collapsed": true,
    "hidden": true
   },
   "source": [
    "#### Baseline (lr 1e-3)"
   ]
  },
  {
   "cell_type": "code",
   "execution_count": 22,
   "metadata": {
    "ExecuteTime": {
     "end_time": "2021-03-27T11:53:11.424719Z",
     "start_time": "2021-03-27T11:53:11.352614Z"
    },
    "deletable": false,
    "editable": false,
    "hidden": true,
    "hide_input": true,
    "run_control": {
     "frozen": true
    }
   },
   "outputs": [
    {
     "data": {
      "text/html": [
       "<div>\n",
       "<style scoped>\n",
       "    .dataframe tbody tr th:only-of-type {\n",
       "        vertical-align: middle;\n",
       "    }\n",
       "\n",
       "    .dataframe tbody tr th {\n",
       "        vertical-align: top;\n",
       "    }\n",
       "\n",
       "    .dataframe thead th {\n",
       "        text-align: right;\n",
       "    }\n",
       "</style>\n",
       "<table border=\"1\" class=\"dataframe\">\n",
       "  <thead>\n",
       "    <tr style=\"text-align: right;\">\n",
       "      <th></th>\n",
       "      <th>multi</th>\n",
       "      <th>single</th>\n",
       "    </tr>\n",
       "  </thead>\n",
       "  <tbody>\n",
       "    <tr>\n",
       "      <th>epoch_001_val_loss0.088</th>\n",
       "      <td>1344.0</td>\n",
       "      <td>1346.0</td>\n",
       "    </tr>\n",
       "    <tr>\n",
       "      <th>epoch_002_val_loss0.085</th>\n",
       "      <td>1318.0</td>\n",
       "      <td>1359.0</td>\n",
       "    </tr>\n",
       "    <tr>\n",
       "      <th>epoch_003_val_loss0.085</th>\n",
       "      <td>1310.0</td>\n",
       "      <td>1315.0</td>\n",
       "    </tr>\n",
       "    <tr>\n",
       "      <th>epoch_004_val_loss0.084</th>\n",
       "      <td>1270.0</td>\n",
       "      <td>1281.0</td>\n",
       "    </tr>\n",
       "    <tr>\n",
       "      <th>epoch_005_val_loss0.083</th>\n",
       "      <td>1141.0</td>\n",
       "      <td>1087.0</td>\n",
       "    </tr>\n",
       "    <tr>\n",
       "      <th>epoch_006_val_loss0.082</th>\n",
       "      <td>1206.0</td>\n",
       "      <td>1209.0</td>\n",
       "    </tr>\n",
       "    <tr>\n",
       "      <th>epoch_007_val_loss0.083</th>\n",
       "      <td>1173.0</td>\n",
       "      <td>1171.0</td>\n",
       "    </tr>\n",
       "    <tr>\n",
       "      <th>epoch_008_val_loss0.083</th>\n",
       "      <td>1134.0</td>\n",
       "      <td>1111.0</td>\n",
       "    </tr>\n",
       "    <tr>\n",
       "      <th>epoch_009_val_loss0.082</th>\n",
       "      <td>1104.0</td>\n",
       "      <td>1081.0</td>\n",
       "    </tr>\n",
       "  </tbody>\n",
       "</table>\n",
       "</div>"
      ],
      "text/plain": [
       "                          multi  single\n",
       "epoch_001_val_loss0.088  1344.0  1346.0\n",
       "epoch_002_val_loss0.085  1318.0  1359.0\n",
       "epoch_003_val_loss0.085  1310.0  1315.0\n",
       "epoch_004_val_loss0.084  1270.0  1281.0\n",
       "epoch_005_val_loss0.083  1141.0  1087.0\n",
       "epoch_006_val_loss0.082  1206.0  1209.0\n",
       "epoch_007_val_loss0.083  1173.0  1171.0\n",
       "epoch_008_val_loss0.083  1134.0  1111.0\n",
       "epoch_009_val_loss0.082  1104.0  1081.0"
      ]
     },
     "execution_count": 22,
     "metadata": {},
     "output_type": "execute_result"
    }
   ],
   "source": [
    "df"
   ]
  },
  {
   "cell_type": "markdown",
   "metadata": {
    "ExecuteTime": {
     "end_time": "2021-03-27T11:57:02.948059Z",
     "start_time": "2021-03-27T11:57:02.927219Z"
    },
    "hidden": true
   },
   "source": [
    "This shows that the agent is becoming worse epoch after epoch. I think that the "
   ]
  },
  {
   "cell_type": "markdown",
   "metadata": {
    "heading_collapsed": true,
    "hidden": true
   },
   "source": [
    "#### Learning rate 5e-4"
   ]
  },
  {
   "cell_type": "code",
   "execution_count": 37,
   "metadata": {
    "ExecuteTime": {
     "end_time": "2021-03-27T17:36:27.827523Z",
     "start_time": "2021-03-27T16:04:18.357832Z"
    },
    "deletable": false,
    "editable": false,
    "hidden": true,
    "hide_input": true,
    "run_control": {
     "frozen": true
    }
   },
   "outputs": [
    {
     "data": {
      "text/html": [
       "<div>\n",
       "<style scoped>\n",
       "    .dataframe tbody tr th:only-of-type {\n",
       "        vertical-align: middle;\n",
       "    }\n",
       "\n",
       "    .dataframe tbody tr th {\n",
       "        vertical-align: top;\n",
       "    }\n",
       "\n",
       "    .dataframe thead th {\n",
       "        text-align: right;\n",
       "    }\n",
       "</style>\n",
       "<table border=\"1\" class=\"dataframe\">\n",
       "  <thead>\n",
       "    <tr style=\"text-align: right;\">\n",
       "      <th></th>\n",
       "      <th>multi</th>\n",
       "      <th>single</th>\n",
       "    </tr>\n",
       "  </thead>\n",
       "  <tbody>\n",
       "    <tr>\n",
       "      <th>epoch_001_val_loss0.087</th>\n",
       "      <td>1367.0</td>\n",
       "      <td>1417.0</td>\n",
       "    </tr>\n",
       "    <tr>\n",
       "      <th>epoch_002_val_loss0.085</th>\n",
       "      <td>1360.0</td>\n",
       "      <td>1367.0</td>\n",
       "    </tr>\n",
       "    <tr>\n",
       "      <th>epoch_003_val_loss0.084</th>\n",
       "      <td>1363.0</td>\n",
       "      <td>1370.0</td>\n",
       "    </tr>\n",
       "    <tr>\n",
       "      <th>epoch_004_val_loss0.083</th>\n",
       "      <td>1391.0</td>\n",
       "      <td>1371.0</td>\n",
       "    </tr>\n",
       "    <tr>\n",
       "      <th>epoch_005_val_loss0.083</th>\n",
       "      <td>1411.0</td>\n",
       "      <td>1352.0</td>\n",
       "    </tr>\n",
       "    <tr>\n",
       "      <th>epoch_006_val_loss0.082</th>\n",
       "      <td>1374.0</td>\n",
       "      <td>1349.0</td>\n",
       "    </tr>\n",
       "    <tr>\n",
       "      <th>epoch_007_val_loss0.082</th>\n",
       "      <td>1388.0</td>\n",
       "      <td>1428.0</td>\n",
       "    </tr>\n",
       "    <tr>\n",
       "      <th>epoch_008_val_loss0.082</th>\n",
       "      <td>1393.0</td>\n",
       "      <td>1397.0</td>\n",
       "    </tr>\n",
       "    <tr>\n",
       "      <th>epoch_009_val_loss0.082</th>\n",
       "      <td>1361.0</td>\n",
       "      <td>1379.0</td>\n",
       "    </tr>\n",
       "    <tr>\n",
       "      <th>epoch_010_val_loss0.082</th>\n",
       "      <td>1411.0</td>\n",
       "      <td>1436.0</td>\n",
       "    </tr>\n",
       "    <tr>\n",
       "      <th>epoch_011_val_loss0.082</th>\n",
       "      <td>1396.0</td>\n",
       "      <td>1398.0</td>\n",
       "    </tr>\n",
       "    <tr>\n",
       "      <th>epoch_012_val_loss0.082</th>\n",
       "      <td>1374.0</td>\n",
       "      <td>1390.0</td>\n",
       "    </tr>\n",
       "    <tr>\n",
       "      <th>epoch_013_val_loss0.082</th>\n",
       "      <td>1382.0</td>\n",
       "      <td>1386.0</td>\n",
       "    </tr>\n",
       "    <tr>\n",
       "      <th>epoch_014_val_loss0.082</th>\n",
       "      <td>1377.0</td>\n",
       "      <td>1407.0</td>\n",
       "    </tr>\n",
       "    <tr>\n",
       "      <th>epoch_015_val_loss0.082</th>\n",
       "      <td>1349.0</td>\n",
       "      <td>1380.0</td>\n",
       "    </tr>\n",
       "    <tr>\n",
       "      <th>epoch_016_val_loss0.081</th>\n",
       "      <td>1376.0</td>\n",
       "      <td>1429.0</td>\n",
       "    </tr>\n",
       "    <tr>\n",
       "      <th>epoch_017_val_loss0.082</th>\n",
       "      <td>1380.0</td>\n",
       "      <td>1395.0</td>\n",
       "    </tr>\n",
       "    <tr>\n",
       "      <th>epoch_018_val_loss0.082</th>\n",
       "      <td>1362.0</td>\n",
       "      <td>1386.0</td>\n",
       "    </tr>\n",
       "    <tr>\n",
       "      <th>epoch_019_val_loss0.081</th>\n",
       "      <td>1362.0</td>\n",
       "      <td>1388.0</td>\n",
       "    </tr>\n",
       "    <tr>\n",
       "      <th>epoch_020_val_loss0.082</th>\n",
       "      <td>1340.0</td>\n",
       "      <td>1382.0</td>\n",
       "    </tr>\n",
       "    <tr>\n",
       "      <th>epoch_021_val_loss0.082</th>\n",
       "      <td>1365.0</td>\n",
       "      <td>1367.0</td>\n",
       "    </tr>\n",
       "    <tr>\n",
       "      <th>epoch_022_val_loss0.083</th>\n",
       "      <td>1362.0</td>\n",
       "      <td>1388.0</td>\n",
       "    </tr>\n",
       "    <tr>\n",
       "      <th>epoch_023_val_loss0.081</th>\n",
       "      <td>1377.0</td>\n",
       "      <td>1389.0</td>\n",
       "    </tr>\n",
       "    <tr>\n",
       "      <th>epoch_024_val_loss0.082</th>\n",
       "      <td>1355.0</td>\n",
       "      <td>1412.0</td>\n",
       "    </tr>\n",
       "    <tr>\n",
       "      <th>epoch_025_val_loss0.082</th>\n",
       "      <td>1327.0</td>\n",
       "      <td>1400.0</td>\n",
       "    </tr>\n",
       "    <tr>\n",
       "      <th>epoch_026_val_loss0.082</th>\n",
       "      <td>1345.0</td>\n",
       "      <td>1371.0</td>\n",
       "    </tr>\n",
       "    <tr>\n",
       "      <th>epoch_027_val_loss0.082</th>\n",
       "      <td>1316.0</td>\n",
       "      <td>1311.0</td>\n",
       "    </tr>\n",
       "    <tr>\n",
       "      <th>epoch_028_val_loss0.082</th>\n",
       "      <td>1357.0</td>\n",
       "      <td>1353.0</td>\n",
       "    </tr>\n",
       "    <tr>\n",
       "      <th>epoch_029_val_loss0.082</th>\n",
       "      <td>1372.0</td>\n",
       "      <td>1349.0</td>\n",
       "    </tr>\n",
       "    <tr>\n",
       "      <th>epoch_030_val_loss0.082</th>\n",
       "      <td>1314.0</td>\n",
       "      <td>1358.0</td>\n",
       "    </tr>\n",
       "    <tr>\n",
       "      <th>epoch_031_val_loss0.083</th>\n",
       "      <td>1308.0</td>\n",
       "      <td>1363.0</td>\n",
       "    </tr>\n",
       "    <tr>\n",
       "      <th>epoch_032_val_loss0.083</th>\n",
       "      <td>1338.0</td>\n",
       "      <td>1362.0</td>\n",
       "    </tr>\n",
       "    <tr>\n",
       "      <th>epoch_033_val_loss0.083</th>\n",
       "      <td>1333.0</td>\n",
       "      <td>1378.0</td>\n",
       "    </tr>\n",
       "    <tr>\n",
       "      <th>epoch_034_val_loss0.082</th>\n",
       "      <td>1372.0</td>\n",
       "      <td>1419.0</td>\n",
       "    </tr>\n",
       "    <tr>\n",
       "      <th>epoch_035_val_loss0.083</th>\n",
       "      <td>1329.0</td>\n",
       "      <td>1388.0</td>\n",
       "    </tr>\n",
       "    <tr>\n",
       "      <th>epoch_036_val_loss0.083</th>\n",
       "      <td>1354.0</td>\n",
       "      <td>1365.0</td>\n",
       "    </tr>\n",
       "    <tr>\n",
       "      <th>epoch_037_val_loss0.083</th>\n",
       "      <td>1293.0</td>\n",
       "      <td>1335.0</td>\n",
       "    </tr>\n",
       "    <tr>\n",
       "      <th>epoch_038_val_loss0.083</th>\n",
       "      <td>1364.0</td>\n",
       "      <td>1342.0</td>\n",
       "    </tr>\n",
       "    <tr>\n",
       "      <th>epoch_039_val_loss0.083</th>\n",
       "      <td>1315.0</td>\n",
       "      <td>1353.0</td>\n",
       "    </tr>\n",
       "    <tr>\n",
       "      <th>epoch_040_val_loss0.082</th>\n",
       "      <td>1307.0</td>\n",
       "      <td>1295.0</td>\n",
       "    </tr>\n",
       "    <tr>\n",
       "      <th>epoch_041_val_loss0.083</th>\n",
       "      <td>1337.0</td>\n",
       "      <td>1372.0</td>\n",
       "    </tr>\n",
       "    <tr>\n",
       "      <th>epoch_042_val_loss0.082</th>\n",
       "      <td>1320.0</td>\n",
       "      <td>1334.0</td>\n",
       "    </tr>\n",
       "    <tr>\n",
       "      <th>epoch_043_val_loss0.084</th>\n",
       "      <td>1322.0</td>\n",
       "      <td>1367.0</td>\n",
       "    </tr>\n",
       "    <tr>\n",
       "      <th>epoch_044_val_loss0.083</th>\n",
       "      <td>1332.0</td>\n",
       "      <td>1341.0</td>\n",
       "    </tr>\n",
       "    <tr>\n",
       "      <th>epoch_045_val_loss0.084</th>\n",
       "      <td>1326.0</td>\n",
       "      <td>1324.0</td>\n",
       "    </tr>\n",
       "    <tr>\n",
       "      <th>epoch_046_val_loss0.083</th>\n",
       "      <td>1355.0</td>\n",
       "      <td>1345.0</td>\n",
       "    </tr>\n",
       "    <tr>\n",
       "      <th>epoch_047_val_loss0.083</th>\n",
       "      <td>1332.0</td>\n",
       "      <td>1366.0</td>\n",
       "    </tr>\n",
       "    <tr>\n",
       "      <th>epoch_048_val_loss0.084</th>\n",
       "      <td>1308.0</td>\n",
       "      <td>1328.0</td>\n",
       "    </tr>\n",
       "    <tr>\n",
       "      <th>epoch_049_val_loss0.084</th>\n",
       "      <td>1284.0</td>\n",
       "      <td>1325.0</td>\n",
       "    </tr>\n",
       "    <tr>\n",
       "      <th>epoch_050_val_loss0.084</th>\n",
       "      <td>1312.0</td>\n",
       "      <td>1349.0</td>\n",
       "    </tr>\n",
       "  </tbody>\n",
       "</table>\n",
       "</div>"
      ],
      "text/plain": [
       "                          multi  single\n",
       "epoch_001_val_loss0.087  1367.0  1417.0\n",
       "epoch_002_val_loss0.085  1360.0  1367.0\n",
       "epoch_003_val_loss0.084  1363.0  1370.0\n",
       "epoch_004_val_loss0.083  1391.0  1371.0\n",
       "epoch_005_val_loss0.083  1411.0  1352.0\n",
       "epoch_006_val_loss0.082  1374.0  1349.0\n",
       "epoch_007_val_loss0.082  1388.0  1428.0\n",
       "epoch_008_val_loss0.082  1393.0  1397.0\n",
       "epoch_009_val_loss0.082  1361.0  1379.0\n",
       "epoch_010_val_loss0.082  1411.0  1436.0\n",
       "epoch_011_val_loss0.082  1396.0  1398.0\n",
       "epoch_012_val_loss0.082  1374.0  1390.0\n",
       "epoch_013_val_loss0.082  1382.0  1386.0\n",
       "epoch_014_val_loss0.082  1377.0  1407.0\n",
       "epoch_015_val_loss0.082  1349.0  1380.0\n",
       "epoch_016_val_loss0.081  1376.0  1429.0\n",
       "epoch_017_val_loss0.082  1380.0  1395.0\n",
       "epoch_018_val_loss0.082  1362.0  1386.0\n",
       "epoch_019_val_loss0.081  1362.0  1388.0\n",
       "epoch_020_val_loss0.082  1340.0  1382.0\n",
       "epoch_021_val_loss0.082  1365.0  1367.0\n",
       "epoch_022_val_loss0.083  1362.0  1388.0\n",
       "epoch_023_val_loss0.081  1377.0  1389.0\n",
       "epoch_024_val_loss0.082  1355.0  1412.0\n",
       "epoch_025_val_loss0.082  1327.0  1400.0\n",
       "epoch_026_val_loss0.082  1345.0  1371.0\n",
       "epoch_027_val_loss0.082  1316.0  1311.0\n",
       "epoch_028_val_loss0.082  1357.0  1353.0\n",
       "epoch_029_val_loss0.082  1372.0  1349.0\n",
       "epoch_030_val_loss0.082  1314.0  1358.0\n",
       "epoch_031_val_loss0.083  1308.0  1363.0\n",
       "epoch_032_val_loss0.083  1338.0  1362.0\n",
       "epoch_033_val_loss0.083  1333.0  1378.0\n",
       "epoch_034_val_loss0.082  1372.0  1419.0\n",
       "epoch_035_val_loss0.083  1329.0  1388.0\n",
       "epoch_036_val_loss0.083  1354.0  1365.0\n",
       "epoch_037_val_loss0.083  1293.0  1335.0\n",
       "epoch_038_val_loss0.083  1364.0  1342.0\n",
       "epoch_039_val_loss0.083  1315.0  1353.0\n",
       "epoch_040_val_loss0.082  1307.0  1295.0\n",
       "epoch_041_val_loss0.083  1337.0  1372.0\n",
       "epoch_042_val_loss0.082  1320.0  1334.0\n",
       "epoch_043_val_loss0.084  1322.0  1367.0\n",
       "epoch_044_val_loss0.083  1332.0  1341.0\n",
       "epoch_045_val_loss0.084  1326.0  1324.0\n",
       "epoch_046_val_loss0.083  1355.0  1345.0\n",
       "epoch_047_val_loss0.083  1332.0  1366.0\n",
       "epoch_048_val_loss0.084  1308.0  1328.0\n",
       "epoch_049_val_loss0.084  1284.0  1325.0\n",
       "epoch_050_val_loss0.084  1312.0  1349.0"
      ]
     },
     "execution_count": 37,
     "metadata": {},
     "output_type": "execute_result"
    }
   ],
   "source": [
    "del df\n",
    "model_filepaths = sorted(glob.glob('/mnt/hdd0/Kaggle/hungry_geese/models/29_softmax_policy/06_softmax_8_quantum_vs_softmax_8_quantum_reward_-4_4_x128_10000_lr4e4/epoch_*.h5'))\n",
    "if 'df' not in locals(): df = pd.DataFrame()\n",
    "for model_filepath in tqdm(model_filepaths):\n",
    "    name = os.path.splitext(os.path.basename(model_filepath))[0]\n",
    "    if name in df.index:\n",
    "        continue\n",
    "    print(df)\n",
    "    ret = simple_model_evaluation(model_filepath, n_matches=500)\n",
    "    df.loc[name, 'multi'] = ret[0]\n",
    "    df.loc[name, 'single'] = ret[1]\n",
    "clear_output()\n",
    "df"
   ]
  },
  {
   "cell_type": "markdown",
   "metadata": {
    "heading_collapsed": true,
    "hidden": true
   },
   "source": [
    "#### Learning rate 2e-4"
   ]
  },
  {
   "cell_type": "code",
   "execution_count": null,
   "metadata": {
    "ExecuteTime": {
     "end_time": "2021-03-27T16:03:35.621198Z",
     "start_time": "2021-03-27T15:17:23.529672Z"
    },
    "deletable": false,
    "editable": false,
    "hidden": true,
    "hide_input": false,
    "run_control": {
     "frozen": true
    }
   },
   "outputs": [],
   "source": [
    "del df\n",
    "model_filepaths = sorted(glob.glob('/mnt/hdd0/Kaggle/hungry_geese/models/29_softmax_policy/05_softmax_8_quantum_vs_softmax_8_quantum_reward_-4_4_x128_10000_lr2e4/epoch_*.h5'))\n",
    "if 'df' not in locals(): df = pd.DataFrame()\n",
    "for model_filepath in tqdm(model_filepaths):\n",
    "    name = os.path.splitext(os.path.basename(model_filepath))[0]\n",
    "    if name in df.index:\n",
    "        continue\n",
    "    print(df)\n",
    "    ret = simple_model_evaluation(model_filepath, n_matches=500)\n",
    "    df.loc[name, 'multi'] = ret[0]\n",
    "    df.loc[name, 'single'] = ret[1]\n",
    "clear_output()\n",
    "df"
   ]
  },
  {
   "cell_type": "code",
   "execution_count": 35,
   "metadata": {
    "ExecuteTime": {
     "end_time": "2021-03-27T16:03:45.999021Z",
     "start_time": "2021-03-27T16:03:45.917797Z"
    },
    "deletable": false,
    "editable": false,
    "hidden": true,
    "hide_input": true,
    "run_control": {
     "frozen": true
    }
   },
   "outputs": [
    {
     "data": {
      "text/html": [
       "<div>\n",
       "<style scoped>\n",
       "    .dataframe tbody tr th:only-of-type {\n",
       "        vertical-align: middle;\n",
       "    }\n",
       "\n",
       "    .dataframe tbody tr th {\n",
       "        vertical-align: top;\n",
       "    }\n",
       "\n",
       "    .dataframe thead th {\n",
       "        text-align: right;\n",
       "    }\n",
       "</style>\n",
       "<table border=\"1\" class=\"dataframe\">\n",
       "  <thead>\n",
       "    <tr style=\"text-align: right;\">\n",
       "      <th></th>\n",
       "      <th>multi</th>\n",
       "      <th>single</th>\n",
       "    </tr>\n",
       "  </thead>\n",
       "  <tbody>\n",
       "    <tr>\n",
       "      <th>epoch_001_val_loss0.089</th>\n",
       "      <td>1357.0</td>\n",
       "      <td>1404.0</td>\n",
       "    </tr>\n",
       "    <tr>\n",
       "      <th>epoch_002_val_loss0.087</th>\n",
       "      <td>1365.0</td>\n",
       "      <td>1384.0</td>\n",
       "    </tr>\n",
       "    <tr>\n",
       "      <th>epoch_003_val_loss0.085</th>\n",
       "      <td>1388.0</td>\n",
       "      <td>1387.0</td>\n",
       "    </tr>\n",
       "    <tr>\n",
       "      <th>epoch_004_val_loss0.084</th>\n",
       "      <td>1360.0</td>\n",
       "      <td>1411.0</td>\n",
       "    </tr>\n",
       "    <tr>\n",
       "      <th>epoch_005_val_loss0.083</th>\n",
       "      <td>1398.0</td>\n",
       "      <td>1390.0</td>\n",
       "    </tr>\n",
       "    <tr>\n",
       "      <th>epoch_006_val_loss0.083</th>\n",
       "      <td>1392.0</td>\n",
       "      <td>1431.0</td>\n",
       "    </tr>\n",
       "    <tr>\n",
       "      <th>epoch_007_val_loss0.083</th>\n",
       "      <td>1380.0</td>\n",
       "      <td>1417.0</td>\n",
       "    </tr>\n",
       "    <tr>\n",
       "      <th>epoch_008_val_loss0.082</th>\n",
       "      <td>1381.0</td>\n",
       "      <td>1419.0</td>\n",
       "    </tr>\n",
       "    <tr>\n",
       "      <th>epoch_009_val_loss0.082</th>\n",
       "      <td>1400.0</td>\n",
       "      <td>1397.0</td>\n",
       "    </tr>\n",
       "    <tr>\n",
       "      <th>epoch_010_val_loss0.082</th>\n",
       "      <td>1392.0</td>\n",
       "      <td>1431.0</td>\n",
       "    </tr>\n",
       "    <tr>\n",
       "      <th>epoch_011_val_loss0.082</th>\n",
       "      <td>1403.0</td>\n",
       "      <td>1401.0</td>\n",
       "    </tr>\n",
       "    <tr>\n",
       "      <th>epoch_012_val_loss0.081</th>\n",
       "      <td>1418.0</td>\n",
       "      <td>1376.0</td>\n",
       "    </tr>\n",
       "    <tr>\n",
       "      <th>epoch_013_val_loss0.082</th>\n",
       "      <td>1388.0</td>\n",
       "      <td>1408.0</td>\n",
       "    </tr>\n",
       "    <tr>\n",
       "      <th>epoch_014_val_loss0.082</th>\n",
       "      <td>1382.0</td>\n",
       "      <td>1399.0</td>\n",
       "    </tr>\n",
       "    <tr>\n",
       "      <th>epoch_015_val_loss0.081</th>\n",
       "      <td>1395.0</td>\n",
       "      <td>1410.0</td>\n",
       "    </tr>\n",
       "    <tr>\n",
       "      <th>epoch_016_val_loss0.082</th>\n",
       "      <td>1388.0</td>\n",
       "      <td>1388.0</td>\n",
       "    </tr>\n",
       "    <tr>\n",
       "      <th>epoch_017_val_loss0.082</th>\n",
       "      <td>1393.0</td>\n",
       "      <td>1405.0</td>\n",
       "    </tr>\n",
       "    <tr>\n",
       "      <th>epoch_018_val_loss0.081</th>\n",
       "      <td>1438.0</td>\n",
       "      <td>1413.0</td>\n",
       "    </tr>\n",
       "    <tr>\n",
       "      <th>epoch_019_val_loss0.082</th>\n",
       "      <td>1374.0</td>\n",
       "      <td>1405.0</td>\n",
       "    </tr>\n",
       "    <tr>\n",
       "      <th>epoch_020_val_loss0.082</th>\n",
       "      <td>1406.0</td>\n",
       "      <td>1430.0</td>\n",
       "    </tr>\n",
       "    <tr>\n",
       "      <th>epoch_021_val_loss0.081</th>\n",
       "      <td>1408.0</td>\n",
       "      <td>1417.0</td>\n",
       "    </tr>\n",
       "    <tr>\n",
       "      <th>epoch_022_val_loss0.081</th>\n",
       "      <td>1389.0</td>\n",
       "      <td>1405.0</td>\n",
       "    </tr>\n",
       "    <tr>\n",
       "      <th>epoch_023_val_loss0.082</th>\n",
       "      <td>1409.0</td>\n",
       "      <td>1426.0</td>\n",
       "    </tr>\n",
       "    <tr>\n",
       "      <th>epoch_024_val_loss0.081</th>\n",
       "      <td>1386.0</td>\n",
       "      <td>1388.0</td>\n",
       "    </tr>\n",
       "  </tbody>\n",
       "</table>\n",
       "</div>"
      ],
      "text/plain": [
       "                          multi  single\n",
       "epoch_001_val_loss0.089  1357.0  1404.0\n",
       "epoch_002_val_loss0.087  1365.0  1384.0\n",
       "epoch_003_val_loss0.085  1388.0  1387.0\n",
       "epoch_004_val_loss0.084  1360.0  1411.0\n",
       "epoch_005_val_loss0.083  1398.0  1390.0\n",
       "epoch_006_val_loss0.083  1392.0  1431.0\n",
       "epoch_007_val_loss0.083  1380.0  1417.0\n",
       "epoch_008_val_loss0.082  1381.0  1419.0\n",
       "epoch_009_val_loss0.082  1400.0  1397.0\n",
       "epoch_010_val_loss0.082  1392.0  1431.0\n",
       "epoch_011_val_loss0.082  1403.0  1401.0\n",
       "epoch_012_val_loss0.081  1418.0  1376.0\n",
       "epoch_013_val_loss0.082  1388.0  1408.0\n",
       "epoch_014_val_loss0.082  1382.0  1399.0\n",
       "epoch_015_val_loss0.081  1395.0  1410.0\n",
       "epoch_016_val_loss0.082  1388.0  1388.0\n",
       "epoch_017_val_loss0.082  1393.0  1405.0\n",
       "epoch_018_val_loss0.081  1438.0  1413.0\n",
       "epoch_019_val_loss0.082  1374.0  1405.0\n",
       "epoch_020_val_loss0.082  1406.0  1430.0\n",
       "epoch_021_val_loss0.081  1408.0  1417.0\n",
       "epoch_022_val_loss0.081  1389.0  1405.0\n",
       "epoch_023_val_loss0.082  1409.0  1426.0\n",
       "epoch_024_val_loss0.081  1386.0  1388.0"
      ]
     },
     "execution_count": 35,
     "metadata": {},
     "output_type": "execute_result"
    }
   ],
   "source": [
    "df"
   ]
  },
  {
   "cell_type": "markdown",
   "metadata": {
    "heading_collapsed": true,
    "hidden": true
   },
   "source": [
    "#### Learning rate 1e-4"
   ]
  },
  {
   "cell_type": "code",
   "execution_count": 33,
   "metadata": {
    "ExecuteTime": {
     "end_time": "2021-03-27T15:13:33.708644Z",
     "start_time": "2021-03-27T14:14:55.347288Z"
    },
    "deletable": false,
    "editable": false,
    "hidden": true,
    "hide_input": false,
    "run_control": {
     "frozen": true
    },
    "scrolled": true
   },
   "outputs": [
    {
     "data": {
      "text/html": [
       "<div>\n",
       "<style scoped>\n",
       "    .dataframe tbody tr th:only-of-type {\n",
       "        vertical-align: middle;\n",
       "    }\n",
       "\n",
       "    .dataframe tbody tr th {\n",
       "        vertical-align: top;\n",
       "    }\n",
       "\n",
       "    .dataframe thead th {\n",
       "        text-align: right;\n",
       "    }\n",
       "</style>\n",
       "<table border=\"1\" class=\"dataframe\">\n",
       "  <thead>\n",
       "    <tr style=\"text-align: right;\">\n",
       "      <th></th>\n",
       "      <th>multi</th>\n",
       "      <th>single</th>\n",
       "    </tr>\n",
       "  </thead>\n",
       "  <tbody>\n",
       "    <tr>\n",
       "      <th>epoch_001_val_loss0.090</th>\n",
       "      <td>1321.0</td>\n",
       "      <td>1373.0</td>\n",
       "    </tr>\n",
       "    <tr>\n",
       "      <th>epoch_002_val_loss0.088</th>\n",
       "      <td>1372.0</td>\n",
       "      <td>1384.0</td>\n",
       "    </tr>\n",
       "    <tr>\n",
       "      <th>epoch_003_val_loss0.087</th>\n",
       "      <td>1354.0</td>\n",
       "      <td>1391.0</td>\n",
       "    </tr>\n",
       "    <tr>\n",
       "      <th>epoch_004_val_loss0.087</th>\n",
       "      <td>1375.0</td>\n",
       "      <td>1369.0</td>\n",
       "    </tr>\n",
       "    <tr>\n",
       "      <th>epoch_005_val_loss0.086</th>\n",
       "      <td>1370.0</td>\n",
       "      <td>1365.0</td>\n",
       "    </tr>\n",
       "    <tr>\n",
       "      <th>epoch_006_val_loss0.085</th>\n",
       "      <td>1373.0</td>\n",
       "      <td>1379.0</td>\n",
       "    </tr>\n",
       "    <tr>\n",
       "      <th>epoch_007_val_loss0.085</th>\n",
       "      <td>1393.0</td>\n",
       "      <td>1415.0</td>\n",
       "    </tr>\n",
       "    <tr>\n",
       "      <th>epoch_008_val_loss0.084</th>\n",
       "      <td>1400.0</td>\n",
       "      <td>1380.0</td>\n",
       "    </tr>\n",
       "    <tr>\n",
       "      <th>epoch_009_val_loss0.084</th>\n",
       "      <td>1368.0</td>\n",
       "      <td>1404.0</td>\n",
       "    </tr>\n",
       "    <tr>\n",
       "      <th>epoch_010_val_loss0.083</th>\n",
       "      <td>1392.0</td>\n",
       "      <td>1378.0</td>\n",
       "    </tr>\n",
       "    <tr>\n",
       "      <th>epoch_011_val_loss0.084</th>\n",
       "      <td>1400.0</td>\n",
       "      <td>1400.0</td>\n",
       "    </tr>\n",
       "    <tr>\n",
       "      <th>epoch_012_val_loss0.083</th>\n",
       "      <td>1393.0</td>\n",
       "      <td>1424.0</td>\n",
       "    </tr>\n",
       "    <tr>\n",
       "      <th>epoch_013_val_loss0.083</th>\n",
       "      <td>1409.0</td>\n",
       "      <td>1425.0</td>\n",
       "    </tr>\n",
       "    <tr>\n",
       "      <th>epoch_014_val_loss0.083</th>\n",
       "      <td>1381.0</td>\n",
       "      <td>1433.0</td>\n",
       "    </tr>\n",
       "    <tr>\n",
       "      <th>epoch_015_val_loss0.082</th>\n",
       "      <td>1434.0</td>\n",
       "      <td>1419.0</td>\n",
       "    </tr>\n",
       "    <tr>\n",
       "      <th>epoch_016_val_loss0.082</th>\n",
       "      <td>1395.0</td>\n",
       "      <td>1440.0</td>\n",
       "    </tr>\n",
       "    <tr>\n",
       "      <th>epoch_017_val_loss0.083</th>\n",
       "      <td>1363.0</td>\n",
       "      <td>1417.0</td>\n",
       "    </tr>\n",
       "    <tr>\n",
       "      <th>epoch_018_val_loss0.082</th>\n",
       "      <td>1367.0</td>\n",
       "      <td>1396.0</td>\n",
       "    </tr>\n",
       "    <tr>\n",
       "      <th>epoch_019_val_loss0.082</th>\n",
       "      <td>1373.0</td>\n",
       "      <td>1402.0</td>\n",
       "    </tr>\n",
       "    <tr>\n",
       "      <th>epoch_020_val_loss0.082</th>\n",
       "      <td>1409.0</td>\n",
       "      <td>1421.0</td>\n",
       "    </tr>\n",
       "    <tr>\n",
       "      <th>epoch_021_val_loss0.082</th>\n",
       "      <td>1391.0</td>\n",
       "      <td>1444.0</td>\n",
       "    </tr>\n",
       "    <tr>\n",
       "      <th>epoch_022_val_loss0.082</th>\n",
       "      <td>1385.0</td>\n",
       "      <td>1373.0</td>\n",
       "    </tr>\n",
       "    <tr>\n",
       "      <th>epoch_023_val_loss0.082</th>\n",
       "      <td>1398.0</td>\n",
       "      <td>1421.0</td>\n",
       "    </tr>\n",
       "    <tr>\n",
       "      <th>epoch_024_val_loss0.082</th>\n",
       "      <td>1395.0</td>\n",
       "      <td>1440.0</td>\n",
       "    </tr>\n",
       "    <tr>\n",
       "      <th>epoch_025_val_loss0.081</th>\n",
       "      <td>1420.0</td>\n",
       "      <td>1427.0</td>\n",
       "    </tr>\n",
       "    <tr>\n",
       "      <th>epoch_026_val_loss0.082</th>\n",
       "      <td>1387.0</td>\n",
       "      <td>1410.0</td>\n",
       "    </tr>\n",
       "    <tr>\n",
       "      <th>epoch_027_val_loss0.081</th>\n",
       "      <td>1380.0</td>\n",
       "      <td>1414.0</td>\n",
       "    </tr>\n",
       "    <tr>\n",
       "      <th>epoch_028_val_loss0.082</th>\n",
       "      <td>1378.0</td>\n",
       "      <td>1409.0</td>\n",
       "    </tr>\n",
       "    <tr>\n",
       "      <th>epoch_029_val_loss0.082</th>\n",
       "      <td>1376.0</td>\n",
       "      <td>1415.0</td>\n",
       "    </tr>\n",
       "  </tbody>\n",
       "</table>\n",
       "</div>"
      ],
      "text/plain": [
       "                          multi  single\n",
       "epoch_001_val_loss0.090  1321.0  1373.0\n",
       "epoch_002_val_loss0.088  1372.0  1384.0\n",
       "epoch_003_val_loss0.087  1354.0  1391.0\n",
       "epoch_004_val_loss0.087  1375.0  1369.0\n",
       "epoch_005_val_loss0.086  1370.0  1365.0\n",
       "epoch_006_val_loss0.085  1373.0  1379.0\n",
       "epoch_007_val_loss0.085  1393.0  1415.0\n",
       "epoch_008_val_loss0.084  1400.0  1380.0\n",
       "epoch_009_val_loss0.084  1368.0  1404.0\n",
       "epoch_010_val_loss0.083  1392.0  1378.0\n",
       "epoch_011_val_loss0.084  1400.0  1400.0\n",
       "epoch_012_val_loss0.083  1393.0  1424.0\n",
       "epoch_013_val_loss0.083  1409.0  1425.0\n",
       "epoch_014_val_loss0.083  1381.0  1433.0\n",
       "epoch_015_val_loss0.082  1434.0  1419.0\n",
       "epoch_016_val_loss0.082  1395.0  1440.0\n",
       "epoch_017_val_loss0.083  1363.0  1417.0\n",
       "epoch_018_val_loss0.082  1367.0  1396.0\n",
       "epoch_019_val_loss0.082  1373.0  1402.0\n",
       "epoch_020_val_loss0.082  1409.0  1421.0\n",
       "epoch_021_val_loss0.082  1391.0  1444.0\n",
       "epoch_022_val_loss0.082  1385.0  1373.0\n",
       "epoch_023_val_loss0.082  1398.0  1421.0\n",
       "epoch_024_val_loss0.082  1395.0  1440.0\n",
       "epoch_025_val_loss0.081  1420.0  1427.0\n",
       "epoch_026_val_loss0.082  1387.0  1410.0\n",
       "epoch_027_val_loss0.081  1380.0  1414.0\n",
       "epoch_028_val_loss0.082  1378.0  1409.0\n",
       "epoch_029_val_loss0.082  1376.0  1415.0"
      ]
     },
     "execution_count": 33,
     "metadata": {},
     "output_type": "execute_result"
    }
   ],
   "source": [
    "model_filepaths = sorted(glob.glob('/mnt/hdd0/Kaggle/hungry_geese/models/29_softmax_policy/02_softmax_8_quantum_vs_softmax_8_quantum_reward_-4_4_x128_10000_lr1e4/epoch_*.h5'))\n",
    "if 'df' not in locals(): df = pd.DataFrame()\n",
    "for model_filepath in tqdm(model_filepaths):\n",
    "    name = os.path.splitext(os.path.basename(model_filepath))[0]\n",
    "    if name in df.index:\n",
    "        continue\n",
    "    print(df)\n",
    "    ret = simple_model_evaluation(model_filepath, n_matches=500)\n",
    "    df.loc[name, 'multi'] = ret[0]\n",
    "    df.loc[name, 'single'] = ret[1]\n",
    "clear_output()\n",
    "df"
   ]
  },
  {
   "cell_type": "code",
   "execution_count": 23,
   "metadata": {
    "ExecuteTime": {
     "end_time": "2021-03-27T12:23:57.354289Z",
     "start_time": "2021-03-27T12:15:25.398629Z"
    },
    "deletable": false,
    "editable": false,
    "hidden": true,
    "hide_input": false,
    "run_control": {
     "frozen": true
    }
   },
   "outputs": [
    {
     "data": {
      "text/html": [
       "<div>\n",
       "<style scoped>\n",
       "    .dataframe tbody tr th:only-of-type {\n",
       "        vertical-align: middle;\n",
       "    }\n",
       "\n",
       "    .dataframe tbody tr th {\n",
       "        vertical-align: top;\n",
       "    }\n",
       "\n",
       "    .dataframe thead th {\n",
       "        text-align: right;\n",
       "    }\n",
       "</style>\n",
       "<table border=\"1\" class=\"dataframe\">\n",
       "  <thead>\n",
       "    <tr style=\"text-align: right;\">\n",
       "      <th></th>\n",
       "      <th>multi</th>\n",
       "      <th>single</th>\n",
       "    </tr>\n",
       "  </thead>\n",
       "  <tbody>\n",
       "    <tr>\n",
       "      <th>epoch_001_val_loss0.090</th>\n",
       "      <td>1363.0</td>\n",
       "      <td>1390.0</td>\n",
       "    </tr>\n",
       "    <tr>\n",
       "      <th>epoch_002_val_loss0.088</th>\n",
       "      <td>1390.0</td>\n",
       "      <td>1358.0</td>\n",
       "    </tr>\n",
       "    <tr>\n",
       "      <th>epoch_003_val_loss0.087</th>\n",
       "      <td>1368.0</td>\n",
       "      <td>1392.0</td>\n",
       "    </tr>\n",
       "    <tr>\n",
       "      <th>epoch_004_val_loss0.087</th>\n",
       "      <td>1389.0</td>\n",
       "      <td>1366.0</td>\n",
       "    </tr>\n",
       "    <tr>\n",
       "      <th>epoch_005_val_loss0.086</th>\n",
       "      <td>1372.0</td>\n",
       "      <td>1376.0</td>\n",
       "    </tr>\n",
       "    <tr>\n",
       "      <th>epoch_006_val_loss0.085</th>\n",
       "      <td>1363.0</td>\n",
       "      <td>1393.0</td>\n",
       "    </tr>\n",
       "    <tr>\n",
       "      <th>epoch_007_val_loss0.085</th>\n",
       "      <td>1391.0</td>\n",
       "      <td>1413.0</td>\n",
       "    </tr>\n",
       "    <tr>\n",
       "      <th>epoch_008_val_loss0.084</th>\n",
       "      <td>1375.0</td>\n",
       "      <td>1402.0</td>\n",
       "    </tr>\n",
       "    <tr>\n",
       "      <th>epoch_011_val_loss0.084</th>\n",
       "      <td>1394.0</td>\n",
       "      <td>1370.0</td>\n",
       "    </tr>\n",
       "    <tr>\n",
       "      <th>epoch_016_val_loss0.082</th>\n",
       "      <td>1382.0</td>\n",
       "      <td>1403.0</td>\n",
       "    </tr>\n",
       "    <tr>\n",
       "      <th>epoch_021_val_loss0.082</th>\n",
       "      <td>1365.0</td>\n",
       "      <td>1393.0</td>\n",
       "    </tr>\n",
       "    <tr>\n",
       "      <th>epoch_026_val_loss0.082</th>\n",
       "      <td>1355.0</td>\n",
       "      <td>1388.0</td>\n",
       "    </tr>\n",
       "  </tbody>\n",
       "</table>\n",
       "</div>"
      ],
      "text/plain": [
       "                          multi  single\n",
       "epoch_001_val_loss0.090  1363.0  1390.0\n",
       "epoch_002_val_loss0.088  1390.0  1358.0\n",
       "epoch_003_val_loss0.087  1368.0  1392.0\n",
       "epoch_004_val_loss0.087  1389.0  1366.0\n",
       "epoch_005_val_loss0.086  1372.0  1376.0\n",
       "epoch_006_val_loss0.085  1363.0  1393.0\n",
       "epoch_007_val_loss0.085  1391.0  1413.0\n",
       "epoch_008_val_loss0.084  1375.0  1402.0\n",
       "epoch_011_val_loss0.084  1394.0  1370.0\n",
       "epoch_016_val_loss0.082  1382.0  1403.0\n",
       "epoch_021_val_loss0.082  1365.0  1393.0\n",
       "epoch_026_val_loss0.082  1355.0  1388.0"
      ]
     },
     "execution_count": 23,
     "metadata": {},
     "output_type": "execute_result"
    }
   ],
   "source": [
    "model_filepaths = sorted(glob.glob('/mnt/hdd0/Kaggle/hungry_geese/models/29_softmax_policy/02_softmax_8_quantum_vs_softmax_8_quantum_reward_-4_4_x128_10000_lr1e4/epoch_*.h5'))[::5]\n",
    "if 'df' not in locals(): df = pd.DataFrame()\n",
    "for model_filepath in tqdm(model_filepaths):\n",
    "    name = os.path.splitext(os.path.basename(model_filepath))[0]\n",
    "    if name in df.index:\n",
    "        continue\n",
    "    print(df)\n",
    "    ret = simple_model_evaluation(model_filepath, n_matches=500)\n",
    "    df.loc[name, 'multi'] = ret[0]\n",
    "    df.loc[name, 'single'] = ret[1]\n",
    "clear_output()\n",
    "df"
   ]
  },
  {
   "cell_type": "markdown",
   "metadata": {
    "heading_collapsed": true,
    "hidden": true
   },
   "source": [
    "#### Learning rate 1e-5"
   ]
  },
  {
   "cell_type": "code",
   "execution_count": 26,
   "metadata": {
    "ExecuteTime": {
     "end_time": "2021-03-27T13:19:01.180685Z",
     "start_time": "2021-03-27T12:27:49.553023Z"
    },
    "deletable": false,
    "editable": false,
    "hidden": true,
    "hide_input": false,
    "run_control": {
     "frozen": true
    },
    "scrolled": true
   },
   "outputs": [
    {
     "data": {
      "text/html": [
       "<div>\n",
       "<style scoped>\n",
       "    .dataframe tbody tr th:only-of-type {\n",
       "        vertical-align: middle;\n",
       "    }\n",
       "\n",
       "    .dataframe tbody tr th {\n",
       "        vertical-align: top;\n",
       "    }\n",
       "\n",
       "    .dataframe thead th {\n",
       "        text-align: right;\n",
       "    }\n",
       "</style>\n",
       "<table border=\"1\" class=\"dataframe\">\n",
       "  <thead>\n",
       "    <tr style=\"text-align: right;\">\n",
       "      <th></th>\n",
       "      <th>multi</th>\n",
       "      <th>single</th>\n",
       "    </tr>\n",
       "  </thead>\n",
       "  <tbody>\n",
       "    <tr>\n",
       "      <th>epoch_001_val_loss0.095</th>\n",
       "      <td>1317.0</td>\n",
       "      <td>1359.0</td>\n",
       "    </tr>\n",
       "    <tr>\n",
       "      <th>epoch_002_val_loss0.093</th>\n",
       "      <td>1334.0</td>\n",
       "      <td>1368.0</td>\n",
       "    </tr>\n",
       "    <tr>\n",
       "      <th>epoch_003_val_loss0.093</th>\n",
       "      <td>1333.0</td>\n",
       "      <td>1323.0</td>\n",
       "    </tr>\n",
       "    <tr>\n",
       "      <th>epoch_004_val_loss0.092</th>\n",
       "      <td>1322.0</td>\n",
       "      <td>1354.0</td>\n",
       "    </tr>\n",
       "    <tr>\n",
       "      <th>epoch_005_val_loss0.092</th>\n",
       "      <td>1348.0</td>\n",
       "      <td>1379.0</td>\n",
       "    </tr>\n",
       "    <tr>\n",
       "      <th>epoch_006_val_loss0.091</th>\n",
       "      <td>1350.0</td>\n",
       "      <td>1342.0</td>\n",
       "    </tr>\n",
       "    <tr>\n",
       "      <th>epoch_007_val_loss0.091</th>\n",
       "      <td>1379.0</td>\n",
       "      <td>1361.0</td>\n",
       "    </tr>\n",
       "    <tr>\n",
       "      <th>epoch_008_val_loss0.091</th>\n",
       "      <td>1340.0</td>\n",
       "      <td>1382.0</td>\n",
       "    </tr>\n",
       "    <tr>\n",
       "      <th>epoch_009_val_loss0.090</th>\n",
       "      <td>1370.0</td>\n",
       "      <td>1385.0</td>\n",
       "    </tr>\n",
       "    <tr>\n",
       "      <th>epoch_010_val_loss0.090</th>\n",
       "      <td>1364.0</td>\n",
       "      <td>1393.0</td>\n",
       "    </tr>\n",
       "    <tr>\n",
       "      <th>epoch_011_val_loss0.090</th>\n",
       "      <td>1364.0</td>\n",
       "      <td>1366.0</td>\n",
       "    </tr>\n",
       "    <tr>\n",
       "      <th>epoch_012_val_loss0.090</th>\n",
       "      <td>1353.0</td>\n",
       "      <td>1391.0</td>\n",
       "    </tr>\n",
       "    <tr>\n",
       "      <th>epoch_013_val_loss0.089</th>\n",
       "      <td>1382.0</td>\n",
       "      <td>1379.0</td>\n",
       "    </tr>\n",
       "    <tr>\n",
       "      <th>epoch_014_val_loss0.089</th>\n",
       "      <td>1389.0</td>\n",
       "      <td>1346.0</td>\n",
       "    </tr>\n",
       "    <tr>\n",
       "      <th>epoch_015_val_loss0.089</th>\n",
       "      <td>1395.0</td>\n",
       "      <td>1356.0</td>\n",
       "    </tr>\n",
       "    <tr>\n",
       "      <th>epoch_016_val_loss0.089</th>\n",
       "      <td>1372.0</td>\n",
       "      <td>1396.0</td>\n",
       "    </tr>\n",
       "    <tr>\n",
       "      <th>epoch_017_val_loss0.089</th>\n",
       "      <td>1393.0</td>\n",
       "      <td>1366.0</td>\n",
       "    </tr>\n",
       "    <tr>\n",
       "      <th>epoch_018_val_loss0.088</th>\n",
       "      <td>1376.0</td>\n",
       "      <td>1358.0</td>\n",
       "    </tr>\n",
       "    <tr>\n",
       "      <th>epoch_019_val_loss0.089</th>\n",
       "      <td>1372.0</td>\n",
       "      <td>1404.0</td>\n",
       "    </tr>\n",
       "    <tr>\n",
       "      <th>epoch_020_val_loss0.088</th>\n",
       "      <td>1380.0</td>\n",
       "      <td>1386.0</td>\n",
       "    </tr>\n",
       "    <tr>\n",
       "      <th>epoch_021_val_loss0.088</th>\n",
       "      <td>1371.0</td>\n",
       "      <td>1397.0</td>\n",
       "    </tr>\n",
       "    <tr>\n",
       "      <th>epoch_022_val_loss0.088</th>\n",
       "      <td>1382.0</td>\n",
       "      <td>1377.0</td>\n",
       "    </tr>\n",
       "    <tr>\n",
       "      <th>epoch_023_val_loss0.088</th>\n",
       "      <td>1375.0</td>\n",
       "      <td>1395.0</td>\n",
       "    </tr>\n",
       "    <tr>\n",
       "      <th>epoch_024_val_loss0.088</th>\n",
       "      <td>1370.0</td>\n",
       "      <td>1399.0</td>\n",
       "    </tr>\n",
       "    <tr>\n",
       "      <th>epoch_025_val_loss0.087</th>\n",
       "      <td>1402.0</td>\n",
       "      <td>1388.0</td>\n",
       "    </tr>\n",
       "    <tr>\n",
       "      <th>epoch_026_val_loss0.087</th>\n",
       "      <td>1400.0</td>\n",
       "      <td>1380.0</td>\n",
       "    </tr>\n",
       "    <tr>\n",
       "      <th>epoch_027_val_loss0.087</th>\n",
       "      <td>1389.0</td>\n",
       "      <td>1379.0</td>\n",
       "    </tr>\n",
       "  </tbody>\n",
       "</table>\n",
       "</div>"
      ],
      "text/plain": [
       "                          multi  single\n",
       "epoch_001_val_loss0.095  1317.0  1359.0\n",
       "epoch_002_val_loss0.093  1334.0  1368.0\n",
       "epoch_003_val_loss0.093  1333.0  1323.0\n",
       "epoch_004_val_loss0.092  1322.0  1354.0\n",
       "epoch_005_val_loss0.092  1348.0  1379.0\n",
       "epoch_006_val_loss0.091  1350.0  1342.0\n",
       "epoch_007_val_loss0.091  1379.0  1361.0\n",
       "epoch_008_val_loss0.091  1340.0  1382.0\n",
       "epoch_009_val_loss0.090  1370.0  1385.0\n",
       "epoch_010_val_loss0.090  1364.0  1393.0\n",
       "epoch_011_val_loss0.090  1364.0  1366.0\n",
       "epoch_012_val_loss0.090  1353.0  1391.0\n",
       "epoch_013_val_loss0.089  1382.0  1379.0\n",
       "epoch_014_val_loss0.089  1389.0  1346.0\n",
       "epoch_015_val_loss0.089  1395.0  1356.0\n",
       "epoch_016_val_loss0.089  1372.0  1396.0\n",
       "epoch_017_val_loss0.089  1393.0  1366.0\n",
       "epoch_018_val_loss0.088  1376.0  1358.0\n",
       "epoch_019_val_loss0.089  1372.0  1404.0\n",
       "epoch_020_val_loss0.088  1380.0  1386.0\n",
       "epoch_021_val_loss0.088  1371.0  1397.0\n",
       "epoch_022_val_loss0.088  1382.0  1377.0\n",
       "epoch_023_val_loss0.088  1375.0  1395.0\n",
       "epoch_024_val_loss0.088  1370.0  1399.0\n",
       "epoch_025_val_loss0.087  1402.0  1388.0\n",
       "epoch_026_val_loss0.087  1400.0  1380.0\n",
       "epoch_027_val_loss0.087  1389.0  1379.0"
      ]
     },
     "execution_count": 26,
     "metadata": {},
     "output_type": "execute_result"
    }
   ],
   "source": [
    "model_filepaths = sorted(glob.glob('/mnt/hdd0/Kaggle/hungry_geese/models/29_softmax_policy/03_softmax_8_quantum_vs_softmax_8_quantum_reward_-4_4_x128_10000_lr1e5/epoch_*.h5'))\n",
    "if 'df' not in locals(): df = pd.DataFrame()\n",
    "for model_filepath in tqdm(model_filepaths):\n",
    "    name = os.path.splitext(os.path.basename(model_filepath))[0]\n",
    "    if name in df.index:\n",
    "        continue\n",
    "    print(df)\n",
    "    ret = simple_model_evaluation(model_filepath, n_matches=500)\n",
    "    df.loc[name, 'multi'] = ret[0]\n",
    "    df.loc[name, 'single'] = ret[1]\n",
    "clear_output()\n",
    "df"
   ]
  },
  {
   "cell_type": "markdown",
   "metadata": {
    "heading_collapsed": true,
    "hidden": true
   },
   "source": [
    "#### From zero"
   ]
  },
  {
   "cell_type": "code",
   "execution_count": null,
   "metadata": {
    "ExecuteTime": {
     "end_time": "2021-03-27T14:13:29.081503Z",
     "start_time": "2021-03-27T13:39:04.558926Z"
    },
    "deletable": false,
    "editable": false,
    "hidden": true,
    "hide_input": true,
    "run_control": {
     "frozen": true
    },
    "scrolled": true
   },
   "outputs": [],
   "source": [
    "model_filepaths = sorted(glob.glob('/mnt/hdd0/Kaggle/hungry_geese/models/29_softmax_policy/04_softmax_8_quantum_vs_softmax_8_quantum_reward_-4_4_x128_10000_from_zero/epoch_*.h5'))\n",
    "if 'df' not in locals(): df = pd.DataFrame()\n",
    "for model_filepath in tqdm(model_filepaths):\n",
    "    name = os.path.splitext(os.path.basename(model_filepath))[0]\n",
    "    if name in df.index:\n",
    "        continue\n",
    "    print(df)\n",
    "    ret = simple_model_evaluation(model_filepath, n_matches=500)\n",
    "    df.loc[name, 'multi'] = ret[0]\n",
    "    df.loc[name, 'single'] = ret[1]\n",
    "clear_output()\n",
    "df"
   ]
  },
  {
   "cell_type": "code",
   "execution_count": 30,
   "metadata": {
    "ExecuteTime": {
     "end_time": "2021-03-27T14:13:44.338542Z",
     "start_time": "2021-03-27T14:13:44.303308Z"
    },
    "deletable": false,
    "editable": false,
    "hidden": true,
    "hide_input": true,
    "run_control": {
     "frozen": true
    },
    "scrolled": false
   },
   "outputs": [
    {
     "data": {
      "text/html": [
       "<div>\n",
       "<style scoped>\n",
       "    .dataframe tbody tr th:only-of-type {\n",
       "        vertical-align: middle;\n",
       "    }\n",
       "\n",
       "    .dataframe tbody tr th {\n",
       "        vertical-align: top;\n",
       "    }\n",
       "\n",
       "    .dataframe thead th {\n",
       "        text-align: right;\n",
       "    }\n",
       "</style>\n",
       "<table border=\"1\" class=\"dataframe\">\n",
       "  <thead>\n",
       "    <tr style=\"text-align: right;\">\n",
       "      <th></th>\n",
       "      <th>multi</th>\n",
       "      <th>single</th>\n",
       "    </tr>\n",
       "  </thead>\n",
       "  <tbody>\n",
       "    <tr>\n",
       "      <th>epoch_001_val_loss0.104</th>\n",
       "      <td>983.0</td>\n",
       "      <td>962.0</td>\n",
       "    </tr>\n",
       "    <tr>\n",
       "      <th>epoch_002_val_loss0.097</th>\n",
       "      <td>864.0</td>\n",
       "      <td>885.0</td>\n",
       "    </tr>\n",
       "    <tr>\n",
       "      <th>epoch_003_val_loss0.094</th>\n",
       "      <td>782.0</td>\n",
       "      <td>759.0</td>\n",
       "    </tr>\n",
       "    <tr>\n",
       "      <th>epoch_004_val_loss0.091</th>\n",
       "      <td>818.0</td>\n",
       "      <td>834.0</td>\n",
       "    </tr>\n",
       "    <tr>\n",
       "      <th>epoch_005_val_loss0.088</th>\n",
       "      <td>712.0</td>\n",
       "      <td>726.0</td>\n",
       "    </tr>\n",
       "    <tr>\n",
       "      <th>epoch_006_val_loss0.087</th>\n",
       "      <td>677.0</td>\n",
       "      <td>685.0</td>\n",
       "    </tr>\n",
       "    <tr>\n",
       "      <th>epoch_007_val_loss0.086</th>\n",
       "      <td>582.0</td>\n",
       "      <td>540.0</td>\n",
       "    </tr>\n",
       "    <tr>\n",
       "      <th>epoch_008_val_loss0.085</th>\n",
       "      <td>711.0</td>\n",
       "      <td>607.0</td>\n",
       "    </tr>\n",
       "    <tr>\n",
       "      <th>epoch_009_val_loss0.084</th>\n",
       "      <td>667.0</td>\n",
       "      <td>683.0</td>\n",
       "    </tr>\n",
       "    <tr>\n",
       "      <th>epoch_010_val_loss0.084</th>\n",
       "      <td>544.0</td>\n",
       "      <td>600.0</td>\n",
       "    </tr>\n",
       "    <tr>\n",
       "      <th>epoch_011_val_loss0.083</th>\n",
       "      <td>631.0</td>\n",
       "      <td>657.0</td>\n",
       "    </tr>\n",
       "    <tr>\n",
       "      <th>epoch_012_val_loss0.083</th>\n",
       "      <td>632.0</td>\n",
       "      <td>571.0</td>\n",
       "    </tr>\n",
       "    <tr>\n",
       "      <th>epoch_013_val_loss0.082</th>\n",
       "      <td>644.0</td>\n",
       "      <td>617.0</td>\n",
       "    </tr>\n",
       "    <tr>\n",
       "      <th>epoch_014_val_loss0.083</th>\n",
       "      <td>707.0</td>\n",
       "      <td>670.0</td>\n",
       "    </tr>\n",
       "    <tr>\n",
       "      <th>epoch_015_val_loss0.083</th>\n",
       "      <td>644.0</td>\n",
       "      <td>656.0</td>\n",
       "    </tr>\n",
       "    <tr>\n",
       "      <th>epoch_016_val_loss0.083</th>\n",
       "      <td>589.0</td>\n",
       "      <td>623.0</td>\n",
       "    </tr>\n",
       "    <tr>\n",
       "      <th>epoch_017_val_loss0.082</th>\n",
       "      <td>649.0</td>\n",
       "      <td>648.0</td>\n",
       "    </tr>\n",
       "    <tr>\n",
       "      <th>epoch_018_val_loss0.081</th>\n",
       "      <td>661.0</td>\n",
       "      <td>665.0</td>\n",
       "    </tr>\n",
       "    <tr>\n",
       "      <th>epoch_019_val_loss0.082</th>\n",
       "      <td>619.0</td>\n",
       "      <td>585.0</td>\n",
       "    </tr>\n",
       "    <tr>\n",
       "      <th>epoch_020_val_loss0.082</th>\n",
       "      <td>663.0</td>\n",
       "      <td>652.0</td>\n",
       "    </tr>\n",
       "    <tr>\n",
       "      <th>epoch_021_val_loss0.083</th>\n",
       "      <td>609.0</td>\n",
       "      <td>567.0</td>\n",
       "    </tr>\n",
       "  </tbody>\n",
       "</table>\n",
       "</div>"
      ],
      "text/plain": [
       "                         multi  single\n",
       "epoch_001_val_loss0.104  983.0   962.0\n",
       "epoch_002_val_loss0.097  864.0   885.0\n",
       "epoch_003_val_loss0.094  782.0   759.0\n",
       "epoch_004_val_loss0.091  818.0   834.0\n",
       "epoch_005_val_loss0.088  712.0   726.0\n",
       "epoch_006_val_loss0.087  677.0   685.0\n",
       "epoch_007_val_loss0.086  582.0   540.0\n",
       "epoch_008_val_loss0.085  711.0   607.0\n",
       "epoch_009_val_loss0.084  667.0   683.0\n",
       "epoch_010_val_loss0.084  544.0   600.0\n",
       "epoch_011_val_loss0.083  631.0   657.0\n",
       "epoch_012_val_loss0.083  632.0   571.0\n",
       "epoch_013_val_loss0.082  644.0   617.0\n",
       "epoch_014_val_loss0.083  707.0   670.0\n",
       "epoch_015_val_loss0.083  644.0   656.0\n",
       "epoch_016_val_loss0.083  589.0   623.0\n",
       "epoch_017_val_loss0.082  649.0   648.0\n",
       "epoch_018_val_loss0.081  661.0   665.0\n",
       "epoch_019_val_loss0.082  619.0   585.0\n",
       "epoch_020_val_loss0.082  663.0   652.0\n",
       "epoch_021_val_loss0.083  609.0   567.0"
      ]
     },
     "execution_count": 30,
     "metadata": {},
     "output_type": "execute_result"
    }
   ],
   "source": [
    "df"
   ]
  },
  {
   "cell_type": "markdown",
   "metadata": {
    "hidden": true
   },
   "source": [
    "It is not capable of learning anything useful when training from zero."
   ]
  },
  {
   "cell_type": "markdown",
   "metadata": {
    "heading_collapsed": true,
    "hidden": true
   },
   "source": [
    "#### 40k matches"
   ]
  },
  {
   "cell_type": "code",
   "execution_count": 15,
   "metadata": {
    "ExecuteTime": {
     "end_time": "2021-03-28T07:04:17.919970Z",
     "start_time": "2021-03-28T06:14:24.993801Z"
    },
    "deletable": false,
    "editable": false,
    "hidden": true,
    "hide_input": true,
    "run_control": {
     "frozen": true
    },
    "scrolled": true
   },
   "outputs": [
    {
     "data": {
      "text/html": [
       "<div>\n",
       "<style scoped>\n",
       "    .dataframe tbody tr th:only-of-type {\n",
       "        vertical-align: middle;\n",
       "    }\n",
       "\n",
       "    .dataframe tbody tr th {\n",
       "        vertical-align: top;\n",
       "    }\n",
       "\n",
       "    .dataframe thead th {\n",
       "        text-align: right;\n",
       "    }\n",
       "</style>\n",
       "<table border=\"1\" class=\"dataframe\">\n",
       "  <thead>\n",
       "    <tr style=\"text-align: right;\">\n",
       "      <th></th>\n",
       "      <th>multi</th>\n",
       "      <th>single</th>\n",
       "    </tr>\n",
       "  </thead>\n",
       "  <tbody>\n",
       "    <tr>\n",
       "      <th>lr1e3/epoch_001</th>\n",
       "      <td>1304.0</td>\n",
       "      <td>1292.0</td>\n",
       "    </tr>\n",
       "    <tr>\n",
       "      <th>lr1e3/epoch_002</th>\n",
       "      <td>1093.0</td>\n",
       "      <td>1107.0</td>\n",
       "    </tr>\n",
       "    <tr>\n",
       "      <th>lr1e3/epoch_003</th>\n",
       "      <td>995.0</td>\n",
       "      <td>1006.0</td>\n",
       "    </tr>\n",
       "    <tr>\n",
       "      <th>lr1e3/epoch_004</th>\n",
       "      <td>815.0</td>\n",
       "      <td>805.0</td>\n",
       "    </tr>\n",
       "    <tr>\n",
       "      <th>lr1e3/epoch_005</th>\n",
       "      <td>870.0</td>\n",
       "      <td>925.0</td>\n",
       "    </tr>\n",
       "    <tr>\n",
       "      <th>lr4e4/epoch_001</th>\n",
       "      <td>1412.0</td>\n",
       "      <td>1413.0</td>\n",
       "    </tr>\n",
       "    <tr>\n",
       "      <th>lr4e4/epoch_002</th>\n",
       "      <td>1393.0</td>\n",
       "      <td>1396.0</td>\n",
       "    </tr>\n",
       "    <tr>\n",
       "      <th>lr4e4/epoch_003</th>\n",
       "      <td>1377.0</td>\n",
       "      <td>1388.0</td>\n",
       "    </tr>\n",
       "    <tr>\n",
       "      <th>lr4e4/epoch_004</th>\n",
       "      <td>1327.0</td>\n",
       "      <td>1340.0</td>\n",
       "    </tr>\n",
       "    <tr>\n",
       "      <th>lr4e4/epoch_005</th>\n",
       "      <td>1352.0</td>\n",
       "      <td>1355.0</td>\n",
       "    </tr>\n",
       "    <tr>\n",
       "      <th>lr2e4/epoch_001</th>\n",
       "      <td>1359.0</td>\n",
       "      <td>1375.0</td>\n",
       "    </tr>\n",
       "    <tr>\n",
       "      <th>lr2e4/epoch_002</th>\n",
       "      <td>1397.0</td>\n",
       "      <td>1408.0</td>\n",
       "    </tr>\n",
       "    <tr>\n",
       "      <th>lr2e4/epoch_003</th>\n",
       "      <td>1382.0</td>\n",
       "      <td>1434.0</td>\n",
       "    </tr>\n",
       "    <tr>\n",
       "      <th>lr2e4/epoch_004</th>\n",
       "      <td>1344.0</td>\n",
       "      <td>1414.0</td>\n",
       "    </tr>\n",
       "    <tr>\n",
       "      <th>lr2e4/epoch_005</th>\n",
       "      <td>1407.0</td>\n",
       "      <td>1429.0</td>\n",
       "    </tr>\n",
       "    <tr>\n",
       "      <th>lr1e4/epoch_001</th>\n",
       "      <td>1376.0</td>\n",
       "      <td>1407.0</td>\n",
       "    </tr>\n",
       "    <tr>\n",
       "      <th>lr1e4/epoch_002</th>\n",
       "      <td>1387.0</td>\n",
       "      <td>1382.0</td>\n",
       "    </tr>\n",
       "    <tr>\n",
       "      <th>lr1e4/epoch_003</th>\n",
       "      <td>1405.0</td>\n",
       "      <td>1400.0</td>\n",
       "    </tr>\n",
       "    <tr>\n",
       "      <th>lr1e4/epoch_004</th>\n",
       "      <td>1415.0</td>\n",
       "      <td>1429.0</td>\n",
       "    </tr>\n",
       "    <tr>\n",
       "      <th>lr1e4/epoch_005</th>\n",
       "      <td>1389.0</td>\n",
       "      <td>1447.0</td>\n",
       "    </tr>\n",
       "  </tbody>\n",
       "</table>\n",
       "</div>"
      ],
      "text/plain": [
       "                  multi  single\n",
       "lr1e3/epoch_001  1304.0  1292.0\n",
       "lr1e3/epoch_002  1093.0  1107.0\n",
       "lr1e3/epoch_003   995.0  1006.0\n",
       "lr1e3/epoch_004   815.0   805.0\n",
       "lr1e3/epoch_005   870.0   925.0\n",
       "lr4e4/epoch_001  1412.0  1413.0\n",
       "lr4e4/epoch_002  1393.0  1396.0\n",
       "lr4e4/epoch_003  1377.0  1388.0\n",
       "lr4e4/epoch_004  1327.0  1340.0\n",
       "lr4e4/epoch_005  1352.0  1355.0\n",
       "lr2e4/epoch_001  1359.0  1375.0\n",
       "lr2e4/epoch_002  1397.0  1408.0\n",
       "lr2e4/epoch_003  1382.0  1434.0\n",
       "lr2e4/epoch_004  1344.0  1414.0\n",
       "lr2e4/epoch_005  1407.0  1429.0\n",
       "lr1e4/epoch_001  1376.0  1407.0\n",
       "lr1e4/epoch_002  1387.0  1382.0\n",
       "lr1e4/epoch_003  1405.0  1400.0\n",
       "lr1e4/epoch_004  1415.0  1429.0\n",
       "lr1e4/epoch_005  1389.0  1447.0"
      ]
     },
     "execution_count": 15,
     "metadata": {},
     "output_type": "execute_result"
    }
   ],
   "source": [
    "model_filepaths = sorted(glob.glob('/mnt/hdd0/Kaggle/hungry_geese/models/30_softmax_policy_more_data/*/epoch_*.h5'))\n",
    "if 'df' not in locals(): df = pd.DataFrame()\n",
    "for model_filepath in tqdm(model_filepaths):\n",
    "    #name = os.path.basename(os.path.dirname(model_filepath)) + os.path.basename(model_filepath)\n",
    "    name = model_filepath.split('40000_')[-1].split('_val_loss')[0]\n",
    "    if name in df.index:\n",
    "        continue\n",
    "    print(df)\n",
    "    ret = simple_model_evaluation(model_filepath, n_matches=500)\n",
    "    df.loc[name, 'multi'] = ret[0]\n",
    "    df.loc[name, 'single'] = ret[1]\n",
    "clear_output()\n",
    "df"
   ]
  },
  {
   "cell_type": "code",
   "execution_count": 26,
   "metadata": {
    "ExecuteTime": {
     "end_time": "2021-03-28T07:09:55.318640Z",
     "start_time": "2021-03-28T07:09:55.273249Z"
    },
    "deletable": false,
    "editable": false,
    "hidden": true,
    "hide_input": true,
    "run_control": {
     "frozen": true
    },
    "scrolled": false
   },
   "outputs": [
    {
     "data": {
      "text/html": [
       "<div>\n",
       "<style scoped>\n",
       "    .dataframe tbody tr th:only-of-type {\n",
       "        vertical-align: middle;\n",
       "    }\n",
       "\n",
       "    .dataframe tbody tr th {\n",
       "        vertical-align: top;\n",
       "    }\n",
       "\n",
       "    .dataframe thead th {\n",
       "        text-align: right;\n",
       "    }\n",
       "</style>\n",
       "<table border=\"1\" class=\"dataframe\">\n",
       "  <thead>\n",
       "    <tr style=\"text-align: right;\">\n",
       "      <th></th>\n",
       "      <th>multi</th>\n",
       "      <th>single</th>\n",
       "    </tr>\n",
       "  </thead>\n",
       "  <tbody>\n",
       "    <tr>\n",
       "      <th>lr1e4/epoch_004</th>\n",
       "      <td>1415.0</td>\n",
       "      <td>1429.0</td>\n",
       "    </tr>\n",
       "    <tr>\n",
       "      <th>lr4e4/epoch_001</th>\n",
       "      <td>1412.0</td>\n",
       "      <td>1413.0</td>\n",
       "    </tr>\n",
       "    <tr>\n",
       "      <th>lr2e4/epoch_005</th>\n",
       "      <td>1407.0</td>\n",
       "      <td>1429.0</td>\n",
       "    </tr>\n",
       "    <tr>\n",
       "      <th>lr1e4/epoch_003</th>\n",
       "      <td>1405.0</td>\n",
       "      <td>1400.0</td>\n",
       "    </tr>\n",
       "    <tr>\n",
       "      <th>lr2e4/epoch_002</th>\n",
       "      <td>1397.0</td>\n",
       "      <td>1408.0</td>\n",
       "    </tr>\n",
       "  </tbody>\n",
       "</table>\n",
       "</div>"
      ],
      "text/plain": [
       "                  multi  single\n",
       "lr1e4/epoch_004  1415.0  1429.0\n",
       "lr4e4/epoch_001  1412.0  1413.0\n",
       "lr2e4/epoch_005  1407.0  1429.0\n",
       "lr1e4/epoch_003  1405.0  1400.0\n",
       "lr2e4/epoch_002  1397.0  1408.0"
      ]
     },
     "execution_count": 26,
     "metadata": {},
     "output_type": "execute_result"
    }
   ],
   "source": [
    "df.sort_values('multi', ascending=False).head()"
   ]
  },
  {
   "cell_type": "markdown",
   "metadata": {
    "hidden": true
   },
   "source": [
    "We can get some good scores, but the differences with quantum agent do not seem to be significative. Let's compute quantum agent scores according\n",
    "to current evaluation."
   ]
  },
  {
   "cell_type": "code",
   "execution_count": 27,
   "metadata": {
    "ExecuteTime": {
     "end_time": "2021-03-28T07:12:57.791781Z",
     "start_time": "2021-03-28T07:10:57.259009Z"
    },
    "deletable": false,
    "editable": false,
    "hidden": true,
    "run_control": {
     "frozen": true
    }
   },
   "outputs": [
    {
     "name": "stdout",
     "output_type": "stream",
     "text": [
      "/tmp/tmpb6zwa1gp/agent.py\n",
      "Multi agent elo score: 1347\n",
      "Single agent elo score: 1373\n"
     ]
    },
    {
     "data": {
      "text/plain": [
       "(1347, 1373)"
      ]
     },
     "execution_count": 27,
     "metadata": {},
     "output_type": "execute_result"
    }
   ],
   "source": [
    "simple_model_evaluation('../data/agents/quantum/best_model.h5')"
   ]
  },
  {
   "cell_type": "markdown",
   "metadata": {
    "hidden": true
   },
   "source": [
    "Wait! This is relevant! When measured against the same baseline of all the agents we can see that quantum agent does not perform as well as its fixed elo score indicates.\n",
    "\n",
    "So this means that the agent with (1415, 1429) scores is significatively better than the baseline.\n",
    "\n",
    "Then we should try to use that agent to train a new iteration, and if it works then we could start working on a automate ladder.\n",
    "I should aim at a score of (1465, 1480) to have significative improvement."
   ]
  },
  {
   "cell_type": "markdown",
   "metadata": {
    "heading_collapsed": true
   },
   "source": [
    "## Trying to iterate"
   ]
  },
  {
   "cell_type": "markdown",
   "metadata": {
    "heading_collapsed": true,
    "hidden": true
   },
   "source": [
    "### Generation"
   ]
  },
  {
   "cell_type": "code",
   "execution_count": 17,
   "metadata": {
    "ExecuteTime": {
     "end_time": "2021-03-30T16:30:35.026758Z",
     "start_time": "2021-03-30T16:30:34.983367Z"
    },
    "hidden": true
   },
   "outputs": [],
   "source": [
    "def simple_model_softmax_policy_data_generation(model_path, softmax_scale, name, n_matches, reward_name):\n",
    "    model_path = os.path.realpath(model_path)\n",
    "    text = \"\"\"\n",
    "import os\n",
    "from hungry_geese.agents import SoftmaxAgent, EpsilonAgent\n",
    "\n",
    "os.environ['CUDA_VISIBLE_DEVICES'] = ''\n",
    "\n",
    "import tensorflow as tf\n",
    "\n",
    "model = tf.keras.models.load_model('model_path', compile=False)\n",
    "model = tf.keras.models.Model(inputs=model.inputs[:2], outputs=model.layers[-3].output)\n",
    "softmax_agent = SoftmaxAgent(model, scale=softmax_scale)\n",
    "\n",
    "def agent(obs, config):\n",
    "    return softmax_agent(obs, config)\n",
    "    \"\"\"\n",
    "    text = text.replace('model_path', model_path)\n",
    "    text = text.replace('softmax_scale', str(softmax_scale))\n",
    "    with tempfile.TemporaryDirectory() as tempdir:\n",
    "        agent_filepath = os.path.join(tempdir, 'agent.py')\n",
    "        with open(agent_filepath, 'w') as f:\n",
    "            f.write(text)\n",
    "        \n",
    "        saved_games_path = '/mnt/hdd0/Kaggle/hungry_geese/games/%s_matches_%i.json' % (name, n_matches)\n",
    "        play_matches_in_parallel_and_save_history(agents=[agent_filepath]*4, n_matches=n_matches, output_path=saved_games_path)\n",
    "\n",
    "        output_path = '/mnt/hdd0/Kaggle/hungry_geese/data/%s/%s_matches_%i.npz' % (reward_name, name, n_matches)\n",
    "        create_train_data_from_saved_matches([saved_games_path], reward_name, output_path)"
   ]
  },
  {
   "cell_type": "code",
   "execution_count": 39,
   "metadata": {
    "ExecuteTime": {
     "end_time": "2021-03-28T07:40:50.110513Z",
     "start_time": "2021-03-28T07:33:59.097068Z"
    },
    "deletable": false,
    "editable": false,
    "hidden": true,
    "run_control": {
     "frozen": true
    }
   },
   "outputs": [
    {
     "name": "stderr",
     "output_type": "stream",
     "text": [
      "2021-03-28 09:33:59,133 - hungry_geese.utils - INFO - ram_memory used: 0.46 GB\t available: 60.22 GB\n"
     ]
    },
    {
     "data": {
      "application/vnd.jupyter.widget-view+json": {
       "model_id": "97d1d6cdbc044e35b21b48556f9f12e7",
       "version_major": 2,
       "version_minor": 0
      },
      "text/plain": [
       "  0%|          | 0/2000 [00:00<?, ?it/s]"
      ]
     },
     "metadata": {},
     "output_type": "display_data"
    },
    {
     "name": "stderr",
     "output_type": "stream",
     "text": [
      "2021-03-28 09:39:01,435 - hungry_geese.utils - INFO - ram_memory used: 2.70 GB\t available: 57.95 GB\n",
      "2021-03-28 09:39:01,436 - __main__ - INFO - saving matches to json: /mnt/hdd0/Kaggle/hungry_geese/games/20210328_it1_matches_2000.json\n",
      "2021-03-28 09:39:23,572 - hungry_geese.utils - INFO - ram_memory used: 0.46 GB\t available: 60.19 GB\n"
     ]
    },
    {
     "data": {
      "application/vnd.jupyter.widget-view+json": {
       "model_id": "8c15c32716a543c8947873dec3654792",
       "version_major": 2,
       "version_minor": 0
      },
      "text/plain": [
       "looping over saved games:   0%|          | 0/1 [00:00<?, ?it/s]"
      ]
     },
     "metadata": {},
     "output_type": "display_data"
    },
    {
     "name": "stderr",
     "output_type": "stream",
     "text": [
      "2021-03-28 09:39:23,591 - hungry_geese.utils - INFO - ram_memory used: 0.46 GB\t available: 60.19 GB\n",
      "2021-03-28 09:39:30,282 - hungry_geese.utils - INFO - ram_memory used: 2.01 GB\t available: 58.62 GB\n"
     ]
    },
    {
     "data": {
      "application/vnd.jupyter.widget-view+json": {
       "model_id": "bbb9f1311e704023b8de4d708f53b6aa",
       "version_major": 2,
       "version_minor": 0
      },
      "text/plain": [
       "Creating game data:   0%|          | 0/2000 [00:00<?, ?it/s]"
      ]
     },
     "metadata": {},
     "output_type": "display_data"
    },
    {
     "name": "stderr",
     "output_type": "stream",
     "text": [
      "2021-03-28 09:40:35,429 - hungry_geese.utils - INFO - ram_memory used: 2.47 GB\t available: 58.18 GB\n",
      "2021-03-28 09:40:35,430 - __main__ - INFO - Going to combine the data\n",
      "2021-03-28 09:40:35,812 - hungry_geese.utils - INFO - ram_memory used: 3.12 GB\t available: 57.53 GB\n",
      "2021-03-28 09:40:35,813 - __main__ - INFO - Size of the boards is 1.3 GB ([1.3, 0.0, 0.0, 0.0] [1.4 GB])\n",
      "2021-03-28 09:40:35,814 - __main__ - INFO - Saving data on: /mnt/hdd0/Kaggle/hungry_geese/data/ranking_reward_-4_4/20210328_it1_matches_2000.npz\n",
      "2021-03-28 09:40:50,106 - hungry_geese.utils - INFO - ram_memory used: 1.76 GB\t available: 58.85 GB\n"
     ]
    }
   ],
   "source": [
    "simple_model_softmax_policy_data_generation(\n",
    "    model_path='/mnt/hdd0/Kaggle/hungry_geese/models/30_softmax_policy_more_data/04_softmax_8_quantum_vs_softmax_8_quantum_reward_-4_4_x128_40000_lr1e4/epoch_004_val_loss0.081.h5',\n",
    "    softmax_scale=8,\n",
    "    n_matches=2000,\n",
    "    name='20210328_it1',\n",
    "    reward_name='ranking_reward_-4_4')"
   ]
  },
  {
   "cell_type": "code",
   "execution_count": 40,
   "metadata": {
    "ExecuteTime": {
     "end_time": "2021-03-28T08:15:54.940123Z",
     "start_time": "2021-03-28T07:40:50.113009Z"
    },
    "deletable": false,
    "editable": false,
    "hidden": true,
    "run_control": {
     "frozen": true
    }
   },
   "outputs": [
    {
     "name": "stderr",
     "output_type": "stream",
     "text": [
      "2021-03-28 09:40:50,145 - hungry_geese.utils - INFO - ram_memory used: 1.76 GB\t available: 58.85 GB\n"
     ]
    },
    {
     "data": {
      "application/vnd.jupyter.widget-view+json": {
       "model_id": "409273cede004cd18bf775c663df0f6b",
       "version_major": 2,
       "version_minor": 0
      },
      "text/plain": [
       "  0%|          | 0/10000 [00:00<?, ?it/s]"
      ]
     },
     "metadata": {},
     "output_type": "display_data"
    },
    {
     "name": "stderr",
     "output_type": "stream",
     "text": [
      "2021-03-28 10:06:52,341 - hungry_geese.utils - INFO - ram_memory used: 12.93 GB\t available: 47.66 GB\n",
      "2021-03-28 10:06:52,342 - __main__ - INFO - saving matches to json: /mnt/hdd0/Kaggle/hungry_geese/games/20210328_it1_matches_10000.json\n",
      "2021-03-28 10:08:41,447 - hungry_geese.utils - INFO - ram_memory used: 1.77 GB\t available: 58.87 GB\n"
     ]
    },
    {
     "data": {
      "application/vnd.jupyter.widget-view+json": {
       "model_id": "cc5fd5b2f8bd46198a96b9282077ce76",
       "version_major": 2,
       "version_minor": 0
      },
      "text/plain": [
       "looping over saved games:   0%|          | 0/1 [00:00<?, ?it/s]"
      ]
     },
     "metadata": {},
     "output_type": "display_data"
    },
    {
     "name": "stderr",
     "output_type": "stream",
     "text": [
      "2021-03-28 10:08:41,466 - hungry_geese.utils - INFO - ram_memory used: 1.77 GB\t available: 58.87 GB\n",
      "2021-03-28 10:09:13,374 - hungry_geese.utils - INFO - ram_memory used: 9.55 GB\t available: 51.08 GB\n"
     ]
    },
    {
     "data": {
      "application/vnd.jupyter.widget-view+json": {
       "model_id": "f7cd75c8236f4718b0f58d2f9c1bc94b",
       "version_major": 2,
       "version_minor": 0
      },
      "text/plain": [
       "Creating game data:   0%|          | 0/10000 [00:00<?, ?it/s]"
      ]
     },
     "metadata": {},
     "output_type": "display_data"
    },
    {
     "name": "stderr",
     "output_type": "stream",
     "text": [
      "2021-03-28 10:14:39,690 - hungry_geese.utils - INFO - ram_memory used: 10.80 GB\t available: 49.83 GB\n",
      "2021-03-28 10:14:39,691 - __main__ - INFO - Going to combine the data\n",
      "2021-03-28 10:14:41,584 - hungry_geese.utils - INFO - ram_memory used: 13.90 GB\t available: 46.74 GB\n",
      "2021-03-28 10:14:41,585 - __main__ - INFO - Size of the boards is 6.5 GB ([6.5, 0.2, 0.1, 0.0] [6.7 GB])\n",
      "2021-03-28 10:14:41,586 - __main__ - INFO - Saving data on: /mnt/hdd0/Kaggle/hungry_geese/data/ranking_reward_-4_4/20210328_it1_matches_10000.npz\n",
      "2021-03-28 10:15:54,936 - hungry_geese.utils - INFO - ram_memory used: 7.16 GB\t available: 53.56 GB\n"
     ]
    }
   ],
   "source": [
    "simple_model_softmax_policy_data_generation(\n",
    "    model_path='/mnt/hdd0/Kaggle/hungry_geese/models/30_softmax_policy_more_data/04_softmax_8_quantum_vs_softmax_8_quantum_reward_-4_4_x128_40000_lr1e4/epoch_004_val_loss0.081.h5',\n",
    "    softmax_scale=8,\n",
    "    n_matches=10000,\n",
    "    name='20210328_it1',\n",
    "    reward_name='ranking_reward_-4_4')"
   ]
  },
  {
   "cell_type": "code",
   "execution_count": null,
   "metadata": {
    "hidden": true
   },
   "outputs": [],
   "source": []
  },
  {
   "cell_type": "markdown",
   "metadata": {
    "heading_collapsed": true,
    "hidden": true
   },
   "source": [
    "### Evaluation"
   ]
  },
  {
   "cell_type": "code",
   "execution_count": 21,
   "metadata": {
    "ExecuteTime": {
     "end_time": "2021-03-28T09:15:43.960292Z",
     "start_time": "2021-03-28T08:32:37.878580Z"
    },
    "deletable": false,
    "editable": false,
    "hidden": true,
    "hide_input": true,
    "run_control": {
     "frozen": true
    }
   },
   "outputs": [
    {
     "data": {
      "text/html": [
       "<div>\n",
       "<style scoped>\n",
       "    .dataframe tbody tr th:only-of-type {\n",
       "        vertical-align: middle;\n",
       "    }\n",
       "\n",
       "    .dataframe tbody tr th {\n",
       "        vertical-align: top;\n",
       "    }\n",
       "\n",
       "    .dataframe thead th {\n",
       "        text-align: right;\n",
       "    }\n",
       "</style>\n",
       "<table border=\"1\" class=\"dataframe\">\n",
       "  <thead>\n",
       "    <tr style=\"text-align: right;\">\n",
       "      <th></th>\n",
       "      <th>multi</th>\n",
       "      <th>single</th>\n",
       "    </tr>\n",
       "  </thead>\n",
       "  <tbody>\n",
       "    <tr>\n",
       "      <th>01_it1_2000_lr4e4/epoch_001</th>\n",
       "      <td>1315.0</td>\n",
       "      <td>1339.0</td>\n",
       "    </tr>\n",
       "    <tr>\n",
       "      <th>01_it1_2000_lr4e4/epoch_002</th>\n",
       "      <td>1346.0</td>\n",
       "      <td>1330.0</td>\n",
       "    </tr>\n",
       "    <tr>\n",
       "      <th>01_it1_2000_lr4e4/epoch_003</th>\n",
       "      <td>1390.0</td>\n",
       "      <td>1398.0</td>\n",
       "    </tr>\n",
       "    <tr>\n",
       "      <th>01_it1_2000_lr4e4/epoch_004</th>\n",
       "      <td>1347.0</td>\n",
       "      <td>1357.0</td>\n",
       "    </tr>\n",
       "    <tr>\n",
       "      <th>01_it1_2000_lr4e4/epoch_005</th>\n",
       "      <td>1400.0</td>\n",
       "      <td>1357.0</td>\n",
       "    </tr>\n",
       "    <tr>\n",
       "      <th>02_it1_2000_lr2e4/epoch_001</th>\n",
       "      <td>1358.0</td>\n",
       "      <td>1318.0</td>\n",
       "    </tr>\n",
       "    <tr>\n",
       "      <th>02_it1_2000_lr2e4/epoch_002</th>\n",
       "      <td>1368.0</td>\n",
       "      <td>1384.0</td>\n",
       "    </tr>\n",
       "    <tr>\n",
       "      <th>02_it1_2000_lr2e4/epoch_003</th>\n",
       "      <td>1407.0</td>\n",
       "      <td>1404.0</td>\n",
       "    </tr>\n",
       "    <tr>\n",
       "      <th>02_it1_2000_lr2e4/epoch_004</th>\n",
       "      <td>1362.0</td>\n",
       "      <td>1355.0</td>\n",
       "    </tr>\n",
       "    <tr>\n",
       "      <th>02_it1_2000_lr2e4/epoch_005</th>\n",
       "      <td>1389.0</td>\n",
       "      <td>1425.0</td>\n",
       "    </tr>\n",
       "    <tr>\n",
       "      <th>03_it1_2000_lr1e4/epoch_001</th>\n",
       "      <td>1368.0</td>\n",
       "      <td>1389.0</td>\n",
       "    </tr>\n",
       "    <tr>\n",
       "      <th>03_it1_2000_lr1e4/epoch_002</th>\n",
       "      <td>1409.0</td>\n",
       "      <td>1396.0</td>\n",
       "    </tr>\n",
       "    <tr>\n",
       "      <th>03_it1_2000_lr1e4/epoch_003</th>\n",
       "      <td>1384.0</td>\n",
       "      <td>1395.0</td>\n",
       "    </tr>\n",
       "    <tr>\n",
       "      <th>03_it1_2000_lr1e4/epoch_004</th>\n",
       "      <td>1358.0</td>\n",
       "      <td>1426.0</td>\n",
       "    </tr>\n",
       "    <tr>\n",
       "      <th>03_it1_2000_lr1e4/epoch_005</th>\n",
       "      <td>1382.0</td>\n",
       "      <td>1375.0</td>\n",
       "    </tr>\n",
       "    <tr>\n",
       "      <th>04_it1_10000_lr4e4/epoch_001</th>\n",
       "      <td>1342.0</td>\n",
       "      <td>1344.0</td>\n",
       "    </tr>\n",
       "    <tr>\n",
       "      <th>04_it1_10000_lr4e4/epoch_002</th>\n",
       "      <td>1376.0</td>\n",
       "      <td>1390.0</td>\n",
       "    </tr>\n",
       "    <tr>\n",
       "      <th>04_it1_10000_lr4e4/epoch_003</th>\n",
       "      <td>1391.0</td>\n",
       "      <td>1414.0</td>\n",
       "    </tr>\n",
       "    <tr>\n",
       "      <th>04_it1_10000_lr4e4/epoch_004</th>\n",
       "      <td>1367.0</td>\n",
       "      <td>1373.0</td>\n",
       "    </tr>\n",
       "    <tr>\n",
       "      <th>04_it1_10000_lr4e4/epoch_005</th>\n",
       "      <td>1362.0</td>\n",
       "      <td>1378.0</td>\n",
       "    </tr>\n",
       "    <tr>\n",
       "      <th>05_it1_10000_lr2e4/epoch_001</th>\n",
       "      <td>1379.0</td>\n",
       "      <td>1391.0</td>\n",
       "    </tr>\n",
       "    <tr>\n",
       "      <th>05_it1_10000_lr2e4/epoch_002</th>\n",
       "      <td>1403.0</td>\n",
       "      <td>1384.0</td>\n",
       "    </tr>\n",
       "    <tr>\n",
       "      <th>05_it1_10000_lr2e4/epoch_003</th>\n",
       "      <td>1364.0</td>\n",
       "      <td>1431.0</td>\n",
       "    </tr>\n",
       "    <tr>\n",
       "      <th>05_it1_10000_lr2e4/epoch_004</th>\n",
       "      <td>1379.0</td>\n",
       "      <td>1402.0</td>\n",
       "    </tr>\n",
       "    <tr>\n",
       "      <th>05_it1_10000_lr2e4/epoch_005</th>\n",
       "      <td>1375.0</td>\n",
       "      <td>1387.0</td>\n",
       "    </tr>\n",
       "    <tr>\n",
       "      <th>06_it1_10000_lr1e4/epoch_001</th>\n",
       "      <td>1364.0</td>\n",
       "      <td>1358.0</td>\n",
       "    </tr>\n",
       "    <tr>\n",
       "      <th>06_it1_10000_lr1e4/epoch_002</th>\n",
       "      <td>1400.0</td>\n",
       "      <td>1396.0</td>\n",
       "    </tr>\n",
       "    <tr>\n",
       "      <th>06_it1_10000_lr1e4/epoch_003</th>\n",
       "      <td>1378.0</td>\n",
       "      <td>1388.0</td>\n",
       "    </tr>\n",
       "    <tr>\n",
       "      <th>06_it1_10000_lr1e4/epoch_004</th>\n",
       "      <td>1380.0</td>\n",
       "      <td>1356.0</td>\n",
       "    </tr>\n",
       "    <tr>\n",
       "      <th>06_it1_10000_lr1e4/epoch_005</th>\n",
       "      <td>1386.0</td>\n",
       "      <td>1413.0</td>\n",
       "    </tr>\n",
       "  </tbody>\n",
       "</table>\n",
       "</div>"
      ],
      "text/plain": [
       "                               multi  single\n",
       "01_it1_2000_lr4e4/epoch_001   1315.0  1339.0\n",
       "01_it1_2000_lr4e4/epoch_002   1346.0  1330.0\n",
       "01_it1_2000_lr4e4/epoch_003   1390.0  1398.0\n",
       "01_it1_2000_lr4e4/epoch_004   1347.0  1357.0\n",
       "01_it1_2000_lr4e4/epoch_005   1400.0  1357.0\n",
       "02_it1_2000_lr2e4/epoch_001   1358.0  1318.0\n",
       "02_it1_2000_lr2e4/epoch_002   1368.0  1384.0\n",
       "02_it1_2000_lr2e4/epoch_003   1407.0  1404.0\n",
       "02_it1_2000_lr2e4/epoch_004   1362.0  1355.0\n",
       "02_it1_2000_lr2e4/epoch_005   1389.0  1425.0\n",
       "03_it1_2000_lr1e4/epoch_001   1368.0  1389.0\n",
       "03_it1_2000_lr1e4/epoch_002   1409.0  1396.0\n",
       "03_it1_2000_lr1e4/epoch_003   1384.0  1395.0\n",
       "03_it1_2000_lr1e4/epoch_004   1358.0  1426.0\n",
       "03_it1_2000_lr1e4/epoch_005   1382.0  1375.0\n",
       "04_it1_10000_lr4e4/epoch_001  1342.0  1344.0\n",
       "04_it1_10000_lr4e4/epoch_002  1376.0  1390.0\n",
       "04_it1_10000_lr4e4/epoch_003  1391.0  1414.0\n",
       "04_it1_10000_lr4e4/epoch_004  1367.0  1373.0\n",
       "04_it1_10000_lr4e4/epoch_005  1362.0  1378.0\n",
       "05_it1_10000_lr2e4/epoch_001  1379.0  1391.0\n",
       "05_it1_10000_lr2e4/epoch_002  1403.0  1384.0\n",
       "05_it1_10000_lr2e4/epoch_003  1364.0  1431.0\n",
       "05_it1_10000_lr2e4/epoch_004  1379.0  1402.0\n",
       "05_it1_10000_lr2e4/epoch_005  1375.0  1387.0\n",
       "06_it1_10000_lr1e4/epoch_001  1364.0  1358.0\n",
       "06_it1_10000_lr1e4/epoch_002  1400.0  1396.0\n",
       "06_it1_10000_lr1e4/epoch_003  1378.0  1388.0\n",
       "06_it1_10000_lr1e4/epoch_004  1380.0  1356.0\n",
       "06_it1_10000_lr1e4/epoch_005  1386.0  1413.0"
      ]
     },
     "execution_count": 21,
     "metadata": {},
     "output_type": "execute_result"
    }
   ],
   "source": [
    "model_filepaths = sorted(glob.glob('/mnt/hdd0/Kaggle/hungry_geese/models/31_iterating_over_softmax_policy/*/epoch_*.h5'))\n",
    "if 'df' not in locals(): df = pd.DataFrame()\n",
    "for model_filepath in tqdm(model_filepaths):\n",
    "    name = model_filepath.split('31_iterating_over_softmax_policy/')[-1].split('_val_loss')[0]\n",
    "    if name in df.index:\n",
    "        continue\n",
    "    print(df)\n",
    "    ret = simple_model_evaluation(model_filepath, n_matches=500)\n",
    "    df.loc[name, 'multi'] = ret[0]\n",
    "    df.loc[name, 'single'] = ret[1]\n",
    "clear_output()\n",
    "df"
   ]
  },
  {
   "cell_type": "markdown",
   "metadata": {
    "ExecuteTime": {
     "end_time": "2021-03-28T10:03:06.211814Z",
     "start_time": "2021-03-28T10:03:06.170421Z"
    },
    "hidden": true
   },
   "source": [
    "No improvement.\n",
    "\n",
    "However I think I have to automatize the cycle of playing, training and evaluation to have a better picture of the problem."
   ]
  },
  {
   "cell_type": "code",
   "execution_count": 24,
   "metadata": {
    "ExecuteTime": {
     "end_time": "2021-03-28T10:12:42.034318Z",
     "start_time": "2021-03-28T10:12:41.976502Z"
    },
    "deletable": false,
    "editable": false,
    "hidden": true,
    "run_control": {
     "frozen": true
    }
   },
   "outputs": [
    {
     "data": {
      "text/html": [
       "<div>\n",
       "<style scoped>\n",
       "    .dataframe tbody tr th:only-of-type {\n",
       "        vertical-align: middle;\n",
       "    }\n",
       "\n",
       "    .dataframe tbody tr th {\n",
       "        vertical-align: top;\n",
       "    }\n",
       "\n",
       "    .dataframe thead th {\n",
       "        text-align: right;\n",
       "    }\n",
       "</style>\n",
       "<table border=\"1\" class=\"dataframe\">\n",
       "  <thead>\n",
       "    <tr style=\"text-align: right;\">\n",
       "      <th></th>\n",
       "      <th>multi</th>\n",
       "      <th>single</th>\n",
       "    </tr>\n",
       "  </thead>\n",
       "  <tbody>\n",
       "    <tr>\n",
       "      <th>03_it1_2000_lr1e4/epoch_002</th>\n",
       "      <td>1409.0</td>\n",
       "      <td>1396.0</td>\n",
       "    </tr>\n",
       "    <tr>\n",
       "      <th>02_it1_2000_lr2e4/epoch_003</th>\n",
       "      <td>1407.0</td>\n",
       "      <td>1404.0</td>\n",
       "    </tr>\n",
       "    <tr>\n",
       "      <th>05_it1_10000_lr2e4/epoch_002</th>\n",
       "      <td>1403.0</td>\n",
       "      <td>1384.0</td>\n",
       "    </tr>\n",
       "    <tr>\n",
       "      <th>06_it1_10000_lr1e4/epoch_002</th>\n",
       "      <td>1400.0</td>\n",
       "      <td>1396.0</td>\n",
       "    </tr>\n",
       "    <tr>\n",
       "      <th>01_it1_2000_lr4e4/epoch_005</th>\n",
       "      <td>1400.0</td>\n",
       "      <td>1357.0</td>\n",
       "    </tr>\n",
       "  </tbody>\n",
       "</table>\n",
       "</div>"
      ],
      "text/plain": [
       "                               multi  single\n",
       "03_it1_2000_lr1e4/epoch_002   1409.0  1396.0\n",
       "02_it1_2000_lr2e4/epoch_003   1407.0  1404.0\n",
       "05_it1_10000_lr2e4/epoch_002  1403.0  1384.0\n",
       "06_it1_10000_lr1e4/epoch_002  1400.0  1396.0\n",
       "01_it1_2000_lr4e4/epoch_005   1400.0  1357.0"
      ]
     },
     "execution_count": 24,
     "metadata": {},
     "output_type": "execute_result"
    }
   ],
   "source": [
    "df.sort_values('multi', ascending=False).head()"
   ]
  },
  {
   "cell_type": "markdown",
   "metadata": {},
   "source": [
    "## Study match length"
   ]
  },
  {
   "cell_type": "code",
   "execution_count": 30,
   "metadata": {
    "ExecuteTime": {
     "end_time": "2021-03-30T16:37:10.925980Z",
     "start_time": "2021-03-30T16:37:10.878468Z"
    }
   },
   "outputs": [],
   "source": [
    "def match_length_histogram(saved_games_path):\n",
    "    with open(saved_games_path, 'r') as f:\n",
    "        matches_results = json.load(f)\n",
    "    matches_len = [len(results) for results in matches_results]\n",
    "    bins = np.linspace(0, 200, 50)\n",
    "    plt.title(os.path.splitext(os.path.basename(saved_games_path))[0])\n",
    "    plt.hist(matches_len, bins=bins)\n",
    "    plt.xlabel('Number of steps')\n",
    "    plt.ylabel('Number of matches')"
   ]
  },
  {
   "cell_type": "code",
   "execution_count": 34,
   "metadata": {
    "ExecuteTime": {
     "end_time": "2021-03-30T16:40:34.392296Z",
     "start_time": "2021-03-30T16:40:03.755012Z"
    },
    "deletable": false,
    "editable": false,
    "hide_input": false,
    "run_control": {
     "frozen": true
    },
    "scrolled": true
   },
   "outputs": [
    {
     "data": {
      "image/png": "[encoded data removed]",
      "text/plain": [
       "<Figure size 2160x720 with 3 Axes>"
      ]
     },
     "metadata": {
      "needs_background": "light"
     },
     "output_type": "display_data"
    }
   ],
   "source": [
    "plt.figure(figsize=(30, 10))\n",
    "plt.subplot(311)\n",
    "match_length_histogram('/mnt/hdd0/Kaggle/hungry_geese/games/epsilon_risk_averse_goose_025_vs_epsilon_risk_averse_goose_025_matches_2000.json')\n",
    "plt.subplot(312)\n",
    "match_length_histogram('/mnt/hdd0/Kaggle/hungry_geese/games/epsilon_quantum_025_vs_epsilon_quantum_025_matches_2000.json')\n",
    "plt.subplot(313)\n",
    "match_length_histogram('/mnt/hdd0/Kaggle/hungry_geese/games/softmax_8_quantum_vs_softmax_8_quantum_matches_2000.json')"
   ]
  },
  {
   "cell_type": "markdown",
   "metadata": {},
   "source": [
    "This plots are very relevant. Some insights:\n",
    "\n",
    "- When using softmax policy almost all matches last 200 steps, the maximum. \n",
    "- In the other hand with epsilon greedy policy this number is much more smaller."
   ]
  },
  {
   "cell_type": "markdown",
   "metadata": {},
   "source": [
    "So it seems that once the agent becomes too good to survive the whole match it struggles to improve.\n",
    "\n",
    "Let's study those matches in more detail."
   ]
  },
  {
   "cell_type": "code",
   "execution_count": 49,
   "metadata": {
    "ExecuteTime": {
     "end_time": "2021-03-30T17:01:33.302257Z",
     "start_time": "2021-03-30T17:01:33.243923Z"
    }
   },
   "outputs": [],
   "source": [
    "def geese_length_histogram(saved_games_path):\n",
    "    with open(saved_games_path, 'r') as f:\n",
    "        matches_results = json.load(f)\n",
    "    geese_len = []\n",
    "    diff_with_max = []\n",
    "    for results in matches_results:\n",
    "        if len(results) == 200:\n",
    "            step = results[-1]\n",
    "            geese = step[0]['observation']['geese']\n",
    "            match_geese_len = sorted([len(goose) for goose in geese if goose])\n",
    "            geese_len.extend(match_geese_len)\n",
    "            if len(match_geese_len) > 1:\n",
    "                diff_with_max.append(match_geese_len[-1] - match_geese_len[-2])\n",
    "    plt.subplot(121)\n",
    "    plt.title(os.path.splitext(os.path.basename(saved_games_path))[0])\n",
    "    plt.hist(geese_len, bins=20)\n",
    "    plt.xlabel('Geese len on the terminal step')\n",
    "    plt.ylabel('Number of ocurrences')\n",
    "    plt.subplot(122)\n",
    "    plt.title('Diff in len between first and second')\n",
    "    plt.hist(diff_with_max, bins=20)"
   ]
  },
  {
   "cell_type": "code",
   "execution_count": 50,
   "metadata": {
    "ExecuteTime": {
     "end_time": "2021-03-30T17:01:47.105074Z",
     "start_time": "2021-03-30T17:01:33.424875Z"
    },
    "deletable": false,
    "editable": false,
    "hide_input": true,
    "run_control": {
     "frozen": true
    }
   },
   "outputs": [
    {
     "data": {
      "image/png": "[encoded data removed]",
      "text/plain": [
       "<Figure size 2160x360 with 2 Axes>"
      ]
     },
     "metadata": {
      "needs_background": "light"
     },
     "output_type": "display_data"
    }
   ],
   "source": [
    "geese_length_histogram('/mnt/hdd0/Kaggle/hungry_geese/games/softmax_8_quantum_vs_softmax_8_quantum_matches_2000.json')"
   ]
  },
  {
   "cell_type": "markdown",
   "metadata": {},
   "source": [
    "We can see that there is a lot of variation both in geese len and the difference between geese."
   ]
  },
  {
   "cell_type": "markdown",
   "metadata": {},
   "source": [
    "I think we need to update the reward, but not to modify the terminal state. If we modify the terminal state it will have small impact on the geese learning. I think we should reward when a geese is growing to catch up with the first one, and also to reward the first one when it grows, but not to encourage too much growing."
   ]
  },
  {
   "cell_type": "markdown",
   "metadata": {},
   "source": [
    "Currently a goose is only rewarded based on its ranking, which is good but it is sparse."
   ]
  },
  {
   "cell_type": "markdown",
   "metadata": {
    "heading_collapsed": true
   },
   "source": [
    "## Useful snippets"
   ]
  },
  {
   "cell_type": "code",
   "execution_count": null,
   "metadata": {
    "ExecuteTime": {
     "start_time": "2021-03-23T13:38:12.980Z"
    },
    "deletable": false,
    "editable": false,
    "hidden": true,
    "run_control": {
     "frozen": true
    }
   },
   "outputs": [],
   "source": [
    "agent_base = '../data/agents/quantum/epsilon_quantum_010.py'\n",
    "best_5_agents = [agents[name] for name in initial_elo_ranking.index.values[:4]]\n",
    "best_5_agents += ['/mnt/hdd0/Kaggle/hungry_geese/models/25_ladder_of_agents/04_epsilon010_vs_best5_reward_-4_4_x128_80000_pretrained/q_value_agent.py']\n",
    "sampling_agent_func = lambda: [agent_base] + np.random.choice(best_5_agents, 3).tolist()\n",
    "\n",
    "for n_matches in [8000, 39000, 40000]:\n",
    "    output_path = '/mnt/hdd0/Kaggle/hungry_geese/games/%s_vs_best5_it2_matches_%i.json' % (os.path.splitext(os.path.basename(agent_base))[0], n_matches)\n",
    "    play_matches_in_parallel_and_save_history(agents=sampling_agent_func, n_matches=n_matches, output_path=output_path)\n",
    "    \n",
    "reward_name = 'ranking_reward_-4_4'\n",
    "\n",
    "saved_games_paths = ['/mnt/hdd0/Kaggle/hungry_geese/games/%s_vs_best5_it2_matches_%i.json' % (os.path.splitext(os.path.basename(agent_base))[0], n_matches) for n_matches in [8000]]\n",
    "output_path = '/mnt/hdd0/Kaggle/hungry_geese/data/%s/%s_vs_best5_it2_matches_%i.npz' % (reward_name, os.path.splitext(os.path.basename(agent_base))[0], 8000)\n",
    "create_train_data_from_saved_matches(saved_games_paths, reward_name, output_path, agent_idx_range=[0])\n",
    "\n",
    "saved_games_paths = ['/mnt/hdd0/Kaggle/hungry_geese/games/%s_vs_best5_it2_matches_%i.json' % (os.path.splitext(os.path.basename(agent_base))[0], n_matches) for n_matches in [39000, 40000]]\n",
    "output_path = '/mnt/hdd0/Kaggle/hungry_geese/data/%s/%s_vs_best5_it2_matches_%i.npz' % (reward_name, os.path.splitext(os.path.basename(agent_base))[0], 80000)\n",
    "create_train_data_from_saved_matches(saved_games_paths, reward_name, output_path, agent_idx_range=[0])"
   ]
  },
  {
   "cell_type": "code",
   "execution_count": null,
   "metadata": {
    "deletable": false,
    "editable": false,
    "hidden": true,
    "run_control": {
     "frozen": true
    }
   },
   "outputs": [],
   "source": [
    "agent_names = initial_elo_ranking.index.values.tolist()[:4]\n",
    "output_folder = '../data/saved_games/02_quantum'\n",
    "save_html_games([agents[name] for name in agent_names], output_folder, n_games=10)"
   ]
  },
  {
   "cell_type": "code",
   "execution_count": null,
   "metadata": {
    "deletable": false,
    "editable": false,
    "hidden": true,
    "run_control": {
     "frozen": true
    }
   },
   "outputs": [],
   "source": [
    "ret = evaluate_agent(\n",
    "    {'q_value_pretrained': '/mnt/hdd0/Kaggle/hungry_geese/models/25_ladder_of_agents/01_epsilon025_reward_-4_4_x128_30000_pretrained/q_value_agent.py'},\n",
    "    initial_elo_ranking.index.values.tolist()[:5],\n",
    "    n_matches=500, single_agent=False, max_workers=20)\n",
    "compute_elo_ranking(*ret)"
   ]
  },
  {
   "cell_type": "code",
   "execution_count": null,
   "metadata": {
    "deletable": false,
    "editable": false,
    "hidden": true,
    "run_control": {
     "frozen": true
    }
   },
   "outputs": [],
   "source": [
    "agent_filepaths = sorted(glob.glob('/mnt/hdd0/Kaggle/hungry_geese/models/28_architecture_study/*/q_value_agent.py'))\n",
    "print(agent_filepaths)\n",
    "df = pd.DataFrame()\n",
    "for agent_filepath in agent_filepaths:\n",
    "    print(df)\n",
    "    ret = simple_agent_evaluation(agent_filepath, n_matches=500)\n",
    "    name = os.path.basename(os.path.dirname(agent_filepath))\n",
    "    df.loc[name, 'multi'] = ret[0]\n",
    "    df.loc[name, 'single'] = ret[1]\n",
    "df"
   ]
  },
  {
   "cell_type": "markdown",
   "metadata": {},
   "source": [
    "## Summary"
   ]
  },
  {
   "cell_type": "code",
   "execution_count": null,
   "metadata": {},
   "outputs": [],
   "source": []
  }
 ],
 "metadata": {
  "hide_input": false,
  "kernelspec": {
   "display_name": "Python (goose)",
   "language": "python",
   "name": "goose"
  },
  "language_info": {
   "codemirror_mode": {
    "name": "ipython",
    "version": 3
   },
   "file_extension": ".py",
   "mimetype": "text/x-python",
   "name": "python",
   "nbconvert_exporter": "python",
   "pygments_lexer": "ipython3",
   "version": "3.7.9"
  },
  "toc": {
   "base_numbering": 1,
   "nav_menu": {},
   "number_sections": false,
   "sideBar": true,
   "skip_h1_title": false,
   "title_cell": "Table of Contents",
   "title_sidebar": "Contents",
   "toc_cell": true,
   "toc_position": {},
   "toc_section_display": true,
   "toc_window_display": true
  }
 },
 "nbformat": 4,
 "nbformat_minor": 4
}
