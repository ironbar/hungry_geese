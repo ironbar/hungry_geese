{
 "cells": [
  {
   "cell_type": "markdown",
   "metadata": {
    "toc": true
   },
   "source": [
    "<h1>Table of Contents<span class=\"tocSkip\"></span></h1>\n",
    "<div class=\"toc\"><ul class=\"toc-item\"><li><span><a href=\"#Explore-other-reward-functions\" data-toc-modified-id=\"Explore-other-reward-functions-1\">Explore other reward functions</a></span><ul class=\"toc-item\"><li><span><a href=\"#Goal\" data-toc-modified-id=\"Goal-1.1\">Goal</a></span></li><li><span><a href=\"#Imports\" data-toc-modified-id=\"Imports-1.2\">Imports</a></span></li><li><span><a href=\"#Code\" data-toc-modified-id=\"Code-1.3\">Code</a></span><ul class=\"toc-item\"><li><span><a href=\"#Data-generation\" data-toc-modified-id=\"Data-generation-1.3.1\">Data generation</a></span></li><li><span><a href=\"#Evaluation\" data-toc-modified-id=\"Evaluation-1.3.2\">Evaluation</a></span></li></ul></li><li><span><a href=\"#risk_averse_goose\" data-toc-modified-id=\"risk_averse_goose-1.4\">risk_averse_goose</a></span><ul class=\"toc-item\"><li><span><a href=\"#Generation\" data-toc-modified-id=\"Generation-1.4.1\">Generation</a></span></li><li><span><a href=\"#reward_-4_4\" data-toc-modified-id=\"reward_-4_4-1.4.2\">reward_-4_4</a></span></li></ul></li><li><span><a href=\"#Verify-that-data-is-created-correctly\" data-toc-modified-id=\"Verify-that-data-is-created-correctly-1.5\">Verify that data is created correctly</a></span></li><li><span><a href=\"#Summary\" data-toc-modified-id=\"Summary-1.6\">Summary</a></span></li></ul></li></ul></div>"
   ]
  },
  {
   "cell_type": "markdown",
   "metadata": {},
   "source": [
    "# Explore other reward functions"
   ]
  },
  {
   "cell_type": "markdown",
   "metadata": {},
   "source": [
    "## Goal"
   ]
  },
  {
   "cell_type": "markdown",
   "metadata": {},
   "source": [
    "The goal of this notebooks is to continue learning about the Q value function, but trying other reward methods.\n",
    "\n",
    "This is a continuation of notebook 004, which had become too big. In this notebook I will split the functionality\n",
    "of playing games and generating data from training from those games."
   ]
  },
  {
   "cell_type": "markdown",
   "metadata": {},
   "source": [
    "## Imports"
   ]
  },
  {
   "cell_type": "code",
   "execution_count": 1,
   "metadata": {
    "ExecuteTime": {
     "end_time": "2021-03-20T11:31:36.984531Z",
     "start_time": "2021-03-20T11:31:36.963463Z"
    }
   },
   "outputs": [],
   "source": [
    "# Use this to reload changes in python scripts\n",
    "%load_ext autoreload\n",
    "%autoreload 2"
   ]
  },
  {
   "cell_type": "code",
   "execution_count": 2,
   "metadata": {
    "ExecuteTime": {
     "end_time": "2021-03-20T11:31:38.216675Z",
     "start_time": "2021-03-20T11:31:36.986644Z"
    }
   },
   "outputs": [
    {
     "name": "stdout",
     "output_type": "stream",
     "text": [
      "Loading environment football failed: No module named 'gfootball'\n"
     ]
    }
   ],
   "source": [
    "import os\n",
    "import sys\n",
    "import kaggle_environments\n",
    "from kaggle_environments import make\n",
    "from kaggle_environments import evaluate\n",
    "from kaggle_environments.envs.hungry_geese.hungry_geese import Action\n",
    "import numpy as np\n",
    "import matplotlib.pyplot as plt\n",
    "import matplotlib as mpl\n",
    "import random\n",
    "import pandas as pd\n",
    "from tqdm.notebook import tqdm\n",
    "import time\n",
    "from itertools import permutations\n",
    "from functools import partial\n",
    "import gc\n",
    "from concurrent.futures import ProcessPoolExecutor\n",
    "import json\n",
    "import logging\n",
    "\n",
    "os.environ['TF_FORCE_GPU_ALLOW_GROWTH'] = 'true'\n",
    "os.environ['CUDA_VISIBLE_DEVICES'] = ''\n",
    "#os.environ['CUDA_VISIBLE_DEVICES'] = '0'\n",
    "\n",
    "import tensorflow as tf\n",
    "import tensorflow.keras as keras\n",
    "\n",
    "from hungry_geese import GameState\n",
    "from hungry_geese.state import make_board_egocentric, get_head_position, combine_data, horizontal_simmetry, vertical_simmetry\n",
    "from hungry_geese.utils import ACTIONS, opposite_action, get_timestamp, log_ram_usage, configure_logging\n",
    "from hungry_geese.definitions import ACTION_TO_IDX\n",
    "from hungry_geese.agents import EpsilonAgent\n",
    "from hungry_geese.evaluation import play_matches_in_parallel, monitor_progress\n",
    "from hungry_geese.elo import EloRanking\n",
    "from hungry_geese.model import simple_model, create_model_for_training\n",
    "\n",
    "%config Completer.use_jedi = False"
   ]
  },
  {
   "cell_type": "code",
   "execution_count": 3,
   "metadata": {
    "ExecuteTime": {
     "end_time": "2021-03-20T11:31:38.249183Z",
     "start_time": "2021-03-20T11:31:38.219278Z"
    }
   },
   "outputs": [],
   "source": [
    "plt.plot()\n",
    "plt.close('all')\n",
    "plt.rcParams[\"figure.figsize\"] = (30, 5)  \n",
    "mpl.rcParams['lines.linewidth'] = 3\n",
    "mpl.rcParams['font.size'] = 16\n",
    "\n",
    "configure_logging(logging.INFO)\n",
    "logger = logging.getLogger(__name__)"
   ]
  },
  {
   "cell_type": "markdown",
   "metadata": {},
   "source": [
    "## Code"
   ]
  },
  {
   "cell_type": "markdown",
   "metadata": {
    "heading_collapsed": true
   },
   "source": [
    "### Data generation"
   ]
  },
  {
   "cell_type": "code",
   "execution_count": 4,
   "metadata": {
    "ExecuteTime": {
     "end_time": "2021-03-20T11:31:38.271853Z",
     "start_time": "2021-03-20T11:31:38.250512Z"
    },
    "hidden": true
   },
   "outputs": [],
   "source": [
    "def play_matches_in_parallel_and_save_history(agents, max_workers=20, n_matches=1000,\n",
    "                                              running_on_notebook=True):\n",
    "    \"\"\"\n",
    "    Plays n_matches in parallel using ProcessPoolExecutor\n",
    "\n",
    "    Parameters\n",
    "    -----------\n",
    "    agents : list\n",
    "        List of the agents that we will use for playing\n",
    "    \"\"\"\n",
    "    log_ram_usage()\n",
    "    output_path = get_games_output_path(agents, n_matches)\n",
    "    assert not os.path.exists(output_path), 'Output path already exists: %s' % output_path\n",
    "    with ProcessPoolExecutor(max_workers=max_workers) as pool:\n",
    "        matches_results = []\n",
    "        submits = []\n",
    "        for i in range(n_matches):\n",
    "            submits.append(pool.submit(play_game, agents=agents))\n",
    "        monitor_progress(submits, running_on_notebook)\n",
    "        matches_results = [submit.result() for submit in submits]\n",
    "    \n",
    "    log_ram_usage()\n",
    "    logger.info('saving matches to json: %s' % output_path)\n",
    "    os.makedirs(os.path.dirname(output_path), exist_ok=True)\n",
    "    with open(output_path, 'w') as f:\n",
    "        json.dump(matches_results, f)\n",
    "        \n",
    "    del submits\n",
    "    del matches_results\n",
    "    gc.collect()\n",
    "    log_ram_usage()\n",
    "\n",
    "def play_game(agents):\n",
    "    env = make(\"hungry_geese\")\n",
    "    return env.run(agents=agents)\n",
    "\n",
    "def get_games_output_path(agents, n_matches):\n",
    "    output_path = '/mnt/hdd0/Kaggle/hungry_geese/games/%s_vs_%s_matches_%i.json' % (\n",
    "        os.path.splitext(os.path.basename(agents[0]))[0], \n",
    "        os.path.splitext(os.path.basename(agents[1]))[0], \n",
    "        n_matches)\n",
    "    return output_path"
   ]
  },
  {
   "cell_type": "code",
   "execution_count": 5,
   "metadata": {
    "ExecuteTime": {
     "end_time": "2021-03-20T11:31:38.291077Z",
     "start_time": "2021-03-20T11:31:38.273039Z"
    },
    "hidden": true
   },
   "outputs": [],
   "source": [
    "def test_agent(agent):\n",
    "    print('Testing agent: %s' % agent)\n",
    "    env = make('hungry_geese', debug=True)\n",
    "    env.run([agent]*4)"
   ]
  },
  {
   "cell_type": "code",
   "execution_count": 6,
   "metadata": {
    "ExecuteTime": {
     "end_time": "2021-03-20T11:31:38.314662Z",
     "start_time": "2021-03-20T11:31:38.292308Z"
    },
    "hidden": true
   },
   "outputs": [],
   "source": [
    "def create_train_data(agents, n_matches, reward_name, agent_idx_range=None):\n",
    "    \"\"\"\n",
    "    Creates train data without any simmetry\n",
    "    \n",
    "    Parameters\n",
    "    ----------\n",
    "    agents : list of str\n",
    "        Names or paths of the agents\n",
    "    n_matches : int\n",
    "        Number of matches to play\n",
    "    reward_name : str\n",
    "        Name of the reward function that we want to use\n",
    "    max_workers : int\n",
    "    agent_idx_range : list of int\n",
    "        Idx of the agents we want to use for collecting data, if None all the agents\n",
    "        will be used\n",
    "    \"\"\"\n",
    "    output_path = get_games_output_path(agents, n_matches)\n",
    "    if not os.path.exists(output_path):\n",
    "        play_matches_in_parallel_and_save_history(agents, n_matches=n_matches)\n",
    "    else:\n",
    "        logger.info('Matches already saved in disk, proceed to loading')\n",
    "    with open(output_path, 'r') as f:\n",
    "        matches_results = json.load(f)\n",
    "    \n",
    "    log_ram_usage()\n",
    "    env = make(\"hungry_geese\")\n",
    "    conf = env.configuration\n",
    "\n",
    "    state = GameState(reward_name=reward_name)\n",
    "    train_data = []\n",
    "    agent_idx_range = agent_idx_range or list(range(4))\n",
    "    for _ in tqdm(range(len(matches_results)), desc='Creating game data'):\n",
    "        match = matches_results[0]\n",
    "        for idx in agent_idx_range:\n",
    "            state.reset()\n",
    "            for step_idx, step in enumerate(match):\n",
    "                observation = step[0]['observation'].copy()\n",
    "                observation['index'] = idx\n",
    "                state.update(observation, conf)\n",
    "                if step_idx:\n",
    "                    state.add_action(step[idx]['action'])\n",
    "                if not observation['geese'][idx]:\n",
    "                    break\n",
    "            train_data.append(state.prepare_data_for_training())\n",
    "        del matches_results[0]\n",
    "        \n",
    "    log_ram_usage()\n",
    "    train_data = combine_data(train_data)\n",
    "    logger.info('Size of the boards is %.1f GB' % (train_data[0].nbytes/1e9))\n",
    "    output_file = get_data_output_path(agents, n_matches, reward_name)\n",
    "    logger.info('Saving data on: %s' % output_file)\n",
    "    os.makedirs(os.path.dirname(output_file), exist_ok=True)\n",
    "    np.savez_compressed(output_file, boards=train_data[0], features=train_data[1], actions=train_data[2], rewards=train_data[3])\n",
    "    del state\n",
    "    del train_data\n",
    "    gc.collect()\n",
    "    log_ram_usage()\n",
    "    \n",
    "def get_data_output_path(agents, n_matches, reward_name):\n",
    "    output_file = '/mnt/hdd0/Kaggle/hungry_geese/data/%s/%s_vs_%s_matches_%i.npz' % (\n",
    "        reward_name,\n",
    "        os.path.splitext(os.path.basename(agents[0]))[0], \n",
    "        os.path.splitext(os.path.basename(agents[1]))[0], \n",
    "        n_matches)\n",
    "    return output_file"
   ]
  },
  {
   "cell_type": "markdown",
   "metadata": {
    "heading_collapsed": true
   },
   "source": [
    "### Evaluation"
   ]
  },
  {
   "cell_type": "code",
   "execution_count": 7,
   "metadata": {
    "ExecuteTime": {
     "end_time": "2021-03-20T11:31:38.342172Z",
     "start_time": "2021-03-20T11:31:38.316206Z"
    },
    "hidden": true
   },
   "outputs": [
    {
     "data": {
      "text/html": [
       "<div>\n",
       "<style scoped>\n",
       "    .dataframe tbody tr th:only-of-type {\n",
       "        vertical-align: middle;\n",
       "    }\n",
       "\n",
       "    .dataframe tbody tr th {\n",
       "        vertical-align: top;\n",
       "    }\n",
       "\n",
       "    .dataframe thead th {\n",
       "        text-align: right;\n",
       "    }\n",
       "</style>\n",
       "<table border=\"1\" class=\"dataframe\">\n",
       "  <thead>\n",
       "    <tr style=\"text-align: right;\">\n",
       "      <th></th>\n",
       "      <th>ranking</th>\n",
       "    </tr>\n",
       "    <tr>\n",
       "      <th>model</th>\n",
       "      <th></th>\n",
       "    </tr>\n",
       "  </thead>\n",
       "  <tbody>\n",
       "    <tr>\n",
       "      <th>boilergoose</th>\n",
       "      <td>1269</td>\n",
       "    </tr>\n",
       "    <tr>\n",
       "      <th>besthoarder</th>\n",
       "      <td>1227</td>\n",
       "    </tr>\n",
       "    <tr>\n",
       "      <th>crazy_goose</th>\n",
       "      <td>1186</td>\n",
       "    </tr>\n",
       "    <tr>\n",
       "      <th>risk_averse_goose</th>\n",
       "      <td>1176</td>\n",
       "    </tr>\n",
       "    <tr>\n",
       "      <th>goose_on_a_healthy_diet</th>\n",
       "      <td>1157</td>\n",
       "    </tr>\n",
       "    <tr>\n",
       "      <th>straightforward_bfs</th>\n",
       "      <td>1004</td>\n",
       "    </tr>\n",
       "    <tr>\n",
       "      <th>greedy</th>\n",
       "      <td>981</td>\n",
       "    </tr>\n",
       "    <tr>\n",
       "      <th>greedyhoarder</th>\n",
       "      <td>766</td>\n",
       "    </tr>\n",
       "    <tr>\n",
       "      <th>random_plus</th>\n",
       "      <td>706</td>\n",
       "    </tr>\n",
       "    <tr>\n",
       "      <th>random</th>\n",
       "      <td>523</td>\n",
       "    </tr>\n",
       "  </tbody>\n",
       "</table>\n",
       "</div>"
      ],
      "text/plain": [
       "                         ranking\n",
       "model                           \n",
       "boilergoose                 1269\n",
       "besthoarder                 1227\n",
       "crazy_goose                 1186\n",
       "risk_averse_goose           1176\n",
       "goose_on_a_healthy_diet     1157\n",
       "straightforward_bfs         1004\n",
       "greedy                       981\n",
       "greedyhoarder                766\n",
       "random_plus                  706\n",
       "random                       523"
      ]
     },
     "execution_count": 7,
     "metadata": {},
     "output_type": "execute_result"
    }
   ],
   "source": [
    "initial_elo_ranking = pd.read_csv('../data/elo_ranking.csv', index_col='model')\n",
    "initial_elo_ranking"
   ]
  },
  {
   "cell_type": "code",
   "execution_count": 8,
   "metadata": {
    "ExecuteTime": {
     "end_time": "2021-03-20T11:31:38.362077Z",
     "start_time": "2021-03-20T11:31:38.343802Z"
    },
    "hidden": true
   },
   "outputs": [],
   "source": [
    "agents = {\n",
    "    'random': 'random',\n",
    "    'random_plus': '../forum/agents/random_plus.py',\n",
    "    'greedy': 'greedy',\n",
    "    'risk_averse_goose': '../forum/agents/risk_averse_goose.py',\n",
    "    'goose_on_a_healthy_diet': '../forum/agents/goose_on_a_healthy_diet.py',\n",
    "    'straightforward_bfs': '../forum/agents/straightforward_bfs.py',\n",
    "    'boilergoose': '../forum/agents/boilergoose.py',\n",
    "    'crazy_goose': '../forum/agents/crazy_goose.py',\n",
    "    'besthoarder': '../forum/agents/besthoarder.py',\n",
    "    'greedyhoarder': '../forum/agents/greedyhoarder.py',\n",
    "    'q_value': '/mnt/hdd0/MEGA/AI/22 Kaggle/hungry_geese/forum/agents/random_plus.py',\n",
    "}"
   ]
  },
  {
   "cell_type": "code",
   "execution_count": 9,
   "metadata": {
    "ExecuteTime": {
     "end_time": "2021-03-20T11:31:38.408268Z",
     "start_time": "2021-03-20T11:31:38.364861Z"
    },
    "hidden": true
   },
   "outputs": [],
   "source": [
    "def evaluate_agent(new_agent, adversary_agents, n_matches, single_agent=True, max_workers=20, run_agent_test=False):\n",
    "    agent_name = list(new_agent.keys())[0]\n",
    "    # I have found that for certain agents if the test is run then evaluation is frozen\n",
    "    if run_agent_test: test_agent(new_agent[agent_name])\n",
    "    reduced_agents_set = new_agent.copy()\n",
    "    for adversary_agent in adversary_agents:\n",
    "        reduced_agents_set[adversary_agent] = agents[adversary_agent]\n",
    "    \n",
    "    if single_agent:\n",
    "        sample_agents_func = lambda: [agent_name] + np.random.choice(adversary_agents, 3).tolist()\n",
    "    else:\n",
    "        def sample_agents_func():\n",
    "            while 1:\n",
    "                sampled_agents = [agent_name] + np.random.choice(adversary_agents + [agent_name], 3).tolist()\n",
    "                if len(np.unique(sampled_agents)) >=2:\n",
    "                    break\n",
    "            return sampled_agents\n",
    "\n",
    "    matches_agents, matches_results = play_matches_in_parallel(reduced_agents_set, sample_agents_func, n_matches=n_matches, max_workers=max_workers)\n",
    "    return matches_agents, matches_results, reduced_agents_set\n",
    "    \n",
    "def compute_elo_ranking(matches_agents, matches_results, reduced_agents_set):\n",
    "    initial_agent_elo = 1000\n",
    "    for k in [32, 16, 8, 4, 2, 1]:\n",
    "        agent_name = [name for name in reduced_agents_set if name not in initial_elo_ranking][0]\n",
    "        initial_ranking = initial_elo_ranking.to_dict()['ranking']\n",
    "        initial_ranking[agent_name] = initial_agent_elo\n",
    "        initial_ranking = {key: initial_ranking[key] for key in reduced_agents_set}\n",
    "        elo_ranking = EloRanking(initial_ranking, {agent_name}, k=k)\n",
    "        for match_agents, match_results in zip(matches_agents, matches_results):\n",
    "            elo_ranking.add_match(match_agents, match_results)\n",
    "        initial_agent_elo = elo_ranking.summary().loc[agent_name, 'ranking']\n",
    "    elo_ranking.plot()\n",
    "    return elo_ranking.summary()"
   ]
  },
  {
   "cell_type": "markdown",
   "metadata": {},
   "source": [
    "## risk_averse_goose"
   ]
  },
  {
   "cell_type": "markdown",
   "metadata": {
    "heading_collapsed": true
   },
   "source": [
    "### Generation"
   ]
  },
  {
   "cell_type": "code",
   "execution_count": 19,
   "metadata": {
    "ExecuteTime": {
     "end_time": "2021-03-20T09:50:50.690704Z",
     "start_time": "2021-03-20T09:50:40.524477Z"
    },
    "deletable": false,
    "editable": false,
    "hidden": true,
    "run_control": {
     "frozen": true
    }
   },
   "outputs": [
    {
     "name": "stderr",
     "output_type": "stream",
     "text": [
      "2021-03-20 10:50:40,564 - hungry_geese.utils - INFO - ram_memory used: 0.41 GB\t available: 54.63 GB\n"
     ]
    },
    {
     "data": {
      "application/vnd.jupyter.widget-view+json": {
       "model_id": "bbdc3709f77a42ebae0fff08bb5ce2d0",
       "version_major": 2,
       "version_minor": 0
      },
      "text/plain": [
       "  0%|          | 0/100 [00:00<?, ?it/s]"
      ]
     },
     "metadata": {},
     "output_type": "display_data"
    },
    {
     "name": "stderr",
     "output_type": "stream",
     "text": [
      "2021-03-20 10:50:47,992 - hungry_geese.utils - INFO - ram_memory used: 0.51 GB\t available: 54.62 GB\n",
      "2021-03-20 10:50:47,993 - __main__ - INFO - saving matches to json\n",
      "2021-03-20 10:50:49,121 - hungry_geese.utils - INFO - ram_memory used: 0.42 GB\t available: 54.66 GB\n",
      "2021-03-20 10:50:49,445 - hungry_geese.utils - INFO - ram_memory used: 0.48 GB\t available: 54.60 GB\n"
     ]
    },
    {
     "data": {
      "application/vnd.jupyter.widget-view+json": {
       "model_id": "b41a3e94400d4208817fbc7a41aee6ce",
       "version_major": 2,
       "version_minor": 0
      },
      "text/plain": [
       "Creating game data:   0%|          | 0/100 [00:00<?, ?it/s]"
      ]
     },
     "metadata": {},
     "output_type": "display_data"
    },
    {
     "name": "stderr",
     "output_type": "stream",
     "text": [
      "2021-03-20 10:50:50,266 - hungry_geese.utils - INFO - ram_memory used: 0.44 GB\t available: 54.67 GB\n",
      "2021-03-20 10:50:50,287 - __main__ - INFO - Size of the boards is 0.1 GB\n",
      "2021-03-20 10:50:50,288 - __main__ - INFO - Saving data on: /mnt/hdd0/Kaggle/hungry_geese/data/ranking_reward_-4_4/epsilon_risk_averse_goose_002_vs_risk_averse_goose_matches_100.npz\n",
      "2021-03-20 10:50:50,687 - hungry_geese.utils - INFO - ram_memory used: 0.42 GB\t available: 54.67 GB\n"
     ]
    }
   ],
   "source": [
    "n_matches = 100\n",
    "agents = ['/mnt/hdd0/MEGA/AI/22 Kaggle/hungry_geese/forum/agents/epsilon_risk_averse_goose_002.py'] + \\\n",
    "    ['/mnt/hdd0/MEGA/AI/22 Kaggle/hungry_geese/forum/agents/risk_averse_goose.py']*3\n",
    "reward_name = 'ranking_reward_-4_4'\n",
    "create_train_data(agents=agents, n_matches=n_matches, reward_name=reward_name, agent_idx_range=[0])"
   ]
  },
  {
   "cell_type": "code",
   "execution_count": 29,
   "metadata": {
    "ExecuteTime": {
     "end_time": "2021-03-20T10:03:33.167636Z",
     "start_time": "2021-03-20T09:52:12.245499Z"
    },
    "deletable": false,
    "editable": false,
    "hidden": true,
    "run_control": {
     "frozen": true
    }
   },
   "outputs": [
    {
     "name": "stderr",
     "output_type": "stream",
     "text": [
      "2021-03-20 10:52:12,262 - hungry_geese.utils - INFO - ram_memory used: 0.42 GB\t available: 54.66 GB\n"
     ]
    },
    {
     "data": {
      "application/vnd.jupyter.widget-view+json": {
       "model_id": "eda53040fc344be5a5243a20fe2c5dea",
       "version_major": 2,
       "version_minor": 0
      },
      "text/plain": [
       "  0%|          | 0/8000 [00:00<?, ?it/s]"
      ]
     },
     "metadata": {},
     "output_type": "display_data"
    },
    {
     "name": "stderr",
     "output_type": "stream",
     "text": [
      "2021-03-20 11:00:17,852 - hungry_geese.utils - INFO - ram_memory used: 8.34 GB\t available: 46.54 GB\n",
      "2021-03-20 11:00:17,853 - __main__ - INFO - saving matches to json: /mnt/hdd0/Kaggle/hungry_geese/games/epsilon_risk_averse_goose_002_vs_risk_averse_goose_matches_8000.json\n",
      "2021-03-20 11:01:43,184 - hungry_geese.utils - INFO - ram_memory used: 0.43 GB\t available: 54.45 GB\n",
      "2021-03-20 11:02:07,252 - hungry_geese.utils - INFO - ram_memory used: 5.95 GB\t available: 48.92 GB\n"
     ]
    },
    {
     "data": {
      "application/vnd.jupyter.widget-view+json": {
       "model_id": "6333ad60f5d8493ba19ee901d4686d0d",
       "version_major": 2,
       "version_minor": 0
      },
      "text/plain": [
       "Creating game data:   0%|          | 0/8000 [00:00<?, ?it/s]"
      ]
     },
     "metadata": {},
     "output_type": "display_data"
    },
    {
     "name": "stderr",
     "output_type": "stream",
     "text": [
      "2021-03-20 11:03:07,641 - hungry_geese.utils - INFO - ram_memory used: 6.20 GB\t available: 48.66 GB\n",
      "2021-03-20 11:03:08,638 - __main__ - INFO - Size of the boards is 4.3 GB\n",
      "2021-03-20 11:03:08,639 - __main__ - INFO - Saving data on: /mnt/hdd0/Kaggle/hungry_geese/data/ranking_reward_-4_4/epsilon_risk_averse_goose_002_vs_risk_averse_goose_matches_8000.npz\n",
      "2021-03-20 11:03:33,164 - hungry_geese.utils - INFO - ram_memory used: 4.68 GB\t available: 50.20 GB\n"
     ]
    }
   ],
   "source": [
    "n_matches = 8000\n",
    "agents = ['/mnt/hdd0/MEGA/AI/22 Kaggle/hungry_geese/forum/agents/epsilon_risk_averse_goose_002.py'] + \\\n",
    "    ['/mnt/hdd0/MEGA/AI/22 Kaggle/hungry_geese/forum/agents/risk_averse_goose.py']*3\n",
    "reward_name = 'ranking_reward_-4_4'\n",
    "create_train_data(agents=agents, n_matches=n_matches, reward_name=reward_name, agent_idx_range=[0])"
   ]
  },
  {
   "cell_type": "code",
   "execution_count": 10,
   "metadata": {
    "ExecuteTime": {
     "end_time": "2021-03-20T11:00:27.402668Z",
     "start_time": "2021-03-20T10:04:07.717346Z"
    },
    "deletable": false,
    "editable": false,
    "hidden": true,
    "run_control": {
     "frozen": true
    }
   },
   "outputs": [
    {
     "name": "stderr",
     "output_type": "stream",
     "text": [
      "2021-03-20 11:04:07,736 - hungry_geese.utils - INFO - ram_memory used: 0.34 GB\t available: 55.21 GB\n"
     ]
    },
    {
     "data": {
      "application/vnd.jupyter.widget-view+json": {
       "model_id": "ecf0d63c807a450fbad42bf6116e5887",
       "version_major": 2,
       "version_minor": 0
      },
      "text/plain": [
       "  0%|          | 0/40000 [00:00<?, ?it/s]"
      ]
     },
     "metadata": {},
     "output_type": "display_data"
    },
    {
     "name": "stderr",
     "output_type": "stream",
     "text": [
      "2021-03-20 11:43:58,110 - hungry_geese.utils - INFO - ram_memory used: 39.86 GB\t available: 16.12 GB\n",
      "2021-03-20 11:43:58,111 - __main__ - INFO - saving matches to json: /mnt/hdd0/Kaggle/hungry_geese/games/epsilon_risk_averse_goose_002_vs_risk_averse_goose_matches_40000.json\n",
      "2021-03-20 11:50:57,720 - hungry_geese.utils - INFO - ram_memory used: 0.45 GB\t available: 55.24 GB\n",
      "2021-03-20 11:52:53,453 - hungry_geese.utils - INFO - ram_memory used: 27.99 GB\t available: 27.65 GB\n"
     ]
    },
    {
     "data": {
      "application/vnd.jupyter.widget-view+json": {
       "model_id": "b4c62cbcda814d7c966bba0b1a916233",
       "version_major": 2,
       "version_minor": 0
      },
      "text/plain": [
       "Creating game data:   0%|          | 0/40000 [00:00<?, ?it/s]"
      ]
     },
     "metadata": {},
     "output_type": "display_data"
    },
    {
     "name": "stderr",
     "output_type": "stream",
     "text": [
      "2021-03-20 11:58:12,524 - hungry_geese.utils - INFO - ram_memory used: 29.63 GB\t available: 25.96 GB\n",
      "2021-03-20 11:58:24,163 - __main__ - INFO - Size of the boards is 21.4 GB\n",
      "2021-03-20 11:58:24,164 - __main__ - INFO - Saving data on: /mnt/hdd0/Kaggle/hungry_geese/data/ranking_reward_-4_4/epsilon_risk_averse_goose_002_vs_risk_averse_goose_matches_40000.npz\n",
      "2021-03-20 12:00:27,399 - hungry_geese.utils - INFO - ram_memory used: 22.03 GB\t available: 33.75 GB\n"
     ]
    }
   ],
   "source": [
    "n_matches = 40000\n",
    "agents = ['/mnt/hdd0/MEGA/AI/22 Kaggle/hungry_geese/forum/agents/epsilon_risk_averse_goose_002.py'] + \\\n",
    "    ['/mnt/hdd0/MEGA/AI/22 Kaggle/hungry_geese/forum/agents/risk_averse_goose.py']*3\n",
    "reward_name = 'ranking_reward_-4_4'\n",
    "create_train_data(agents=agents, n_matches=n_matches, reward_name=reward_name, agent_idx_range=[0])"
   ]
  },
  {
   "cell_type": "markdown",
   "metadata": {},
   "source": [
    "### reward_-4_4 "
   ]
  },
  {
   "cell_type": "code",
   "execution_count": 10,
   "metadata": {
    "ExecuteTime": {
     "end_time": "2021-03-20T11:32:03.185153Z",
     "start_time": "2021-03-20T11:31:38.409482Z"
    },
    "deletable": false,
    "editable": false,
    "run_control": {
     "frozen": true
    }
   },
   "outputs": [
    {
     "data": {
      "application/vnd.jupyter.widget-view+json": {
       "model_id": "ba1481e92b814fdeb60c2b57b1fdf11c",
       "version_major": 2,
       "version_minor": 0
      },
      "text/plain": [
       "  0%|          | 0/500 [00:00<?, ?it/s]"
      ]
     },
     "metadata": {},
     "output_type": "display_data"
    },
    {
     "data": {
      "text/html": [
       "<div>\n",
       "<style scoped>\n",
       "    .dataframe tbody tr th:only-of-type {\n",
       "        vertical-align: middle;\n",
       "    }\n",
       "\n",
       "    .dataframe tbody tr th {\n",
       "        vertical-align: top;\n",
       "    }\n",
       "\n",
       "    .dataframe thead th {\n",
       "        text-align: right;\n",
       "    }\n",
       "</style>\n",
       "<table border=\"1\" class=\"dataframe\">\n",
       "  <thead>\n",
       "    <tr style=\"text-align: right;\">\n",
       "      <th></th>\n",
       "      <th>ranking</th>\n",
       "    </tr>\n",
       "  </thead>\n",
       "  <tbody>\n",
       "    <tr>\n",
       "      <th>crazy_goose</th>\n",
       "      <td>1186</td>\n",
       "    </tr>\n",
       "    <tr>\n",
       "      <th>risk_averse_goose</th>\n",
       "      <td>1176</td>\n",
       "    </tr>\n",
       "    <tr>\n",
       "      <th>goose_on_a_healthy_diet</th>\n",
       "      <td>1157</td>\n",
       "    </tr>\n",
       "    <tr>\n",
       "      <th>straightforward_bfs</th>\n",
       "      <td>1004</td>\n",
       "    </tr>\n",
       "    <tr>\n",
       "      <th>q_value_pretrained</th>\n",
       "      <td>990</td>\n",
       "    </tr>\n",
       "    <tr>\n",
       "      <th>greedy</th>\n",
       "      <td>981</td>\n",
       "    </tr>\n",
       "    <tr>\n",
       "      <th>random_plus</th>\n",
       "      <td>706</td>\n",
       "    </tr>\n",
       "  </tbody>\n",
       "</table>\n",
       "</div>"
      ],
      "text/plain": [
       "                         ranking\n",
       "crazy_goose                 1186\n",
       "risk_averse_goose           1176\n",
       "goose_on_a_healthy_diet     1157\n",
       "straightforward_bfs         1004\n",
       "q_value_pretrained           990\n",
       "greedy                       981\n",
       "random_plus                  706"
      ]
     },
     "execution_count": 10,
     "metadata": {},
     "output_type": "execute_result"
    },
    {
     "data": {
      "image/png": "[encoded data removed]",
      "text/plain": [
       "<Figure size 2160x360 with 1 Axes>"
      ]
     },
     "metadata": {
      "needs_background": "light"
     },
     "output_type": "display_data"
    }
   ],
   "source": [
    "ret = evaluate_agent(\n",
    "    {'q_value_pretrained': '/mnt/hdd0/Kaggle/hungry_geese/models/19_risk_averse_goose/01_epsilon002_reward_-4_4_x16/q_value_agent.py'},\n",
    "    ['random_plus', 'greedy', 'straightforward_bfs', 'goose_on_a_healthy_diet', 'risk_averse_goose', 'crazy_goose'],\n",
    "    n_matches=500, single_agent=False, max_workers=20)\n",
    "compute_elo_ranking(*ret)"
   ]
  },
  {
   "cell_type": "markdown",
   "metadata": {},
   "source": [
    "Clearly a bad result."
   ]
  },
  {
   "cell_type": "code",
   "execution_count": null,
   "metadata": {},
   "outputs": [],
   "source": [
    "ret = evaluate_agent(\n",
    "    {'q_value_pretrained': '/mnt/hdd0/Kaggle/hungry_geese/models/19_risk_averse_goose/02_epsilon002_reward_-4_4_x128/q_value_agent.py'},\n",
    "    ['random_plus', 'greedy', 'straightforward_bfs', 'goose_on_a_healthy_diet', 'risk_averse_goose', 'crazy_goose'],\n",
    "    n_matches=500, single_agent=False, max_workers=20)\n",
    "compute_elo_ranking(*ret)"
   ]
  },
  {
   "cell_type": "markdown",
   "metadata": {
    "heading_collapsed": true
   },
   "source": [
    "## Verify that data is created correctly"
   ]
  },
  {
   "cell_type": "code",
   "execution_count": 10,
   "metadata": {
    "ExecuteTime": {
     "end_time": "2021-03-20T11:04:48.413745Z",
     "start_time": "2021-03-20T11:04:47.831906Z"
    },
    "deletable": false,
    "editable": false,
    "hidden": true,
    "run_control": {
     "frozen": true
    }
   },
   "outputs": [],
   "source": [
    "game_path = '/mnt/hdd0/Kaggle/hungry_geese/games/epsilon_risk_averse_goose_002_vs_risk_averse_goose_matches_100.json'\n",
    "with open(game_path, 'r') as f:\n",
    "    matches_results = json.load(f)"
   ]
  },
  {
   "cell_type": "code",
   "execution_count": 11,
   "metadata": {
    "ExecuteTime": {
     "end_time": "2021-03-20T11:32:03.208103Z",
     "start_time": "2021-03-20T11:32:03.186371Z"
    },
    "hidden": true
   },
   "outputs": [],
   "source": [
    "def get_game_state(match, agent_idx):\n",
    "    env = make(\"hungry_geese\")\n",
    "    conf = env.configuration\n",
    "\n",
    "    state = GameState(egocentric_board=False)\n",
    "    for step_idx, step in enumerate(match):\n",
    "        observation = step[0]['observation'].copy()\n",
    "        observation['index'] = agent_idx\n",
    "        state.update(observation, conf)\n",
    "        if step_idx:\n",
    "            state.add_action(step[agent_idx]['action'])\n",
    "        if not observation['geese'][agent_idx]:\n",
    "            break\n",
    "    return state"
   ]
  },
  {
   "cell_type": "code",
   "execution_count": 12,
   "metadata": {
    "ExecuteTime": {
     "end_time": "2021-03-20T11:32:03.248402Z",
     "start_time": "2021-03-20T11:32:03.210961Z"
    },
    "hidden": true
   },
   "outputs": [],
   "source": [
    "def show_movement_sequence(state, start_idx, end_idx):\n",
    "    for step_idx in range(start_idx, end_idx):\n",
    "        render = state.render_board(state.boards[step_idx])\n",
    "        plt.subplot(1, end_idx - start_idx, step_idx - start_idx +1)\n",
    "        plt.imshow(render)\n",
    "        plt.title(state.actions[step_idx])\n",
    "        plt.grid(which='both'); plt.yticks(np.arange(-0.5, 6.5),[]);  plt.xticks(np.arange(-0.5, 10.5),[])"
   ]
  },
  {
   "cell_type": "code",
   "execution_count": null,
   "metadata": {
    "deletable": false,
    "editable": false,
    "hidden": true,
    "run_control": {
     "frozen": true
    }
   },
   "outputs": [],
   "source": [
    "state = get_game_state(matches_results[0], agent_idx=0)"
   ]
  },
  {
   "cell_type": "code",
   "execution_count": 23,
   "metadata": {
    "ExecuteTime": {
     "end_time": "2021-03-20T11:14:25.106932Z",
     "start_time": "2021-03-20T11:14:24.569415Z"
    },
    "deletable": false,
    "editable": false,
    "hidden": true,
    "run_control": {
     "frozen": true
    }
   },
   "outputs": [
    {
     "data": {
      "image/png": "[encoded data removed]",
      "text/plain": [
       "<Figure size 2160x360 with 5 Axes>"
      ]
     },
     "metadata": {
      "needs_background": "light"
     },
     "output_type": "display_data"
    }
   ],
   "source": [
    "show_movement_sequence(state, start_idx=0, end_idx=5)"
   ]
  },
  {
   "cell_type": "code",
   "execution_count": 27,
   "metadata": {
    "ExecuteTime": {
     "end_time": "2021-03-20T11:15:51.938510Z",
     "start_time": "2021-03-20T11:15:51.585136Z"
    },
    "deletable": false,
    "editable": false,
    "hidden": true,
    "run_control": {
     "frozen": true
    }
   },
   "outputs": [
    {
     "data": {
      "image/png": "[encoded data removed]",
      "text/plain": [
       "<Figure size 2160x360 with 5 Axes>"
      ]
     },
     "metadata": {
      "needs_background": "light"
     },
     "output_type": "display_data"
    }
   ],
   "source": [
    "show_movement_sequence(state, start_idx=109, end_idx=114)"
   ]
  },
  {
   "cell_type": "markdown",
   "metadata": {
    "hidden": true
   },
   "source": [
    "Seems to be working perfectly."
   ]
  },
  {
   "cell_type": "code",
   "execution_count": 29,
   "metadata": {
    "ExecuteTime": {
     "end_time": "2021-03-20T11:17:50.781971Z",
     "start_time": "2021-03-20T11:17:50.429577Z"
    },
    "deletable": false,
    "editable": false,
    "hidden": true,
    "hide_input": true,
    "run_control": {
     "frozen": true
    }
   },
   "outputs": [
    {
     "data": {
      "image/png": "[encoded data removed]",
      "text/plain": [
       "<Figure size 2160x360 with 5 Axes>"
      ]
     },
     "metadata": {
      "needs_background": "light"
     },
     "output_type": "display_data"
    }
   ],
   "source": [
    "state = get_game_state(matches_results[1], agent_idx=0)\n",
    "show_movement_sequence(state, start_idx=(len(state.actions)-5), end_idx=len(state.actions))"
   ]
  },
  {
   "cell_type": "code",
   "execution_count": 30,
   "metadata": {
    "ExecuteTime": {
     "end_time": "2021-03-20T11:18:32.248155Z",
     "start_time": "2021-03-20T11:18:31.856374Z"
    },
    "deletable": false,
    "editable": false,
    "hidden": true,
    "hide_input": true,
    "run_control": {
     "frozen": true
    }
   },
   "outputs": [
    {
     "data": {
      "image/png": "[encoded data removed]",
      "text/plain": [
       "<Figure size 2160x360 with 5 Axes>"
      ]
     },
     "metadata": {
      "needs_background": "light"
     },
     "output_type": "display_data"
    }
   ],
   "source": [
    "state = get_game_state(matches_results[2], agent_idx=0)\n",
    "show_movement_sequence(state, start_idx=(len(state.actions)-5), end_idx=len(state.actions))"
   ]
  },
  {
   "cell_type": "code",
   "execution_count": 31,
   "metadata": {
    "ExecuteTime": {
     "end_time": "2021-03-20T11:18:52.644323Z",
     "start_time": "2021-03-20T11:18:52.271421Z"
    },
    "deletable": false,
    "editable": false,
    "hidden": true,
    "hide_input": true,
    "run_control": {
     "frozen": true
    }
   },
   "outputs": [
    {
     "data": {
      "image/png": "[encoded data removed]",
      "text/plain": [
       "<Figure size 2160x360 with 5 Axes>"
      ]
     },
     "metadata": {
      "needs_background": "light"
     },
     "output_type": "display_data"
    }
   ],
   "source": [
    "state = get_game_state(matches_results[3], agent_idx=0)\n",
    "show_movement_sequence(state, start_idx=(len(state.actions)-5), end_idx=len(state.actions))"
   ]
  },
  {
   "cell_type": "code",
   "execution_count": 32,
   "metadata": {
    "ExecuteTime": {
     "end_time": "2021-03-20T11:19:06.335805Z",
     "start_time": "2021-03-20T11:19:05.972243Z"
    },
    "deletable": false,
    "editable": false,
    "hidden": true,
    "hide_input": true,
    "run_control": {
     "frozen": true
    }
   },
   "outputs": [
    {
     "data": {
      "image/png": "[encoded data removed]",
      "text/plain": [
       "<Figure size 2160x360 with 5 Axes>"
      ]
     },
     "metadata": {
      "needs_background": "light"
     },
     "output_type": "display_data"
    }
   ],
   "source": [
    "state = get_game_state(matches_results[4], agent_idx=0)\n",
    "show_movement_sequence(state, start_idx=(len(state.actions)-5), end_idx=len(state.actions))"
   ]
  },
  {
   "cell_type": "code",
   "execution_count": 33,
   "metadata": {
    "ExecuteTime": {
     "end_time": "2021-03-20T11:19:34.026326Z",
     "start_time": "2021-03-20T11:19:33.404037Z"
    },
    "deletable": false,
    "editable": false,
    "hidden": true,
    "hide_input": true,
    "run_control": {
     "frozen": true
    }
   },
   "outputs": [
    {
     "data": {
      "image/png": "[encoded data removed]",
      "text/plain": [
       "<Figure size 2160x360 with 5 Axes>"
      ]
     },
     "metadata": {
      "needs_background": "light"
     },
     "output_type": "display_data"
    }
   ],
   "source": [
    "state = get_game_state(matches_results[5], agent_idx=0)\n",
    "show_movement_sequence(state, start_idx=(len(state.actions)-5), end_idx=len(state.actions))"
   ]
  },
  {
   "cell_type": "markdown",
   "metadata": {
    "hidden": true
   },
   "source": [
    "There does not seem to be any error with the data and the actions."
   ]
  },
  {
   "cell_type": "markdown",
   "metadata": {},
   "source": [
    "## Summary"
   ]
  },
  {
   "cell_type": "code",
   "execution_count": null,
   "metadata": {},
   "outputs": [],
   "source": []
  }
 ],
 "metadata": {
  "hide_input": false,
  "kernelspec": {
   "display_name": "Python (goose)",
   "language": "python",
   "name": "goose"
  },
  "language_info": {
   "codemirror_mode": {
    "name": "ipython",
    "version": 3
   },
   "file_extension": ".py",
   "mimetype": "text/x-python",
   "name": "python",
   "nbconvert_exporter": "python",
   "pygments_lexer": "ipython3",
   "version": "3.7.9"
  },
  "toc": {
   "base_numbering": 1,
   "nav_menu": {},
   "number_sections": false,
   "sideBar": true,
   "skip_h1_title": false,
   "title_cell": "Table of Contents",
   "title_sidebar": "Contents",
   "toc_cell": true,
   "toc_position": {},
   "toc_section_display": true,
   "toc_window_display": false
  }
 },
 "nbformat": 4,
 "nbformat_minor": 4
}
