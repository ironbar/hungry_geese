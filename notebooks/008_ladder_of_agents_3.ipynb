{
 "cells": [
  {
   "cell_type": "markdown",
   "metadata": {
    "toc": true
   },
   "source": [
    "<h1>Table of Contents<span class=\"tocSkip\"></span></h1>\n",
    "<div class=\"toc\"><ul class=\"toc-item\"><li><span><a href=\"#Explore-other-reward-functions\" data-toc-modified-id=\"Explore-other-reward-functions-1\">Explore other reward functions</a></span><ul class=\"toc-item\"><li><span><a href=\"#Goal\" data-toc-modified-id=\"Goal-1.1\">Goal</a></span></li><li><span><a href=\"#Imports\" data-toc-modified-id=\"Imports-1.2\">Imports</a></span></li><li><span><a href=\"#Code\" data-toc-modified-id=\"Code-1.3\">Code</a></span><ul class=\"toc-item\"><li><span><a href=\"#Data-generation\" data-toc-modified-id=\"Data-generation-1.3.1\">Data generation</a></span></li><li><span><a href=\"#Evaluation\" data-toc-modified-id=\"Evaluation-1.3.2\">Evaluation</a></span></li><li><span><a href=\"#Visualization\" data-toc-modified-id=\"Visualization-1.3.3\">Visualization</a></span></li></ul></li><li><span><a href=\"#Visualizing-games\" data-toc-modified-id=\"Visualizing-games-1.4\">Visualizing games</a></span><ul class=\"toc-item\"><li><span><a href=\"#07_x64_discount_factor_1\" data-toc-modified-id=\"07_x64_discount_factor_1-1.4.1\">07_x64_discount_factor_1</a></span></li></ul></li><li><span><a href=\"#Populating-the-agent-pool\" data-toc-modified-id=\"Populating-the-agent-pool-1.5\">Populating the agent pool</a></span><ul class=\"toc-item\"><li><span><a href=\"#Adding-new-agents\" data-toc-modified-id=\"Adding-new-agents-1.5.1\">Adding new agents</a></span></li><li><span><a href=\"#Does-having-more-good-agents-stabilize-scores?\" data-toc-modified-id=\"Does-having-more-good-agents-stabilize-scores?-1.5.2\">Does having more good agents stabilize scores?</a></span></li></ul></li><li><span><a href=\"#Multi-agents-~-Ensembles\" data-toc-modified-id=\"Multi-agents-~-Ensembles-1.6\">Multi agents ~ Ensembles</a></span><ul class=\"toc-item\"><li><span><a href=\"#Data-augmentation\" data-toc-modified-id=\"Data-augmentation-1.6.1\">Data augmentation</a></span></li></ul></li><li><span><a href=\"#Useful-snippets\" data-toc-modified-id=\"Useful-snippets-1.7\">Useful snippets</a></span></li><li><span><a href=\"#Summary\" data-toc-modified-id=\"Summary-1.8\">Summary</a></span></li></ul></li></ul></div>"
   ]
  },
  {
   "cell_type": "markdown",
   "metadata": {},
   "source": [
    "# Explore other reward functions"
   ]
  },
  {
   "cell_type": "markdown",
   "metadata": {},
   "source": [
    "## Goal"
   ]
  },
  {
   "cell_type": "markdown",
   "metadata": {},
   "source": [
    "The goal of this notebooks is to continue learning about the Q value function, but trying other reward methods.\n",
    "\n",
    "This is a continuation of notebook 004, which had become too big. In this notebook I will split the functionality\n",
    "of playing games and generating data from training from those games."
   ]
  },
  {
   "cell_type": "markdown",
   "metadata": {
    "heading_collapsed": true
   },
   "source": [
    "## Imports"
   ]
  },
  {
   "cell_type": "code",
   "execution_count": 1,
   "metadata": {
    "ExecuteTime": {
     "end_time": "2021-04-22T17:43:11.518451Z",
     "start_time": "2021-04-22T17:43:11.504066Z"
    },
    "hidden": true
   },
   "outputs": [],
   "source": [
    "# Use this to reload changes in python scripts\n",
    "%load_ext autoreload\n",
    "%autoreload 2"
   ]
  },
  {
   "cell_type": "code",
   "execution_count": 2,
   "metadata": {
    "ExecuteTime": {
     "end_time": "2021-04-22T17:43:14.301952Z",
     "start_time": "2021-04-22T17:43:11.521360Z"
    },
    "hidden": true
   },
   "outputs": [
    {
     "name": "stdout",
     "output_type": "stream",
     "text": [
      "Loading environment football failed: No module named 'gfootball'\n"
     ]
    }
   ],
   "source": [
    "import os\n",
    "import sys\n",
    "import kaggle_environments\n",
    "from kaggle_environments import make\n",
    "from kaggle_environments import evaluate\n",
    "from kaggle_environments.envs.hungry_geese.hungry_geese import Action\n",
    "import numpy as np\n",
    "import matplotlib.pyplot as plt\n",
    "import matplotlib as mpl\n",
    "import random\n",
    "import pandas as pd\n",
    "from tqdm.notebook import tqdm\n",
    "import time\n",
    "from itertools import permutations\n",
    "from functools import partial\n",
    "import gc\n",
    "from concurrent.futures import ProcessPoolExecutor\n",
    "import json\n",
    "import logging\n",
    "import glob\n",
    "from IPython.display import clear_output\n",
    "import tempfile\n",
    "import yaml\n",
    "import seaborn as sns\n",
    "\n",
    "os.environ['TF_FORCE_GPU_ALLOW_GROWTH'] = 'true'\n",
    "os.environ['CUDA_VISIBLE_DEVICES'] = ''\n",
    "#os.environ['CUDA_VISIBLE_DEVICES'] = '0'\n",
    "\n",
    "import tensorflow as tf\n",
    "import tensorflow.keras as keras\n",
    "\n",
    "from hungry_geese import GameState\n",
    "from hungry_geese.state import make_board_egocentric, get_head_position, combine_data, horizontal_simmetry, vertical_simmetry\n",
    "from hungry_geese.utils import ACTIONS, opposite_action, get_timestamp, log_ram_usage, configure_logging\n",
    "from hungry_geese.definitions import ACTION_TO_IDX\n",
    "from hungry_geese.agents import EpsilonAgent, QValueAgent, SoftmaxAgent, QValueSafeAgent\n",
    "from hungry_geese.evaluation import play_matches_in_parallel, monitor_progress\n",
    "from hungry_geese.elo import EloRanking\n",
    "from hungry_geese.model import simple_model, create_model_for_training\n",
    "\n",
    "%config Completer.use_jedi = False"
   ]
  },
  {
   "cell_type": "code",
   "execution_count": 3,
   "metadata": {
    "ExecuteTime": {
     "end_time": "2021-04-22T17:43:14.442744Z",
     "start_time": "2021-04-22T17:43:14.328937Z"
    },
    "hidden": true
   },
   "outputs": [],
   "source": [
    "plt.plot()\n",
    "plt.close('all')\n",
    "plt.rcParams[\"figure.figsize\"] = (30, 5)  \n",
    "mpl.rcParams['lines.linewidth'] = 3\n",
    "mpl.rcParams['font.size'] = 16\n",
    "\n",
    "configure_logging(logging.INFO)\n",
    "logger = logging.getLogger(__name__)"
   ]
  },
  {
   "cell_type": "markdown",
   "metadata": {
    "heading_collapsed": true
   },
   "source": [
    "## Code"
   ]
  },
  {
   "cell_type": "markdown",
   "metadata": {
    "heading_collapsed": true,
    "hidden": true
   },
   "source": [
    "### Data generation"
   ]
  },
  {
   "cell_type": "code",
   "execution_count": 4,
   "metadata": {
    "ExecuteTime": {
     "end_time": "2021-04-22T17:43:14.507098Z",
     "start_time": "2021-04-22T17:43:14.459682Z"
    },
    "hidden": true
   },
   "outputs": [],
   "source": [
    "def play_matches_in_parallel_and_save_history(agents, max_workers=20, n_matches=1000,\n",
    "                                              output_path=None,\n",
    "                                              running_on_notebook=True):\n",
    "    \"\"\"\n",
    "    Plays n_matches in parallel using ProcessPoolExecutor\n",
    "\n",
    "    Parameters\n",
    "    -----------\n",
    "    agents : list\n",
    "        List of the agents that we will use for playing\n",
    "    \"\"\"\n",
    "    log_ram_usage()\n",
    "    output_path = output_path or get_games_output_path(agents, n_matches)\n",
    "    assert not os.path.exists(output_path), 'Output path already exists: %s' % output_path\n",
    "    with ProcessPoolExecutor(max_workers=max_workers) as pool:\n",
    "        matches_results = []\n",
    "        submits = []\n",
    "        for i in range(n_matches):\n",
    "            if isinstance(agents, list):\n",
    "                submits.append(pool.submit(play_game, agents=agents))\n",
    "            elif callable(agents):\n",
    "                submits.append(pool.submit(play_game, agents=agents()))\n",
    "            else:\n",
    "                raise TypeError(type(agents))\n",
    "        monitor_progress(submits, running_on_notebook)\n",
    "        matches_results = [submit.result() for submit in submits]\n",
    "    \n",
    "    log_ram_usage()\n",
    "    logger.info('saving matches to json: %s' % output_path)\n",
    "    os.makedirs(os.path.dirname(output_path), exist_ok=True)\n",
    "    with open(output_path, 'w') as f:\n",
    "        json.dump(matches_results, f)\n",
    "        \n",
    "    del submits\n",
    "    del matches_results\n",
    "    gc.collect()\n",
    "    log_ram_usage()\n",
    "\n",
    "def play_game(agents):\n",
    "    env = make(\"hungry_geese\")\n",
    "    return env.run(agents=agents)\n",
    "\n",
    "def get_games_output_path(agents, n_matches):\n",
    "    output_path = '/mnt/hdd0/Kaggle/hungry_geese/games/%s_vs_%s_matches_%i.json' % (\n",
    "        os.path.splitext(os.path.basename(agents[0]))[0], \n",
    "        os.path.splitext(os.path.basename(agents[1]))[0], \n",
    "        n_matches)\n",
    "    return output_path"
   ]
  },
  {
   "cell_type": "code",
   "execution_count": 5,
   "metadata": {
    "ExecuteTime": {
     "end_time": "2021-04-22T17:43:14.593776Z",
     "start_time": "2021-04-22T17:43:14.530703Z"
    },
    "hidden": true
   },
   "outputs": [],
   "source": [
    "def test_agent(agent):\n",
    "    print('Testing agent: %s' % agent)\n",
    "    env = make('hungry_geese', debug=True)\n",
    "    env.run([agent]*4)"
   ]
  },
  {
   "cell_type": "code",
   "execution_count": 6,
   "metadata": {
    "ExecuteTime": {
     "end_time": "2021-04-22T17:43:14.671178Z",
     "start_time": "2021-04-22T17:43:14.609949Z"
    },
    "hidden": true
   },
   "outputs": [],
   "source": [
    "def create_train_data_from_saved_matches(saved_games_paths, reward_name, output_path, agent_idx_range=None):\n",
    "    \"\"\"\n",
    "    Creates train data without any simmetry\n",
    "    \n",
    "    Parameters\n",
    "    ----------\n",
    "    saved_games_paths : list of str\n",
    "        Path to the games that we want to use\n",
    "    reward_name : str\n",
    "        Name of the reward function that we want to use\n",
    "    output_path : str\n",
    "        Path to the file were we are going to save the results\n",
    "    max_workers : int\n",
    "    agent_idx_range : list of int\n",
    "        Idx of the agents we want to use for collecting data, if None all the agents\n",
    "        will be used\n",
    "    \"\"\"\n",
    "    env = make(\"hungry_geese\")\n",
    "    conf = env.configuration\n",
    "\n",
    "    state = GameState(reward_name=reward_name)\n",
    "    train_data = []\n",
    "    agent_idx_range = agent_idx_range or list(range(4))\n",
    "    \n",
    "    for saved_games_path in tqdm(saved_games_paths, desc='looping over saved games'):\n",
    "        log_ram_usage()\n",
    "        with open(saved_games_path, 'r') as f:\n",
    "            matches_results = json.load(f)\n",
    "        log_ram_usage()\n",
    "    \n",
    "        for _ in tqdm(range(len(matches_results)), desc='Creating game data'):\n",
    "            match = matches_results[0]\n",
    "            for idx in agent_idx_range:\n",
    "                state.reset()\n",
    "                for step_idx, step in enumerate(match):\n",
    "                    observation = step[0]['observation'].copy()\n",
    "                    observation['index'] = idx\n",
    "                    state.update(observation, conf)\n",
    "                    if step_idx:\n",
    "                        state.add_action(step[idx]['action'])\n",
    "                    if not observation['geese'][idx]:\n",
    "                        break\n",
    "                train_data.append(state.prepare_data_for_training())\n",
    "            del matches_results[0]\n",
    "        \n",
    "    log_ram_usage()\n",
    "    logger.info('Going to combine the data')\n",
    "    train_data = combine_data(train_data)\n",
    "    log_ram_usage()\n",
    "    logger.info('Size of the boards is %.1f GB (%s [%.1f GB])' % (\n",
    "        train_data[0].nbytes/1e9,\n",
    "        str([round(data.nbytes/1e9, 1) for data in train_data]),\n",
    "        np.sum([data.nbytes/1e9 for data in train_data])))\n",
    "    logger.info('Saving data on: %s' % output_path)\n",
    "    os.makedirs(os.path.dirname(output_path), exist_ok=True)\n",
    "    np.savez_compressed(output_path, boards=train_data[0], features=train_data[1], actions=train_data[2], rewards=train_data[3])\n",
    "    del state\n",
    "    del train_data\n",
    "    gc.collect()\n",
    "    log_ram_usage()"
   ]
  },
  {
   "cell_type": "code",
   "execution_count": 7,
   "metadata": {
    "ExecuteTime": {
     "end_time": "2021-04-22T17:43:14.755124Z",
     "start_time": "2021-04-22T17:43:14.695585Z"
    },
    "hidden": true
   },
   "outputs": [],
   "source": [
    "def create_train_data(agents, n_matches, reward_name, agent_idx_range=None):\n",
    "    \"\"\"\n",
    "    Creates train data without any simmetry\n",
    "    \n",
    "    Parameters\n",
    "    ----------\n",
    "    agents : list of str\n",
    "        Names or paths of the agents\n",
    "    n_matches : int\n",
    "        Number of matches to play\n",
    "    reward_name : str\n",
    "        Name of the reward function that we want to use\n",
    "    max_workers : int\n",
    "    agent_idx_range : list of int\n",
    "        Idx of the agents we want to use for collecting data, if None all the agents\n",
    "        will be used\n",
    "    \"\"\"\n",
    "    saved_games_path = get_games_output_path(agents, n_matches)\n",
    "    if not os.path.exists(saved_games_path):\n",
    "        play_matches_in_parallel_and_save_history(agents, n_matches=n_matches)\n",
    "\n",
    "    output_path = get_data_output_path(agents, n_matches, reward_name)\n",
    "    create_train_data_from_saved_matches([saved_games_path], reward_name, output_path, agent_idx_range=agent_idx_range)\n",
    "    \n",
    "def get_data_output_path(agents, n_matches, reward_name):\n",
    "    output_file = '/mnt/hdd0/Kaggle/hungry_geese/data/%s/%s_vs_%s_matches_%i.npz' % (\n",
    "        reward_name,\n",
    "        os.path.splitext(os.path.basename(agents[0]))[0], \n",
    "        os.path.splitext(os.path.basename(agents[1]))[0], \n",
    "        n_matches)\n",
    "    return output_file"
   ]
  },
  {
   "cell_type": "markdown",
   "metadata": {
    "heading_collapsed": true,
    "hidden": true
   },
   "source": [
    "### Evaluation"
   ]
  },
  {
   "cell_type": "code",
   "execution_count": 8,
   "metadata": {
    "ExecuteTime": {
     "end_time": "2021-04-22T17:43:14.897783Z",
     "start_time": "2021-04-22T17:43:14.777599Z"
    },
    "hidden": true
   },
   "outputs": [
    {
     "data": {
      "text/html": [
       "<div>\n",
       "<style scoped>\n",
       "    .dataframe tbody tr th:only-of-type {\n",
       "        vertical-align: middle;\n",
       "    }\n",
       "\n",
       "    .dataframe tbody tr th {\n",
       "        vertical-align: top;\n",
       "    }\n",
       "\n",
       "    .dataframe thead th {\n",
       "        text-align: right;\n",
       "    }\n",
       "</style>\n",
       "<table border=\"1\" class=\"dataframe\">\n",
       "  <thead>\n",
       "    <tr style=\"text-align: right;\">\n",
       "      <th></th>\n",
       "      <th>ranking</th>\n",
       "    </tr>\n",
       "    <tr>\n",
       "      <th>model</th>\n",
       "      <th></th>\n",
       "    </tr>\n",
       "  </thead>\n",
       "  <tbody>\n",
       "    <tr>\n",
       "      <th>rhaegar</th>\n",
       "      <td>1680</td>\n",
       "    </tr>\n",
       "    <tr>\n",
       "      <th>balerion</th>\n",
       "      <td>1638</td>\n",
       "    </tr>\n",
       "    <tr>\n",
       "      <th>icedragon</th>\n",
       "      <td>1602</td>\n",
       "    </tr>\n",
       "    <tr>\n",
       "      <th>iceberg</th>\n",
       "      <td>1548</td>\n",
       "    </tr>\n",
       "    <tr>\n",
       "      <th>wallbreaker</th>\n",
       "      <td>1515</td>\n",
       "    </tr>\n",
       "    <tr>\n",
       "      <th>ram</th>\n",
       "      <td>1463</td>\n",
       "    </tr>\n",
       "    <tr>\n",
       "      <th>quantum</th>\n",
       "      <td>1398</td>\n",
       "    </tr>\n",
       "    <tr>\n",
       "      <th>clasic</th>\n",
       "      <td>1365</td>\n",
       "    </tr>\n",
       "    <tr>\n",
       "      <th>boilergoose</th>\n",
       "      <td>1269</td>\n",
       "    </tr>\n",
       "    <tr>\n",
       "      <th>besthoarder</th>\n",
       "      <td>1227</td>\n",
       "    </tr>\n",
       "    <tr>\n",
       "      <th>crazy_goose</th>\n",
       "      <td>1186</td>\n",
       "    </tr>\n",
       "    <tr>\n",
       "      <th>risk_averse_goose</th>\n",
       "      <td>1176</td>\n",
       "    </tr>\n",
       "    <tr>\n",
       "      <th>goose_on_a_healthy_diet</th>\n",
       "      <td>1157</td>\n",
       "    </tr>\n",
       "    <tr>\n",
       "      <th>straightforward_bfs</th>\n",
       "      <td>1004</td>\n",
       "    </tr>\n",
       "    <tr>\n",
       "      <th>greedy</th>\n",
       "      <td>981</td>\n",
       "    </tr>\n",
       "    <tr>\n",
       "      <th>greedyhoarder</th>\n",
       "      <td>766</td>\n",
       "    </tr>\n",
       "    <tr>\n",
       "      <th>random_plus</th>\n",
       "      <td>706</td>\n",
       "    </tr>\n",
       "    <tr>\n",
       "      <th>random</th>\n",
       "      <td>523</td>\n",
       "    </tr>\n",
       "  </tbody>\n",
       "</table>\n",
       "</div>"
      ],
      "text/plain": [
       "                         ranking\n",
       "model                           \n",
       "rhaegar                     1680\n",
       "balerion                    1638\n",
       "icedragon                   1602\n",
       "iceberg                     1548\n",
       "wallbreaker                 1515\n",
       "ram                         1463\n",
       "quantum                     1398\n",
       "clasic                      1365\n",
       "boilergoose                 1269\n",
       "besthoarder                 1227\n",
       "crazy_goose                 1186\n",
       "risk_averse_goose           1176\n",
       "goose_on_a_healthy_diet     1157\n",
       "straightforward_bfs         1004\n",
       "greedy                       981\n",
       "greedyhoarder                766\n",
       "random_plus                  706\n",
       "random                       523"
      ]
     },
     "execution_count": 8,
     "metadata": {},
     "output_type": "execute_result"
    }
   ],
   "source": [
    "initial_elo_ranking = pd.read_csv('../data/elo_ranking.csv', index_col='model')\n",
    "initial_elo_ranking"
   ]
  },
  {
   "cell_type": "code",
   "execution_count": 9,
   "metadata": {
    "ExecuteTime": {
     "end_time": "2021-04-22T17:43:14.958969Z",
     "start_time": "2021-04-22T17:43:14.903779Z"
    },
    "hidden": true
   },
   "outputs": [],
   "source": [
    "with open('../data/agents.yml', 'r') as f:\n",
    "    agents = yaml.safe_load(f)"
   ]
  },
  {
   "cell_type": "code",
   "execution_count": 10,
   "metadata": {
    "ExecuteTime": {
     "end_time": "2021-04-22T17:43:15.064568Z",
     "start_time": "2021-04-22T17:43:14.988254Z"
    },
    "hidden": true
   },
   "outputs": [],
   "source": [
    "def evaluate_agent(new_agent, adversary_agents, n_matches, single_agent=True, max_workers=20, run_agent_test=False):\n",
    "    agent_name = list(new_agent.keys())[0]\n",
    "    # I have found that for certain agents if the test is run then evaluation is frozen\n",
    "    if run_agent_test: test_agent(new_agent[agent_name])\n",
    "    reduced_agents_set = new_agent.copy()\n",
    "    for adversary_agent in adversary_agents:\n",
    "        reduced_agents_set[adversary_agent] = agents[adversary_agent]\n",
    "    \n",
    "    if single_agent:\n",
    "        sample_agents_func = lambda: [agent_name] + np.random.choice(adversary_agents, 3, replace=False).tolist()\n",
    "    else:\n",
    "        def sample_agents_func():\n",
    "            while 1:\n",
    "                sampled_agents = [agent_name] + np.random.choice(adversary_agents + [agent_name], 3).tolist()\n",
    "                if len(np.unique(sampled_agents)) >=2:\n",
    "                    break\n",
    "            return sampled_agents\n",
    "\n",
    "    matches_agents, matches_results = play_matches_in_parallel(reduced_agents_set, sample_agents_func, n_matches=n_matches, max_workers=max_workers)\n",
    "    return matches_agents, matches_results, reduced_agents_set\n",
    "    \n",
    "def compute_elo_ranking(matches_agents, matches_results, reduced_agents_set):\n",
    "    initial_agent_elo = 1000\n",
    "    for k in [32, 16, 8, 4, 2, 1]:\n",
    "        agent_name = [name for name in reduced_agents_set if name not in initial_elo_ranking][0]\n",
    "        initial_ranking = initial_elo_ranking.to_dict()['ranking']\n",
    "        initial_ranking[agent_name] = initial_agent_elo\n",
    "        initial_ranking = {key: initial_ranking[key] for key in reduced_agents_set}\n",
    "        elo_ranking = EloRanking(initial_ranking, {agent_name}, k=k)\n",
    "        for match_agents, match_results in zip(matches_agents, matches_results):\n",
    "            elo_ranking.add_match(match_agents, match_results)\n",
    "        initial_agent_elo = elo_ranking.summary().loc[agent_name, 'ranking']\n",
    "    elo_ranking.plot()\n",
    "    return elo_ranking.summary()"
   ]
  },
  {
   "cell_type": "code",
   "execution_count": 11,
   "metadata": {
    "ExecuteTime": {
     "end_time": "2021-04-22T17:43:15.152964Z",
     "start_time": "2021-04-22T17:43:15.086505Z"
    },
    "hidden": true
   },
   "outputs": [],
   "source": [
    "def simple_agent_evaluation(agent_path, n_matches=500):\n",
    "    \"\"\"\n",
    "    Computes single and multi agents scores and returns them\n",
    "    \n",
    "    Parameters\n",
    "    ----------\n",
    "    multi_agent_elo_score\n",
    "    single_agent_elo_score\n",
    "    \"\"\"\n",
    "    ret = evaluate_agent(\n",
    "        {'q_value_pretrained': agent_path},\n",
    "        initial_elo_ranking.index.values.tolist()[:5],\n",
    "        n_matches=n_matches, single_agent=False, max_workers=20)\n",
    "    table_multi = compute_elo_ranking(*ret)\n",
    "    ret = evaluate_agent(\n",
    "        {'q_value_pretrained': agent_path},\n",
    "        initial_elo_ranking.index.values.tolist()[:5],\n",
    "        n_matches=n_matches, single_agent=True, max_workers=20)\n",
    "    table_single = compute_elo_ranking(*ret)\n",
    "    plt.close('all')\n",
    "    clear_output()\n",
    "    print(agent_path)\n",
    "    print('Multi agent elo score: %i' % table_multi.loc['q_value_pretrained', 'ranking'])\n",
    "    print('Single agent elo score: %i' % table_single.loc['q_value_pretrained', 'ranking'])\n",
    "    return table_multi.loc['q_value_pretrained', 'ranking'], table_single.loc['q_value_pretrained', 'ranking']"
   ]
  },
  {
   "cell_type": "code",
   "execution_count": 12,
   "metadata": {
    "ExecuteTime": {
     "end_time": "2021-04-22T17:43:15.218219Z",
     "start_time": "2021-04-22T17:43:15.175297Z"
    },
    "hidden": true
   },
   "outputs": [],
   "source": [
    "def simple_model_evaluation(model_path, n_matches=500):\n",
    "    model_path = os.path.realpath(model_path)\n",
    "    text = \"\"\"\n",
    "import os\n",
    "from hungry_geese.agents import QValueSafeAgent\n",
    "os.environ['CUDA_VISIBLE_DEVICES'] = ''\n",
    "import tensorflow as tf\n",
    "model = tf.keras.models.load_model('model_path', compile=False)\n",
    "model = tf.keras.models.Model(inputs=model.inputs[:2], outputs=model.layers[-3].output)\n",
    "q_value_agent = QValueSafeAgent(model)\n",
    "def agent(obs, config):\n",
    "    return q_value_agent(obs, config)\n",
    "    \"\"\"\n",
    "    text = text.replace('model_path', model_path)\n",
    "    with tempfile.TemporaryDirectory() as tempdir:\n",
    "        agent_filepath = os.path.join(tempdir, 'agent.py')\n",
    "        with open(agent_filepath, 'w') as f:\n",
    "            f.write(text)\n",
    "        output = simple_agent_evaluation(agent_filepath, n_matches=n_matches)\n",
    "    return output"
   ]
  },
  {
   "cell_type": "markdown",
   "metadata": {
    "heading_collapsed": true,
    "hidden": true
   },
   "source": [
    "### Visualization"
   ]
  },
  {
   "cell_type": "code",
   "execution_count": 13,
   "metadata": {
    "ExecuteTime": {
     "end_time": "2021-04-22T17:43:15.263003Z",
     "start_time": "2021-04-22T17:43:15.225059Z"
    },
    "hidden": true
   },
   "outputs": [],
   "source": [
    "def plot_q_value(agent):\n",
    "    values = np.array(agent.q_values)\n",
    "    for idx, action in enumerate(ACTIONS):\n",
    "        plt.plot(values[:, idx], label=action, alpha=0.6, marker='o')\n",
    "    plt.legend(loc=0)\n",
    "    plt.grid()"
   ]
  },
  {
   "cell_type": "code",
   "execution_count": 14,
   "metadata": {
    "ExecuteTime": {
     "end_time": "2021-04-22T17:43:15.304521Z",
     "start_time": "2021-04-22T17:43:15.269886Z"
    },
    "hidden": true
   },
   "outputs": [],
   "source": [
    "COLOR_TO_INDEX = dict(white=0, blue=1, green=2, red=3)"
   ]
  },
  {
   "cell_type": "code",
   "execution_count": 15,
   "metadata": {
    "ExecuteTime": {
     "end_time": "2021-04-22T17:43:15.353827Z",
     "start_time": "2021-04-22T17:43:15.310828Z"
    },
    "hidden": true
   },
   "outputs": [],
   "source": [
    "def save_html_game(agents, output_folder):\n",
    "    \"\"\"\n",
    "    Plays a game, saves to file and opens it on google chrome\n",
    "    \n",
    "    \n",
    "    Order of the agents\n",
    "    \n",
    "    - 0 white\n",
    "    - 1 blue\n",
    "    - 2 green\n",
    "    - 3 red\n",
    "    \"\"\"\n",
    "    os.makedirs(output_folder, exist_ok=True)\n",
    "    env = make('hungry_geese')\n",
    "    ret = env.run(agents);\n",
    "    html_content = env.render(mode=\"html\")\n",
    "    filepath = os.path.join(output_folder, '%s.html' % get_timestamp())\n",
    "    with open(filepath, 'w') as f:\n",
    "        f.write(html_content)\n",
    "    print(filepath)\n",
    "    os.system('google-chrome \"%s\"' % os.path.realpath(filepath))"
   ]
  },
  {
   "cell_type": "code",
   "execution_count": 16,
   "metadata": {
    "ExecuteTime": {
     "end_time": "2021-04-22T17:43:15.405817Z",
     "start_time": "2021-04-22T17:43:15.360546Z"
    },
    "hidden": true
   },
   "outputs": [],
   "source": [
    "def save_html_games(agents, output_folder, n_games=10):\n",
    "    os.makedirs(output_folder, exist_ok=True)\n",
    "    env = make('hungry_geese')\n",
    "    for game_idx in tqdm(range(n_games)):\n",
    "        ret = env.run(agents);\n",
    "        html_content = env.render(mode=\"html\")\n",
    "        filepath = os.path.join(output_folder, '%02d.html' % game_idx)\n",
    "        with open(filepath, 'w') as f:\n",
    "            f.write(html_content)"
   ]
  },
  {
   "cell_type": "markdown",
   "metadata": {
    "heading_collapsed": true
   },
   "source": [
    "## Visualizing games "
   ]
  },
  {
   "cell_type": "markdown",
   "metadata": {
    "heading_collapsed": true,
    "hidden": true
   },
   "source": [
    "### 07_x64_discount_factor_1"
   ]
  },
  {
   "cell_type": "code",
   "execution_count": 17,
   "metadata": {
    "ExecuteTime": {
     "end_time": "2021-04-11T15:37:43.202086Z",
     "start_time": "2021-04-11T15:37:43.098701Z"
    },
    "deletable": false,
    "editable": false,
    "hidden": true,
    "run_control": {
     "frozen": true
    }
   },
   "outputs": [],
   "source": [
    "model = keras.models.load_model('/mnt/hdd0/Kaggle/hungry_geese/models/36_deep_learning_longer_trains/07_x64_discount_factor_1/epoch_0187.h5', compile=False)\n",
    "model = tf.keras.models.Model(inputs=model.inputs[:2], outputs=model.layers[-3].output)\n",
    "agents = [QValueAgent(model) for idx in range(4)]"
   ]
  },
  {
   "cell_type": "code",
   "execution_count": 18,
   "metadata": {
    "ExecuteTime": {
     "end_time": "2021-04-11T15:37:45.466513Z",
     "start_time": "2021-04-11T15:37:43.203060Z"
    },
    "deletable": false,
    "editable": false,
    "hidden": true,
    "run_control": {
     "frozen": true
    }
   },
   "outputs": [
    {
     "name": "stdout",
     "output_type": "stream",
     "text": [
      "../data/saved_games/04_discount_factor_1/2021_04_11_17_37_45.html\n"
     ]
    }
   ],
   "source": [
    "[agent.reset() for agent in agents]; save_html_game(agents, '../data/saved_games/04_discount_factor_1')"
   ]
  },
  {
   "cell_type": "markdown",
   "metadata": {
    "hidden": true
   },
   "source": [
    "It is strange that at epoch 33 white does not eat food."
   ]
  },
  {
   "cell_type": "code",
   "execution_count": 32,
   "metadata": {
    "ExecuteTime": {
     "end_time": "2021-04-11T15:54:25.782200Z",
     "start_time": "2021-04-11T15:54:23.827039Z"
    },
    "deletable": false,
    "editable": false,
    "hidden": true,
    "run_control": {
     "frozen": true
    }
   },
   "outputs": [
    {
     "name": "stdout",
     "output_type": "stream",
     "text": [
      "../data/saved_games/04_discount_factor_1/2021_04_11_17_54_25.html\n"
     ]
    }
   ],
   "source": [
    "[agent.reset() for agent in agents]; save_html_game(agents, '../data/saved_games/04_discount_factor_1')"
   ]
  },
  {
   "cell_type": "markdown",
   "metadata": {
    "hidden": true
   },
   "source": [
    "At epoch 117 prediction of white is totally wrong."
   ]
  },
  {
   "cell_type": "code",
   "execution_count": 45,
   "metadata": {
    "ExecuteTime": {
     "end_time": "2021-04-11T16:03:20.278332Z",
     "start_time": "2021-04-11T16:03:18.313226Z"
    },
    "deletable": false,
    "editable": false,
    "hidden": true,
    "run_control": {
     "frozen": true
    }
   },
   "outputs": [
    {
     "name": "stdout",
     "output_type": "stream",
     "text": [
      "../data/saved_games/04_discount_factor_1/2021_04_11_18_03_20.html\n"
     ]
    }
   ],
   "source": [
    "[agent.reset() for agent in agents]; save_html_game(agents, '../data/saved_games/04_discount_factor_1')"
   ]
  },
  {
   "cell_type": "markdown",
   "metadata": {
    "hidden": true
   },
   "source": [
    "So we have seen that the model has not learned a good enough reward function, sometimes ignores food and sometimes does not know that death is ahead."
   ]
  },
  {
   "cell_type": "code",
   "execution_count": 50,
   "metadata": {
    "ExecuteTime": {
     "end_time": "2021-04-11T16:22:31.303856Z",
     "start_time": "2021-04-11T16:22:31.198899Z"
    },
    "deletable": false,
    "editable": false,
    "hidden": true,
    "run_control": {
     "frozen": true
    }
   },
   "outputs": [],
   "source": [
    "model = keras.models.load_model('/mnt/hdd0/Kaggle/hungry_geese/models/36_deep_learning_longer_trains/07_x64_discount_factor_1/epoch_0187.h5', compile=False)\n",
    "model = tf.keras.models.Model(inputs=model.inputs[:2], outputs=model.layers[-3].output)\n",
    "agents = [SoftmaxAgent(model, scale=4) for idx in range(4)]"
   ]
  },
  {
   "cell_type": "code",
   "execution_count": 52,
   "metadata": {
    "ExecuteTime": {
     "end_time": "2021-04-11T16:24:15.986892Z",
     "start_time": "2021-04-11T16:23:56.166607Z"
    },
    "deletable": false,
    "editable": false,
    "hidden": true,
    "run_control": {
     "frozen": true
    }
   },
   "outputs": [
    {
     "data": {
      "application/vnd.jupyter.widget-view+json": {
       "model_id": "7b412df495a34dd7a885ac14d7852678",
       "version_major": 2,
       "version_minor": 0
      },
      "text/plain": [
       "  0%|          | 0/10 [00:00<?, ?it/s]"
      ]
     },
     "metadata": {},
     "output_type": "display_data"
    }
   ],
   "source": [
    "env = make('hungry_geese')\n",
    "steps = []\n",
    "for _ in tqdm(range(10)):\n",
    "    [agent.reset() for agent in agents]\n",
    "    env.run(agents)\n",
    "    steps.extend([len(agent.state.rewards) for agent in agents])"
   ]
  },
  {
   "cell_type": "code",
   "execution_count": 55,
   "metadata": {
    "ExecuteTime": {
     "end_time": "2021-04-11T16:26:31.711296Z",
     "start_time": "2021-04-11T16:26:31.670998Z"
    },
    "deletable": false,
    "editable": false,
    "hidden": true,
    "run_control": {
     "frozen": true
    }
   },
   "outputs": [
    {
     "name": "stdout",
     "output_type": "stream",
     "text": [
      "[198, 185, 198, 198, 49, 198, 198, 198, 198, 198, 198, 198, 198, 198, 178, 198, 198, 198, 198, 198, 198, 198, 196, 198, 198, 198, 198, 198, 198, 198, 198, 198, 195, 198, 198, 198, 198, 179, 198, 198]\n"
     ]
    }
   ],
   "source": [
    "print(steps)"
   ]
  },
  {
   "cell_type": "code",
   "execution_count": 54,
   "metadata": {
    "ExecuteTime": {
     "end_time": "2021-04-11T16:24:46.261260Z",
     "start_time": "2021-04-11T16:24:46.222630Z"
    },
    "deletable": false,
    "editable": false,
    "hidden": true,
    "run_control": {
     "frozen": true
    }
   },
   "outputs": [
    {
     "data": {
      "text/plain": [
       "194.85"
      ]
     },
     "execution_count": 54,
     "metadata": {},
     "output_type": "execute_result"
    }
   ],
   "source": [
    "np.mean(steps)+2"
   ]
  },
  {
   "cell_type": "markdown",
   "metadata": {
    "ExecuteTime": {
     "end_time": "2021-04-11T16:26:55.909574Z",
     "start_time": "2021-04-11T16:26:55.862689Z"
    },
    "hidden": true
   },
   "source": [
    "We can see that the metrics provided by train script seem to be real."
   ]
  },
  {
   "cell_type": "code",
   "execution_count": 46,
   "metadata": {
    "ExecuteTime": {
     "end_time": "2021-04-11T16:54:10.910442Z",
     "start_time": "2021-04-11T16:53:51.757519Z"
    },
    "deletable": false,
    "editable": false,
    "hidden": true,
    "run_control": {
     "frozen": true
    }
   },
   "outputs": [
    {
     "data": {
      "application/vnd.jupyter.widget-view+json": {
       "model_id": "583d032b86ff4e899f82e9e36eb9d5ff",
       "version_major": 2,
       "version_minor": 0
      },
      "text/plain": [
       "  0%|          | 0/10 [00:00<?, ?it/s]"
      ]
     },
     "metadata": {},
     "output_type": "display_data"
    },
    {
     "name": "stdout",
     "output_type": "stream",
     "text": [
      "182.65\n",
      "[160, 198, 198, 198, 198, 198, 198, 188, 135, 198, 198, 198, 198, 39, 198, 153, 198, 198, 172, 197, 198, 198, 198, 198, 198, 198, 167, 167, 86, 148, 198, 198, 198, 198, 157, 198, 195, 198, 198, 114]\n"
     ]
    }
   ],
   "source": [
    "model = keras.models.load_model('/mnt/hdd0/Kaggle/hungry_geese/models/36_deep_learning_longer_trains/07_x64_discount_factor_1/epoch_0187.h5', compile=False)\n",
    "model = tf.keras.models.Model(inputs=model.inputs[:2], outputs=model.layers[-3].output)\n",
    "agents = [SoftmaxAgent(model, scale=8) for idx in range(4)]\n",
    "env = make('hungry_geese', debug=False)\n",
    "steps = []\n",
    "for _ in tqdm(range(10)):\n",
    "    [agent.reset() for agent in agents]\n",
    "    env.run(agents)\n",
    "    steps.extend([len(agent.state.rewards) for agent in agents])\n",
    "print(np.mean(steps)+2)\n",
    "print(steps)"
   ]
  },
  {
   "cell_type": "code",
   "execution_count": 49,
   "metadata": {
    "ExecuteTime": {
     "end_time": "2021-04-11T16:58:13.519929Z",
     "start_time": "2021-04-11T16:57:56.057846Z"
    },
    "deletable": false,
    "editable": false,
    "hidden": true,
    "run_control": {
     "frozen": true
    }
   },
   "outputs": [
    {
     "data": {
      "application/vnd.jupyter.widget-view+json": {
       "model_id": "c7e3e2bc235e4755baa9ddf8cf68ae31",
       "version_major": 2,
       "version_minor": 0
      },
      "text/plain": [
       "  0%|          | 0/10 [00:00<?, ?it/s]"
      ]
     },
     "metadata": {},
     "output_type": "display_data"
    },
    {
     "name": "stdout",
     "output_type": "stream",
     "text": [
      "176.8\n",
      "[198, 127, 198, 198, 198, 198, 9, 153, 162, 151, 198, 198, 171, 198, 126, 198, 137, 198, 198, 198, 198, 147, 147, 198, 168, 198, 130, 198, 169, 198, 198, 147, 130, 198, 186, 198, 198, 198, 198, 178]\n"
     ]
    }
   ],
   "source": [
    "model = keras.models.load_model('/mnt/hdd0/Kaggle/hungry_geese/models/36_deep_learning_longer_trains/07_x64_discount_factor_1/epoch_0187.h5', compile=False)\n",
    "model = tf.keras.models.Model(inputs=model.inputs[:2], outputs=model.layers[-3].output)\n",
    "agents = [QValueAgent(model) for idx in range(4)]\n",
    "env = make('hungry_geese', debug=False)\n",
    "steps = []\n",
    "for _ in tqdm(range(10)):\n",
    "    [agent.reset() for agent in agents]\n",
    "    env.run(agents)\n",
    "    steps.extend([len(agent.state.rewards) for agent in agents])\n",
    "print(np.mean(steps)+2)\n",
    "print(steps)"
   ]
  },
  {
   "cell_type": "code",
   "execution_count": 50,
   "metadata": {
    "ExecuteTime": {
     "end_time": "2021-04-11T16:58:42.414108Z",
     "start_time": "2021-04-11T16:58:24.457540Z"
    },
    "deletable": false,
    "editable": false,
    "hidden": true,
    "run_control": {
     "frozen": true
    }
   },
   "outputs": [
    {
     "data": {
      "application/vnd.jupyter.widget-view+json": {
       "model_id": "6be6c5c7b7bd432b99c1ff87a61cef23",
       "version_major": 2,
       "version_minor": 0
      },
      "text/plain": [
       "  0%|          | 0/10 [00:00<?, ?it/s]"
      ]
     },
     "metadata": {},
     "output_type": "display_data"
    },
    {
     "name": "stdout",
     "output_type": "stream",
     "text": [
      "174.525\n",
      "[198, 147, 198, 130, 198, 173, 198, 198, 198, 194, 198, 166, 129, 170, 198, 198, 198, 139, 138, 198, 198, 92, 92, 198, 113, 198, 198, 113, 193, 194, 153, 194, 143, 198, 122, 198, 198, 153, 191, 198]\n"
     ]
    }
   ],
   "source": [
    "model = keras.models.load_model('/mnt/hdd0/Kaggle/hungry_geese/models/36_deep_learning_longer_trains/07_x64_discount_factor_1/epoch_0187.h5', compile=False)\n",
    "model = tf.keras.models.Model(inputs=model.inputs[:2], outputs=model.layers[-3].output)\n",
    "agents = [QValueSafeAgent(model) for idx in range(4)]\n",
    "env = make('hungry_geese', debug=False)\n",
    "steps = []\n",
    "for _ in tqdm(range(10)):\n",
    "    [agent.reset() for agent in agents]\n",
    "    env.run(agents)\n",
    "    steps.extend([len(agent.state.rewards) for agent in agents])\n",
    "print(np.mean(steps)+2)\n",
    "print(steps)"
   ]
  },
  {
   "cell_type": "markdown",
   "metadata": {
    "hidden": true
   },
   "source": [
    "Let's see games against other agents."
   ]
  },
  {
   "cell_type": "code",
   "execution_count": null,
   "metadata": {
    "deletable": false,
    "editable": false,
    "hidden": true,
    "run_control": {
     "frozen": true
    }
   },
   "outputs": [],
   "source": [
    "[agent.reset() for agent in agents]; save_html_game(agents, '../data/saved_games/04_discount_factor_1')"
   ]
  },
  {
   "cell_type": "markdown",
   "metadata": {
    "heading_collapsed": true
   },
   "source": [
    "## Populating the agent pool"
   ]
  },
  {
   "cell_type": "markdown",
   "metadata": {
    "heading_collapsed": true,
    "hidden": true
   },
   "source": [
    "### Adding new agents"
   ]
  },
  {
   "cell_type": "code",
   "execution_count": 18,
   "metadata": {
    "ExecuteTime": {
     "end_time": "2021-04-18T08:12:24.184898Z",
     "start_time": "2021-04-18T08:09:57.441436Z"
    },
    "deletable": false,
    "editable": false,
    "hidden": true,
    "run_control": {
     "frozen": true
    }
   },
   "outputs": [
    {
     "name": "stdout",
     "output_type": "stream",
     "text": [
      "/mnt/hdd0/MEGA/AI/22 Kaggle/hungry_geese/data/agents/q_value_safe_template.py\n",
      "Multi agent elo score: 1365\n",
      "Single agent elo score: 1393\n"
     ]
    },
    {
     "data": {
      "text/plain": [
       "(1365, 1393)"
      ]
     },
     "execution_count": 18,
     "metadata": {},
     "output_type": "execute_result"
    }
   ],
   "source": [
    "simple_agent_evaluation('/mnt/hdd0/MEGA/AI/22 Kaggle/hungry_geese/data/agents/classic.py', n_matches=500)"
   ]
  },
  {
   "cell_type": "code",
   "execution_count": 17,
   "metadata": {
    "ExecuteTime": {
     "end_time": "2021-04-18T08:21:36.628667Z",
     "start_time": "2021-04-18T08:18:49.794101Z"
    },
    "deletable": false,
    "editable": false,
    "hidden": true,
    "run_control": {
     "frozen": true
    }
   },
   "outputs": [
    {
     "name": "stdout",
     "output_type": "stream",
     "text": [
      "/mnt/hdd0/MEGA/AI/22 Kaggle/hungry_geese/data/agents/ram.py\n",
      "Multi agent elo score: 1463\n",
      "Single agent elo score: 1471\n"
     ]
    },
    {
     "data": {
      "text/plain": [
       "(1463, 1471)"
      ]
     },
     "execution_count": 17,
     "metadata": {},
     "output_type": "execute_result"
    }
   ],
   "source": [
    "simple_agent_evaluation('/mnt/hdd0/MEGA/AI/22 Kaggle/hungry_geese/data/agents/ram.py', n_matches=500)"
   ]
  },
  {
   "cell_type": "code",
   "execution_count": 18,
   "metadata": {
    "ExecuteTime": {
     "end_time": "2021-04-18T08:28:27.578323Z",
     "start_time": "2021-04-18T08:25:19.672302Z"
    },
    "deletable": false,
    "editable": false,
    "hidden": true,
    "run_control": {
     "frozen": true
    }
   },
   "outputs": [
    {
     "name": "stdout",
     "output_type": "stream",
     "text": [
      "/mnt/hdd0/MEGA/AI/22 Kaggle/hungry_geese/data/agents/iceberg.py\n",
      "Multi agent elo score: 1548\n",
      "Single agent elo score: 1551\n"
     ]
    },
    {
     "data": {
      "text/plain": [
       "(1548, 1551)"
      ]
     },
     "execution_count": 18,
     "metadata": {},
     "output_type": "execute_result"
    }
   ],
   "source": [
    "simple_agent_evaluation('/mnt/hdd0/MEGA/AI/22 Kaggle/hungry_geese/data/agents/iceberg.py', n_matches=500)"
   ]
  },
  {
   "cell_type": "code",
   "execution_count": 17,
   "metadata": {
    "ExecuteTime": {
     "end_time": "2021-04-18T08:34:44.521160Z",
     "start_time": "2021-04-18T08:31:17.618570Z"
    },
    "deletable": false,
    "editable": false,
    "hidden": true,
    "run_control": {
     "frozen": true
    }
   },
   "outputs": [
    {
     "name": "stdout",
     "output_type": "stream",
     "text": [
      "/mnt/hdd0/MEGA/AI/22 Kaggle/hungry_geese/data/agents/icedragon.py\n",
      "Multi agent elo score: 1602\n",
      "Single agent elo score: 1565\n"
     ]
    },
    {
     "data": {
      "text/plain": [
       "(1602, 1565)"
      ]
     },
     "execution_count": 17,
     "metadata": {},
     "output_type": "execute_result"
    }
   ],
   "source": [
    "simple_agent_evaluation('/mnt/hdd0/MEGA/AI/22 Kaggle/hungry_geese/data/agents/icedragon.py', n_matches=500)"
   ]
  },
  {
   "cell_type": "code",
   "execution_count": 17,
   "metadata": {
    "ExecuteTime": {
     "end_time": "2021-04-18T14:59:04.050135Z",
     "start_time": "2021-04-18T14:55:33.163969Z"
    },
    "deletable": false,
    "editable": false,
    "hidden": true,
    "run_control": {
     "frozen": true
    }
   },
   "outputs": [
    {
     "name": "stdout",
     "output_type": "stream",
     "text": [
      "/mnt/hdd0/MEGA/AI/22 Kaggle/hungry_geese/data/agents/balerion.py\n",
      "Multi agent elo score: 1638\n",
      "Single agent elo score: 1616\n"
     ]
    },
    {
     "data": {
      "text/plain": [
       "(1638, 1616)"
      ]
     },
     "execution_count": 17,
     "metadata": {},
     "output_type": "execute_result"
    }
   ],
   "source": [
    "simple_agent_evaluation('/mnt/hdd0/MEGA/AI/22 Kaggle/hungry_geese/data/agents/balerion.py', n_matches=500)"
   ]
  },
  {
   "cell_type": "code",
   "execution_count": 17,
   "metadata": {
    "ExecuteTime": {
     "end_time": "2021-04-20T14:48:33.101055Z",
     "start_time": "2021-04-20T14:45:05.879734Z"
    },
    "deletable": false,
    "editable": false,
    "hidden": true,
    "run_control": {
     "frozen": true
    }
   },
   "outputs": [
    {
     "name": "stdout",
     "output_type": "stream",
     "text": [
      "/tmp/tmptt9vhqsk/agent.py\n",
      "Multi agent elo score: 1680\n",
      "Single agent elo score: 1632\n"
     ]
    },
    {
     "data": {
      "text/plain": [
       "(1680, 1632)"
      ]
     },
     "execution_count": 17,
     "metadata": {},
     "output_type": "execute_result"
    }
   ],
   "source": [
    "simple_model_evaluation('/mnt/hdd0/Kaggle/hungry_geese/models/37_playing_against_frozen_agents/05_continue_lr2e5/epoch_3520.h5') #rhaegar"
   ]
  },
  {
   "cell_type": "markdown",
   "metadata": {
    "heading_collapsed": true,
    "hidden": true
   },
   "source": [
    "### Does having more good agents stabilize scores?"
   ]
  },
  {
   "cell_type": "markdown",
   "metadata": {
    "hidden": true
   },
   "source": [
    "Let's evaluate a model with and without the new agents to see if there is any improvement on elo score stability. I will be using 100 matches."
   ]
  },
  {
   "cell_type": "code",
   "execution_count": 18,
   "metadata": {
    "ExecuteTime": {
     "end_time": "2021-04-18T15:02:10.267340Z",
     "start_time": "2021-04-18T15:02:10.220824Z"
    },
    "deletable": false,
    "editable": false,
    "hidden": true,
    "run_control": {
     "frozen": true
    }
   },
   "outputs": [
    {
     "data": {
      "text/html": [
       "<div>\n",
       "<style scoped>\n",
       "    .dataframe tbody tr th:only-of-type {\n",
       "        vertical-align: middle;\n",
       "    }\n",
       "\n",
       "    .dataframe tbody tr th {\n",
       "        vertical-align: top;\n",
       "    }\n",
       "\n",
       "    .dataframe thead th {\n",
       "        text-align: right;\n",
       "    }\n",
       "</style>\n",
       "<table border=\"1\" class=\"dataframe\">\n",
       "  <thead>\n",
       "    <tr style=\"text-align: right;\">\n",
       "      <th></th>\n",
       "      <th>ranking</th>\n",
       "    </tr>\n",
       "    <tr>\n",
       "      <th>model</th>\n",
       "      <th></th>\n",
       "    </tr>\n",
       "  </thead>\n",
       "  <tbody>\n",
       "    <tr>\n",
       "      <th>iceberg</th>\n",
       "      <td>1548</td>\n",
       "    </tr>\n",
       "    <tr>\n",
       "      <th>wallbreaker</th>\n",
       "      <td>1515</td>\n",
       "    </tr>\n",
       "    <tr>\n",
       "      <th>ram</th>\n",
       "      <td>1463</td>\n",
       "    </tr>\n",
       "    <tr>\n",
       "      <th>quantum</th>\n",
       "      <td>1398</td>\n",
       "    </tr>\n",
       "    <tr>\n",
       "      <th>clasic</th>\n",
       "      <td>1365</td>\n",
       "    </tr>\n",
       "    <tr>\n",
       "      <th>boilergoose</th>\n",
       "      <td>1269</td>\n",
       "    </tr>\n",
       "    <tr>\n",
       "      <th>besthoarder</th>\n",
       "      <td>1227</td>\n",
       "    </tr>\n",
       "    <tr>\n",
       "      <th>crazy_goose</th>\n",
       "      <td>1186</td>\n",
       "    </tr>\n",
       "    <tr>\n",
       "      <th>risk_averse_goose</th>\n",
       "      <td>1176</td>\n",
       "    </tr>\n",
       "    <tr>\n",
       "      <th>goose_on_a_healthy_diet</th>\n",
       "      <td>1157</td>\n",
       "    </tr>\n",
       "    <tr>\n",
       "      <th>straightforward_bfs</th>\n",
       "      <td>1004</td>\n",
       "    </tr>\n",
       "    <tr>\n",
       "      <th>greedy</th>\n",
       "      <td>981</td>\n",
       "    </tr>\n",
       "    <tr>\n",
       "      <th>greedyhoarder</th>\n",
       "      <td>766</td>\n",
       "    </tr>\n",
       "    <tr>\n",
       "      <th>random_plus</th>\n",
       "      <td>706</td>\n",
       "    </tr>\n",
       "    <tr>\n",
       "      <th>random</th>\n",
       "      <td>523</td>\n",
       "    </tr>\n",
       "  </tbody>\n",
       "</table>\n",
       "</div>"
      ],
      "text/plain": [
       "                         ranking\n",
       "model                           \n",
       "iceberg                     1548\n",
       "wallbreaker                 1515\n",
       "ram                         1463\n",
       "quantum                     1398\n",
       "clasic                      1365\n",
       "boilergoose                 1269\n",
       "besthoarder                 1227\n",
       "crazy_goose                 1186\n",
       "risk_averse_goose           1176\n",
       "goose_on_a_healthy_diet     1157\n",
       "straightforward_bfs         1004\n",
       "greedy                       981\n",
       "greedyhoarder                766\n",
       "random_plus                  706\n",
       "random                       523"
      ]
     },
     "execution_count": 18,
     "metadata": {},
     "output_type": "execute_result"
    }
   ],
   "source": [
    "initial_elo_ranking = initial_elo_ranking[1:]\n",
    "initial_elo_ranking"
   ]
  },
  {
   "cell_type": "code",
   "execution_count": 19,
   "metadata": {
    "ExecuteTime": {
     "end_time": "2021-04-18T15:16:31.235990Z",
     "start_time": "2021-04-18T15:02:18.773156Z"
    },
    "deletable": false,
    "editable": false,
    "hidden": true,
    "run_control": {
     "frozen": true
    }
   },
   "outputs": [
    {
     "name": "stdout",
     "output_type": "stream",
     "text": [
      "/mnt/hdd0/MEGA/AI/22 Kaggle/hungry_geese/data/agents/icedragon.py\n",
      "Multi agent elo score: 1551\n",
      "Single agent elo score: 1560\n"
     ]
    }
   ],
   "source": [
    "new_scores = np.array([simple_agent_evaluation('/mnt/hdd0/MEGA/AI/22 Kaggle/hungry_geese/data/agents/icedragon.py', n_matches=100) for _ in range(20)])"
   ]
  },
  {
   "cell_type": "code",
   "execution_count": 20,
   "metadata": {
    "ExecuteTime": {
     "end_time": "2021-04-18T15:16:31.279318Z",
     "start_time": "2021-04-18T15:16:31.238117Z"
    },
    "deletable": false,
    "editable": false,
    "hidden": true,
    "run_control": {
     "frozen": true
    }
   },
   "outputs": [
    {
     "data": {
      "text/html": [
       "<div>\n",
       "<style scoped>\n",
       "    .dataframe tbody tr th:only-of-type {\n",
       "        vertical-align: middle;\n",
       "    }\n",
       "\n",
       "    .dataframe tbody tr th {\n",
       "        vertical-align: top;\n",
       "    }\n",
       "\n",
       "    .dataframe thead th {\n",
       "        text-align: right;\n",
       "    }\n",
       "</style>\n",
       "<table border=\"1\" class=\"dataframe\">\n",
       "  <thead>\n",
       "    <tr style=\"text-align: right;\">\n",
       "      <th></th>\n",
       "      <th>ranking</th>\n",
       "    </tr>\n",
       "    <tr>\n",
       "      <th>model</th>\n",
       "      <th></th>\n",
       "    </tr>\n",
       "  </thead>\n",
       "  <tbody>\n",
       "    <tr>\n",
       "      <th>wallbreaker</th>\n",
       "      <td>1515</td>\n",
       "    </tr>\n",
       "    <tr>\n",
       "      <th>quantum</th>\n",
       "      <td>1398</td>\n",
       "    </tr>\n",
       "    <tr>\n",
       "      <th>boilergoose</th>\n",
       "      <td>1269</td>\n",
       "    </tr>\n",
       "    <tr>\n",
       "      <th>besthoarder</th>\n",
       "      <td>1227</td>\n",
       "    </tr>\n",
       "    <tr>\n",
       "      <th>crazy_goose</th>\n",
       "      <td>1186</td>\n",
       "    </tr>\n",
       "  </tbody>\n",
       "</table>\n",
       "</div>"
      ],
      "text/plain": [
       "             ranking\n",
       "model               \n",
       "wallbreaker     1515\n",
       "quantum         1398\n",
       "boilergoose     1269\n",
       "besthoarder     1227\n",
       "crazy_goose     1186"
      ]
     },
     "execution_count": 20,
     "metadata": {},
     "output_type": "execute_result"
    }
   ],
   "source": [
    "initial_elo_ranking = initial_elo_ranking.loc[['wallbreaker', 'quantum', 'boilergoose', 'besthoarder', 'crazy_goose']]\n",
    "initial_elo_ranking"
   ]
  },
  {
   "cell_type": "code",
   "execution_count": 21,
   "metadata": {
    "ExecuteTime": {
     "end_time": "2021-04-18T15:27:13.168661Z",
     "start_time": "2021-04-18T15:16:31.280921Z"
    },
    "deletable": false,
    "editable": false,
    "hidden": true,
    "run_control": {
     "frozen": true
    }
   },
   "outputs": [
    {
     "name": "stdout",
     "output_type": "stream",
     "text": [
      "/mnt/hdd0/MEGA/AI/22 Kaggle/hungry_geese/data/agents/icedragon.py\n",
      "Multi agent elo score: 1573\n",
      "Single agent elo score: 1606\n"
     ]
    }
   ],
   "source": [
    "old_scores = np.array([simple_agent_evaluation('/mnt/hdd0/MEGA/AI/22 Kaggle/hungry_geese/data/agents/icedragon.py', n_matches=100) for _ in range(20)])"
   ]
  },
  {
   "cell_type": "code",
   "execution_count": 34,
   "metadata": {
    "ExecuteTime": {
     "end_time": "2021-04-18T15:37:04.910339Z",
     "start_time": "2021-04-18T15:37:04.758171Z"
    },
    "deletable": false,
    "editable": false,
    "hidden": true,
    "run_control": {
     "frozen": true
    }
   },
   "outputs": [
    {
     "name": "stderr",
     "output_type": "stream",
     "text": [
      "/home/gbarbadillo/miniconda3/envs/goose/lib/python3.7/site-packages/seaborn/_decorators.py:43: FutureWarning: Pass the following variables as keyword args: x, y. From version 0.12, the only valid positional argument will be `data`, and passing other arguments without an explicit keyword will result in an error or misinterpretation.\n",
      "  FutureWarning\n",
      "/home/gbarbadillo/miniconda3/envs/goose/lib/python3.7/site-packages/seaborn/_decorators.py:43: FutureWarning: Pass the following variables as keyword args: x, y. From version 0.12, the only valid positional argument will be `data`, and passing other arguments without an explicit keyword will result in an error or misinterpretation.\n",
      "  FutureWarning\n"
     ]
    },
    {
     "data": {
      "image/png": "[encoded data removed]",
      "text/plain": [
       "<Figure size 2160x360 with 1 Axes>"
      ]
     },
     "metadata": {
      "needs_background": "light"
     },
     "output_type": "display_data"
    }
   ],
   "source": [
    "sns.swarmplot(['new_scores']*20 + ['old_scores']*20, np.concatenate([new_scores[:, 0], old_scores[:, 0]]), color='black')\n",
    "sns.boxplot(['new_scores']*20 + ['old_scores']*20, np.concatenate([new_scores[:, 0], old_scores[:, 0]]))\n",
    "plt.grid(axis='y')\n",
    "plt.title('Multi agent elo score');"
   ]
  },
  {
   "cell_type": "code",
   "execution_count": 35,
   "metadata": {
    "ExecuteTime": {
     "end_time": "2021-04-18T15:37:09.295738Z",
     "start_time": "2021-04-18T15:37:09.141003Z"
    },
    "deletable": false,
    "editable": false,
    "hidden": true,
    "run_control": {
     "frozen": true
    }
   },
   "outputs": [
    {
     "name": "stderr",
     "output_type": "stream",
     "text": [
      "/home/gbarbadillo/miniconda3/envs/goose/lib/python3.7/site-packages/seaborn/_decorators.py:43: FutureWarning: Pass the following variables as keyword args: x, y. From version 0.12, the only valid positional argument will be `data`, and passing other arguments without an explicit keyword will result in an error or misinterpretation.\n",
      "  FutureWarning\n",
      "/home/gbarbadillo/miniconda3/envs/goose/lib/python3.7/site-packages/seaborn/_decorators.py:43: FutureWarning: Pass the following variables as keyword args: x, y. From version 0.12, the only valid positional argument will be `data`, and passing other arguments without an explicit keyword will result in an error or misinterpretation.\n",
      "  FutureWarning\n"
     ]
    },
    {
     "data": {
      "image/png": "[encoded data removed]",
      "text/plain": [
       "<Figure size 2160x360 with 1 Axes>"
      ]
     },
     "metadata": {
      "needs_background": "light"
     },
     "output_type": "display_data"
    }
   ],
   "source": [
    "sns.swarmplot(['new_scores']*20 + ['old_scores']*20, np.concatenate([new_scores[:, 1], old_scores[:, 1]]), color='black')\n",
    "sns.boxplot(['new_scores']*20 + ['old_scores']*20, np.concatenate([new_scores[:, 1], old_scores[:, 1]]))\n",
    "plt.grid(axis='y')\n",
    "plt.title('Single agent elo score');"
   ]
  },
  {
   "cell_type": "code",
   "execution_count": 29,
   "metadata": {
    "ExecuteTime": {
     "end_time": "2021-04-18T15:35:43.516053Z",
     "start_time": "2021-04-18T15:35:43.469212Z"
    },
    "deletable": false,
    "editable": false,
    "hidden": true,
    "run_control": {
     "frozen": true
    }
   },
   "outputs": [
    {
     "data": {
      "text/plain": [
       "(24.56679669798242, 27.037890080403834)"
      ]
     },
     "execution_count": 29,
     "metadata": {},
     "output_type": "execute_result"
    }
   ],
   "source": [
    "np.std(new_scores[:, 0]), np.std(old_scores[:, 0])"
   ]
  },
  {
   "cell_type": "code",
   "execution_count": 30,
   "metadata": {
    "ExecuteTime": {
     "end_time": "2021-04-18T15:35:49.731962Z",
     "start_time": "2021-04-18T15:35:49.684189Z"
    },
    "deletable": false,
    "editable": false,
    "hidden": true,
    "run_control": {
     "frozen": true
    }
   },
   "outputs": [
    {
     "data": {
      "text/plain": [
       "(28.180667131918646, 31.54976228119635)"
      ]
     },
     "execution_count": 30,
     "metadata": {},
     "output_type": "execute_result"
    }
   ],
   "source": [
    "np.std(new_scores[:, 1]), np.std(old_scores[:, 1])"
   ]
  },
  {
   "cell_type": "markdown",
   "metadata": {
    "hidden": true
   },
   "source": [
    "Does not seem that variability in score is reduced, at least with 100 matches. But the score estimate is higher."
   ]
  },
  {
   "cell_type": "markdown",
   "metadata": {},
   "source": [
    "## Multi agents ~ Ensembles"
   ]
  },
  {
   "cell_type": "code",
   "execution_count": 17,
   "metadata": {
    "ExecuteTime": {
     "end_time": "2021-04-20T14:48:33.101055Z",
     "start_time": "2021-04-20T14:45:05.879734Z"
    },
    "deletable": false,
    "editable": false,
    "run_control": {
     "frozen": true
    }
   },
   "outputs": [
    {
     "name": "stdout",
     "output_type": "stream",
     "text": [
      "/tmp/tmptt9vhqsk/agent.py\n",
      "Multi agent elo score: 1680\n",
      "Single agent elo score: 1632\n"
     ]
    },
    {
     "data": {
      "text/plain": [
       "(1680, 1632)"
      ]
     },
     "execution_count": 17,
     "metadata": {},
     "output_type": "execute_result"
    }
   ],
   "source": [
    "simple_model_evaluation('/mnt/hdd0/Kaggle/hungry_geese/models/37_playing_against_frozen_agents/05_continue_lr2e5/epoch_3520.h5') #rhaegar"
   ]
  },
  {
   "cell_type": "raw",
   "metadata": {},
   "source": [
    "/mnt/hdd0/Kaggle/hungry_geese/models/37_playing_against_frozen_agents/05_continue_lr2e5/epoch_2260.h5 /mnt/hdd0/Kaggle/hungry_geese/models/37_playing_against_frozen_agents/05_continue_lr2e5/epoch_2380.h5 /mnt/hdd0/Kaggle/hungry_geese/models/37_playing_against_frozen_agents/05_continue_lr2e5/epoch_2560.h5 /mnt/hdd0/Kaggle/hungry_geese/models/37_playing_against_frozen_agents/05_continue_lr2e5/epoch_2800.h5 /mnt/hdd0/Kaggle/hungry_geese/models/37_playing_against_frozen_agents/05_continue_lr2e5/epoch_2920.h5 /mnt/hdd0/Kaggle/hungry_geese/models/37_playing_against_frozen_agents/05_continue_lr2e5/epoch_3080.h5 /mnt/hdd0/Kaggle/hungry_geese/models/37_playing_against_frozen_agents/05_continue_lr2e5/epoch_3240.h5 /mnt/hdd0/Kaggle/hungry_geese/models/37_playing_against_frozen_agents/05_continue_lr2e5/epoch_3360.h5 /mnt/hdd0/Kaggle/hungry_geese/models/37_playing_against_frozen_agents/05_continue_lr2e5/epoch_3440.h5 /mnt/hdd0/Kaggle/hungry_geese/models/37_playing_against_frozen_agents/05_continue_lr2e5/epoch_3520.h5 /mnt/hdd0/Kaggle/hungry_geese/models/37_playing_against_frozen_agents/05_continue_lr2e5/epoch_3680.h5 /mnt/hdd0/Kaggle/hungry_geese/models/37_playing_against_frozen_agents/05_continue_lr2e5/epoch_3780.h5 "
   ]
  },
  {
   "cell_type": "code",
   "execution_count": 20,
   "metadata": {
    "ExecuteTime": {
     "end_time": "2021-04-20T16:32:00.128114Z",
     "start_time": "2021-04-20T16:27:24.884963Z"
    },
    "deletable": false,
    "editable": false,
    "run_control": {
     "frozen": true
    }
   },
   "outputs": [
    {
     "name": "stdout",
     "output_type": "stream",
     "text": [
      "/mnt/hdd0/MEGA/AI/22 Kaggle/hungry_geese/scripts/q_value_submission/two.py\n",
      "Multi agent elo score: 1683\n",
      "Single agent elo score: 1682\n"
     ]
    },
    {
     "data": {
      "text/plain": [
       "(1683, 1682)"
      ]
     },
     "execution_count": 20,
     "metadata": {},
     "output_type": "execute_result"
    }
   ],
   "source": [
    "simple_agent_evaluation('/mnt/hdd0/MEGA/AI/22 Kaggle/hungry_geese/scripts/q_value_submission/two.py', n_matches=500)"
   ]
  },
  {
   "cell_type": "code",
   "execution_count": 21,
   "metadata": {
    "ExecuteTime": {
     "end_time": "2021-04-20T16:38:20.728835Z",
     "start_time": "2021-04-20T16:32:00.131264Z"
    },
    "deletable": false,
    "editable": false,
    "run_control": {
     "frozen": true
    }
   },
   "outputs": [
    {
     "name": "stdout",
     "output_type": "stream",
     "text": [
      "/mnt/hdd0/MEGA/AI/22 Kaggle/hungry_geese/scripts/q_value_submission/four.py\n",
      "Multi agent elo score: 1653\n",
      "Single agent elo score: 1666\n"
     ]
    },
    {
     "data": {
      "text/plain": [
       "(1653, 1666)"
      ]
     },
     "execution_count": 21,
     "metadata": {},
     "output_type": "execute_result"
    }
   ],
   "source": [
    "simple_agent_evaluation('/mnt/hdd0/MEGA/AI/22 Kaggle/hungry_geese/scripts/q_value_submission/four.py', n_matches=500)"
   ]
  },
  {
   "cell_type": "code",
   "execution_count": 22,
   "metadata": {
    "ExecuteTime": {
     "end_time": "2021-04-20T16:46:34.798344Z",
     "start_time": "2021-04-20T16:38:20.731979Z"
    },
    "deletable": false,
    "editable": false,
    "run_control": {
     "frozen": true
    }
   },
   "outputs": [
    {
     "name": "stdout",
     "output_type": "stream",
     "text": [
      "/mnt/hdd0/MEGA/AI/22 Kaggle/hungry_geese/scripts/q_value_submission/six.py\n",
      "Multi agent elo score: 1660\n",
      "Single agent elo score: 1675\n"
     ]
    },
    {
     "data": {
      "text/plain": [
       "(1660, 1675)"
      ]
     },
     "execution_count": 22,
     "metadata": {},
     "output_type": "execute_result"
    }
   ],
   "source": [
    "simple_agent_evaluation('/mnt/hdd0/MEGA/AI/22 Kaggle/hungry_geese/scripts/q_value_submission/six.py', n_matches=500)"
   ]
  },
  {
   "cell_type": "code",
   "execution_count": 23,
   "metadata": {
    "ExecuteTime": {
     "end_time": "2021-04-20T17:00:35.216668Z",
     "start_time": "2021-04-20T16:47:10.088049Z"
    },
    "deletable": false,
    "editable": false,
    "run_control": {
     "frozen": true
    }
   },
   "outputs": [
    {
     "name": "stdout",
     "output_type": "stream",
     "text": [
      "/mnt/hdd0/MEGA/AI/22 Kaggle/hungry_geese/scripts/q_value_submission/twelve.py\n",
      "Multi agent elo score: 1699\n",
      "Single agent elo score: 1696\n"
     ]
    },
    {
     "data": {
      "text/plain": [
       "(1699, 1696)"
      ]
     },
     "execution_count": 23,
     "metadata": {},
     "output_type": "execute_result"
    }
   ],
   "source": [
    "simple_agent_evaluation('/mnt/hdd0/MEGA/AI/22 Kaggle/hungry_geese/scripts/q_value_submission/twelve.py', n_matches=500)"
   ]
  },
  {
   "cell_type": "code",
   "execution_count": 28,
   "metadata": {
    "ExecuteTime": {
     "end_time": "2021-04-20T18:11:29.524760Z",
     "start_time": "2021-04-20T17:47:46.860565Z"
    },
    "deletable": false,
    "editable": false,
    "run_control": {
     "frozen": true
    }
   },
   "outputs": [
    {
     "name": "stdout",
     "output_type": "stream",
     "text": [
      "/mnt/hdd0/MEGA/AI/22 Kaggle/hungry_geese/scripts/q_value_submission/twentyfour.py\n",
      "Multi agent elo score: 1686\n",
      "Single agent elo score: 1676\n"
     ]
    },
    {
     "data": {
      "text/plain": [
       "(1686, 1676)"
      ]
     },
     "execution_count": 28,
     "metadata": {},
     "output_type": "execute_result"
    }
   ],
   "source": [
    "simple_agent_evaluation('/mnt/hdd0/MEGA/AI/22 Kaggle/hungry_geese/scripts/q_value_submission/twentyfour.py', n_matches=500)"
   ]
  },
  {
   "cell_type": "code",
   "execution_count": 29,
   "metadata": {
    "ExecuteTime": {
     "end_time": "2021-04-20T18:53:10.573774Z",
     "start_time": "2021-04-20T18:11:29.526917Z"
    },
    "deletable": false,
    "editable": false,
    "run_control": {
     "frozen": true
    }
   },
   "outputs": [
    {
     "name": "stdout",
     "output_type": "stream",
     "text": [
      "/mnt/hdd0/MEGA/AI/22 Kaggle/hungry_geese/scripts/q_value_submission/fortyfive.py\n",
      "Multi agent elo score: 1696\n",
      "Single agent elo score: 1672\n"
     ]
    },
    {
     "data": {
      "text/plain": [
       "(1696, 1672)"
      ]
     },
     "execution_count": 29,
     "metadata": {},
     "output_type": "execute_result"
    }
   ],
   "source": [
    "simple_agent_evaluation('/mnt/hdd0/MEGA/AI/22 Kaggle/hungry_geese/scripts/q_value_submission/fortyfive.py', n_matches=500)"
   ]
  },
  {
   "cell_type": "code",
   "execution_count": null,
   "metadata": {
    "ExecuteTime": {
     "end_time": "2021-04-20T17:46:26.634874Z",
     "start_time": "2021-04-20T17:46:26.588886Z"
    },
    "deletable": false,
    "editable": false,
    "run_control": {
     "frozen": true
    }
   },
   "outputs": [],
   "source": [
    "' '.join(['/mnt/hdd0/Kaggle/hungry_geese/models/37_playing_against_frozen_agents/05_continue_lr2e5/epoch_%i.h5' % epoch for epoch in np.linspace(2228, 3826, 45, dtype=np.int)])"
   ]
  },
  {
   "cell_type": "markdown",
   "metadata": {},
   "source": [
    "### Data augmentation"
   ]
  },
  {
   "cell_type": "code",
   "execution_count": 17,
   "metadata": {
    "ExecuteTime": {
     "end_time": "2021-04-22T17:51:58.220898Z",
     "start_time": "2021-04-22T17:43:15.415355Z"
    },
    "deletable": false,
    "editable": false,
    "run_control": {
     "frozen": true
    }
   },
   "outputs": [
    {
     "name": "stdout",
     "output_type": "stream",
     "text": [
      "/mnt/hdd0/MEGA/AI/22 Kaggle/hungry_geese/scripts/q_value_submission/rhaegar_data_augmentation.py\n",
      "Multi agent elo score: 1714\n",
      "Single agent elo score: 1692\n"
     ]
    },
    {
     "data": {
      "text/plain": [
       "(1714, 1692)"
      ]
     },
     "execution_count": 17,
     "metadata": {},
     "output_type": "execute_result"
    }
   ],
   "source": [
    "simple_agent_evaluation('/mnt/hdd0/MEGA/AI/22 Kaggle/hungry_geese/scripts/q_value_submission/rhaegar_data_augmentation.py', n_matches=500)"
   ]
  },
  {
   "cell_type": "code",
   "execution_count": null,
   "metadata": {},
   "outputs": [],
   "source": [
    "Clearly better than using multiple"
   ]
  },
  {
   "cell_type": "markdown",
   "metadata": {
    "heading_collapsed": true
   },
   "source": [
    "## Useful snippets"
   ]
  },
  {
   "cell_type": "code",
   "execution_count": null,
   "metadata": {
    "deletable": false,
    "editable": false,
    "hidden": true,
    "run_control": {
     "frozen": true
    }
   },
   "outputs": [],
   "source": [
    "simple_model_evaluation('/mnt/hdd0/Kaggle/hungry_geese/models/32_automated_iteration/13_continue_with_smaller_lr/epoch_0447.h5')"
   ]
  },
  {
   "cell_type": "code",
   "execution_count": null,
   "metadata": {
    "deletable": false,
    "editable": false,
    "hidden": true,
    "run_control": {
     "frozen": true
    }
   },
   "outputs": [],
   "source": [
    "simple_agent_evaluation('/mnt/hdd0/MEGA/AI/22 Kaggle/hungry_geese/data/agents/wallbreaker_data_augmentation.py', n_matches=500)"
   ]
  },
  {
   "cell_type": "code",
   "execution_count": null,
   "metadata": {
    "deletable": false,
    "editable": false,
    "hidden": true,
    "run_control": {
     "frozen": true
    }
   },
   "outputs": [],
   "source": [
    "model = keras.models.load_model('/mnt/hdd0/Kaggle/hungry_geese/models/32_automated_iteration/11_continue_with_scale_8/epoch_0347.h5', compile=False)\n",
    "model = tf.keras.models.Model(inputs=model.inputs[:2], outputs=model.layers[-3].output)\n",
    "agents = [QValueAgent(model) for idx in range(4)]\n",
    "\n",
    "[agent.reset() for agent in agents]; save_html_game(agents, '../data/saved_games/03_clip_len_reward_analysis')\n",
    "plot_q_value(agents[COLOR_TO_INDEX['white']]); plt.xlim(100)"
   ]
  },
  {
   "cell_type": "code",
   "execution_count": null,
   "metadata": {
    "ExecuteTime": {
     "start_time": "2021-03-23T13:38:12.980Z"
    },
    "deletable": false,
    "editable": false,
    "hidden": true,
    "run_control": {
     "frozen": true
    }
   },
   "outputs": [],
   "source": [
    "agent_base = '../data/agents/quantum/epsilon_quantum_010.py'\n",
    "best_5_agents = [agents[name] for name in initial_elo_ranking.index.values[:4]]\n",
    "best_5_agents += ['/mnt/hdd0/Kaggle/hungry_geese/models/25_ladder_of_agents/04_epsilon010_vs_best5_reward_-4_4_x128_80000_pretrained/q_value_agent.py']\n",
    "sampling_agent_func = lambda: [agent_base] + np.random.choice(best_5_agents, 3).tolist()\n",
    "\n",
    "for n_matches in [8000, 39000, 40000]:\n",
    "    output_path = '/mnt/hdd0/Kaggle/hungry_geese/games/%s_vs_best5_it2_matches_%i.json' % (os.path.splitext(os.path.basename(agent_base))[0], n_matches)\n",
    "    play_matches_in_parallel_and_save_history(agents=sampling_agent_func, n_matches=n_matches, output_path=output_path)\n",
    "    \n",
    "reward_name = 'ranking_reward_-4_4'\n",
    "\n",
    "saved_games_paths = ['/mnt/hdd0/Kaggle/hungry_geese/games/%s_vs_best5_it2_matches_%i.json' % (os.path.splitext(os.path.basename(agent_base))[0], n_matches) for n_matches in [8000]]\n",
    "output_path = '/mnt/hdd0/Kaggle/hungry_geese/data/%s/%s_vs_best5_it2_matches_%i.npz' % (reward_name, os.path.splitext(os.path.basename(agent_base))[0], 8000)\n",
    "create_train_data_from_saved_matches(saved_games_paths, reward_name, output_path, agent_idx_range=[0])\n",
    "\n",
    "saved_games_paths = ['/mnt/hdd0/Kaggle/hungry_geese/games/%s_vs_best5_it2_matches_%i.json' % (os.path.splitext(os.path.basename(agent_base))[0], n_matches) for n_matches in [39000, 40000]]\n",
    "output_path = '/mnt/hdd0/Kaggle/hungry_geese/data/%s/%s_vs_best5_it2_matches_%i.npz' % (reward_name, os.path.splitext(os.path.basename(agent_base))[0], 80000)\n",
    "create_train_data_from_saved_matches(saved_games_paths, reward_name, output_path, agent_idx_range=[0])"
   ]
  },
  {
   "cell_type": "code",
   "execution_count": null,
   "metadata": {
    "deletable": false,
    "editable": false,
    "hidden": true,
    "run_control": {
     "frozen": true
    }
   },
   "outputs": [],
   "source": [
    "agent_names = initial_elo_ranking.index.values.tolist()[:4]\n",
    "output_folder = '../data/saved_games/02_quantum'\n",
    "save_html_games([agents[name] for name in agent_names], output_folder, n_games=10)"
   ]
  },
  {
   "cell_type": "code",
   "execution_count": null,
   "metadata": {
    "deletable": false,
    "editable": false,
    "hidden": true,
    "run_control": {
     "frozen": true
    }
   },
   "outputs": [],
   "source": [
    "ret = evaluate_agent(\n",
    "    {'q_value_pretrained': '/mnt/hdd0/Kaggle/hungry_geese/models/25_ladder_of_agents/01_epsilon025_reward_-4_4_x128_30000_pretrained/q_value_agent.py'},\n",
    "    initial_elo_ranking.index.values.tolist()[:5],\n",
    "    n_matches=500, single_agent=False, max_workers=20)\n",
    "compute_elo_ranking(*ret)"
   ]
  },
  {
   "cell_type": "code",
   "execution_count": null,
   "metadata": {
    "deletable": false,
    "editable": false,
    "hidden": true,
    "run_control": {
     "frozen": true
    }
   },
   "outputs": [],
   "source": [
    "agent_filepaths = sorted(glob.glob('/mnt/hdd0/Kaggle/hungry_geese/models/28_architecture_study/*/q_value_agent.py'))\n",
    "print(agent_filepaths)\n",
    "df = pd.DataFrame()\n",
    "for agent_filepath in agent_filepaths:\n",
    "    print(df)\n",
    "    ret = simple_agent_evaluation(agent_filepath, n_matches=500)\n",
    "    name = os.path.basename(os.path.dirname(agent_filepath))\n",
    "    df.loc[name, 'multi'] = ret[0]\n",
    "    df.loc[name, 'single'] = ret[1]\n",
    "df"
   ]
  },
  {
   "cell_type": "markdown",
   "metadata": {},
   "source": [
    "## Summary"
   ]
  },
  {
   "cell_type": "code",
   "execution_count": null,
   "metadata": {},
   "outputs": [],
   "source": []
  }
 ],
 "metadata": {
  "hide_input": false,
  "kernelspec": {
   "display_name": "Python (goose)",
   "language": "python",
   "name": "goose"
  },
  "language_info": {
   "codemirror_mode": {
    "name": "ipython",
    "version": 3
   },
   "file_extension": ".py",
   "mimetype": "text/x-python",
   "name": "python",
   "nbconvert_exporter": "python",
   "pygments_lexer": "ipython3",
   "version": "3.7.9"
  },
  "toc": {
   "base_numbering": 1,
   "nav_menu": {},
   "number_sections": false,
   "sideBar": true,
   "skip_h1_title": false,
   "title_cell": "Table of Contents",
   "title_sidebar": "Contents",
   "toc_cell": true,
   "toc_position": {
    "height": "769px",
    "left": "80px",
    "top": "159px",
    "width": "222.594px"
   },
   "toc_section_display": true,
   "toc_window_display": true
  }
 },
 "nbformat": 4,
 "nbformat_minor": 4
}
