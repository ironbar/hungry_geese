{
 "cells": [
  {
   "cell_type": "markdown",
   "metadata": {
    "toc": true
   },
   "source": [
    "<h1>Table of Contents<span class=\"tocSkip\"></span></h1>\n",
    "<div class=\"toc\"><ul class=\"toc-item\"><li><span><a href=\"#Explore-other-reward-functions\" data-toc-modified-id=\"Explore-other-reward-functions-1\">Explore other reward functions</a></span><ul class=\"toc-item\"><li><span><a href=\"#Goal\" data-toc-modified-id=\"Goal-1.1\">Goal</a></span></li><li><span><a href=\"#Imports\" data-toc-modified-id=\"Imports-1.2\">Imports</a></span></li><li><span><a href=\"#Code\" data-toc-modified-id=\"Code-1.3\">Code</a></span><ul class=\"toc-item\"><li><span><a href=\"#Data-generation\" data-toc-modified-id=\"Data-generation-1.3.1\">Data generation</a></span></li><li><span><a href=\"#Evaluation\" data-toc-modified-id=\"Evaluation-1.3.2\">Evaluation</a></span></li><li><span><a href=\"#Visualization\" data-toc-modified-id=\"Visualization-1.3.3\">Visualization</a></span></li></ul></li><li><span><a href=\"#Visualizing-games\" data-toc-modified-id=\"Visualizing-games-1.4\">Visualizing games</a></span></li><li><span><a href=\"#Useful-snippets\" data-toc-modified-id=\"Useful-snippets-1.5\">Useful snippets</a></span></li><li><span><a href=\"#Summary\" data-toc-modified-id=\"Summary-1.6\">Summary</a></span></li></ul></li></ul></div>"
   ]
  },
  {
   "cell_type": "markdown",
   "metadata": {},
   "source": [
    "# Explore other reward functions"
   ]
  },
  {
   "cell_type": "markdown",
   "metadata": {},
   "source": [
    "## Goal"
   ]
  },
  {
   "cell_type": "markdown",
   "metadata": {},
   "source": [
    "The goal of this notebooks is to continue learning about the Q value function, but trying other reward methods.\n",
    "\n",
    "This is a continuation of notebook 004, which had become too big. In this notebook I will split the functionality\n",
    "of playing games and generating data from training from those games."
   ]
  },
  {
   "cell_type": "markdown",
   "metadata": {},
   "source": [
    "## Imports"
   ]
  },
  {
   "cell_type": "code",
   "execution_count": 1,
   "metadata": {
    "ExecuteTime": {
     "end_time": "2021-04-11T15:37:41.533773Z",
     "start_time": "2021-04-11T15:37:41.521392Z"
    }
   },
   "outputs": [],
   "source": [
    "# Use this to reload changes in python scripts\n",
    "%load_ext autoreload\n",
    "%autoreload 2"
   ]
  },
  {
   "cell_type": "code",
   "execution_count": 2,
   "metadata": {
    "ExecuteTime": {
     "end_time": "2021-04-11T15:37:42.739557Z",
     "start_time": "2021-04-11T15:37:41.535834Z"
    }
   },
   "outputs": [
    {
     "name": "stdout",
     "output_type": "stream",
     "text": [
      "Loading environment football failed: No module named 'gfootball'\n"
     ]
    }
   ],
   "source": [
    "import os\n",
    "import sys\n",
    "import kaggle_environments\n",
    "from kaggle_environments import make\n",
    "from kaggle_environments import evaluate\n",
    "from kaggle_environments.envs.hungry_geese.hungry_geese import Action\n",
    "import numpy as np\n",
    "import matplotlib.pyplot as plt\n",
    "import matplotlib as mpl\n",
    "import random\n",
    "import pandas as pd\n",
    "from tqdm.notebook import tqdm\n",
    "import time\n",
    "from itertools import permutations\n",
    "from functools import partial\n",
    "import gc\n",
    "from concurrent.futures import ProcessPoolExecutor\n",
    "import json\n",
    "import logging\n",
    "import glob\n",
    "from IPython.display import clear_output\n",
    "import tempfile\n",
    "import yaml\n",
    "\n",
    "os.environ['TF_FORCE_GPU_ALLOW_GROWTH'] = 'true'\n",
    "os.environ['CUDA_VISIBLE_DEVICES'] = ''\n",
    "#os.environ['CUDA_VISIBLE_DEVICES'] = '0'\n",
    "\n",
    "import tensorflow as tf\n",
    "import tensorflow.keras as keras\n",
    "\n",
    "from hungry_geese import GameState\n",
    "from hungry_geese.state import make_board_egocentric, get_head_position, combine_data, horizontal_simmetry, vertical_simmetry\n",
    "from hungry_geese.utils import ACTIONS, opposite_action, get_timestamp, log_ram_usage, configure_logging\n",
    "from hungry_geese.definitions import ACTION_TO_IDX\n",
    "from hungry_geese.agents import EpsilonAgent, QValueAgent\n",
    "from hungry_geese.evaluation import play_matches_in_parallel, monitor_progress\n",
    "from hungry_geese.elo import EloRanking\n",
    "from hungry_geese.model import simple_model, create_model_for_training\n",
    "\n",
    "%config Completer.use_jedi = False"
   ]
  },
  {
   "cell_type": "code",
   "execution_count": 3,
   "metadata": {
    "ExecuteTime": {
     "end_time": "2021-04-11T15:37:42.770029Z",
     "start_time": "2021-04-11T15:37:42.741064Z"
    }
   },
   "outputs": [],
   "source": [
    "plt.plot()\n",
    "plt.close('all')\n",
    "plt.rcParams[\"figure.figsize\"] = (30, 5)  \n",
    "mpl.rcParams['lines.linewidth'] = 3\n",
    "mpl.rcParams['font.size'] = 16\n",
    "\n",
    "configure_logging(logging.INFO)\n",
    "logger = logging.getLogger(__name__)"
   ]
  },
  {
   "cell_type": "markdown",
   "metadata": {},
   "source": [
    "## Code"
   ]
  },
  {
   "cell_type": "markdown",
   "metadata": {
    "heading_collapsed": true
   },
   "source": [
    "### Data generation"
   ]
  },
  {
   "cell_type": "code",
   "execution_count": 4,
   "metadata": {
    "ExecuteTime": {
     "end_time": "2021-04-11T15:37:42.794060Z",
     "start_time": "2021-04-11T15:37:42.772523Z"
    },
    "hidden": true
   },
   "outputs": [],
   "source": [
    "def play_matches_in_parallel_and_save_history(agents, max_workers=20, n_matches=1000,\n",
    "                                              output_path=None,\n",
    "                                              running_on_notebook=True):\n",
    "    \"\"\"\n",
    "    Plays n_matches in parallel using ProcessPoolExecutor\n",
    "\n",
    "    Parameters\n",
    "    -----------\n",
    "    agents : list\n",
    "        List of the agents that we will use for playing\n",
    "    \"\"\"\n",
    "    log_ram_usage()\n",
    "    output_path = output_path or get_games_output_path(agents, n_matches)\n",
    "    assert not os.path.exists(output_path), 'Output path already exists: %s' % output_path\n",
    "    with ProcessPoolExecutor(max_workers=max_workers) as pool:\n",
    "        matches_results = []\n",
    "        submits = []\n",
    "        for i in range(n_matches):\n",
    "            if isinstance(agents, list):\n",
    "                submits.append(pool.submit(play_game, agents=agents))\n",
    "            elif callable(agents):\n",
    "                submits.append(pool.submit(play_game, agents=agents()))\n",
    "            else:\n",
    "                raise TypeError(type(agents))\n",
    "        monitor_progress(submits, running_on_notebook)\n",
    "        matches_results = [submit.result() for submit in submits]\n",
    "    \n",
    "    log_ram_usage()\n",
    "    logger.info('saving matches to json: %s' % output_path)\n",
    "    os.makedirs(os.path.dirname(output_path), exist_ok=True)\n",
    "    with open(output_path, 'w') as f:\n",
    "        json.dump(matches_results, f)\n",
    "        \n",
    "    del submits\n",
    "    del matches_results\n",
    "    gc.collect()\n",
    "    log_ram_usage()\n",
    "\n",
    "def play_game(agents):\n",
    "    env = make(\"hungry_geese\")\n",
    "    return env.run(agents=agents)\n",
    "\n",
    "def get_games_output_path(agents, n_matches):\n",
    "    output_path = '/mnt/hdd0/Kaggle/hungry_geese/games/%s_vs_%s_matches_%i.json' % (\n",
    "        os.path.splitext(os.path.basename(agents[0]))[0], \n",
    "        os.path.splitext(os.path.basename(agents[1]))[0], \n",
    "        n_matches)\n",
    "    return output_path"
   ]
  },
  {
   "cell_type": "code",
   "execution_count": 5,
   "metadata": {
    "ExecuteTime": {
     "end_time": "2021-04-11T15:37:42.813186Z",
     "start_time": "2021-04-11T15:37:42.795147Z"
    },
    "hidden": true
   },
   "outputs": [],
   "source": [
    "def test_agent(agent):\n",
    "    print('Testing agent: %s' % agent)\n",
    "    env = make('hungry_geese', debug=True)\n",
    "    env.run([agent]*4)"
   ]
  },
  {
   "cell_type": "code",
   "execution_count": 6,
   "metadata": {
    "ExecuteTime": {
     "end_time": "2021-04-11T15:37:42.835699Z",
     "start_time": "2021-04-11T15:37:42.814318Z"
    },
    "hidden": true
   },
   "outputs": [],
   "source": [
    "def create_train_data_from_saved_matches(saved_games_paths, reward_name, output_path, agent_idx_range=None):\n",
    "    \"\"\"\n",
    "    Creates train data without any simmetry\n",
    "    \n",
    "    Parameters\n",
    "    ----------\n",
    "    saved_games_paths : list of str\n",
    "        Path to the games that we want to use\n",
    "    reward_name : str\n",
    "        Name of the reward function that we want to use\n",
    "    output_path : str\n",
    "        Path to the file were we are going to save the results\n",
    "    max_workers : int\n",
    "    agent_idx_range : list of int\n",
    "        Idx of the agents we want to use for collecting data, if None all the agents\n",
    "        will be used\n",
    "    \"\"\"\n",
    "    env = make(\"hungry_geese\")\n",
    "    conf = env.configuration\n",
    "\n",
    "    state = GameState(reward_name=reward_name)\n",
    "    train_data = []\n",
    "    agent_idx_range = agent_idx_range or list(range(4))\n",
    "    \n",
    "    for saved_games_path in tqdm(saved_games_paths, desc='looping over saved games'):\n",
    "        log_ram_usage()\n",
    "        with open(saved_games_path, 'r') as f:\n",
    "            matches_results = json.load(f)\n",
    "        log_ram_usage()\n",
    "    \n",
    "        for _ in tqdm(range(len(matches_results)), desc='Creating game data'):\n",
    "            match = matches_results[0]\n",
    "            for idx in agent_idx_range:\n",
    "                state.reset()\n",
    "                for step_idx, step in enumerate(match):\n",
    "                    observation = step[0]['observation'].copy()\n",
    "                    observation['index'] = idx\n",
    "                    state.update(observation, conf)\n",
    "                    if step_idx:\n",
    "                        state.add_action(step[idx]['action'])\n",
    "                    if not observation['geese'][idx]:\n",
    "                        break\n",
    "                train_data.append(state.prepare_data_for_training())\n",
    "            del matches_results[0]\n",
    "        \n",
    "    log_ram_usage()\n",
    "    logger.info('Going to combine the data')\n",
    "    train_data = combine_data(train_data)\n",
    "    log_ram_usage()\n",
    "    logger.info('Size of the boards is %.1f GB (%s [%.1f GB])' % (\n",
    "        train_data[0].nbytes/1e9,\n",
    "        str([round(data.nbytes/1e9, 1) for data in train_data]),\n",
    "        np.sum([data.nbytes/1e9 for data in train_data])))\n",
    "    logger.info('Saving data on: %s' % output_path)\n",
    "    os.makedirs(os.path.dirname(output_path), exist_ok=True)\n",
    "    np.savez_compressed(output_path, boards=train_data[0], features=train_data[1], actions=train_data[2], rewards=train_data[3])\n",
    "    del state\n",
    "    del train_data\n",
    "    gc.collect()\n",
    "    log_ram_usage()"
   ]
  },
  {
   "cell_type": "code",
   "execution_count": 7,
   "metadata": {
    "ExecuteTime": {
     "end_time": "2021-04-11T15:37:42.875127Z",
     "start_time": "2021-04-11T15:37:42.839715Z"
    },
    "hidden": true
   },
   "outputs": [],
   "source": [
    "def create_train_data(agents, n_matches, reward_name, agent_idx_range=None):\n",
    "    \"\"\"\n",
    "    Creates train data without any simmetry\n",
    "    \n",
    "    Parameters\n",
    "    ----------\n",
    "    agents : list of str\n",
    "        Names or paths of the agents\n",
    "    n_matches : int\n",
    "        Number of matches to play\n",
    "    reward_name : str\n",
    "        Name of the reward function that we want to use\n",
    "    max_workers : int\n",
    "    agent_idx_range : list of int\n",
    "        Idx of the agents we want to use for collecting data, if None all the agents\n",
    "        will be used\n",
    "    \"\"\"\n",
    "    saved_games_path = get_games_output_path(agents, n_matches)\n",
    "    if not os.path.exists(saved_games_path):\n",
    "        play_matches_in_parallel_and_save_history(agents, n_matches=n_matches)\n",
    "\n",
    "    output_path = get_data_output_path(agents, n_matches, reward_name)\n",
    "    create_train_data_from_saved_matches([saved_games_path], reward_name, output_path, agent_idx_range=agent_idx_range)\n",
    "    \n",
    "def get_data_output_path(agents, n_matches, reward_name):\n",
    "    output_file = '/mnt/hdd0/Kaggle/hungry_geese/data/%s/%s_vs_%s_matches_%i.npz' % (\n",
    "        reward_name,\n",
    "        os.path.splitext(os.path.basename(agents[0]))[0], \n",
    "        os.path.splitext(os.path.basename(agents[1]))[0], \n",
    "        n_matches)\n",
    "    return output_file"
   ]
  },
  {
   "cell_type": "markdown",
   "metadata": {
    "heading_collapsed": true
   },
   "source": [
    "### Evaluation"
   ]
  },
  {
   "cell_type": "code",
   "execution_count": 8,
   "metadata": {
    "ExecuteTime": {
     "end_time": "2021-04-11T15:37:42.920637Z",
     "start_time": "2021-04-11T15:37:42.877881Z"
    },
    "hidden": true
   },
   "outputs": [
    {
     "data": {
      "text/html": [
       "<div>\n",
       "<style scoped>\n",
       "    .dataframe tbody tr th:only-of-type {\n",
       "        vertical-align: middle;\n",
       "    }\n",
       "\n",
       "    .dataframe tbody tr th {\n",
       "        vertical-align: top;\n",
       "    }\n",
       "\n",
       "    .dataframe thead th {\n",
       "        text-align: right;\n",
       "    }\n",
       "</style>\n",
       "<table border=\"1\" class=\"dataframe\">\n",
       "  <thead>\n",
       "    <tr style=\"text-align: right;\">\n",
       "      <th></th>\n",
       "      <th>ranking</th>\n",
       "    </tr>\n",
       "    <tr>\n",
       "      <th>model</th>\n",
       "      <th></th>\n",
       "    </tr>\n",
       "  </thead>\n",
       "  <tbody>\n",
       "    <tr>\n",
       "      <th>wallbreaker</th>\n",
       "      <td>1515</td>\n",
       "    </tr>\n",
       "    <tr>\n",
       "      <th>quantum</th>\n",
       "      <td>1398</td>\n",
       "    </tr>\n",
       "    <tr>\n",
       "      <th>boilergoose</th>\n",
       "      <td>1269</td>\n",
       "    </tr>\n",
       "    <tr>\n",
       "      <th>besthoarder</th>\n",
       "      <td>1227</td>\n",
       "    </tr>\n",
       "    <tr>\n",
       "      <th>crazy_goose</th>\n",
       "      <td>1186</td>\n",
       "    </tr>\n",
       "    <tr>\n",
       "      <th>risk_averse_goose</th>\n",
       "      <td>1176</td>\n",
       "    </tr>\n",
       "    <tr>\n",
       "      <th>goose_on_a_healthy_diet</th>\n",
       "      <td>1157</td>\n",
       "    </tr>\n",
       "    <tr>\n",
       "      <th>straightforward_bfs</th>\n",
       "      <td>1004</td>\n",
       "    </tr>\n",
       "    <tr>\n",
       "      <th>greedy</th>\n",
       "      <td>981</td>\n",
       "    </tr>\n",
       "    <tr>\n",
       "      <th>greedyhoarder</th>\n",
       "      <td>766</td>\n",
       "    </tr>\n",
       "    <tr>\n",
       "      <th>random_plus</th>\n",
       "      <td>706</td>\n",
       "    </tr>\n",
       "    <tr>\n",
       "      <th>random</th>\n",
       "      <td>523</td>\n",
       "    </tr>\n",
       "  </tbody>\n",
       "</table>\n",
       "</div>"
      ],
      "text/plain": [
       "                         ranking\n",
       "model                           \n",
       "wallbreaker                 1515\n",
       "quantum                     1398\n",
       "boilergoose                 1269\n",
       "besthoarder                 1227\n",
       "crazy_goose                 1186\n",
       "risk_averse_goose           1176\n",
       "goose_on_a_healthy_diet     1157\n",
       "straightforward_bfs         1004\n",
       "greedy                       981\n",
       "greedyhoarder                766\n",
       "random_plus                  706\n",
       "random                       523"
      ]
     },
     "execution_count": 8,
     "metadata": {},
     "output_type": "execute_result"
    }
   ],
   "source": [
    "initial_elo_ranking = pd.read_csv('../data/elo_ranking.csv', index_col='model')\n",
    "initial_elo_ranking"
   ]
  },
  {
   "cell_type": "code",
   "execution_count": 9,
   "metadata": {
    "ExecuteTime": {
     "end_time": "2021-04-11T15:37:42.941230Z",
     "start_time": "2021-04-11T15:37:42.921861Z"
    },
    "hidden": true
   },
   "outputs": [],
   "source": [
    "with open('../data/agents.yml', 'r') as f:\n",
    "    agents = yaml.safe_load(f)"
   ]
  },
  {
   "cell_type": "code",
   "execution_count": 10,
   "metadata": {
    "ExecuteTime": {
     "end_time": "2021-04-11T15:37:42.964496Z",
     "start_time": "2021-04-11T15:37:42.942319Z"
    },
    "hidden": true
   },
   "outputs": [],
   "source": [
    "def evaluate_agent(new_agent, adversary_agents, n_matches, single_agent=True, max_workers=20, run_agent_test=False):\n",
    "    agent_name = list(new_agent.keys())[0]\n",
    "    # I have found that for certain agents if the test is run then evaluation is frozen\n",
    "    if run_agent_test: test_agent(new_agent[agent_name])\n",
    "    reduced_agents_set = new_agent.copy()\n",
    "    for adversary_agent in adversary_agents:\n",
    "        reduced_agents_set[adversary_agent] = agents[adversary_agent]\n",
    "    \n",
    "    if single_agent:\n",
    "        sample_agents_func = lambda: [agent_name] + np.random.choice(adversary_agents, 3, replace=False).tolist()\n",
    "    else:\n",
    "        def sample_agents_func():\n",
    "            while 1:\n",
    "                sampled_agents = [agent_name] + np.random.choice(adversary_agents + [agent_name], 3).tolist()\n",
    "                if len(np.unique(sampled_agents)) >=2:\n",
    "                    break\n",
    "            return sampled_agents\n",
    "\n",
    "    matches_agents, matches_results = play_matches_in_parallel(reduced_agents_set, sample_agents_func, n_matches=n_matches, max_workers=max_workers)\n",
    "    return matches_agents, matches_results, reduced_agents_set\n",
    "    \n",
    "def compute_elo_ranking(matches_agents, matches_results, reduced_agents_set):\n",
    "    initial_agent_elo = 1000\n",
    "    for k in [32, 16, 8, 4, 2, 1]:\n",
    "        agent_name = [name for name in reduced_agents_set if name not in initial_elo_ranking][0]\n",
    "        initial_ranking = initial_elo_ranking.to_dict()['ranking']\n",
    "        initial_ranking[agent_name] = initial_agent_elo\n",
    "        initial_ranking = {key: initial_ranking[key] for key in reduced_agents_set}\n",
    "        elo_ranking = EloRanking(initial_ranking, {agent_name}, k=k)\n",
    "        for match_agents, match_results in zip(matches_agents, matches_results):\n",
    "            elo_ranking.add_match(match_agents, match_results)\n",
    "        initial_agent_elo = elo_ranking.summary().loc[agent_name, 'ranking']\n",
    "    elo_ranking.plot()\n",
    "    return elo_ranking.summary()"
   ]
  },
  {
   "cell_type": "code",
   "execution_count": 11,
   "metadata": {
    "ExecuteTime": {
     "end_time": "2021-04-11T15:37:42.985433Z",
     "start_time": "2021-04-11T15:37:42.965642Z"
    },
    "hidden": true
   },
   "outputs": [],
   "source": [
    "def simple_agent_evaluation(agent_path, n_matches=500):\n",
    "    \"\"\"\n",
    "    Computes single and multi agents scores and returns them\n",
    "    \n",
    "    Parameters\n",
    "    ----------\n",
    "    multi_agent_elo_score\n",
    "    single_agent_elo_score\n",
    "    \"\"\"\n",
    "    ret = evaluate_agent(\n",
    "        {'q_value_pretrained': agent_path},\n",
    "        initial_elo_ranking.index.values.tolist()[:5],\n",
    "        n_matches=n_matches, single_agent=False, max_workers=20)\n",
    "    table_multi = compute_elo_ranking(*ret)\n",
    "    ret = evaluate_agent(\n",
    "        {'q_value_pretrained': agent_path},\n",
    "        initial_elo_ranking.index.values.tolist()[:5],\n",
    "        n_matches=n_matches, single_agent=True, max_workers=20)\n",
    "    table_single = compute_elo_ranking(*ret)\n",
    "    plt.close('all')\n",
    "    clear_output()\n",
    "    print(agent_path)\n",
    "    print('Multi agent elo score: %i' % table_multi.loc['q_value_pretrained', 'ranking'])\n",
    "    print('Single agent elo score: %i' % table_single.loc['q_value_pretrained', 'ranking'])\n",
    "    return table_multi.loc['q_value_pretrained', 'ranking'], table_single.loc['q_value_pretrained', 'ranking']"
   ]
  },
  {
   "cell_type": "code",
   "execution_count": 12,
   "metadata": {
    "ExecuteTime": {
     "end_time": "2021-04-11T15:37:43.005555Z",
     "start_time": "2021-04-11T15:37:42.986915Z"
    },
    "hidden": true
   },
   "outputs": [],
   "source": [
    "def simple_model_evaluation(model_path, n_matches=500):\n",
    "    model_path = os.path.realpath(model_path)\n",
    "    text = \"\"\"\n",
    "import os\n",
    "from hungry_geese.agents import QValueAgent\n",
    "os.environ['CUDA_VISIBLE_DEVICES'] = ''\n",
    "import tensorflow as tf\n",
    "model = tf.keras.models.load_model('model_path', compile=False)\n",
    "model = tf.keras.models.Model(inputs=model.inputs[:2], outputs=model.layers[-3].output)\n",
    "q_value_agent = QValueAgent(model)\n",
    "def agent(obs, config):\n",
    "    return q_value_agent(obs, config)\n",
    "    \"\"\"\n",
    "    text = text.replace('model_path', model_path)\n",
    "    with tempfile.TemporaryDirectory() as tempdir:\n",
    "        agent_filepath = os.path.join(tempdir, 'agent.py')\n",
    "        with open(agent_filepath, 'w') as f:\n",
    "            f.write(text)\n",
    "        output = simple_agent_evaluation(agent_filepath, n_matches=n_matches)\n",
    "    return output"
   ]
  },
  {
   "cell_type": "markdown",
   "metadata": {},
   "source": [
    "### Visualization"
   ]
  },
  {
   "cell_type": "code",
   "execution_count": 13,
   "metadata": {
    "ExecuteTime": {
     "end_time": "2021-04-11T15:37:43.036544Z",
     "start_time": "2021-04-11T15:37:43.006557Z"
    }
   },
   "outputs": [],
   "source": [
    "def plot_q_value(agent):\n",
    "    values = np.array(agent.q_values)\n",
    "    for idx, action in enumerate(ACTIONS):\n",
    "        plt.plot(values[:, idx], label=action, alpha=0.6, marker='o')\n",
    "    plt.legend(loc=0)\n",
    "    plt.grid()"
   ]
  },
  {
   "cell_type": "code",
   "execution_count": 14,
   "metadata": {
    "ExecuteTime": {
     "end_time": "2021-04-11T15:37:43.060034Z",
     "start_time": "2021-04-11T15:37:43.038034Z"
    }
   },
   "outputs": [],
   "source": [
    "COLOR_TO_INDEX = dict(white=0, blue=1, green=2, red=3)"
   ]
  },
  {
   "cell_type": "code",
   "execution_count": 15,
   "metadata": {
    "ExecuteTime": {
     "end_time": "2021-04-11T15:37:43.079273Z",
     "start_time": "2021-04-11T15:37:43.061017Z"
    }
   },
   "outputs": [],
   "source": [
    "def save_html_game(agents, output_folder):\n",
    "    \"\"\"\n",
    "    Plays a game, saves to file and opens it on google chrome\n",
    "    \n",
    "    \n",
    "    Order of the agents\n",
    "    \n",
    "    - 0 white\n",
    "    - 1 blue\n",
    "    - 2 green\n",
    "    - 3 red\n",
    "    \"\"\"\n",
    "    os.makedirs(output_folder, exist_ok=True)\n",
    "    env = make('hungry_geese')\n",
    "    ret = env.run(agents);\n",
    "    html_content = env.render(mode=\"html\")\n",
    "    filepath = os.path.join(output_folder, '%s.html' % get_timestamp())\n",
    "    with open(filepath, 'w') as f:\n",
    "        f.write(html_content)\n",
    "    print(filepath)\n",
    "    os.system('google-chrome \"%s\"' % os.path.realpath(filepath))"
   ]
  },
  {
   "cell_type": "code",
   "execution_count": 16,
   "metadata": {
    "ExecuteTime": {
     "end_time": "2021-04-11T15:37:43.097862Z",
     "start_time": "2021-04-11T15:37:43.080210Z"
    }
   },
   "outputs": [],
   "source": [
    "def save_html_games(agents, output_folder, n_games=10):\n",
    "    os.makedirs(output_folder, exist_ok=True)\n",
    "    env = make('hungry_geese')\n",
    "    for game_idx in tqdm(range(n_games)):\n",
    "        ret = env.run(agents);\n",
    "        html_content = env.render(mode=\"html\")\n",
    "        filepath = os.path.join(output_folder, '%02d.html' % game_idx)\n",
    "        with open(filepath, 'w') as f:\n",
    "            f.write(html_content)"
   ]
  },
  {
   "cell_type": "markdown",
   "metadata": {},
   "source": [
    "## Visualizing games "
   ]
  },
  {
   "cell_type": "code",
   "execution_count": 17,
   "metadata": {
    "ExecuteTime": {
     "end_time": "2021-04-11T15:37:43.202086Z",
     "start_time": "2021-04-11T15:37:43.098701Z"
    }
   },
   "outputs": [],
   "source": [
    "model = keras.models.load_model('/mnt/hdd0/Kaggle/hungry_geese/models/36_deep_learning_longer_trains/07_x64_discount_factor_1/epoch_0187.h5', compile=False)\n",
    "model = tf.keras.models.Model(inputs=model.inputs[:2], outputs=model.layers[-3].output)\n",
    "agents = [QValueAgent(model) for idx in range(4)]"
   ]
  },
  {
   "cell_type": "code",
   "execution_count": 18,
   "metadata": {
    "ExecuteTime": {
     "end_time": "2021-04-11T15:37:45.466513Z",
     "start_time": "2021-04-11T15:37:43.203060Z"
    }
   },
   "outputs": [
    {
     "name": "stdout",
     "output_type": "stream",
     "text": [
      "../data/saved_games/04_discount_factor_1/2021_04_11_17_37_45.html\n"
     ]
    }
   ],
   "source": [
    "[agent.reset() for agent in agents]; save_html_game(agents, '../data/saved_games/04_discount_factor_1')"
   ]
  },
  {
   "cell_type": "markdown",
   "metadata": {},
   "source": [
    "It is strange that at epoch 33 white does not eat food."
   ]
  },
  {
   "cell_type": "code",
   "execution_count": 32,
   "metadata": {
    "ExecuteTime": {
     "end_time": "2021-04-11T15:54:25.782200Z",
     "start_time": "2021-04-11T15:54:23.827039Z"
    }
   },
   "outputs": [
    {
     "name": "stdout",
     "output_type": "stream",
     "text": [
      "../data/saved_games/04_discount_factor_1/2021_04_11_17_54_25.html\n"
     ]
    }
   ],
   "source": [
    "[agent.reset() for agent in agents]; save_html_game(agents, '../data/saved_games/04_discount_factor_1')"
   ]
  },
  {
   "cell_type": "markdown",
   "metadata": {},
   "source": [
    "At epoch 117 prediction of white is totally wrong."
   ]
  },
  {
   "cell_type": "code",
   "execution_count": 45,
   "metadata": {
    "ExecuteTime": {
     "end_time": "2021-04-11T16:03:20.278332Z",
     "start_time": "2021-04-11T16:03:18.313226Z"
    }
   },
   "outputs": [
    {
     "name": "stdout",
     "output_type": "stream",
     "text": [
      "../data/saved_games/04_discount_factor_1/2021_04_11_18_03_20.html\n"
     ]
    }
   ],
   "source": [
    "[agent.reset() for agent in agents]; save_html_game(agents, '../data/saved_games/04_discount_factor_1')"
   ]
  },
  {
   "cell_type": "code",
   "execution_count": 41,
   "metadata": {
    "ExecuteTime": {
     "end_time": "2021-04-11T15:59:06.067586Z",
     "start_time": "2021-04-11T15:59:06.016675Z"
    }
   },
   "outputs": [
    {
     "data": {
      "text/plain": [
       "array([ 6.97418  ,  7.994207 ,  8.060628 , -1.8417306], dtype=float32)"
      ]
     },
     "execution_count": 41,
     "metadata": {},
     "output_type": "execute_result"
    }
   ],
   "source": [
    "agents[COLOR_TO_INDEX['green']].q_values[142]"
   ]
  },
  {
   "cell_type": "code",
   "execution_count": 47,
   "metadata": {
    "ExecuteTime": {
     "end_time": "2021-04-11T16:05:31.652028Z",
     "start_time": "2021-04-11T16:05:31.480416Z"
    }
   },
   "outputs": [
    {
     "data": {
      "text/plain": [
       "(155.0, 171.15)"
      ]
     },
     "execution_count": 47,
     "metadata": {},
     "output_type": "execute_result"
    },
    {
     "data": {
      "image/png": "[encoded data removed]",
      "text/plain": [
       "<Figure size 2160x360 with 1 Axes>"
      ]
     },
     "metadata": {
      "needs_background": "light"
     },
     "output_type": "display_data"
    }
   ],
   "source": [
    "plot_q_value(agents[COLOR_TO_INDEX['green']]); plt.xlim(155)"
   ]
  },
  {
   "cell_type": "code",
   "execution_count": 21,
   "metadata": {
    "ExecuteTime": {
     "end_time": "2021-04-11T15:41:16.419834Z",
     "start_time": "2021-04-11T15:41:16.241306Z"
    }
   },
   "outputs": [
    {
     "data": {
      "text/plain": [
       "(190.0, 207.9)"
      ]
     },
     "execution_count": 21,
     "metadata": {},
     "output_type": "execute_result"
    },
    {
     "data": {
      "image/png": "[encoded data removed]",
      "text/plain": [
       "<Figure size 2160x360 with 1 Axes>"
      ]
     },
     "metadata": {
      "needs_background": "light"
     },
     "output_type": "display_data"
    }
   ],
   "source": [
    "plot_q_value(agents[COLOR_TO_INDEX['red']]); plt.xlim(190)"
   ]
  },
  {
   "cell_type": "markdown",
   "metadata": {},
   "source": [
    "## Useful snippets"
   ]
  },
  {
   "cell_type": "code",
   "execution_count": null,
   "metadata": {
    "deletable": false,
    "editable": false,
    "run_control": {
     "frozen": true
    }
   },
   "outputs": [],
   "source": [
    "simple_model_evaluation('/mnt/hdd0/Kaggle/hungry_geese/models/32_automated_iteration/13_continue_with_smaller_lr/epoch_0447.h5')"
   ]
  },
  {
   "cell_type": "code",
   "execution_count": null,
   "metadata": {
    "deletable": false,
    "editable": false,
    "run_control": {
     "frozen": true
    }
   },
   "outputs": [],
   "source": [
    "simple_agent_evaluation('/mnt/hdd0/MEGA/AI/22 Kaggle/hungry_geese/data/agents/wallbreaker_data_augmentation.py', n_matches=500)"
   ]
  },
  {
   "cell_type": "code",
   "execution_count": null,
   "metadata": {
    "deletable": false,
    "editable": false,
    "run_control": {
     "frozen": true
    }
   },
   "outputs": [],
   "source": [
    "model = keras.models.load_model('/mnt/hdd0/Kaggle/hungry_geese/models/32_automated_iteration/11_continue_with_scale_8/epoch_0347.h5', compile=False)\n",
    "model = tf.keras.models.Model(inputs=model.inputs[:2], outputs=model.layers[-3].output)\n",
    "agents = [QValueAgent(model) for idx in range(4)]\n",
    "\n",
    "[agent.reset() for agent in agents]; save_html_game(agents, '../data/saved_games/03_clip_len_reward_analysis')\n",
    "plot_q_value(agents[COLOR_TO_INDEX['white']]); plt.xlim(100)"
   ]
  },
  {
   "cell_type": "code",
   "execution_count": null,
   "metadata": {
    "ExecuteTime": {
     "start_time": "2021-03-23T13:38:12.980Z"
    },
    "deletable": false,
    "editable": false,
    "run_control": {
     "frozen": true
    }
   },
   "outputs": [],
   "source": [
    "agent_base = '../data/agents/quantum/epsilon_quantum_010.py'\n",
    "best_5_agents = [agents[name] for name in initial_elo_ranking.index.values[:4]]\n",
    "best_5_agents += ['/mnt/hdd0/Kaggle/hungry_geese/models/25_ladder_of_agents/04_epsilon010_vs_best5_reward_-4_4_x128_80000_pretrained/q_value_agent.py']\n",
    "sampling_agent_func = lambda: [agent_base] + np.random.choice(best_5_agents, 3).tolist()\n",
    "\n",
    "for n_matches in [8000, 39000, 40000]:\n",
    "    output_path = '/mnt/hdd0/Kaggle/hungry_geese/games/%s_vs_best5_it2_matches_%i.json' % (os.path.splitext(os.path.basename(agent_base))[0], n_matches)\n",
    "    play_matches_in_parallel_and_save_history(agents=sampling_agent_func, n_matches=n_matches, output_path=output_path)\n",
    "    \n",
    "reward_name = 'ranking_reward_-4_4'\n",
    "\n",
    "saved_games_paths = ['/mnt/hdd0/Kaggle/hungry_geese/games/%s_vs_best5_it2_matches_%i.json' % (os.path.splitext(os.path.basename(agent_base))[0], n_matches) for n_matches in [8000]]\n",
    "output_path = '/mnt/hdd0/Kaggle/hungry_geese/data/%s/%s_vs_best5_it2_matches_%i.npz' % (reward_name, os.path.splitext(os.path.basename(agent_base))[0], 8000)\n",
    "create_train_data_from_saved_matches(saved_games_paths, reward_name, output_path, agent_idx_range=[0])\n",
    "\n",
    "saved_games_paths = ['/mnt/hdd0/Kaggle/hungry_geese/games/%s_vs_best5_it2_matches_%i.json' % (os.path.splitext(os.path.basename(agent_base))[0], n_matches) for n_matches in [39000, 40000]]\n",
    "output_path = '/mnt/hdd0/Kaggle/hungry_geese/data/%s/%s_vs_best5_it2_matches_%i.npz' % (reward_name, os.path.splitext(os.path.basename(agent_base))[0], 80000)\n",
    "create_train_data_from_saved_matches(saved_games_paths, reward_name, output_path, agent_idx_range=[0])"
   ]
  },
  {
   "cell_type": "code",
   "execution_count": null,
   "metadata": {
    "deletable": false,
    "editable": false,
    "run_control": {
     "frozen": true
    }
   },
   "outputs": [],
   "source": [
    "agent_names = initial_elo_ranking.index.values.tolist()[:4]\n",
    "output_folder = '../data/saved_games/02_quantum'\n",
    "save_html_games([agents[name] for name in agent_names], output_folder, n_games=10)"
   ]
  },
  {
   "cell_type": "code",
   "execution_count": null,
   "metadata": {
    "deletable": false,
    "editable": false,
    "run_control": {
     "frozen": true
    }
   },
   "outputs": [],
   "source": [
    "ret = evaluate_agent(\n",
    "    {'q_value_pretrained': '/mnt/hdd0/Kaggle/hungry_geese/models/25_ladder_of_agents/01_epsilon025_reward_-4_4_x128_30000_pretrained/q_value_agent.py'},\n",
    "    initial_elo_ranking.index.values.tolist()[:5],\n",
    "    n_matches=500, single_agent=False, max_workers=20)\n",
    "compute_elo_ranking(*ret)"
   ]
  },
  {
   "cell_type": "code",
   "execution_count": null,
   "metadata": {
    "deletable": false,
    "editable": false,
    "run_control": {
     "frozen": true
    }
   },
   "outputs": [],
   "source": [
    "agent_filepaths = sorted(glob.glob('/mnt/hdd0/Kaggle/hungry_geese/models/28_architecture_study/*/q_value_agent.py'))\n",
    "print(agent_filepaths)\n",
    "df = pd.DataFrame()\n",
    "for agent_filepath in agent_filepaths:\n",
    "    print(df)\n",
    "    ret = simple_agent_evaluation(agent_filepath, n_matches=500)\n",
    "    name = os.path.basename(os.path.dirname(agent_filepath))\n",
    "    df.loc[name, 'multi'] = ret[0]\n",
    "    df.loc[name, 'single'] = ret[1]\n",
    "df"
   ]
  },
  {
   "cell_type": "markdown",
   "metadata": {},
   "source": [
    "## Summary"
   ]
  },
  {
   "cell_type": "code",
   "execution_count": null,
   "metadata": {},
   "outputs": [],
   "source": []
  }
 ],
 "metadata": {
  "hide_input": false,
  "kernelspec": {
   "display_name": "Python (goose)",
   "language": "python",
   "name": "goose"
  },
  "language_info": {
   "codemirror_mode": {
    "name": "ipython",
    "version": 3
   },
   "file_extension": ".py",
   "mimetype": "text/x-python",
   "name": "python",
   "nbconvert_exporter": "python",
   "pygments_lexer": "ipython3",
   "version": "3.7.9"
  },
  "toc": {
   "base_numbering": 1,
   "nav_menu": {},
   "number_sections": false,
   "sideBar": true,
   "skip_h1_title": false,
   "title_cell": "Table of Contents",
   "title_sidebar": "Contents",
   "toc_cell": true,
   "toc_position": {
    "height": "769px",
    "left": "80px",
    "top": "159px",
    "width": "222.594px"
   },
   "toc_section_display": true,
   "toc_window_display": true
  }
 },
 "nbformat": 4,
 "nbformat_minor": 4
}
