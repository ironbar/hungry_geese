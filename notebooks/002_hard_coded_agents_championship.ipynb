{
 "cells": [
  {
   "cell_type": "markdown",
   "metadata": {
    "toc": true
   },
   "source": [
    "<h1>Table of Contents<span class=\"tocSkip\"></span></h1>\n",
    "<div class=\"toc\"><ul class=\"toc-item\"><li><span><a href=\"#Hard-coded-agents-championship\" data-toc-modified-id=\"Hard-coded-agents-championship-1\">Hard coded agents championship</a></span><ul class=\"toc-item\"><li><span><a href=\"#Imports\" data-toc-modified-id=\"Imports-1.1\">Imports</a></span></li><li><span><a href=\"#Agents\" data-toc-modified-id=\"Agents-1.2\">Agents</a></span><ul class=\"toc-item\"><li><span><a href=\"#Random\" data-toc-modified-id=\"Random-1.2.1\">Random</a></span></li><li><span><a href=\"#Greedy\" data-toc-modified-id=\"Greedy-1.2.2\">Greedy</a></span></li><li><span><a href=\"#Risk-averse-goose\" data-toc-modified-id=\"Risk-averse-goose-1.2.3\">Risk averse goose</a></span></li></ul></li><li><span><a href=\"#Championship\" data-toc-modified-id=\"Championship-1.3\">Championship</a></span><ul class=\"toc-item\"><li><span><a href=\"#Code\" data-toc-modified-id=\"Code-1.3.1\">Code</a></span></li><li><span><a href=\"#Matches\" data-toc-modified-id=\"Matches-1.3.2\">Matches</a></span></li></ul></li></ul></li></ul></div>"
   ]
  },
  {
   "cell_type": "markdown",
   "metadata": {},
   "source": [
    "# Hard coded agents championship"
   ]
  },
  {
   "cell_type": "markdown",
   "metadata": {
    "heading_collapsed": true
   },
   "source": [
    "## Imports"
   ]
  },
  {
   "cell_type": "code",
   "execution_count": 1,
   "metadata": {
    "ExecuteTime": {
     "end_time": "2021-02-23T10:24:08.726907Z",
     "start_time": "2021-02-23T10:24:08.471455Z"
    },
    "hidden": true
   },
   "outputs": [
    {
     "name": "stdout",
     "output_type": "stream",
     "text": [
      "Loading environment football failed: No module named 'gfootball'\n"
     ]
    }
   ],
   "source": [
    "import os\n",
    "import kaggle_environments\n",
    "from kaggle_environments import make\n",
    "from kaggle_environments import evaluate\n",
    "import numpy as np\n",
    "import matplotlib.pyplot as plt\n",
    "import matplotlib as mpl\n",
    "\n",
    "\n",
    "%config Completer.use_jedi = False"
   ]
  },
  {
   "cell_type": "code",
   "execution_count": 2,
   "metadata": {
    "ExecuteTime": {
     "end_time": "2021-02-23T10:24:08.793695Z",
     "start_time": "2021-02-23T10:24:08.729240Z"
    },
    "hidden": true
   },
   "outputs": [],
   "source": [
    "plt.plot()\n",
    "plt.close('all')\n",
    "plt.rcParams[\"figure.figsize\"] = (30, 5)  \n",
    "mpl.rcParams['lines.linewidth'] = 3\n",
    "mpl.rcParams['font.size'] = 16"
   ]
  },
  {
   "cell_type": "markdown",
   "metadata": {},
   "source": [
    "## Agents"
   ]
  },
  {
   "cell_type": "markdown",
   "metadata": {},
   "source": [
    "### Random"
   ]
  },
  {
   "cell_type": "code",
   "execution_count": null,
   "metadata": {},
   "outputs": [],
   "source": []
  },
  {
   "cell_type": "markdown",
   "metadata": {},
   "source": [
    "### Greedy"
   ]
  },
  {
   "cell_type": "code",
   "execution_count": null,
   "metadata": {},
   "outputs": [],
   "source": []
  },
  {
   "cell_type": "markdown",
   "metadata": {},
   "source": [
    "### Risk averse goose"
   ]
  },
  {
   "cell_type": "markdown",
   "metadata": {},
   "source": [
    "https://www.kaggle.com/ilialar/risk-averse-greedy-goose\n",
    "\n",
    "This notebook proposes a simple greedy straightforward solution. At each step:\n",
    "- Mark all cells that can be dangerous on the next step as obstacles\n",
    "- Find the shortest route to the nearest food item\n",
    "- Make one step toward this food\n",
    "- Repeat"
   ]
  },
  {
   "cell_type": "markdown",
   "metadata": {},
   "source": [
    "## Championship"
   ]
  },
  {
   "cell_type": "markdown",
   "metadata": {
    "heading_collapsed": true
   },
   "source": [
    "### Code"
   ]
  },
  {
   "cell_type": "code",
   "execution_count": 4,
   "metadata": {
    "ExecuteTime": {
     "end_time": "2021-02-23T10:24:08.808575Z",
     "start_time": "2021-02-23T10:24:08.802946Z"
    },
    "hidden": true
   },
   "outputs": [],
   "source": [
    "def sample_agent_keys(agents):\n",
    "    keys = list(agents.keys())\n",
    "    while 1:\n",
    "        samples = np.random.choice(keys, size=4)\n",
    "        if len(np.unique(samples)) > 1:\n",
    "            break\n",
    "    return samples"
   ]
  },
  {
   "cell_type": "code",
   "execution_count": 10,
   "metadata": {
    "ExecuteTime": {
     "end_time": "2021-02-23T10:25:50.265782Z",
     "start_time": "2021-02-23T10:25:50.260694Z"
    },
    "hidden": true
   },
   "outputs": [],
   "source": [
    "def get_rank(evaluate_ret):\n",
    "    rank = np.array(evaluate_ret)*-1\n",
    "    rank = np.argsort(rank, axis=1)+1\n",
    "    return rank"
   ]
  },
  {
   "cell_type": "markdown",
   "metadata": {},
   "source": [
    "### Matches"
   ]
  },
  {
   "cell_type": "code",
   "execution_count": 17,
   "metadata": {
    "ExecuteTime": {
     "end_time": "2021-02-23T10:44:12.873435Z",
     "start_time": "2021-02-23T10:44:12.867580Z"
    }
   },
   "outputs": [],
   "source": [
    "agents = {\n",
    "    'random': 'random',\n",
    "    'greedy': 'greedy',\n",
    "    'risk_averse_goose': '../forum/agents/risk_averse_goose.py',\n",
    "    'goose_on_a_healthy_diet': '../forum/agents/goose_on_a_healthy_diet.py'\n",
    "}"
   ]
  },
  {
   "cell_type": "code",
   "execution_count": 18,
   "metadata": {
    "ExecuteTime": {
     "end_time": "2021-02-23T10:44:13.257333Z",
     "start_time": "2021-02-23T10:44:13.250809Z"
    }
   },
   "outputs": [
    {
     "name": "stdout",
     "output_type": "stream",
     "text": [
      "['random', 'greedy', 'risk_averse_goose', 'goose_on_a_healthy_diet']\n"
     ]
    }
   ],
   "source": [
    "sampled_keys = sample_agent_keys()\n",
    "sampled_keys = list(agents.keys())\n",
    "print(sampled_keys)"
   ]
  },
  {
   "cell_type": "code",
   "execution_count": 19,
   "metadata": {
    "ExecuteTime": {
     "end_time": "2021-02-23T10:44:24.603615Z",
     "start_time": "2021-02-23T10:44:15.690832Z"
    }
   },
   "outputs": [
    {
     "data": {
      "text/plain": [
       "array([[3, 4, 2, 1],\n",
       "       [3, 2, 4, 1],\n",
       "       [4, 2, 3, 1],\n",
       "       [4, 3, 2, 1],\n",
       "       [4, 3, 2, 1],\n",
       "       [3, 4, 2, 1],\n",
       "       [3, 4, 2, 1],\n",
       "       [3, 4, 2, 1],\n",
       "       [4, 3, 2, 1],\n",
       "       [3, 4, 2, 1],\n",
       "       [4, 2, 3, 1],\n",
       "       [3, 2, 4, 1],\n",
       "       [4, 2, 3, 1],\n",
       "       [3, 4, 2, 1],\n",
       "       [4, 3, 2, 1],\n",
       "       [3, 4, 2, 1],\n",
       "       [3, 4, 2, 1],\n",
       "       [4, 2, 3, 1],\n",
       "       [3, 4, 2, 1],\n",
       "       [3, 4, 2, 1],\n",
       "       [3, 4, 2, 1],\n",
       "       [4, 3, 2, 1],\n",
       "       [4, 3, 2, 1],\n",
       "       [3, 1, 2, 4],\n",
       "       [4, 2, 3, 1]])"
      ]
     },
     "execution_count": 19,
     "metadata": {},
     "output_type": "execute_result"
    }
   ],
   "source": [
    "ret = evaluate(\"hungry_geese\", agents=[agents[key] for key in sampled_keys], num_episodes=25)\n",
    "rank = get_rank(ret)\n",
    "rank"
   ]
  },
  {
   "cell_type": "markdown",
   "metadata": {},
   "source": [
    "TODO: \n",
    "- study how added agents work\n",
    "- compute elo ranking from the agents that play each match and the ranking of each match.\n",
    "- Create a better random agent that does not change direction, and compare with default one"
   ]
  },
  {
   "cell_type": "code",
   "execution_count": null,
   "metadata": {},
   "outputs": [],
   "source": []
  }
 ],
 "metadata": {
  "hide_input": false,
  "kernelspec": {
   "display_name": "Python (goose)",
   "language": "python",
   "name": "goose"
  },
  "language_info": {
   "codemirror_mode": {
    "name": "ipython",
    "version": 3
   },
   "file_extension": ".py",
   "mimetype": "text/x-python",
   "name": "python",
   "nbconvert_exporter": "python",
   "pygments_lexer": "ipython3",
   "version": "3.7.9"
  },
  "toc": {
   "base_numbering": 1,
   "nav_menu": {},
   "number_sections": false,
   "sideBar": true,
   "skip_h1_title": false,
   "title_cell": "Table of Contents",
   "title_sidebar": "Contents",
   "toc_cell": true,
   "toc_position": {},
   "toc_section_display": true,
   "toc_window_display": false
  }
 },
 "nbformat": 4,
 "nbformat_minor": 4
}
