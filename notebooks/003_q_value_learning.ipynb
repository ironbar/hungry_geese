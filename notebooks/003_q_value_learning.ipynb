{
 "cells": [
  {
   "cell_type": "markdown",
   "metadata": {
    "toc": true
   },
   "source": [
    "<h1>Table of Contents<span class=\"tocSkip\"></span></h1>\n",
    "<div class=\"toc\"><ul class=\"toc-item\"><li><span><a href=\"#Q-value-learning\" data-toc-modified-id=\"Q-value-learning-1\">Q value learning</a></span><ul class=\"toc-item\"><li><span><a href=\"#Goal\" data-toc-modified-id=\"Goal-1.1\">Goal</a></span></li><li><span><a href=\"#Imports\" data-toc-modified-id=\"Imports-1.2\">Imports</a></span></li><li><span><a href=\"#Comparing-environment-interfaces\" data-toc-modified-id=\"Comparing-environment-interfaces-1.3\">Comparing environment interfaces</a></span><ul class=\"toc-item\"><li><span><a href=\"#Open-AI-Gym\" data-toc-modified-id=\"Open-AI-Gym-1.3.1\">Open AI Gym</a></span></li><li><span><a href=\"#Step\" data-toc-modified-id=\"Step-1.3.2\">Step</a></span></li><li><span><a href=\"#Decision\" data-toc-modified-id=\"Decision-1.3.3\">Decision</a></span></li></ul></li><li><span><a href=\"#Verifying-the-information-received-by-the-agent\" data-toc-modified-id=\"Verifying-the-information-received-by-the-agent-1.4\">Verifying the information received by the agent</a></span></li><li><span><a href=\"#Implementing-the-GameState\" data-toc-modified-id=\"Implementing-the-GameState-1.5\">Implementing the GameState</a></span></li><li><span><a href=\"#Agent\" data-toc-modified-id=\"Agent-1.6\">Agent</a></span></li><li><span><a href=\"#Summary\" data-toc-modified-id=\"Summary-1.7\">Summary</a></span></li></ul></li></ul></div>"
   ]
  },
  {
   "cell_type": "markdown",
   "metadata": {},
   "source": [
    "# Q value learning"
   ]
  },
  {
   "cell_type": "markdown",
   "metadata": {},
   "source": [
    "## Goal"
   ]
  },
  {
   "cell_type": "markdown",
   "metadata": {
    "ExecuteTime": {
     "end_time": "2021-02-28T07:06:28.564686Z",
     "start_time": "2021-02-28T07:06:28.557428Z"
    }
   },
   "source": [
    "On this notebook I will try to implement the first training of a model that uses Q value learning."
   ]
  },
  {
   "cell_type": "markdown",
   "metadata": {},
   "source": [
    "## Imports"
   ]
  },
  {
   "cell_type": "code",
   "execution_count": 1,
   "metadata": {
    "ExecuteTime": {
     "end_time": "2021-03-05T05:21:17.834357Z",
     "start_time": "2021-03-05T05:21:17.821117Z"
    }
   },
   "outputs": [],
   "source": [
    "# Use this to reload changes in python scripts\n",
    "%load_ext autoreload\n",
    "%autoreload 2"
   ]
  },
  {
   "cell_type": "code",
   "execution_count": 2,
   "metadata": {
    "ExecuteTime": {
     "end_time": "2021-03-05T05:21:18.744275Z",
     "start_time": "2021-03-05T05:21:18.044875Z"
    }
   },
   "outputs": [
    {
     "name": "stdout",
     "output_type": "stream",
     "text": [
      "Loading environment football failed: No module named 'gfootball'\n"
     ]
    }
   ],
   "source": [
    "import os\n",
    "import kaggle_environments\n",
    "from kaggle_environments import make\n",
    "from kaggle_environments import evaluate\n",
    "from kaggle_environments.envs.hungry_geese.hungry_geese import Action\n",
    "import numpy as np\n",
    "import matplotlib.pyplot as plt\n",
    "import matplotlib as mpl\n",
    "import random\n",
    "import pandas as pd\n",
    "from tqdm.notebook import tqdm\n",
    "from concurrent.futures import ProcessPoolExecutor\n",
    "import time\n",
    "\n",
    "from hungry_geese import GameState\n",
    "from hungry_geese.state import make_board_egocentric, get_head_position\n",
    "\n",
    "%config Completer.use_jedi = False"
   ]
  },
  {
   "cell_type": "code",
   "execution_count": 3,
   "metadata": {
    "ExecuteTime": {
     "end_time": "2021-03-05T05:21:18.807694Z",
     "start_time": "2021-03-05T05:21:18.745760Z"
    }
   },
   "outputs": [],
   "source": [
    "plt.plot()\n",
    "plt.close('all')\n",
    "plt.rcParams[\"figure.figsize\"] = (30, 5)  \n",
    "mpl.rcParams['lines.linewidth'] = 3\n",
    "mpl.rcParams['font.size'] = 16"
   ]
  },
  {
   "cell_type": "markdown",
   "metadata": {},
   "source": [
    "## Comparing environment interfaces"
   ]
  },
  {
   "cell_type": "markdown",
   "metadata": {
    "heading_collapsed": true
   },
   "source": [
    "### Open AI Gym"
   ]
  },
  {
   "cell_type": "markdown",
   "metadata": {
    "hidden": true
   },
   "source": [
    "https://github.com/Kaggle/kaggle-environments#training"
   ]
  },
  {
   "cell_type": "code",
   "execution_count": 4,
   "metadata": {
    "ExecuteTime": {
     "end_time": "2021-02-28T07:10:29.717364Z",
     "start_time": "2021-02-28T07:10:29.664278Z"
    },
    "deletable": false,
    "editable": false,
    "hidden": true,
    "run_control": {
     "frozen": true
    }
   },
   "outputs": [],
   "source": [
    "env = make('hungry_geese')\n",
    "trainer = env.train([None, \"greedy\", \"greedy\", \"greedy\"])"
   ]
  },
  {
   "cell_type": "code",
   "execution_count": 11,
   "metadata": {
    "ExecuteTime": {
     "end_time": "2021-02-28T07:14:17.995044Z",
     "start_time": "2021-02-28T07:14:17.973420Z"
    },
    "deletable": false,
    "editable": false,
    "hidden": true,
    "run_control": {
     "frozen": true
    }
   },
   "outputs": [
    {
     "data": {
      "text/plain": [
       "{'remainingOverageTime': 60,\n",
       " 'step': 0,\n",
       " 'geese': [[17], [46], [0], [23]],\n",
       " 'food': [51, 34],\n",
       " 'index': 0}"
      ]
     },
     "execution_count": 11,
     "metadata": {},
     "output_type": "execute_result"
    }
   ],
   "source": [
    "obs = trainer.reset()\n",
    "obs"
   ]
  },
  {
   "cell_type": "code",
   "execution_count": 13,
   "metadata": {
    "ExecuteTime": {
     "end_time": "2021-02-28T07:14:37.012547Z",
     "start_time": "2021-02-28T07:14:36.997451Z"
    },
    "deletable": false,
    "editable": false,
    "hidden": true,
    "run_control": {
     "frozen": true
    }
   },
   "outputs": [
    {
     "data": {
      "text/plain": [
       "[{'remainingOverageTime': 60,\n",
       "  'step': 1,\n",
       "  'geese': [[6], [35], [1], [34, 23]],\n",
       "  'food': [51, 25],\n",
       "  'index': 0},\n",
       " 201,\n",
       " False,\n",
       " {}]"
      ]
     },
     "execution_count": 13,
     "metadata": {},
     "output_type": "execute_result"
    }
   ],
   "source": [
    "trainer.step('NORTH')"
   ]
  },
  {
   "cell_type": "code",
   "execution_count": 14,
   "metadata": {
    "ExecuteTime": {
     "end_time": "2021-02-28T07:15:14.290374Z",
     "start_time": "2021-02-28T07:15:14.277162Z"
    },
    "deletable": false,
    "editable": false,
    "hidden": true,
    "run_control": {
     "frozen": true
    }
   },
   "outputs": [
    {
     "data": {
      "text/plain": [
       "[{'remainingOverageTime': 60,\n",
       "  'step': 2,\n",
       "  'geese': [[72], [24], [2], [45, 34]],\n",
       "  'food': [51, 25],\n",
       "  'index': 0},\n",
       " 100,\n",
       " False,\n",
       " {}]"
      ]
     },
     "execution_count": 14,
     "metadata": {},
     "output_type": "execute_result"
    }
   ],
   "source": [
    "trainer.step('NORTH')"
   ]
  },
  {
   "cell_type": "code",
   "execution_count": 15,
   "metadata": {
    "ExecuteTime": {
     "end_time": "2021-02-28T07:15:22.680950Z",
     "start_time": "2021-02-28T07:15:22.668633Z"
    },
    "deletable": false,
    "editable": false,
    "hidden": true,
    "run_control": {
     "frozen": true
    }
   },
   "outputs": [
    {
     "data": {
      "text/plain": [
       "[{'remainingOverageTime': 60,\n",
       "  'step': 3,\n",
       "  'geese': [[61], [25, 24], [3], [46, 45]],\n",
       "  'food': [51, 2],\n",
       "  'index': 0},\n",
       " 100,\n",
       " False,\n",
       " {}]"
      ]
     },
     "execution_count": 15,
     "metadata": {},
     "output_type": "execute_result"
    }
   ],
   "source": [
    "trainer.step('NORTH')"
   ]
  },
  {
   "cell_type": "code",
   "execution_count": 16,
   "metadata": {
    "ExecuteTime": {
     "end_time": "2021-02-28T07:15:28.610446Z",
     "start_time": "2021-02-28T07:15:28.596422Z"
    },
    "deletable": false,
    "editable": false,
    "hidden": true,
    "run_control": {
     "frozen": true
    }
   },
   "outputs": [
    {
     "data": {
      "text/plain": [
       "[{'remainingOverageTime': 60,\n",
       "  'step': 4,\n",
       "  'geese': [[50], [26, 25], [4], [35, 46]],\n",
       "  'food': [51, 2],\n",
       "  'index': 0},\n",
       " 100,\n",
       " False,\n",
       " {}]"
      ]
     },
     "execution_count": 16,
     "metadata": {},
     "output_type": "execute_result"
    }
   ],
   "source": [
    "trainer.step('NORTH')"
   ]
  },
  {
   "cell_type": "code",
   "execution_count": 17,
   "metadata": {
    "ExecuteTime": {
     "end_time": "2021-02-28T07:15:39.950648Z",
     "start_time": "2021-02-28T07:15:39.936760Z"
    },
    "deletable": false,
    "editable": false,
    "hidden": true,
    "run_control": {
     "frozen": true
    }
   },
   "outputs": [
    {
     "data": {
      "text/plain": [
       "[{'remainingOverageTime': 60,\n",
       "  'step': 5,\n",
       "  'geese': [[49], [27, 26], [5], [24, 35]],\n",
       "  'food': [51, 2],\n",
       "  'index': 0},\n",
       " 100,\n",
       " False,\n",
       " {}]"
      ]
     },
     "execution_count": 17,
     "metadata": {},
     "output_type": "execute_result"
    }
   ],
   "source": [
    "trainer.step('WEST')"
   ]
  },
  {
   "cell_type": "code",
   "execution_count": 18,
   "metadata": {
    "ExecuteTime": {
     "end_time": "2021-02-28T07:15:57.826331Z",
     "start_time": "2021-02-28T07:15:57.812706Z"
    },
    "deletable": false,
    "editable": false,
    "hidden": true,
    "run_control": {
     "frozen": true
    }
   },
   "outputs": [
    {
     "data": {
      "text/plain": [
       "[{'remainingOverageTime': 60,\n",
       "  'step': 6,\n",
       "  'geese': [[], [28, 27], [71], [13, 24]],\n",
       "  'food': [51, 2],\n",
       "  'index': 0},\n",
       " 0,\n",
       " True,\n",
       " {}]"
      ]
     },
     "execution_count": 18,
     "metadata": {},
     "output_type": "execute_result"
    }
   ],
   "source": [
    "trainer.step('EAST')"
   ]
  },
  {
   "cell_type": "markdown",
   "metadata": {
    "hidden": true
   },
   "source": [
    "So it seems we could use this implementation for training. The advantage is that we just have to care about our agent, not about the others."
   ]
  },
  {
   "cell_type": "code",
   "execution_count": 19,
   "metadata": {
    "ExecuteTime": {
     "end_time": "2021-02-28T07:19:37.972154Z",
     "start_time": "2021-02-28T07:19:37.965769Z"
    },
    "deletable": false,
    "editable": false,
    "hidden": true,
    "run_control": {
     "frozen": true
    }
   },
   "outputs": [
    {
     "data": {
      "text/plain": [
       "{'episodeSteps': 200,\n",
       " 'actTimeout': 1,\n",
       " 'runTimeout': 1200,\n",
       " 'columns': 11,\n",
       " 'rows': 7,\n",
       " 'hunger_rate': 40,\n",
       " 'min_food': 2,\n",
       " 'max_length': 99}"
      ]
     },
     "execution_count": 19,
     "metadata": {},
     "output_type": "execute_result"
    }
   ],
   "source": [
    "env.configuration"
   ]
  },
  {
   "cell_type": "markdown",
   "metadata": {
    "heading_collapsed": true
   },
   "source": [
    "### Step"
   ]
  },
  {
   "cell_type": "markdown",
   "metadata": {
    "hidden": true
   },
   "source": [
    "https://github.com/Kaggle/kaggle-environments#stepping"
   ]
  },
  {
   "cell_type": "code",
   "execution_count": 20,
   "metadata": {
    "ExecuteTime": {
     "end_time": "2021-02-28T07:21:09.618237Z",
     "start_time": "2021-02-28T07:21:09.597433Z"
    },
    "deletable": false,
    "editable": false,
    "hidden": true,
    "run_control": {
     "frozen": true
    }
   },
   "outputs": [],
   "source": [
    "env = make('hungry_geese')"
   ]
  },
  {
   "cell_type": "code",
   "execution_count": 22,
   "metadata": {
    "ExecuteTime": {
     "end_time": "2021-02-28T07:21:36.561126Z",
     "start_time": "2021-02-28T07:21:36.532455Z"
    },
    "deletable": false,
    "editable": false,
    "hidden": true,
    "run_control": {
     "frozen": true
    }
   },
   "outputs": [
    {
     "data": {
      "text/plain": [
       "[{'action': 'NORTH',\n",
       "  'reward': 0,\n",
       "  'info': {},\n",
       "  'observation': {'remainingOverageTime': 60,\n",
       "   'step': 0,\n",
       "   'geese': [[22], [73], [20], [65]],\n",
       "   'food': [58, 37],\n",
       "   'index': 0},\n",
       "  'status': 'ACTIVE'},\n",
       " {'action': 'NORTH',\n",
       "  'reward': 0,\n",
       "  'info': {},\n",
       "  'observation': {'remainingOverageTime': 60, 'index': 1},\n",
       "  'status': 'ACTIVE'},\n",
       " {'action': 'NORTH',\n",
       "  'reward': 0,\n",
       "  'info': {},\n",
       "  'observation': {'remainingOverageTime': 60, 'index': 2},\n",
       "  'status': 'ACTIVE'},\n",
       " {'action': 'NORTH',\n",
       "  'reward': 0,\n",
       "  'info': {},\n",
       "  'observation': {'remainingOverageTime': 60, 'index': 3},\n",
       "  'status': 'ACTIVE'}]"
      ]
     },
     "execution_count": 22,
     "metadata": {},
     "output_type": "execute_result"
    }
   ],
   "source": [
    "env.reset(num_agents=4)"
   ]
  },
  {
   "cell_type": "code",
   "execution_count": 23,
   "metadata": {
    "ExecuteTime": {
     "end_time": "2021-02-28T07:21:39.885023Z",
     "start_time": "2021-02-28T07:21:39.876358Z"
    },
    "deletable": false,
    "editable": false,
    "hidden": true,
    "run_control": {
     "frozen": true
    }
   },
   "outputs": [
    {
     "data": {
      "text/plain": [
       "[{'action': 'NORTH',\n",
       "  'reward': 0,\n",
       "  'info': {},\n",
       "  'observation': {'remainingOverageTime': 60,\n",
       "   'step': 0,\n",
       "   'geese': [[22], [73], [20], [65]],\n",
       "   'food': [58, 37],\n",
       "   'index': 0},\n",
       "  'status': 'ACTIVE'},\n",
       " {'action': 'NORTH',\n",
       "  'reward': 0,\n",
       "  'info': {},\n",
       "  'observation': {'remainingOverageTime': 60, 'index': 1},\n",
       "  'status': 'ACTIVE'},\n",
       " {'action': 'NORTH',\n",
       "  'reward': 0,\n",
       "  'info': {},\n",
       "  'observation': {'remainingOverageTime': 60, 'index': 2},\n",
       "  'status': 'ACTIVE'},\n",
       " {'action': 'NORTH',\n",
       "  'reward': 0,\n",
       "  'info': {},\n",
       "  'observation': {'remainingOverageTime': 60, 'index': 3},\n",
       "  'status': 'ACTIVE'}]"
      ]
     },
     "execution_count": 23,
     "metadata": {},
     "output_type": "execute_result"
    }
   ],
   "source": [
    "env.state"
   ]
  },
  {
   "cell_type": "markdown",
   "metadata": {
    "ExecuteTime": {
     "end_time": "2021-02-28T07:22:47.281867Z",
     "start_time": "2021-02-28T07:22:47.275978Z"
    },
    "hidden": true
   },
   "source": [
    "I see a problem here, only the first state has information about the geese."
   ]
  },
  {
   "cell_type": "code",
   "execution_count": 25,
   "metadata": {
    "ExecuteTime": {
     "end_time": "2021-02-28T07:23:07.675255Z",
     "start_time": "2021-02-28T07:23:07.660808Z"
    },
    "deletable": false,
    "editable": false,
    "hidden": true,
    "run_control": {
     "frozen": true
    }
   },
   "outputs": [
    {
     "data": {
      "text/plain": [
       "[{'action': 'NORTH',\n",
       "  'reward': 201,\n",
       "  'info': {},\n",
       "  'observation': {'remainingOverageTime': 60,\n",
       "   'step': 1,\n",
       "   'geese': [[11], [62], [9], [54]],\n",
       "   'food': [58, 37],\n",
       "   'index': 0},\n",
       "  'status': 'ACTIVE'},\n",
       " {'action': 'NORTH',\n",
       "  'reward': 201,\n",
       "  'info': {},\n",
       "  'observation': {'remainingOverageTime': 60, 'index': 1},\n",
       "  'status': 'ACTIVE'},\n",
       " {'action': 'NORTH',\n",
       "  'reward': 201,\n",
       "  'info': {},\n",
       "  'observation': {'remainingOverageTime': 60, 'index': 2},\n",
       "  'status': 'ACTIVE'},\n",
       " {'action': 'NORTH',\n",
       "  'reward': 201,\n",
       "  'info': {},\n",
       "  'observation': {'remainingOverageTime': 60, 'index': 3},\n",
       "  'status': 'ACTIVE'}]"
      ]
     },
     "execution_count": 25,
     "metadata": {},
     "output_type": "execute_result"
    }
   ],
   "source": [
    "env.step(['NORTH', 'NORTH', 'NORTH', 'NORTH'])"
   ]
  },
  {
   "cell_type": "markdown",
   "metadata": {
    "hidden": true
   },
   "source": [
    "So if we would want to use this approach we will have to manually copy information about, step, goose and food for the other players."
   ]
  },
  {
   "cell_type": "markdown",
   "metadata": {},
   "source": [
    "### Decision"
   ]
  },
  {
   "cell_type": "markdown",
   "metadata": {},
   "source": [
    "I will be using Open AI gym interface since it is simpler."
   ]
  },
  {
   "cell_type": "markdown",
   "metadata": {
    "heading_collapsed": true
   },
   "source": [
    "## Verifying the information received by the agent"
   ]
  },
  {
   "cell_type": "markdown",
   "metadata": {
    "hidden": true
   },
   "source": [
    "Let's create a very simple agent that prints the information so I can be sure of what the agent receives as input."
   ]
  },
  {
   "cell_type": "code",
   "execution_count": 32,
   "metadata": {
    "ExecuteTime": {
     "end_time": "2021-02-28T07:33:27.521292Z",
     "start_time": "2021-02-28T07:33:27.516315Z"
    },
    "deletable": false,
    "editable": false,
    "hidden": true,
    "run_control": {
     "frozen": true
    }
   },
   "outputs": [],
   "source": [
    "def print_agent(obs_dict, config_dict):\n",
    "    print('observation', obs_dict)\n",
    "    print('config', config_dict)\n",
    "    return 'NORTH'"
   ]
  },
  {
   "cell_type": "code",
   "execution_count": 33,
   "metadata": {
    "ExecuteTime": {
     "end_time": "2021-02-28T07:33:28.786433Z",
     "start_time": "2021-02-28T07:33:28.771089Z"
    },
    "deletable": false,
    "editable": false,
    "hidden": true,
    "run_control": {
     "frozen": true
    }
   },
   "outputs": [],
   "source": [
    "env = make('hungry_geese')"
   ]
  },
  {
   "cell_type": "code",
   "execution_count": 34,
   "metadata": {
    "ExecuteTime": {
     "end_time": "2021-02-28T07:33:30.324813Z",
     "start_time": "2021-02-28T07:33:30.275074Z"
    },
    "deletable": false,
    "editable": false,
    "hidden": true,
    "run_control": {
     "frozen": true
    }
   },
   "outputs": [],
   "source": [
    "ret = env.run([print_agent, 'greedy'])"
   ]
  },
  {
   "cell_type": "markdown",
   "metadata": {
    "deletable": false,
    "editable": false,
    "hidden": true,
    "run_control": {
     "frozen": true
    }
   },
   "source": [
    "Does not print anything, so let's create a class to save that information."
   ]
  },
  {
   "cell_type": "code",
   "execution_count": 37,
   "metadata": {
    "ExecuteTime": {
     "end_time": "2021-02-28T07:35:26.234240Z",
     "start_time": "2021-02-28T07:35:26.228125Z"
    },
    "deletable": false,
    "editable": false,
    "hidden": true,
    "run_control": {
     "frozen": true
    }
   },
   "outputs": [],
   "source": [
    "class PrintAgent():\n",
    "    def __init__(self):\n",
    "        self.observations = []\n",
    "        self.configurations = []\n",
    "    \n",
    "    def __call__(self, obs_dict, config_dict):\n",
    "        self.observations.append(obs_dict)\n",
    "        self.configurations.append(config_dict)\n",
    "        return 'NORTH'"
   ]
  },
  {
   "cell_type": "code",
   "execution_count": 38,
   "metadata": {
    "ExecuteTime": {
     "end_time": "2021-02-28T07:35:36.624398Z",
     "start_time": "2021-02-28T07:35:36.620220Z"
    },
    "deletable": false,
    "editable": false,
    "hidden": true,
    "run_control": {
     "frozen": true
    }
   },
   "outputs": [],
   "source": [
    "print_agent = PrintAgent()"
   ]
  },
  {
   "cell_type": "code",
   "execution_count": 39,
   "metadata": {
    "ExecuteTime": {
     "end_time": "2021-02-28T07:35:39.974390Z",
     "start_time": "2021-02-28T07:35:39.876527Z"
    },
    "deletable": false,
    "editable": false,
    "hidden": true,
    "run_control": {
     "frozen": true
    }
   },
   "outputs": [],
   "source": [
    "ret = env.run([print_agent, 'greedy'])"
   ]
  },
  {
   "cell_type": "code",
   "execution_count": 40,
   "metadata": {
    "ExecuteTime": {
     "end_time": "2021-02-28T07:35:41.794515Z",
     "start_time": "2021-02-28T07:35:41.788241Z"
    },
    "deletable": false,
    "editable": false,
    "hidden": true,
    "run_control": {
     "frozen": true
    }
   },
   "outputs": [
    {
     "data": {
      "text/plain": [
       "81"
      ]
     },
     "execution_count": 40,
     "metadata": {},
     "output_type": "execute_result"
    }
   ],
   "source": [
    "len(ret)"
   ]
  },
  {
   "cell_type": "code",
   "execution_count": 41,
   "metadata": {
    "ExecuteTime": {
     "end_time": "2021-02-28T07:35:49.084151Z",
     "start_time": "2021-02-28T07:35:49.051966Z"
    },
    "deletable": false,
    "editable": false,
    "hidden": true,
    "run_control": {
     "frozen": true
    }
   },
   "outputs": [
    {
     "data": {
      "text/plain": [
       "[{'remainingOverageTime': 60,\n",
       "  'step': 0,\n",
       "  'geese': [[2], [25]],\n",
       "  'food': [16, 58],\n",
       "  'index': 0},\n",
       " {'remainingOverageTime': 60,\n",
       "  'step': 1,\n",
       "  'geese': [[68], [14]],\n",
       "  'food': [16, 58],\n",
       "  'index': 0},\n",
       " {'remainingOverageTime': 60,\n",
       "  'step': 2,\n",
       "  'geese': [[57], [15]],\n",
       "  'food': [16, 58],\n",
       "  'index': 0},\n",
       " {'remainingOverageTime': 60,\n",
       "  'step': 3,\n",
       "  'geese': [[46], [16, 15]],\n",
       "  'food': [58, 67],\n",
       "  'index': 0},\n",
       " {'remainingOverageTime': 60,\n",
       "  'step': 4,\n",
       "  'geese': [[35], [27, 16]],\n",
       "  'food': [58, 67],\n",
       "  'index': 0},\n",
       " {'remainingOverageTime': 60,\n",
       "  'step': 5,\n",
       "  'geese': [[24], [38, 27]],\n",
       "  'food': [58, 67],\n",
       "  'index': 0},\n",
       " {'remainingOverageTime': 60,\n",
       "  'step': 6,\n",
       "  'geese': [[13], [49, 38]],\n",
       "  'food': [58, 67],\n",
       "  'index': 0},\n",
       " {'remainingOverageTime': 60,\n",
       "  'step': 7,\n",
       "  'geese': [[2], [60, 49]],\n",
       "  'food': [58, 67],\n",
       "  'index': 0},\n",
       " {'remainingOverageTime': 60,\n",
       "  'step': 8,\n",
       "  'geese': [[68], [59, 60]],\n",
       "  'food': [58, 67],\n",
       "  'index': 0},\n",
       " {'remainingOverageTime': 60,\n",
       "  'step': 9,\n",
       "  'geese': [[57], [58, 59, 60]],\n",
       "  'food': [67, 35],\n",
       "  'index': 0},\n",
       " {'remainingOverageTime': 60,\n",
       "  'step': 10,\n",
       "  'geese': [[46], [47, 58, 59]],\n",
       "  'food': [67, 35],\n",
       "  'index': 0},\n",
       " {'remainingOverageTime': 60,\n",
       "  'step': 11,\n",
       "  'geese': [[35, 46], [36, 47, 58]],\n",
       "  'food': [67, 22],\n",
       "  'index': 0},\n",
       " {'remainingOverageTime': 60,\n",
       "  'step': 12,\n",
       "  'geese': [[24, 35], [25, 36, 47]],\n",
       "  'food': [67, 22],\n",
       "  'index': 0},\n",
       " {'remainingOverageTime': 60,\n",
       "  'step': 13,\n",
       "  'geese': [[13, 24], [14, 25, 36]],\n",
       "  'food': [67, 22],\n",
       "  'index': 0},\n",
       " {'remainingOverageTime': 60,\n",
       "  'step': 14,\n",
       "  'geese': [[2, 13], [3, 14, 25]],\n",
       "  'food': [67, 22],\n",
       "  'index': 0},\n",
       " {'remainingOverageTime': 60,\n",
       "  'step': 15,\n",
       "  'geese': [[68, 2], [69, 3, 14]],\n",
       "  'food': [67, 22],\n",
       "  'index': 0},\n",
       " {'remainingOverageTime': 60,\n",
       "  'step': 16,\n",
       "  'geese': [[57, 68], [58, 69, 3]],\n",
       "  'food': [67, 22],\n",
       "  'index': 0},\n",
       " {'remainingOverageTime': 60,\n",
       "  'step': 17,\n",
       "  'geese': [[46, 57], [47, 58, 69]],\n",
       "  'food': [67, 22],\n",
       "  'index': 0},\n",
       " {'remainingOverageTime': 60,\n",
       "  'step': 18,\n",
       "  'geese': [[35, 46], [36, 47, 58]],\n",
       "  'food': [67, 22],\n",
       "  'index': 0},\n",
       " {'remainingOverageTime': 60,\n",
       "  'step': 19,\n",
       "  'geese': [[24, 35], [25, 36, 47]],\n",
       "  'food': [67, 22],\n",
       "  'index': 0},\n",
       " {'remainingOverageTime': 60,\n",
       "  'step': 20,\n",
       "  'geese': [[13, 24], [14, 25, 36]],\n",
       "  'food': [67, 22],\n",
       "  'index': 0},\n",
       " {'remainingOverageTime': 60,\n",
       "  'step': 21,\n",
       "  'geese': [[2, 13], [3, 14, 25]],\n",
       "  'food': [67, 22],\n",
       "  'index': 0},\n",
       " {'remainingOverageTime': 60,\n",
       "  'step': 22,\n",
       "  'geese': [[68, 2], [69, 3, 14]],\n",
       "  'food': [67, 22],\n",
       "  'index': 0},\n",
       " {'remainingOverageTime': 60,\n",
       "  'step': 23,\n",
       "  'geese': [[57, 68], [58, 69, 3]],\n",
       "  'food': [67, 22],\n",
       "  'index': 0},\n",
       " {'remainingOverageTime': 60,\n",
       "  'step': 24,\n",
       "  'geese': [[46, 57], [47, 58, 69]],\n",
       "  'food': [67, 22],\n",
       "  'index': 0},\n",
       " {'remainingOverageTime': 60,\n",
       "  'step': 25,\n",
       "  'geese': [[35, 46], [36, 47, 58]],\n",
       "  'food': [67, 22],\n",
       "  'index': 0},\n",
       " {'remainingOverageTime': 60,\n",
       "  'step': 26,\n",
       "  'geese': [[24, 35], [25, 36, 47]],\n",
       "  'food': [67, 22],\n",
       "  'index': 0},\n",
       " {'remainingOverageTime': 60,\n",
       "  'step': 27,\n",
       "  'geese': [[13, 24], [14, 25, 36]],\n",
       "  'food': [67, 22],\n",
       "  'index': 0},\n",
       " {'remainingOverageTime': 60,\n",
       "  'step': 28,\n",
       "  'geese': [[2, 13], [3, 14, 25]],\n",
       "  'food': [67, 22],\n",
       "  'index': 0},\n",
       " {'remainingOverageTime': 60,\n",
       "  'step': 29,\n",
       "  'geese': [[68, 2], [69, 3, 14]],\n",
       "  'food': [67, 22],\n",
       "  'index': 0},\n",
       " {'remainingOverageTime': 60,\n",
       "  'step': 30,\n",
       "  'geese': [[57, 68], [58, 69, 3]],\n",
       "  'food': [67, 22],\n",
       "  'index': 0},\n",
       " {'remainingOverageTime': 60,\n",
       "  'step': 31,\n",
       "  'geese': [[46, 57], [47, 58, 69]],\n",
       "  'food': [67, 22],\n",
       "  'index': 0},\n",
       " {'remainingOverageTime': 60,\n",
       "  'step': 32,\n",
       "  'geese': [[35, 46], [36, 47, 58]],\n",
       "  'food': [67, 22],\n",
       "  'index': 0},\n",
       " {'remainingOverageTime': 60,\n",
       "  'step': 33,\n",
       "  'geese': [[24, 35], [25, 36, 47]],\n",
       "  'food': [67, 22],\n",
       "  'index': 0},\n",
       " {'remainingOverageTime': 60,\n",
       "  'step': 34,\n",
       "  'geese': [[13, 24], [14, 25, 36]],\n",
       "  'food': [67, 22],\n",
       "  'index': 0},\n",
       " {'remainingOverageTime': 60,\n",
       "  'step': 35,\n",
       "  'geese': [[2, 13], [3, 14, 25]],\n",
       "  'food': [67, 22],\n",
       "  'index': 0},\n",
       " {'remainingOverageTime': 60,\n",
       "  'step': 36,\n",
       "  'geese': [[68, 2], [69, 3, 14]],\n",
       "  'food': [67, 22],\n",
       "  'index': 0},\n",
       " {'remainingOverageTime': 60,\n",
       "  'step': 37,\n",
       "  'geese': [[57, 68], [58, 69, 3]],\n",
       "  'food': [67, 22],\n",
       "  'index': 0},\n",
       " {'remainingOverageTime': 60,\n",
       "  'step': 38,\n",
       "  'geese': [[46, 57], [47, 58, 69]],\n",
       "  'food': [67, 22],\n",
       "  'index': 0},\n",
       " {'remainingOverageTime': 60,\n",
       "  'step': 39,\n",
       "  'geese': [[35, 46], [36, 47, 58]],\n",
       "  'food': [67, 22],\n",
       "  'index': 0},\n",
       " {'remainingOverageTime': 60,\n",
       "  'step': 40,\n",
       "  'geese': [[24], [25, 36]],\n",
       "  'food': [67, 22],\n",
       "  'index': 0},\n",
       " {'remainingOverageTime': 60,\n",
       "  'step': 41,\n",
       "  'geese': [[13], [14, 25]],\n",
       "  'food': [67, 22],\n",
       "  'index': 0},\n",
       " {'remainingOverageTime': 60,\n",
       "  'step': 42,\n",
       "  'geese': [[2], [3, 14]],\n",
       "  'food': [67, 22],\n",
       "  'index': 0},\n",
       " {'remainingOverageTime': 60,\n",
       "  'step': 43,\n",
       "  'geese': [[68], [69, 3]],\n",
       "  'food': [67, 22],\n",
       "  'index': 0},\n",
       " {'remainingOverageTime': 60,\n",
       "  'step': 44,\n",
       "  'geese': [[57], [58, 69]],\n",
       "  'food': [67, 22],\n",
       "  'index': 0},\n",
       " {'remainingOverageTime': 60,\n",
       "  'step': 45,\n",
       "  'geese': [[46], [47, 58]],\n",
       "  'food': [67, 22],\n",
       "  'index': 0},\n",
       " {'remainingOverageTime': 60,\n",
       "  'step': 46,\n",
       "  'geese': [[35], [36, 47]],\n",
       "  'food': [67, 22],\n",
       "  'index': 0},\n",
       " {'remainingOverageTime': 60,\n",
       "  'step': 47,\n",
       "  'geese': [[24], [25, 36]],\n",
       "  'food': [67, 22],\n",
       "  'index': 0},\n",
       " {'remainingOverageTime': 60,\n",
       "  'step': 48,\n",
       "  'geese': [[13], [14, 25]],\n",
       "  'food': [67, 22],\n",
       "  'index': 0},\n",
       " {'remainingOverageTime': 60,\n",
       "  'step': 49,\n",
       "  'geese': [[2], [3, 14]],\n",
       "  'food': [67, 22],\n",
       "  'index': 0},\n",
       " {'remainingOverageTime': 60,\n",
       "  'step': 50,\n",
       "  'geese': [[68], [69, 3]],\n",
       "  'food': [67, 22],\n",
       "  'index': 0},\n",
       " {'remainingOverageTime': 60,\n",
       "  'step': 51,\n",
       "  'geese': [[57], [58, 69]],\n",
       "  'food': [67, 22],\n",
       "  'index': 0},\n",
       " {'remainingOverageTime': 60,\n",
       "  'step': 52,\n",
       "  'geese': [[46], [47, 58]],\n",
       "  'food': [67, 22],\n",
       "  'index': 0},\n",
       " {'remainingOverageTime': 60,\n",
       "  'step': 53,\n",
       "  'geese': [[35], [36, 47]],\n",
       "  'food': [67, 22],\n",
       "  'index': 0},\n",
       " {'remainingOverageTime': 60,\n",
       "  'step': 54,\n",
       "  'geese': [[24], [25, 36]],\n",
       "  'food': [67, 22],\n",
       "  'index': 0},\n",
       " {'remainingOverageTime': 60,\n",
       "  'step': 55,\n",
       "  'geese': [[13], [14, 25]],\n",
       "  'food': [67, 22],\n",
       "  'index': 0},\n",
       " {'remainingOverageTime': 60,\n",
       "  'step': 56,\n",
       "  'geese': [[2], [3, 14]],\n",
       "  'food': [67, 22],\n",
       "  'index': 0},\n",
       " {'remainingOverageTime': 60,\n",
       "  'step': 57,\n",
       "  'geese': [[68], [69, 3]],\n",
       "  'food': [67, 22],\n",
       "  'index': 0},\n",
       " {'remainingOverageTime': 60,\n",
       "  'step': 58,\n",
       "  'geese': [[57], [58, 69]],\n",
       "  'food': [67, 22],\n",
       "  'index': 0},\n",
       " {'remainingOverageTime': 60,\n",
       "  'step': 59,\n",
       "  'geese': [[46], [47, 58]],\n",
       "  'food': [67, 22],\n",
       "  'index': 0},\n",
       " {'remainingOverageTime': 60,\n",
       "  'step': 60,\n",
       "  'geese': [[35], [36, 47]],\n",
       "  'food': [67, 22],\n",
       "  'index': 0},\n",
       " {'remainingOverageTime': 60,\n",
       "  'step': 61,\n",
       "  'geese': [[24], [25, 36]],\n",
       "  'food': [67, 22],\n",
       "  'index': 0},\n",
       " {'remainingOverageTime': 60,\n",
       "  'step': 62,\n",
       "  'geese': [[13], [14, 25]],\n",
       "  'food': [67, 22],\n",
       "  'index': 0},\n",
       " {'remainingOverageTime': 60,\n",
       "  'step': 63,\n",
       "  'geese': [[2], [3, 14]],\n",
       "  'food': [67, 22],\n",
       "  'index': 0},\n",
       " {'remainingOverageTime': 60,\n",
       "  'step': 64,\n",
       "  'geese': [[68], [69, 3]],\n",
       "  'food': [67, 22],\n",
       "  'index': 0},\n",
       " {'remainingOverageTime': 60,\n",
       "  'step': 65,\n",
       "  'geese': [[57], [58, 69]],\n",
       "  'food': [67, 22],\n",
       "  'index': 0},\n",
       " {'remainingOverageTime': 60,\n",
       "  'step': 66,\n",
       "  'geese': [[46], [47, 58]],\n",
       "  'food': [67, 22],\n",
       "  'index': 0},\n",
       " {'remainingOverageTime': 60,\n",
       "  'step': 67,\n",
       "  'geese': [[35], [36, 47]],\n",
       "  'food': [67, 22],\n",
       "  'index': 0},\n",
       " {'remainingOverageTime': 60,\n",
       "  'step': 68,\n",
       "  'geese': [[24], [25, 36]],\n",
       "  'food': [67, 22],\n",
       "  'index': 0},\n",
       " {'remainingOverageTime': 60,\n",
       "  'step': 69,\n",
       "  'geese': [[13], [14, 25]],\n",
       "  'food': [67, 22],\n",
       "  'index': 0},\n",
       " {'remainingOverageTime': 60,\n",
       "  'step': 70,\n",
       "  'geese': [[2], [3, 14]],\n",
       "  'food': [67, 22],\n",
       "  'index': 0},\n",
       " {'remainingOverageTime': 60,\n",
       "  'step': 71,\n",
       "  'geese': [[68], [69, 3]],\n",
       "  'food': [67, 22],\n",
       "  'index': 0},\n",
       " {'remainingOverageTime': 60,\n",
       "  'step': 72,\n",
       "  'geese': [[57], [58, 69]],\n",
       "  'food': [67, 22],\n",
       "  'index': 0},\n",
       " {'remainingOverageTime': 60,\n",
       "  'step': 73,\n",
       "  'geese': [[46], [47, 58]],\n",
       "  'food': [67, 22],\n",
       "  'index': 0},\n",
       " {'remainingOverageTime': 60,\n",
       "  'step': 74,\n",
       "  'geese': [[35], [36, 47]],\n",
       "  'food': [67, 22],\n",
       "  'index': 0},\n",
       " {'remainingOverageTime': 60,\n",
       "  'step': 75,\n",
       "  'geese': [[24], [25, 36]],\n",
       "  'food': [67, 22],\n",
       "  'index': 0},\n",
       " {'remainingOverageTime': 60,\n",
       "  'step': 76,\n",
       "  'geese': [[13], [14, 25]],\n",
       "  'food': [67, 22],\n",
       "  'index': 0},\n",
       " {'remainingOverageTime': 60,\n",
       "  'step': 77,\n",
       "  'geese': [[2], [3, 14]],\n",
       "  'food': [67, 22],\n",
       "  'index': 0},\n",
       " {'remainingOverageTime': 60,\n",
       "  'step': 78,\n",
       "  'geese': [[68], [69, 3]],\n",
       "  'food': [67, 22],\n",
       "  'index': 0},\n",
       " {'remainingOverageTime': 60,\n",
       "  'step': 79,\n",
       "  'geese': [[57], [58, 69]],\n",
       "  'food': [67, 22],\n",
       "  'index': 0}]"
      ]
     },
     "execution_count": 41,
     "metadata": {},
     "output_type": "execute_result"
    }
   ],
   "source": [
    "print_agent.observations"
   ]
  },
  {
   "cell_type": "code",
   "execution_count": 42,
   "metadata": {
    "ExecuteTime": {
     "end_time": "2021-02-28T07:36:24.202890Z",
     "start_time": "2021-02-28T07:36:24.195599Z"
    },
    "deletable": false,
    "editable": false,
    "hidden": true,
    "run_control": {
     "frozen": true
    }
   },
   "outputs": [
    {
     "data": {
      "text/plain": [
       "[{'action': 'NORTH',\n",
       "  'reward': 8001,\n",
       "  'info': {},\n",
       "  'observation': {'remainingOverageTime': 60,\n",
       "   'step': 80,\n",
       "   'geese': [[], [47]],\n",
       "   'food': [67, 22],\n",
       "   'index': 0},\n",
       "  'status': 'DONE'},\n",
       " {'action': 'NORTH',\n",
       "  'reward': 8101,\n",
       "  'info': {},\n",
       "  'observation': {'remainingOverageTime': 60, 'index': 1},\n",
       "  'status': 'DONE'}]"
      ]
     },
     "execution_count": 42,
     "metadata": {},
     "output_type": "execute_result"
    }
   ],
   "source": [
    "ret[-1]"
   ]
  },
  {
   "cell_type": "code",
   "execution_count": 43,
   "metadata": {
    "ExecuteTime": {
     "end_time": "2021-02-28T07:37:48.787592Z",
     "start_time": "2021-02-28T07:37:48.755325Z"
    },
    "deletable": false,
    "editable": false,
    "hidden": true,
    "run_control": {
     "frozen": true
    }
   },
   "outputs": [
    {
     "data": {
      "text/plain": [
       "[{'episodeSteps': 200,\n",
       "  'actTimeout': 1,\n",
       "  'runTimeout': 1200,\n",
       "  'columns': 11,\n",
       "  'rows': 7,\n",
       "  'hunger_rate': 40,\n",
       "  'min_food': 2,\n",
       "  'max_length': 99},\n",
       " {'episodeSteps': 200,\n",
       "  'actTimeout': 1,\n",
       "  'runTimeout': 1200,\n",
       "  'columns': 11,\n",
       "  'rows': 7,\n",
       "  'hunger_rate': 40,\n",
       "  'min_food': 2,\n",
       "  'max_length': 99},\n",
       " {'episodeSteps': 200,\n",
       "  'actTimeout': 1,\n",
       "  'runTimeout': 1200,\n",
       "  'columns': 11,\n",
       "  'rows': 7,\n",
       "  'hunger_rate': 40,\n",
       "  'min_food': 2,\n",
       "  'max_length': 99},\n",
       " {'episodeSteps': 200,\n",
       "  'actTimeout': 1,\n",
       "  'runTimeout': 1200,\n",
       "  'columns': 11,\n",
       "  'rows': 7,\n",
       "  'hunger_rate': 40,\n",
       "  'min_food': 2,\n",
       "  'max_length': 99},\n",
       " {'episodeSteps': 200,\n",
       "  'actTimeout': 1,\n",
       "  'runTimeout': 1200,\n",
       "  'columns': 11,\n",
       "  'rows': 7,\n",
       "  'hunger_rate': 40,\n",
       "  'min_food': 2,\n",
       "  'max_length': 99},\n",
       " {'episodeSteps': 200,\n",
       "  'actTimeout': 1,\n",
       "  'runTimeout': 1200,\n",
       "  'columns': 11,\n",
       "  'rows': 7,\n",
       "  'hunger_rate': 40,\n",
       "  'min_food': 2,\n",
       "  'max_length': 99},\n",
       " {'episodeSteps': 200,\n",
       "  'actTimeout': 1,\n",
       "  'runTimeout': 1200,\n",
       "  'columns': 11,\n",
       "  'rows': 7,\n",
       "  'hunger_rate': 40,\n",
       "  'min_food': 2,\n",
       "  'max_length': 99},\n",
       " {'episodeSteps': 200,\n",
       "  'actTimeout': 1,\n",
       "  'runTimeout': 1200,\n",
       "  'columns': 11,\n",
       "  'rows': 7,\n",
       "  'hunger_rate': 40,\n",
       "  'min_food': 2,\n",
       "  'max_length': 99},\n",
       " {'episodeSteps': 200,\n",
       "  'actTimeout': 1,\n",
       "  'runTimeout': 1200,\n",
       "  'columns': 11,\n",
       "  'rows': 7,\n",
       "  'hunger_rate': 40,\n",
       "  'min_food': 2,\n",
       "  'max_length': 99},\n",
       " {'episodeSteps': 200,\n",
       "  'actTimeout': 1,\n",
       "  'runTimeout': 1200,\n",
       "  'columns': 11,\n",
       "  'rows': 7,\n",
       "  'hunger_rate': 40,\n",
       "  'min_food': 2,\n",
       "  'max_length': 99},\n",
       " {'episodeSteps': 200,\n",
       "  'actTimeout': 1,\n",
       "  'runTimeout': 1200,\n",
       "  'columns': 11,\n",
       "  'rows': 7,\n",
       "  'hunger_rate': 40,\n",
       "  'min_food': 2,\n",
       "  'max_length': 99},\n",
       " {'episodeSteps': 200,\n",
       "  'actTimeout': 1,\n",
       "  'runTimeout': 1200,\n",
       "  'columns': 11,\n",
       "  'rows': 7,\n",
       "  'hunger_rate': 40,\n",
       "  'min_food': 2,\n",
       "  'max_length': 99},\n",
       " {'episodeSteps': 200,\n",
       "  'actTimeout': 1,\n",
       "  'runTimeout': 1200,\n",
       "  'columns': 11,\n",
       "  'rows': 7,\n",
       "  'hunger_rate': 40,\n",
       "  'min_food': 2,\n",
       "  'max_length': 99},\n",
       " {'episodeSteps': 200,\n",
       "  'actTimeout': 1,\n",
       "  'runTimeout': 1200,\n",
       "  'columns': 11,\n",
       "  'rows': 7,\n",
       "  'hunger_rate': 40,\n",
       "  'min_food': 2,\n",
       "  'max_length': 99},\n",
       " {'episodeSteps': 200,\n",
       "  'actTimeout': 1,\n",
       "  'runTimeout': 1200,\n",
       "  'columns': 11,\n",
       "  'rows': 7,\n",
       "  'hunger_rate': 40,\n",
       "  'min_food': 2,\n",
       "  'max_length': 99},\n",
       " {'episodeSteps': 200,\n",
       "  'actTimeout': 1,\n",
       "  'runTimeout': 1200,\n",
       "  'columns': 11,\n",
       "  'rows': 7,\n",
       "  'hunger_rate': 40,\n",
       "  'min_food': 2,\n",
       "  'max_length': 99},\n",
       " {'episodeSteps': 200,\n",
       "  'actTimeout': 1,\n",
       "  'runTimeout': 1200,\n",
       "  'columns': 11,\n",
       "  'rows': 7,\n",
       "  'hunger_rate': 40,\n",
       "  'min_food': 2,\n",
       "  'max_length': 99},\n",
       " {'episodeSteps': 200,\n",
       "  'actTimeout': 1,\n",
       "  'runTimeout': 1200,\n",
       "  'columns': 11,\n",
       "  'rows': 7,\n",
       "  'hunger_rate': 40,\n",
       "  'min_food': 2,\n",
       "  'max_length': 99},\n",
       " {'episodeSteps': 200,\n",
       "  'actTimeout': 1,\n",
       "  'runTimeout': 1200,\n",
       "  'columns': 11,\n",
       "  'rows': 7,\n",
       "  'hunger_rate': 40,\n",
       "  'min_food': 2,\n",
       "  'max_length': 99},\n",
       " {'episodeSteps': 200,\n",
       "  'actTimeout': 1,\n",
       "  'runTimeout': 1200,\n",
       "  'columns': 11,\n",
       "  'rows': 7,\n",
       "  'hunger_rate': 40,\n",
       "  'min_food': 2,\n",
       "  'max_length': 99},\n",
       " {'episodeSteps': 200,\n",
       "  'actTimeout': 1,\n",
       "  'runTimeout': 1200,\n",
       "  'columns': 11,\n",
       "  'rows': 7,\n",
       "  'hunger_rate': 40,\n",
       "  'min_food': 2,\n",
       "  'max_length': 99},\n",
       " {'episodeSteps': 200,\n",
       "  'actTimeout': 1,\n",
       "  'runTimeout': 1200,\n",
       "  'columns': 11,\n",
       "  'rows': 7,\n",
       "  'hunger_rate': 40,\n",
       "  'min_food': 2,\n",
       "  'max_length': 99},\n",
       " {'episodeSteps': 200,\n",
       "  'actTimeout': 1,\n",
       "  'runTimeout': 1200,\n",
       "  'columns': 11,\n",
       "  'rows': 7,\n",
       "  'hunger_rate': 40,\n",
       "  'min_food': 2,\n",
       "  'max_length': 99},\n",
       " {'episodeSteps': 200,\n",
       "  'actTimeout': 1,\n",
       "  'runTimeout': 1200,\n",
       "  'columns': 11,\n",
       "  'rows': 7,\n",
       "  'hunger_rate': 40,\n",
       "  'min_food': 2,\n",
       "  'max_length': 99},\n",
       " {'episodeSteps': 200,\n",
       "  'actTimeout': 1,\n",
       "  'runTimeout': 1200,\n",
       "  'columns': 11,\n",
       "  'rows': 7,\n",
       "  'hunger_rate': 40,\n",
       "  'min_food': 2,\n",
       "  'max_length': 99},\n",
       " {'episodeSteps': 200,\n",
       "  'actTimeout': 1,\n",
       "  'runTimeout': 1200,\n",
       "  'columns': 11,\n",
       "  'rows': 7,\n",
       "  'hunger_rate': 40,\n",
       "  'min_food': 2,\n",
       "  'max_length': 99},\n",
       " {'episodeSteps': 200,\n",
       "  'actTimeout': 1,\n",
       "  'runTimeout': 1200,\n",
       "  'columns': 11,\n",
       "  'rows': 7,\n",
       "  'hunger_rate': 40,\n",
       "  'min_food': 2,\n",
       "  'max_length': 99},\n",
       " {'episodeSteps': 200,\n",
       "  'actTimeout': 1,\n",
       "  'runTimeout': 1200,\n",
       "  'columns': 11,\n",
       "  'rows': 7,\n",
       "  'hunger_rate': 40,\n",
       "  'min_food': 2,\n",
       "  'max_length': 99},\n",
       " {'episodeSteps': 200,\n",
       "  'actTimeout': 1,\n",
       "  'runTimeout': 1200,\n",
       "  'columns': 11,\n",
       "  'rows': 7,\n",
       "  'hunger_rate': 40,\n",
       "  'min_food': 2,\n",
       "  'max_length': 99},\n",
       " {'episodeSteps': 200,\n",
       "  'actTimeout': 1,\n",
       "  'runTimeout': 1200,\n",
       "  'columns': 11,\n",
       "  'rows': 7,\n",
       "  'hunger_rate': 40,\n",
       "  'min_food': 2,\n",
       "  'max_length': 99},\n",
       " {'episodeSteps': 200,\n",
       "  'actTimeout': 1,\n",
       "  'runTimeout': 1200,\n",
       "  'columns': 11,\n",
       "  'rows': 7,\n",
       "  'hunger_rate': 40,\n",
       "  'min_food': 2,\n",
       "  'max_length': 99},\n",
       " {'episodeSteps': 200,\n",
       "  'actTimeout': 1,\n",
       "  'runTimeout': 1200,\n",
       "  'columns': 11,\n",
       "  'rows': 7,\n",
       "  'hunger_rate': 40,\n",
       "  'min_food': 2,\n",
       "  'max_length': 99},\n",
       " {'episodeSteps': 200,\n",
       "  'actTimeout': 1,\n",
       "  'runTimeout': 1200,\n",
       "  'columns': 11,\n",
       "  'rows': 7,\n",
       "  'hunger_rate': 40,\n",
       "  'min_food': 2,\n",
       "  'max_length': 99},\n",
       " {'episodeSteps': 200,\n",
       "  'actTimeout': 1,\n",
       "  'runTimeout': 1200,\n",
       "  'columns': 11,\n",
       "  'rows': 7,\n",
       "  'hunger_rate': 40,\n",
       "  'min_food': 2,\n",
       "  'max_length': 99},\n",
       " {'episodeSteps': 200,\n",
       "  'actTimeout': 1,\n",
       "  'runTimeout': 1200,\n",
       "  'columns': 11,\n",
       "  'rows': 7,\n",
       "  'hunger_rate': 40,\n",
       "  'min_food': 2,\n",
       "  'max_length': 99},\n",
       " {'episodeSteps': 200,\n",
       "  'actTimeout': 1,\n",
       "  'runTimeout': 1200,\n",
       "  'columns': 11,\n",
       "  'rows': 7,\n",
       "  'hunger_rate': 40,\n",
       "  'min_food': 2,\n",
       "  'max_length': 99},\n",
       " {'episodeSteps': 200,\n",
       "  'actTimeout': 1,\n",
       "  'runTimeout': 1200,\n",
       "  'columns': 11,\n",
       "  'rows': 7,\n",
       "  'hunger_rate': 40,\n",
       "  'min_food': 2,\n",
       "  'max_length': 99},\n",
       " {'episodeSteps': 200,\n",
       "  'actTimeout': 1,\n",
       "  'runTimeout': 1200,\n",
       "  'columns': 11,\n",
       "  'rows': 7,\n",
       "  'hunger_rate': 40,\n",
       "  'min_food': 2,\n",
       "  'max_length': 99},\n",
       " {'episodeSteps': 200,\n",
       "  'actTimeout': 1,\n",
       "  'runTimeout': 1200,\n",
       "  'columns': 11,\n",
       "  'rows': 7,\n",
       "  'hunger_rate': 40,\n",
       "  'min_food': 2,\n",
       "  'max_length': 99},\n",
       " {'episodeSteps': 200,\n",
       "  'actTimeout': 1,\n",
       "  'runTimeout': 1200,\n",
       "  'columns': 11,\n",
       "  'rows': 7,\n",
       "  'hunger_rate': 40,\n",
       "  'min_food': 2,\n",
       "  'max_length': 99},\n",
       " {'episodeSteps': 200,\n",
       "  'actTimeout': 1,\n",
       "  'runTimeout': 1200,\n",
       "  'columns': 11,\n",
       "  'rows': 7,\n",
       "  'hunger_rate': 40,\n",
       "  'min_food': 2,\n",
       "  'max_length': 99},\n",
       " {'episodeSteps': 200,\n",
       "  'actTimeout': 1,\n",
       "  'runTimeout': 1200,\n",
       "  'columns': 11,\n",
       "  'rows': 7,\n",
       "  'hunger_rate': 40,\n",
       "  'min_food': 2,\n",
       "  'max_length': 99},\n",
       " {'episodeSteps': 200,\n",
       "  'actTimeout': 1,\n",
       "  'runTimeout': 1200,\n",
       "  'columns': 11,\n",
       "  'rows': 7,\n",
       "  'hunger_rate': 40,\n",
       "  'min_food': 2,\n",
       "  'max_length': 99},\n",
       " {'episodeSteps': 200,\n",
       "  'actTimeout': 1,\n",
       "  'runTimeout': 1200,\n",
       "  'columns': 11,\n",
       "  'rows': 7,\n",
       "  'hunger_rate': 40,\n",
       "  'min_food': 2,\n",
       "  'max_length': 99},\n",
       " {'episodeSteps': 200,\n",
       "  'actTimeout': 1,\n",
       "  'runTimeout': 1200,\n",
       "  'columns': 11,\n",
       "  'rows': 7,\n",
       "  'hunger_rate': 40,\n",
       "  'min_food': 2,\n",
       "  'max_length': 99},\n",
       " {'episodeSteps': 200,\n",
       "  'actTimeout': 1,\n",
       "  'runTimeout': 1200,\n",
       "  'columns': 11,\n",
       "  'rows': 7,\n",
       "  'hunger_rate': 40,\n",
       "  'min_food': 2,\n",
       "  'max_length': 99},\n",
       " {'episodeSteps': 200,\n",
       "  'actTimeout': 1,\n",
       "  'runTimeout': 1200,\n",
       "  'columns': 11,\n",
       "  'rows': 7,\n",
       "  'hunger_rate': 40,\n",
       "  'min_food': 2,\n",
       "  'max_length': 99},\n",
       " {'episodeSteps': 200,\n",
       "  'actTimeout': 1,\n",
       "  'runTimeout': 1200,\n",
       "  'columns': 11,\n",
       "  'rows': 7,\n",
       "  'hunger_rate': 40,\n",
       "  'min_food': 2,\n",
       "  'max_length': 99},\n",
       " {'episodeSteps': 200,\n",
       "  'actTimeout': 1,\n",
       "  'runTimeout': 1200,\n",
       "  'columns': 11,\n",
       "  'rows': 7,\n",
       "  'hunger_rate': 40,\n",
       "  'min_food': 2,\n",
       "  'max_length': 99},\n",
       " {'episodeSteps': 200,\n",
       "  'actTimeout': 1,\n",
       "  'runTimeout': 1200,\n",
       "  'columns': 11,\n",
       "  'rows': 7,\n",
       "  'hunger_rate': 40,\n",
       "  'min_food': 2,\n",
       "  'max_length': 99},\n",
       " {'episodeSteps': 200,\n",
       "  'actTimeout': 1,\n",
       "  'runTimeout': 1200,\n",
       "  'columns': 11,\n",
       "  'rows': 7,\n",
       "  'hunger_rate': 40,\n",
       "  'min_food': 2,\n",
       "  'max_length': 99},\n",
       " {'episodeSteps': 200,\n",
       "  'actTimeout': 1,\n",
       "  'runTimeout': 1200,\n",
       "  'columns': 11,\n",
       "  'rows': 7,\n",
       "  'hunger_rate': 40,\n",
       "  'min_food': 2,\n",
       "  'max_length': 99},\n",
       " {'episodeSteps': 200,\n",
       "  'actTimeout': 1,\n",
       "  'runTimeout': 1200,\n",
       "  'columns': 11,\n",
       "  'rows': 7,\n",
       "  'hunger_rate': 40,\n",
       "  'min_food': 2,\n",
       "  'max_length': 99},\n",
       " {'episodeSteps': 200,\n",
       "  'actTimeout': 1,\n",
       "  'runTimeout': 1200,\n",
       "  'columns': 11,\n",
       "  'rows': 7,\n",
       "  'hunger_rate': 40,\n",
       "  'min_food': 2,\n",
       "  'max_length': 99},\n",
       " {'episodeSteps': 200,\n",
       "  'actTimeout': 1,\n",
       "  'runTimeout': 1200,\n",
       "  'columns': 11,\n",
       "  'rows': 7,\n",
       "  'hunger_rate': 40,\n",
       "  'min_food': 2,\n",
       "  'max_length': 99},\n",
       " {'episodeSteps': 200,\n",
       "  'actTimeout': 1,\n",
       "  'runTimeout': 1200,\n",
       "  'columns': 11,\n",
       "  'rows': 7,\n",
       "  'hunger_rate': 40,\n",
       "  'min_food': 2,\n",
       "  'max_length': 99},\n",
       " {'episodeSteps': 200,\n",
       "  'actTimeout': 1,\n",
       "  'runTimeout': 1200,\n",
       "  'columns': 11,\n",
       "  'rows': 7,\n",
       "  'hunger_rate': 40,\n",
       "  'min_food': 2,\n",
       "  'max_length': 99},\n",
       " {'episodeSteps': 200,\n",
       "  'actTimeout': 1,\n",
       "  'runTimeout': 1200,\n",
       "  'columns': 11,\n",
       "  'rows': 7,\n",
       "  'hunger_rate': 40,\n",
       "  'min_food': 2,\n",
       "  'max_length': 99},\n",
       " {'episodeSteps': 200,\n",
       "  'actTimeout': 1,\n",
       "  'runTimeout': 1200,\n",
       "  'columns': 11,\n",
       "  'rows': 7,\n",
       "  'hunger_rate': 40,\n",
       "  'min_food': 2,\n",
       "  'max_length': 99},\n",
       " {'episodeSteps': 200,\n",
       "  'actTimeout': 1,\n",
       "  'runTimeout': 1200,\n",
       "  'columns': 11,\n",
       "  'rows': 7,\n",
       "  'hunger_rate': 40,\n",
       "  'min_food': 2,\n",
       "  'max_length': 99},\n",
       " {'episodeSteps': 200,\n",
       "  'actTimeout': 1,\n",
       "  'runTimeout': 1200,\n",
       "  'columns': 11,\n",
       "  'rows': 7,\n",
       "  'hunger_rate': 40,\n",
       "  'min_food': 2,\n",
       "  'max_length': 99},\n",
       " {'episodeSteps': 200,\n",
       "  'actTimeout': 1,\n",
       "  'runTimeout': 1200,\n",
       "  'columns': 11,\n",
       "  'rows': 7,\n",
       "  'hunger_rate': 40,\n",
       "  'min_food': 2,\n",
       "  'max_length': 99},\n",
       " {'episodeSteps': 200,\n",
       "  'actTimeout': 1,\n",
       "  'runTimeout': 1200,\n",
       "  'columns': 11,\n",
       "  'rows': 7,\n",
       "  'hunger_rate': 40,\n",
       "  'min_food': 2,\n",
       "  'max_length': 99},\n",
       " {'episodeSteps': 200,\n",
       "  'actTimeout': 1,\n",
       "  'runTimeout': 1200,\n",
       "  'columns': 11,\n",
       "  'rows': 7,\n",
       "  'hunger_rate': 40,\n",
       "  'min_food': 2,\n",
       "  'max_length': 99},\n",
       " {'episodeSteps': 200,\n",
       "  'actTimeout': 1,\n",
       "  'runTimeout': 1200,\n",
       "  'columns': 11,\n",
       "  'rows': 7,\n",
       "  'hunger_rate': 40,\n",
       "  'min_food': 2,\n",
       "  'max_length': 99},\n",
       " {'episodeSteps': 200,\n",
       "  'actTimeout': 1,\n",
       "  'runTimeout': 1200,\n",
       "  'columns': 11,\n",
       "  'rows': 7,\n",
       "  'hunger_rate': 40,\n",
       "  'min_food': 2,\n",
       "  'max_length': 99},\n",
       " {'episodeSteps': 200,\n",
       "  'actTimeout': 1,\n",
       "  'runTimeout': 1200,\n",
       "  'columns': 11,\n",
       "  'rows': 7,\n",
       "  'hunger_rate': 40,\n",
       "  'min_food': 2,\n",
       "  'max_length': 99},\n",
       " {'episodeSteps': 200,\n",
       "  'actTimeout': 1,\n",
       "  'runTimeout': 1200,\n",
       "  'columns': 11,\n",
       "  'rows': 7,\n",
       "  'hunger_rate': 40,\n",
       "  'min_food': 2,\n",
       "  'max_length': 99},\n",
       " {'episodeSteps': 200,\n",
       "  'actTimeout': 1,\n",
       "  'runTimeout': 1200,\n",
       "  'columns': 11,\n",
       "  'rows': 7,\n",
       "  'hunger_rate': 40,\n",
       "  'min_food': 2,\n",
       "  'max_length': 99},\n",
       " {'episodeSteps': 200,\n",
       "  'actTimeout': 1,\n",
       "  'runTimeout': 1200,\n",
       "  'columns': 11,\n",
       "  'rows': 7,\n",
       "  'hunger_rate': 40,\n",
       "  'min_food': 2,\n",
       "  'max_length': 99},\n",
       " {'episodeSteps': 200,\n",
       "  'actTimeout': 1,\n",
       "  'runTimeout': 1200,\n",
       "  'columns': 11,\n",
       "  'rows': 7,\n",
       "  'hunger_rate': 40,\n",
       "  'min_food': 2,\n",
       "  'max_length': 99},\n",
       " {'episodeSteps': 200,\n",
       "  'actTimeout': 1,\n",
       "  'runTimeout': 1200,\n",
       "  'columns': 11,\n",
       "  'rows': 7,\n",
       "  'hunger_rate': 40,\n",
       "  'min_food': 2,\n",
       "  'max_length': 99},\n",
       " {'episodeSteps': 200,\n",
       "  'actTimeout': 1,\n",
       "  'runTimeout': 1200,\n",
       "  'columns': 11,\n",
       "  'rows': 7,\n",
       "  'hunger_rate': 40,\n",
       "  'min_food': 2,\n",
       "  'max_length': 99},\n",
       " {'episodeSteps': 200,\n",
       "  'actTimeout': 1,\n",
       "  'runTimeout': 1200,\n",
       "  'columns': 11,\n",
       "  'rows': 7,\n",
       "  'hunger_rate': 40,\n",
       "  'min_food': 2,\n",
       "  'max_length': 99},\n",
       " {'episodeSteps': 200,\n",
       "  'actTimeout': 1,\n",
       "  'runTimeout': 1200,\n",
       "  'columns': 11,\n",
       "  'rows': 7,\n",
       "  'hunger_rate': 40,\n",
       "  'min_food': 2,\n",
       "  'max_length': 99},\n",
       " {'episodeSteps': 200,\n",
       "  'actTimeout': 1,\n",
       "  'runTimeout': 1200,\n",
       "  'columns': 11,\n",
       "  'rows': 7,\n",
       "  'hunger_rate': 40,\n",
       "  'min_food': 2,\n",
       "  'max_length': 99},\n",
       " {'episodeSteps': 200,\n",
       "  'actTimeout': 1,\n",
       "  'runTimeout': 1200,\n",
       "  'columns': 11,\n",
       "  'rows': 7,\n",
       "  'hunger_rate': 40,\n",
       "  'min_food': 2,\n",
       "  'max_length': 99},\n",
       " {'episodeSteps': 200,\n",
       "  'actTimeout': 1,\n",
       "  'runTimeout': 1200,\n",
       "  'columns': 11,\n",
       "  'rows': 7,\n",
       "  'hunger_rate': 40,\n",
       "  'min_food': 2,\n",
       "  'max_length': 99},\n",
       " {'episodeSteps': 200,\n",
       "  'actTimeout': 1,\n",
       "  'runTimeout': 1200,\n",
       "  'columns': 11,\n",
       "  'rows': 7,\n",
       "  'hunger_rate': 40,\n",
       "  'min_food': 2,\n",
       "  'max_length': 99},\n",
       " {'episodeSteps': 200,\n",
       "  'actTimeout': 1,\n",
       "  'runTimeout': 1200,\n",
       "  'columns': 11,\n",
       "  'rows': 7,\n",
       "  'hunger_rate': 40,\n",
       "  'min_food': 2,\n",
       "  'max_length': 99}]"
      ]
     },
     "execution_count": 43,
     "metadata": {},
     "output_type": "execute_result"
    }
   ],
   "source": [
    "print_agent.configurations"
   ]
  },
  {
   "cell_type": "markdown",
   "metadata": {
    "hidden": true
   },
   "source": [
    "Everything seems fine. I have also seen that I can use a class as agent."
   ]
  },
  {
   "cell_type": "markdown",
   "metadata": {},
   "source": [
    "## Implementing the GameState"
   ]
  },
  {
   "cell_type": "markdown",
   "metadata": {},
   "source": [
    "I'm going to implement the GameState on the library with nice tests, but I will also do some play here."
   ]
  },
  {
   "cell_type": "code",
   "execution_count": 19,
   "metadata": {
    "ExecuteTime": {
     "end_time": "2021-03-04T18:12:31.761281Z",
     "start_time": "2021-03-04T18:12:31.636034Z"
    },
    "deletable": false,
    "editable": false,
    "run_control": {
     "frozen": true
    }
   },
   "outputs": [],
   "source": [
    "env = make('hungry_geese', configuration=dict(episodeSteps=200))\n",
    "trainer = env.train([None, \"greedy\", \"greedy\", \"greedy\"])\n",
    "\n",
    "configuration = env.configuration\n",
    "\n",
    "obs = trainer.reset()\n",
    "\n",
    "state = GameState()\n",
    "\n",
    "state.update(obs, configuration)\n",
    "\n",
    "done = False\n",
    "while not done:\n",
    "    action = 'NORTH'\n",
    "    obs, reward, done, info = trainer.step(action)\n",
    "    state.add_action(action)\n",
    "    state.update(obs, configuration)"
   ]
  },
  {
   "cell_type": "code",
   "execution_count": 20,
   "metadata": {
    "ExecuteTime": {
     "end_time": "2021-03-04T18:12:32.455239Z",
     "start_time": "2021-03-04T18:12:32.427440Z"
    },
    "deletable": false,
    "editable": false,
    "run_control": {
     "frozen": true
    },
    "scrolled": true
   },
   "outputs": [
    {
     "data": {
      "text/plain": [
       "[0,\n",
       " 0,\n",
       " 0,\n",
       " 0,\n",
       " 0,\n",
       " 0,\n",
       " 0,\n",
       " 0,\n",
       " 0,\n",
       " 0,\n",
       " 0,\n",
       " 0,\n",
       " 0,\n",
       " 0,\n",
       " 0,\n",
       " 0,\n",
       " 0,\n",
       " 0,\n",
       " 0,\n",
       " 0,\n",
       " 0,\n",
       " 0,\n",
       " 0,\n",
       " 0,\n",
       " 0,\n",
       " 0,\n",
       " 0,\n",
       " 0,\n",
       " 0,\n",
       " 0,\n",
       " 0,\n",
       " -1]"
      ]
     },
     "execution_count": 20,
     "metadata": {},
     "output_type": "execute_result"
    }
   ],
   "source": [
    "state.rewards"
   ]
  },
  {
   "cell_type": "code",
   "execution_count": 21,
   "metadata": {
    "ExecuteTime": {
     "end_time": "2021-03-04T18:12:37.102268Z",
     "start_time": "2021-03-04T18:12:37.068848Z"
    },
    "deletable": false,
    "editable": false,
    "run_control": {
     "frozen": true
    }
   },
   "outputs": [],
   "source": [
    "non_egocentric_state = GameState(egocentric_board=False)\n",
    "for obs in state.history:\n",
    "    non_egocentric_state.update(obs, configuration)"
   ]
  },
  {
   "cell_type": "code",
   "execution_count": 22,
   "metadata": {
    "ExecuteTime": {
     "end_time": "2021-03-04T18:12:38.684680Z",
     "start_time": "2021-03-04T18:12:38.131106Z"
    },
    "deletable": false,
    "editable": false,
    "run_control": {
     "frozen": true
    }
   },
   "outputs": [
    {
     "data": {
      "image/png": "[encoded data removed]",
      "text/plain": [
       "<Figure size 2160x360 with 5 Axes>"
      ]
     },
     "metadata": {
      "needs_background": "light"
     },
     "output_type": "display_data"
    },
    {
     "data": {
      "image/png": "[encoded data removed]",
      "text/plain": [
       "<Figure size 2160x360 with 5 Axes>"
      ]
     },
     "metadata": {
      "needs_background": "light"
     },
     "output_type": "display_data"
    }
   ],
   "source": [
    "steps = list(range(-5, 0, 1))\n",
    "for idx, step in enumerate(steps):\n",
    "    plt.subplot(1, len(steps), idx+1)\n",
    "    plt.grid(which='both'); plt.yticks(np.arange(-0.5, 6.5),[]);  plt.xticks(np.arange(-0.5, 10.5),[])\n",
    "    plt.imshow(state.render_board(state.boards[step]))\n",
    "plt.show()\n",
    "for idx, step in enumerate(steps):\n",
    "    plt.subplot(1, len(steps), idx+1)\n",
    "    plt.grid(which='both'); plt.yticks(np.arange(-0.5, 6.5),[]);  plt.xticks(np.arange(-0.5, 10.5),[])\n",
    "    plt.imshow(non_egocentric_state.render_board(non_egocentric_state.boards[step]))"
   ]
  },
  {
   "cell_type": "code",
   "execution_count": 27,
   "metadata": {
    "ExecuteTime": {
     "end_time": "2021-03-04T18:13:50.407302Z",
     "start_time": "2021-03-04T18:13:50.380178Z"
    },
    "deletable": false,
    "editable": false,
    "run_control": {
     "frozen": true
    }
   },
   "outputs": [
    {
     "data": {
      "text/plain": [
       "array([[1.   , 1.   , 0.2  , 0.2  , 0.2  , 0.2  ],\n",
       "       [0.995, 0.975, 0.195, 0.195, 0.195, 0.195],\n",
       "       [0.99 , 0.95 , 0.19 , 0.19 , 0.19 , 0.19 ],\n",
       "       [0.985, 0.925, 0.185, 0.185, 0.185, 0.385],\n",
       "       [0.98 , 0.9  , 0.18 , 0.18 , 0.38 , 0.38 ],\n",
       "       [0.975, 0.875, 0.175, 0.175, 0.375, 0.375],\n",
       "       [0.97 , 0.85 , 0.17 , 0.17 , 0.37 , 0.37 ],\n",
       "       [0.965, 0.825, 0.165, 0.165, 0.365, 0.565],\n",
       "       [0.96 , 0.8  , 0.16 , 0.16 , 0.36 , 0.56 ],\n",
       "       [0.955, 0.775, 0.155, 0.155, 0.555, 0.555],\n",
       "       [0.95 , 0.75 , 0.15 , 0.15 , 0.55 , 0.55 ],\n",
       "       [0.945, 0.725, 0.145, 0.145, 0.545, 0.545],\n",
       "       [0.94 , 0.7  , 0.14 , 0.14 , 0.54 , 0.54 ],\n",
       "       [0.935, 0.675, 0.135, 0.135, 0.535, 0.735],\n",
       "       [0.93 , 0.65 , 0.13 , 0.13 , 0.53 , 0.73 ],\n",
       "       [0.925, 0.625, 0.125, 0.125, 0.525, 0.925],\n",
       "       [0.92 , 0.6  , 0.12 , 0.12 , 0.52 , 0.92 ],\n",
       "       [0.915, 0.575, 0.115, 0.315, 0.515, 0.915],\n",
       "       [0.91 , 0.55 , 0.11 , 0.31 , 0.51 , 1.11 ],\n",
       "       [0.905, 0.525, 0.105, 0.505, 0.505, 1.105],\n",
       "       [0.9  , 0.5  , 0.1  , 0.5  , 0.5  , 1.1  ],\n",
       "       [0.895, 0.475, 0.095, 0.495, 0.495, 1.295],\n",
       "       [0.89 , 0.45 , 0.09 , 0.49 , 0.49 , 1.29 ],\n",
       "       [0.885, 0.425, 0.085, 0.485, 0.485, 1.285],\n",
       "       [0.88 , 0.4  , 0.08 , 0.48 , 0.48 , 1.28 ],\n",
       "       [0.875, 0.375, 0.075, 0.675, 0.475, 1.275],\n",
       "       [0.87 , 0.35 , 0.07 , 0.67 , 0.47 , 1.27 ],\n",
       "       [0.865, 0.325, 0.065, 0.665, 0.665, 1.465],\n",
       "       [0.86 , 0.3  , 0.06 , 0.66 , 0.66 , 1.66 ],\n",
       "       [0.855, 0.275, 0.055, 0.655, 0.855, 1.655],\n",
       "       [0.85 , 0.25 , 0.05 , 0.65 , 0.85 , 1.65 ],\n",
       "       [0.845, 0.225, 0.045, 0.645, 0.845, 1.645],\n",
       "       [0.84 , 0.2  , 0.   , 0.64 , 0.84 , 1.84 ]], dtype=float32)"
      ]
     },
     "execution_count": 27,
     "metadata": {},
     "output_type": "execute_result"
    }
   ],
   "source": [
    "np.array(state.features)[:, 0:-3]"
   ]
  },
  {
   "cell_type": "code",
   "execution_count": 12,
   "metadata": {
    "ExecuteTime": {
     "end_time": "2021-03-01T11:14:00.295271Z",
     "start_time": "2021-03-01T11:14:00.270565Z"
    },
    "deletable": false,
    "editable": false,
    "run_control": {
     "frozen": true
    }
   },
   "outputs": [
    {
     "data": {
      "text/plain": [
       "{'remainingOverageTime': 60,\n",
       " 'step': 9,\n",
       " 'geese': [[13], [75, 64], [3, 14], []],\n",
       " 'food': [56, 68],\n",
       " 'index': 0}"
      ]
     },
     "execution_count": 12,
     "metadata": {},
     "output_type": "execute_result"
    }
   ],
   "source": [
    "state.history[-1]"
   ]
  },
  {
   "cell_type": "code",
   "execution_count": 11,
   "metadata": {
    "ExecuteTime": {
     "end_time": "2021-02-28T10:04:14.845642Z",
     "start_time": "2021-02-28T10:04:14.815115Z"
    },
    "deletable": false,
    "editable": false,
    "run_control": {
     "frozen": true
    }
   },
   "outputs": [
    {
     "data": {
      "text/plain": [
       "28"
      ]
     },
     "execution_count": 11,
     "metadata": {},
     "output_type": "execute_result"
    }
   ],
   "source": [
    "len(state.history)"
   ]
  },
  {
   "cell_type": "code",
   "execution_count": 13,
   "metadata": {
    "ExecuteTime": {
     "end_time": "2021-02-28T10:11:18.385327Z",
     "start_time": "2021-02-28T10:11:18.358744Z"
    },
    "deletable": false,
    "editable": false,
    "run_control": {
     "frozen": true
    }
   },
   "outputs": [
    {
     "data": {
      "text/plain": [
       "{'remainingOverageTime': 60,\n",
       " 'step': 0,\n",
       " 'geese': [[64], [57], [67], [0]],\n",
       " 'food': [22, 61],\n",
       " 'index': 0}"
      ]
     },
     "execution_count": 13,
     "metadata": {},
     "output_type": "execute_result"
    }
   ],
   "source": [
    "state.history[0]"
   ]
  },
  {
   "cell_type": "code",
   "execution_count": 12,
   "metadata": {
    "ExecuteTime": {
     "end_time": "2021-02-28T10:07:21.978579Z",
     "start_time": "2021-02-28T10:07:21.950621Z"
    },
    "deletable": false,
    "editable": false,
    "run_control": {
     "frozen": true
    }
   },
   "outputs": [
    {
     "data": {
      "text/plain": [
       "{'episodeSteps': 200,\n",
       " 'actTimeout': 1,\n",
       " 'runTimeout': 1200,\n",
       " 'columns': 11,\n",
       " 'rows': 7,\n",
       " 'hunger_rate': 40,\n",
       " 'min_food': 2,\n",
       " 'max_length': 99}"
      ]
     },
     "execution_count": 12,
     "metadata": {},
     "output_type": "execute_result"
    }
   ],
   "source": [
    "state.configuration"
   ]
  },
  {
   "cell_type": "markdown",
   "metadata": {},
   "source": [
    "## Agent"
   ]
  },
  {
   "cell_type": "markdown",
   "metadata": {},
   "source": [
    "The agent will have an internal GameState for playing an a model that uses the game state as input to return which action to take.\n",
    "\n",
    "I'm going to implement it on the library also."
   ]
  },
  {
   "cell_type": "code",
   "execution_count": null,
   "metadata": {},
   "outputs": [],
   "source": [
    "class QValueAgent():\n",
    "    def __init__(self, model):\n",
    "        self.model = model\n",
    "        self.state = state\n",
    "        self.previous_action = None\n",
    "    \n",
    "    def __call__(self, observation, configuration):\n",
    "        board, features = self.state.update(observation, configuration)\n",
    "        q_value = self.model.predict([board, features])\n",
    "        \n",
    "        # TODO: how to deal with previous action if epsilon agent is playing, add a method to change previous action\n",
    "    \n",
    "    def reset(self):\n",
    "        self.state.reset()\n",
    "        self.previous_action = None\n",
    "        \n",
    "    def update_previous_action(self, previous_action):\n",
    "        \"\"\" Allows to change previous action if an agent such as epsilon-greedy agent is playing\"\"\"\n",
    "        self.previous_action = previous_action"
   ]
  },
  {
   "cell_type": "code",
   "execution_count": null,
   "metadata": {},
   "outputs": [],
   "source": [
    "class EpsilonAgent():\n",
    "    def __init__(self, agent, epsilon):\n",
    "        self.agent = agent\n",
    "        self.epsilon = epsilon\n",
    "        self.previous_action = None\n",
    "    \n",
    "    def __call__(self, observation, configuration):\n",
    "        action = self.agent(observation, configuration)\n",
    "        if random.uniform(0, 1) < self.epsilon:\n",
    "            action = random_legal_action(self.previous_action)\n",
    "            if hasattr(self.agent, 'update_previous_action'):\n",
    "                self.agent.update_previous_action(action)\n",
    "        self.previous_action = action\n",
    "        return action\n",
    "    \n",
    "    def reset(self):\n",
    "        self.previous_action = None\n",
    "        if hasattr(self.agent, 'reset'):\n",
    "            self.agent.reset()\n",
    "            \n",
    "ACTIONS = ['NORTH', 'EAST', 'SOUTH', 'WEST']\n",
    "\n",
    "def opposite_action(action):\n",
    "    action_to_opposite = {\n",
    "        'NORTH':'SOUTH', \n",
    "        'EAST':'WEST', \n",
    "        'SOUTH':'NORTH', \n",
    "        'WEST':'EAST',\n",
    "    }\n",
    "    return action_to_opposite[action]\n",
    "            \n",
    "def random_legal_action(previous_action):\n",
    "    \"\"\" Returns a random action that is legal \"\"\"\n",
    "    if previous_action is not None:\n",
    "        opposite = opposite_action(previous_action)\n",
    "        options = [action for action in ACTIONS if action != opposite]\n",
    "    else:\n",
    "        options = ACTIONS\n",
    "    action = random.choice(options)\n",
    "    return action"
   ]
  },
  {
   "cell_type": "markdown",
   "metadata": {},
   "source": [
    "TODO: move to script and test "
   ]
  },
  {
   "cell_type": "markdown",
   "metadata": {},
   "source": [
    "## Summary"
   ]
  },
  {
   "cell_type": "code",
   "execution_count": null,
   "metadata": {},
   "outputs": [],
   "source": []
  }
 ],
 "metadata": {
  "hide_input": false,
  "kernelspec": {
   "display_name": "Python (goose)",
   "language": "python",
   "name": "goose"
  },
  "language_info": {
   "codemirror_mode": {
    "name": "ipython",
    "version": 3
   },
   "file_extension": ".py",
   "mimetype": "text/x-python",
   "name": "python",
   "nbconvert_exporter": "python",
   "pygments_lexer": "ipython3",
   "version": "3.7.9"
  },
  "toc": {
   "base_numbering": 1,
   "nav_menu": {},
   "number_sections": false,
   "sideBar": true,
   "skip_h1_title": false,
   "title_cell": "Table of Contents",
   "title_sidebar": "Contents",
   "toc_cell": true,
   "toc_position": {},
   "toc_section_display": true,
   "toc_window_display": false
  }
 },
 "nbformat": 4,
 "nbformat_minor": 4
}
