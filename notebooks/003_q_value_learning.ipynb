{
 "cells": [
  {
   "cell_type": "markdown",
   "metadata": {
    "toc": true
   },
   "source": [
    "<h1>Table of Contents<span class=\"tocSkip\"></span></h1>\n",
    "<div class=\"toc\"><ul class=\"toc-item\"><li><span><a href=\"#Q-value-learning\" data-toc-modified-id=\"Q-value-learning-1\">Q value learning</a></span><ul class=\"toc-item\"><li><span><a href=\"#Goal\" data-toc-modified-id=\"Goal-1.1\">Goal</a></span></li><li><span><a href=\"#Imports\" data-toc-modified-id=\"Imports-1.2\">Imports</a></span></li><li><span><a href=\"#Comparing-environment-interfaces\" data-toc-modified-id=\"Comparing-environment-interfaces-1.3\">Comparing environment interfaces</a></span><ul class=\"toc-item\"><li><span><a href=\"#Open-AI-Gym\" data-toc-modified-id=\"Open-AI-Gym-1.3.1\">Open AI Gym</a></span></li><li><span><a href=\"#Step\" data-toc-modified-id=\"Step-1.3.2\">Step</a></span></li><li><span><a href=\"#Decision\" data-toc-modified-id=\"Decision-1.3.3\">Decision</a></span></li></ul></li><li><span><a href=\"#Verifying-the-information-received-by-the-agent\" data-toc-modified-id=\"Verifying-the-information-received-by-the-agent-1.4\">Verifying the information received by the agent</a></span></li><li><span><a href=\"#Implementing-the-GameState\" data-toc-modified-id=\"Implementing-the-GameState-1.5\">Implementing the GameState</a></span></li><li><span><a href=\"#Summary\" data-toc-modified-id=\"Summary-1.6\">Summary</a></span></li></ul></li></ul></div>"
   ]
  },
  {
   "cell_type": "markdown",
   "metadata": {},
   "source": [
    "# Q value learning"
   ]
  },
  {
   "cell_type": "markdown",
   "metadata": {},
   "source": [
    "## Goal"
   ]
  },
  {
   "cell_type": "markdown",
   "metadata": {
    "ExecuteTime": {
     "end_time": "2021-02-28T07:06:28.564686Z",
     "start_time": "2021-02-28T07:06:28.557428Z"
    }
   },
   "source": [
    "On this notebook I will try to implement the first training of a model that uses Q value learning."
   ]
  },
  {
   "cell_type": "markdown",
   "metadata": {
    "heading_collapsed": true
   },
   "source": [
    "## Imports"
   ]
  },
  {
   "cell_type": "code",
   "execution_count": 1,
   "metadata": {
    "ExecuteTime": {
     "end_time": "2021-02-28T10:00:59.894057Z",
     "start_time": "2021-02-28T10:00:59.870925Z"
    },
    "hidden": true
   },
   "outputs": [],
   "source": [
    "# Use this to reload changes in python scripts\n",
    "%load_ext autoreload\n",
    "%autoreload 2"
   ]
  },
  {
   "cell_type": "code",
   "execution_count": 2,
   "metadata": {
    "ExecuteTime": {
     "end_time": "2021-02-28T10:01:00.735617Z",
     "start_time": "2021-02-28T10:01:00.246439Z"
    },
    "hidden": true
   },
   "outputs": [
    {
     "name": "stdout",
     "output_type": "stream",
     "text": [
      "Loading environment football failed: No module named 'gfootball'\n"
     ]
    }
   ],
   "source": [
    "import os\n",
    "import kaggle_environments\n",
    "from kaggle_environments import make\n",
    "from kaggle_environments import evaluate\n",
    "from kaggle_environments.envs.hungry_geese.hungry_geese import Action\n",
    "import numpy as np\n",
    "import matplotlib.pyplot as plt\n",
    "import matplotlib as mpl\n",
    "import random\n",
    "import pandas as pd\n",
    "from tqdm.notebook import tqdm\n",
    "from concurrent.futures import ProcessPoolExecutor\n",
    "import time\n",
    "\n",
    "from hungry_geese import GameState\n",
    "\n",
    "%config Completer.use_jedi = False"
   ]
  },
  {
   "cell_type": "code",
   "execution_count": 3,
   "metadata": {
    "ExecuteTime": {
     "end_time": "2021-02-28T10:01:00.794363Z",
     "start_time": "2021-02-28T10:01:00.737044Z"
    },
    "hidden": true
   },
   "outputs": [],
   "source": [
    "plt.plot()\n",
    "plt.close('all')\n",
    "plt.rcParams[\"figure.figsize\"] = (30, 5)  \n",
    "mpl.rcParams['lines.linewidth'] = 3\n",
    "mpl.rcParams['font.size'] = 16"
   ]
  },
  {
   "cell_type": "markdown",
   "metadata": {},
   "source": [
    "## Comparing environment interfaces"
   ]
  },
  {
   "cell_type": "markdown",
   "metadata": {},
   "source": [
    "### Open AI Gym"
   ]
  },
  {
   "cell_type": "markdown",
   "metadata": {},
   "source": [
    "https://github.com/Kaggle/kaggle-environments#training"
   ]
  },
  {
   "cell_type": "code",
   "execution_count": 4,
   "metadata": {
    "ExecuteTime": {
     "end_time": "2021-02-28T07:10:29.717364Z",
     "start_time": "2021-02-28T07:10:29.664278Z"
    },
    "deletable": false,
    "editable": false,
    "run_control": {
     "frozen": true
    }
   },
   "outputs": [],
   "source": [
    "env = make('hungry_geese')\n",
    "trainer = env.train([None, \"greedy\", \"greedy\", \"greedy\"])"
   ]
  },
  {
   "cell_type": "code",
   "execution_count": 11,
   "metadata": {
    "ExecuteTime": {
     "end_time": "2021-02-28T07:14:17.995044Z",
     "start_time": "2021-02-28T07:14:17.973420Z"
    },
    "deletable": false,
    "editable": false,
    "run_control": {
     "frozen": true
    }
   },
   "outputs": [
    {
     "data": {
      "text/plain": [
       "{'remainingOverageTime': 60,\n",
       " 'step': 0,\n",
       " 'geese': [[17], [46], [0], [23]],\n",
       " 'food': [51, 34],\n",
       " 'index': 0}"
      ]
     },
     "execution_count": 11,
     "metadata": {},
     "output_type": "execute_result"
    }
   ],
   "source": [
    "obs = trainer.reset()\n",
    "obs"
   ]
  },
  {
   "cell_type": "code",
   "execution_count": 13,
   "metadata": {
    "ExecuteTime": {
     "end_time": "2021-02-28T07:14:37.012547Z",
     "start_time": "2021-02-28T07:14:36.997451Z"
    },
    "deletable": false,
    "editable": false,
    "run_control": {
     "frozen": true
    }
   },
   "outputs": [
    {
     "data": {
      "text/plain": [
       "[{'remainingOverageTime': 60,\n",
       "  'step': 1,\n",
       "  'geese': [[6], [35], [1], [34, 23]],\n",
       "  'food': [51, 25],\n",
       "  'index': 0},\n",
       " 201,\n",
       " False,\n",
       " {}]"
      ]
     },
     "execution_count": 13,
     "metadata": {},
     "output_type": "execute_result"
    }
   ],
   "source": [
    "trainer.step('NORTH')"
   ]
  },
  {
   "cell_type": "code",
   "execution_count": 14,
   "metadata": {
    "ExecuteTime": {
     "end_time": "2021-02-28T07:15:14.290374Z",
     "start_time": "2021-02-28T07:15:14.277162Z"
    },
    "deletable": false,
    "editable": false,
    "run_control": {
     "frozen": true
    }
   },
   "outputs": [
    {
     "data": {
      "text/plain": [
       "[{'remainingOverageTime': 60,\n",
       "  'step': 2,\n",
       "  'geese': [[72], [24], [2], [45, 34]],\n",
       "  'food': [51, 25],\n",
       "  'index': 0},\n",
       " 100,\n",
       " False,\n",
       " {}]"
      ]
     },
     "execution_count": 14,
     "metadata": {},
     "output_type": "execute_result"
    }
   ],
   "source": [
    "trainer.step('NORTH')"
   ]
  },
  {
   "cell_type": "code",
   "execution_count": 15,
   "metadata": {
    "ExecuteTime": {
     "end_time": "2021-02-28T07:15:22.680950Z",
     "start_time": "2021-02-28T07:15:22.668633Z"
    },
    "deletable": false,
    "editable": false,
    "run_control": {
     "frozen": true
    }
   },
   "outputs": [
    {
     "data": {
      "text/plain": [
       "[{'remainingOverageTime': 60,\n",
       "  'step': 3,\n",
       "  'geese': [[61], [25, 24], [3], [46, 45]],\n",
       "  'food': [51, 2],\n",
       "  'index': 0},\n",
       " 100,\n",
       " False,\n",
       " {}]"
      ]
     },
     "execution_count": 15,
     "metadata": {},
     "output_type": "execute_result"
    }
   ],
   "source": [
    "trainer.step('NORTH')"
   ]
  },
  {
   "cell_type": "code",
   "execution_count": 16,
   "metadata": {
    "ExecuteTime": {
     "end_time": "2021-02-28T07:15:28.610446Z",
     "start_time": "2021-02-28T07:15:28.596422Z"
    },
    "deletable": false,
    "editable": false,
    "run_control": {
     "frozen": true
    }
   },
   "outputs": [
    {
     "data": {
      "text/plain": [
       "[{'remainingOverageTime': 60,\n",
       "  'step': 4,\n",
       "  'geese': [[50], [26, 25], [4], [35, 46]],\n",
       "  'food': [51, 2],\n",
       "  'index': 0},\n",
       " 100,\n",
       " False,\n",
       " {}]"
      ]
     },
     "execution_count": 16,
     "metadata": {},
     "output_type": "execute_result"
    }
   ],
   "source": [
    "trainer.step('NORTH')"
   ]
  },
  {
   "cell_type": "code",
   "execution_count": 17,
   "metadata": {
    "ExecuteTime": {
     "end_time": "2021-02-28T07:15:39.950648Z",
     "start_time": "2021-02-28T07:15:39.936760Z"
    },
    "deletable": false,
    "editable": false,
    "run_control": {
     "frozen": true
    }
   },
   "outputs": [
    {
     "data": {
      "text/plain": [
       "[{'remainingOverageTime': 60,\n",
       "  'step': 5,\n",
       "  'geese': [[49], [27, 26], [5], [24, 35]],\n",
       "  'food': [51, 2],\n",
       "  'index': 0},\n",
       " 100,\n",
       " False,\n",
       " {}]"
      ]
     },
     "execution_count": 17,
     "metadata": {},
     "output_type": "execute_result"
    }
   ],
   "source": [
    "trainer.step('WEST')"
   ]
  },
  {
   "cell_type": "code",
   "execution_count": 18,
   "metadata": {
    "ExecuteTime": {
     "end_time": "2021-02-28T07:15:57.826331Z",
     "start_time": "2021-02-28T07:15:57.812706Z"
    },
    "deletable": false,
    "editable": false,
    "run_control": {
     "frozen": true
    }
   },
   "outputs": [
    {
     "data": {
      "text/plain": [
       "[{'remainingOverageTime': 60,\n",
       "  'step': 6,\n",
       "  'geese': [[], [28, 27], [71], [13, 24]],\n",
       "  'food': [51, 2],\n",
       "  'index': 0},\n",
       " 0,\n",
       " True,\n",
       " {}]"
      ]
     },
     "execution_count": 18,
     "metadata": {},
     "output_type": "execute_result"
    }
   ],
   "source": [
    "trainer.step('EAST')"
   ]
  },
  {
   "cell_type": "markdown",
   "metadata": {},
   "source": [
    "So it seems we could use this implementation for training. The advantage is that we just have to care about our agent, not about the others."
   ]
  },
  {
   "cell_type": "code",
   "execution_count": 19,
   "metadata": {
    "ExecuteTime": {
     "end_time": "2021-02-28T07:19:37.972154Z",
     "start_time": "2021-02-28T07:19:37.965769Z"
    },
    "deletable": false,
    "editable": false,
    "run_control": {
     "frozen": true
    }
   },
   "outputs": [
    {
     "data": {
      "text/plain": [
       "{'episodeSteps': 200,\n",
       " 'actTimeout': 1,\n",
       " 'runTimeout': 1200,\n",
       " 'columns': 11,\n",
       " 'rows': 7,\n",
       " 'hunger_rate': 40,\n",
       " 'min_food': 2,\n",
       " 'max_length': 99}"
      ]
     },
     "execution_count": 19,
     "metadata": {},
     "output_type": "execute_result"
    }
   ],
   "source": [
    "env.configuration"
   ]
  },
  {
   "cell_type": "markdown",
   "metadata": {
    "heading_collapsed": true
   },
   "source": [
    "### Step"
   ]
  },
  {
   "cell_type": "markdown",
   "metadata": {
    "hidden": true
   },
   "source": [
    "https://github.com/Kaggle/kaggle-environments#stepping"
   ]
  },
  {
   "cell_type": "code",
   "execution_count": 20,
   "metadata": {
    "ExecuteTime": {
     "end_time": "2021-02-28T07:21:09.618237Z",
     "start_time": "2021-02-28T07:21:09.597433Z"
    },
    "deletable": false,
    "editable": false,
    "hidden": true,
    "run_control": {
     "frozen": true
    }
   },
   "outputs": [],
   "source": [
    "env = make('hungry_geese')"
   ]
  },
  {
   "cell_type": "code",
   "execution_count": 22,
   "metadata": {
    "ExecuteTime": {
     "end_time": "2021-02-28T07:21:36.561126Z",
     "start_time": "2021-02-28T07:21:36.532455Z"
    },
    "deletable": false,
    "editable": false,
    "hidden": true,
    "run_control": {
     "frozen": true
    }
   },
   "outputs": [
    {
     "data": {
      "text/plain": [
       "[{'action': 'NORTH',\n",
       "  'reward': 0,\n",
       "  'info': {},\n",
       "  'observation': {'remainingOverageTime': 60,\n",
       "   'step': 0,\n",
       "   'geese': [[22], [73], [20], [65]],\n",
       "   'food': [58, 37],\n",
       "   'index': 0},\n",
       "  'status': 'ACTIVE'},\n",
       " {'action': 'NORTH',\n",
       "  'reward': 0,\n",
       "  'info': {},\n",
       "  'observation': {'remainingOverageTime': 60, 'index': 1},\n",
       "  'status': 'ACTIVE'},\n",
       " {'action': 'NORTH',\n",
       "  'reward': 0,\n",
       "  'info': {},\n",
       "  'observation': {'remainingOverageTime': 60, 'index': 2},\n",
       "  'status': 'ACTIVE'},\n",
       " {'action': 'NORTH',\n",
       "  'reward': 0,\n",
       "  'info': {},\n",
       "  'observation': {'remainingOverageTime': 60, 'index': 3},\n",
       "  'status': 'ACTIVE'}]"
      ]
     },
     "execution_count": 22,
     "metadata": {},
     "output_type": "execute_result"
    }
   ],
   "source": [
    "env.reset(num_agents=4)"
   ]
  },
  {
   "cell_type": "code",
   "execution_count": 23,
   "metadata": {
    "ExecuteTime": {
     "end_time": "2021-02-28T07:21:39.885023Z",
     "start_time": "2021-02-28T07:21:39.876358Z"
    },
    "deletable": false,
    "editable": false,
    "hidden": true,
    "run_control": {
     "frozen": true
    }
   },
   "outputs": [
    {
     "data": {
      "text/plain": [
       "[{'action': 'NORTH',\n",
       "  'reward': 0,\n",
       "  'info': {},\n",
       "  'observation': {'remainingOverageTime': 60,\n",
       "   'step': 0,\n",
       "   'geese': [[22], [73], [20], [65]],\n",
       "   'food': [58, 37],\n",
       "   'index': 0},\n",
       "  'status': 'ACTIVE'},\n",
       " {'action': 'NORTH',\n",
       "  'reward': 0,\n",
       "  'info': {},\n",
       "  'observation': {'remainingOverageTime': 60, 'index': 1},\n",
       "  'status': 'ACTIVE'},\n",
       " {'action': 'NORTH',\n",
       "  'reward': 0,\n",
       "  'info': {},\n",
       "  'observation': {'remainingOverageTime': 60, 'index': 2},\n",
       "  'status': 'ACTIVE'},\n",
       " {'action': 'NORTH',\n",
       "  'reward': 0,\n",
       "  'info': {},\n",
       "  'observation': {'remainingOverageTime': 60, 'index': 3},\n",
       "  'status': 'ACTIVE'}]"
      ]
     },
     "execution_count": 23,
     "metadata": {},
     "output_type": "execute_result"
    }
   ],
   "source": [
    "env.state"
   ]
  },
  {
   "cell_type": "markdown",
   "metadata": {
    "ExecuteTime": {
     "end_time": "2021-02-28T07:22:47.281867Z",
     "start_time": "2021-02-28T07:22:47.275978Z"
    },
    "hidden": true
   },
   "source": [
    "I see a problem here, only the first state has information about the geese."
   ]
  },
  {
   "cell_type": "code",
   "execution_count": 25,
   "metadata": {
    "ExecuteTime": {
     "end_time": "2021-02-28T07:23:07.675255Z",
     "start_time": "2021-02-28T07:23:07.660808Z"
    },
    "deletable": false,
    "editable": false,
    "hidden": true,
    "run_control": {
     "frozen": true
    }
   },
   "outputs": [
    {
     "data": {
      "text/plain": [
       "[{'action': 'NORTH',\n",
       "  'reward': 201,\n",
       "  'info': {},\n",
       "  'observation': {'remainingOverageTime': 60,\n",
       "   'step': 1,\n",
       "   'geese': [[11], [62], [9], [54]],\n",
       "   'food': [58, 37],\n",
       "   'index': 0},\n",
       "  'status': 'ACTIVE'},\n",
       " {'action': 'NORTH',\n",
       "  'reward': 201,\n",
       "  'info': {},\n",
       "  'observation': {'remainingOverageTime': 60, 'index': 1},\n",
       "  'status': 'ACTIVE'},\n",
       " {'action': 'NORTH',\n",
       "  'reward': 201,\n",
       "  'info': {},\n",
       "  'observation': {'remainingOverageTime': 60, 'index': 2},\n",
       "  'status': 'ACTIVE'},\n",
       " {'action': 'NORTH',\n",
       "  'reward': 201,\n",
       "  'info': {},\n",
       "  'observation': {'remainingOverageTime': 60, 'index': 3},\n",
       "  'status': 'ACTIVE'}]"
      ]
     },
     "execution_count": 25,
     "metadata": {},
     "output_type": "execute_result"
    }
   ],
   "source": [
    "env.step(['NORTH', 'NORTH', 'NORTH', 'NORTH'])"
   ]
  },
  {
   "cell_type": "markdown",
   "metadata": {
    "hidden": true
   },
   "source": [
    "So if we would want to use this approach we will have to manually copy information about, step, goose and food for the other players."
   ]
  },
  {
   "cell_type": "markdown",
   "metadata": {},
   "source": [
    "### Decision"
   ]
  },
  {
   "cell_type": "markdown",
   "metadata": {},
   "source": [
    "I will be using Open AI gym interface since it is simpler."
   ]
  },
  {
   "cell_type": "markdown",
   "metadata": {
    "heading_collapsed": true
   },
   "source": [
    "## Verifying the information received by the agent"
   ]
  },
  {
   "cell_type": "markdown",
   "metadata": {
    "hidden": true
   },
   "source": [
    "Let's create a very simple agent that prints the information so I can be sure of what the agent receives as input."
   ]
  },
  {
   "cell_type": "code",
   "execution_count": 32,
   "metadata": {
    "ExecuteTime": {
     "end_time": "2021-02-28T07:33:27.521292Z",
     "start_time": "2021-02-28T07:33:27.516315Z"
    },
    "deletable": false,
    "editable": false,
    "hidden": true,
    "run_control": {
     "frozen": true
    }
   },
   "outputs": [],
   "source": [
    "def print_agent(obs_dict, config_dict):\n",
    "    print('observation', obs_dict)\n",
    "    print('config', config_dict)\n",
    "    return 'NORTH'"
   ]
  },
  {
   "cell_type": "code",
   "execution_count": 33,
   "metadata": {
    "ExecuteTime": {
     "end_time": "2021-02-28T07:33:28.786433Z",
     "start_time": "2021-02-28T07:33:28.771089Z"
    },
    "deletable": false,
    "editable": false,
    "hidden": true,
    "run_control": {
     "frozen": true
    }
   },
   "outputs": [],
   "source": [
    "env = make('hungry_geese')"
   ]
  },
  {
   "cell_type": "code",
   "execution_count": 34,
   "metadata": {
    "ExecuteTime": {
     "end_time": "2021-02-28T07:33:30.324813Z",
     "start_time": "2021-02-28T07:33:30.275074Z"
    },
    "deletable": false,
    "editable": false,
    "hidden": true,
    "run_control": {
     "frozen": true
    }
   },
   "outputs": [],
   "source": [
    "ret = env.run([print_agent, 'greedy'])"
   ]
  },
  {
   "cell_type": "markdown",
   "metadata": {
    "deletable": false,
    "editable": false,
    "hidden": true,
    "run_control": {
     "frozen": true
    }
   },
   "source": [
    "Does not print anything, so let's create a class to save that information."
   ]
  },
  {
   "cell_type": "code",
   "execution_count": 37,
   "metadata": {
    "ExecuteTime": {
     "end_time": "2021-02-28T07:35:26.234240Z",
     "start_time": "2021-02-28T07:35:26.228125Z"
    },
    "deletable": false,
    "editable": false,
    "hidden": true,
    "run_control": {
     "frozen": true
    }
   },
   "outputs": [],
   "source": [
    "class PrintAgent():\n",
    "    def __init__(self):\n",
    "        self.observations = []\n",
    "        self.configurations = []\n",
    "    \n",
    "    def __call__(self, obs_dict, config_dict):\n",
    "        self.observations.append(obs_dict)\n",
    "        self.configurations.append(config_dict)\n",
    "        return 'NORTH'"
   ]
  },
  {
   "cell_type": "code",
   "execution_count": 38,
   "metadata": {
    "ExecuteTime": {
     "end_time": "2021-02-28T07:35:36.624398Z",
     "start_time": "2021-02-28T07:35:36.620220Z"
    },
    "deletable": false,
    "editable": false,
    "hidden": true,
    "run_control": {
     "frozen": true
    }
   },
   "outputs": [],
   "source": [
    "print_agent = PrintAgent()"
   ]
  },
  {
   "cell_type": "code",
   "execution_count": 39,
   "metadata": {
    "ExecuteTime": {
     "end_time": "2021-02-28T07:35:39.974390Z",
     "start_time": "2021-02-28T07:35:39.876527Z"
    },
    "deletable": false,
    "editable": false,
    "hidden": true,
    "run_control": {
     "frozen": true
    }
   },
   "outputs": [],
   "source": [
    "ret = env.run([print_agent, 'greedy'])"
   ]
  },
  {
   "cell_type": "code",
   "execution_count": 40,
   "metadata": {
    "ExecuteTime": {
     "end_time": "2021-02-28T07:35:41.794515Z",
     "start_time": "2021-02-28T07:35:41.788241Z"
    },
    "deletable": false,
    "editable": false,
    "hidden": true,
    "run_control": {
     "frozen": true
    }
   },
   "outputs": [
    {
     "data": {
      "text/plain": [
       "81"
      ]
     },
     "execution_count": 40,
     "metadata": {},
     "output_type": "execute_result"
    }
   ],
   "source": [
    "len(ret)"
   ]
  },
  {
   "cell_type": "code",
   "execution_count": 41,
   "metadata": {
    "ExecuteTime": {
     "end_time": "2021-02-28T07:35:49.084151Z",
     "start_time": "2021-02-28T07:35:49.051966Z"
    },
    "deletable": false,
    "editable": false,
    "hidden": true,
    "run_control": {
     "frozen": true
    }
   },
   "outputs": [
    {
     "data": {
      "text/plain": [
       "[{'remainingOverageTime': 60,\n",
       "  'step': 0,\n",
       "  'geese': [[2], [25]],\n",
       "  'food': [16, 58],\n",
       "  'index': 0},\n",
       " {'remainingOverageTime': 60,\n",
       "  'step': 1,\n",
       "  'geese': [[68], [14]],\n",
       "  'food': [16, 58],\n",
       "  'index': 0},\n",
       " {'remainingOverageTime': 60,\n",
       "  'step': 2,\n",
       "  'geese': [[57], [15]],\n",
       "  'food': [16, 58],\n",
       "  'index': 0},\n",
       " {'remainingOverageTime': 60,\n",
       "  'step': 3,\n",
       "  'geese': [[46], [16, 15]],\n",
       "  'food': [58, 67],\n",
       "  'index': 0},\n",
       " {'remainingOverageTime': 60,\n",
       "  'step': 4,\n",
       "  'geese': [[35], [27, 16]],\n",
       "  'food': [58, 67],\n",
       "  'index': 0},\n",
       " {'remainingOverageTime': 60,\n",
       "  'step': 5,\n",
       "  'geese': [[24], [38, 27]],\n",
       "  'food': [58, 67],\n",
       "  'index': 0},\n",
       " {'remainingOverageTime': 60,\n",
       "  'step': 6,\n",
       "  'geese': [[13], [49, 38]],\n",
       "  'food': [58, 67],\n",
       "  'index': 0},\n",
       " {'remainingOverageTime': 60,\n",
       "  'step': 7,\n",
       "  'geese': [[2], [60, 49]],\n",
       "  'food': [58, 67],\n",
       "  'index': 0},\n",
       " {'remainingOverageTime': 60,\n",
       "  'step': 8,\n",
       "  'geese': [[68], [59, 60]],\n",
       "  'food': [58, 67],\n",
       "  'index': 0},\n",
       " {'remainingOverageTime': 60,\n",
       "  'step': 9,\n",
       "  'geese': [[57], [58, 59, 60]],\n",
       "  'food': [67, 35],\n",
       "  'index': 0},\n",
       " {'remainingOverageTime': 60,\n",
       "  'step': 10,\n",
       "  'geese': [[46], [47, 58, 59]],\n",
       "  'food': [67, 35],\n",
       "  'index': 0},\n",
       " {'remainingOverageTime': 60,\n",
       "  'step': 11,\n",
       "  'geese': [[35, 46], [36, 47, 58]],\n",
       "  'food': [67, 22],\n",
       "  'index': 0},\n",
       " {'remainingOverageTime': 60,\n",
       "  'step': 12,\n",
       "  'geese': [[24, 35], [25, 36, 47]],\n",
       "  'food': [67, 22],\n",
       "  'index': 0},\n",
       " {'remainingOverageTime': 60,\n",
       "  'step': 13,\n",
       "  'geese': [[13, 24], [14, 25, 36]],\n",
       "  'food': [67, 22],\n",
       "  'index': 0},\n",
       " {'remainingOverageTime': 60,\n",
       "  'step': 14,\n",
       "  'geese': [[2, 13], [3, 14, 25]],\n",
       "  'food': [67, 22],\n",
       "  'index': 0},\n",
       " {'remainingOverageTime': 60,\n",
       "  'step': 15,\n",
       "  'geese': [[68, 2], [69, 3, 14]],\n",
       "  'food': [67, 22],\n",
       "  'index': 0},\n",
       " {'remainingOverageTime': 60,\n",
       "  'step': 16,\n",
       "  'geese': [[57, 68], [58, 69, 3]],\n",
       "  'food': [67, 22],\n",
       "  'index': 0},\n",
       " {'remainingOverageTime': 60,\n",
       "  'step': 17,\n",
       "  'geese': [[46, 57], [47, 58, 69]],\n",
       "  'food': [67, 22],\n",
       "  'index': 0},\n",
       " {'remainingOverageTime': 60,\n",
       "  'step': 18,\n",
       "  'geese': [[35, 46], [36, 47, 58]],\n",
       "  'food': [67, 22],\n",
       "  'index': 0},\n",
       " {'remainingOverageTime': 60,\n",
       "  'step': 19,\n",
       "  'geese': [[24, 35], [25, 36, 47]],\n",
       "  'food': [67, 22],\n",
       "  'index': 0},\n",
       " {'remainingOverageTime': 60,\n",
       "  'step': 20,\n",
       "  'geese': [[13, 24], [14, 25, 36]],\n",
       "  'food': [67, 22],\n",
       "  'index': 0},\n",
       " {'remainingOverageTime': 60,\n",
       "  'step': 21,\n",
       "  'geese': [[2, 13], [3, 14, 25]],\n",
       "  'food': [67, 22],\n",
       "  'index': 0},\n",
       " {'remainingOverageTime': 60,\n",
       "  'step': 22,\n",
       "  'geese': [[68, 2], [69, 3, 14]],\n",
       "  'food': [67, 22],\n",
       "  'index': 0},\n",
       " {'remainingOverageTime': 60,\n",
       "  'step': 23,\n",
       "  'geese': [[57, 68], [58, 69, 3]],\n",
       "  'food': [67, 22],\n",
       "  'index': 0},\n",
       " {'remainingOverageTime': 60,\n",
       "  'step': 24,\n",
       "  'geese': [[46, 57], [47, 58, 69]],\n",
       "  'food': [67, 22],\n",
       "  'index': 0},\n",
       " {'remainingOverageTime': 60,\n",
       "  'step': 25,\n",
       "  'geese': [[35, 46], [36, 47, 58]],\n",
       "  'food': [67, 22],\n",
       "  'index': 0},\n",
       " {'remainingOverageTime': 60,\n",
       "  'step': 26,\n",
       "  'geese': [[24, 35], [25, 36, 47]],\n",
       "  'food': [67, 22],\n",
       "  'index': 0},\n",
       " {'remainingOverageTime': 60,\n",
       "  'step': 27,\n",
       "  'geese': [[13, 24], [14, 25, 36]],\n",
       "  'food': [67, 22],\n",
       "  'index': 0},\n",
       " {'remainingOverageTime': 60,\n",
       "  'step': 28,\n",
       "  'geese': [[2, 13], [3, 14, 25]],\n",
       "  'food': [67, 22],\n",
       "  'index': 0},\n",
       " {'remainingOverageTime': 60,\n",
       "  'step': 29,\n",
       "  'geese': [[68, 2], [69, 3, 14]],\n",
       "  'food': [67, 22],\n",
       "  'index': 0},\n",
       " {'remainingOverageTime': 60,\n",
       "  'step': 30,\n",
       "  'geese': [[57, 68], [58, 69, 3]],\n",
       "  'food': [67, 22],\n",
       "  'index': 0},\n",
       " {'remainingOverageTime': 60,\n",
       "  'step': 31,\n",
       "  'geese': [[46, 57], [47, 58, 69]],\n",
       "  'food': [67, 22],\n",
       "  'index': 0},\n",
       " {'remainingOverageTime': 60,\n",
       "  'step': 32,\n",
       "  'geese': [[35, 46], [36, 47, 58]],\n",
       "  'food': [67, 22],\n",
       "  'index': 0},\n",
       " {'remainingOverageTime': 60,\n",
       "  'step': 33,\n",
       "  'geese': [[24, 35], [25, 36, 47]],\n",
       "  'food': [67, 22],\n",
       "  'index': 0},\n",
       " {'remainingOverageTime': 60,\n",
       "  'step': 34,\n",
       "  'geese': [[13, 24], [14, 25, 36]],\n",
       "  'food': [67, 22],\n",
       "  'index': 0},\n",
       " {'remainingOverageTime': 60,\n",
       "  'step': 35,\n",
       "  'geese': [[2, 13], [3, 14, 25]],\n",
       "  'food': [67, 22],\n",
       "  'index': 0},\n",
       " {'remainingOverageTime': 60,\n",
       "  'step': 36,\n",
       "  'geese': [[68, 2], [69, 3, 14]],\n",
       "  'food': [67, 22],\n",
       "  'index': 0},\n",
       " {'remainingOverageTime': 60,\n",
       "  'step': 37,\n",
       "  'geese': [[57, 68], [58, 69, 3]],\n",
       "  'food': [67, 22],\n",
       "  'index': 0},\n",
       " {'remainingOverageTime': 60,\n",
       "  'step': 38,\n",
       "  'geese': [[46, 57], [47, 58, 69]],\n",
       "  'food': [67, 22],\n",
       "  'index': 0},\n",
       " {'remainingOverageTime': 60,\n",
       "  'step': 39,\n",
       "  'geese': [[35, 46], [36, 47, 58]],\n",
       "  'food': [67, 22],\n",
       "  'index': 0},\n",
       " {'remainingOverageTime': 60,\n",
       "  'step': 40,\n",
       "  'geese': [[24], [25, 36]],\n",
       "  'food': [67, 22],\n",
       "  'index': 0},\n",
       " {'remainingOverageTime': 60,\n",
       "  'step': 41,\n",
       "  'geese': [[13], [14, 25]],\n",
       "  'food': [67, 22],\n",
       "  'index': 0},\n",
       " {'remainingOverageTime': 60,\n",
       "  'step': 42,\n",
       "  'geese': [[2], [3, 14]],\n",
       "  'food': [67, 22],\n",
       "  'index': 0},\n",
       " {'remainingOverageTime': 60,\n",
       "  'step': 43,\n",
       "  'geese': [[68], [69, 3]],\n",
       "  'food': [67, 22],\n",
       "  'index': 0},\n",
       " {'remainingOverageTime': 60,\n",
       "  'step': 44,\n",
       "  'geese': [[57], [58, 69]],\n",
       "  'food': [67, 22],\n",
       "  'index': 0},\n",
       " {'remainingOverageTime': 60,\n",
       "  'step': 45,\n",
       "  'geese': [[46], [47, 58]],\n",
       "  'food': [67, 22],\n",
       "  'index': 0},\n",
       " {'remainingOverageTime': 60,\n",
       "  'step': 46,\n",
       "  'geese': [[35], [36, 47]],\n",
       "  'food': [67, 22],\n",
       "  'index': 0},\n",
       " {'remainingOverageTime': 60,\n",
       "  'step': 47,\n",
       "  'geese': [[24], [25, 36]],\n",
       "  'food': [67, 22],\n",
       "  'index': 0},\n",
       " {'remainingOverageTime': 60,\n",
       "  'step': 48,\n",
       "  'geese': [[13], [14, 25]],\n",
       "  'food': [67, 22],\n",
       "  'index': 0},\n",
       " {'remainingOverageTime': 60,\n",
       "  'step': 49,\n",
       "  'geese': [[2], [3, 14]],\n",
       "  'food': [67, 22],\n",
       "  'index': 0},\n",
       " {'remainingOverageTime': 60,\n",
       "  'step': 50,\n",
       "  'geese': [[68], [69, 3]],\n",
       "  'food': [67, 22],\n",
       "  'index': 0},\n",
       " {'remainingOverageTime': 60,\n",
       "  'step': 51,\n",
       "  'geese': [[57], [58, 69]],\n",
       "  'food': [67, 22],\n",
       "  'index': 0},\n",
       " {'remainingOverageTime': 60,\n",
       "  'step': 52,\n",
       "  'geese': [[46], [47, 58]],\n",
       "  'food': [67, 22],\n",
       "  'index': 0},\n",
       " {'remainingOverageTime': 60,\n",
       "  'step': 53,\n",
       "  'geese': [[35], [36, 47]],\n",
       "  'food': [67, 22],\n",
       "  'index': 0},\n",
       " {'remainingOverageTime': 60,\n",
       "  'step': 54,\n",
       "  'geese': [[24], [25, 36]],\n",
       "  'food': [67, 22],\n",
       "  'index': 0},\n",
       " {'remainingOverageTime': 60,\n",
       "  'step': 55,\n",
       "  'geese': [[13], [14, 25]],\n",
       "  'food': [67, 22],\n",
       "  'index': 0},\n",
       " {'remainingOverageTime': 60,\n",
       "  'step': 56,\n",
       "  'geese': [[2], [3, 14]],\n",
       "  'food': [67, 22],\n",
       "  'index': 0},\n",
       " {'remainingOverageTime': 60,\n",
       "  'step': 57,\n",
       "  'geese': [[68], [69, 3]],\n",
       "  'food': [67, 22],\n",
       "  'index': 0},\n",
       " {'remainingOverageTime': 60,\n",
       "  'step': 58,\n",
       "  'geese': [[57], [58, 69]],\n",
       "  'food': [67, 22],\n",
       "  'index': 0},\n",
       " {'remainingOverageTime': 60,\n",
       "  'step': 59,\n",
       "  'geese': [[46], [47, 58]],\n",
       "  'food': [67, 22],\n",
       "  'index': 0},\n",
       " {'remainingOverageTime': 60,\n",
       "  'step': 60,\n",
       "  'geese': [[35], [36, 47]],\n",
       "  'food': [67, 22],\n",
       "  'index': 0},\n",
       " {'remainingOverageTime': 60,\n",
       "  'step': 61,\n",
       "  'geese': [[24], [25, 36]],\n",
       "  'food': [67, 22],\n",
       "  'index': 0},\n",
       " {'remainingOverageTime': 60,\n",
       "  'step': 62,\n",
       "  'geese': [[13], [14, 25]],\n",
       "  'food': [67, 22],\n",
       "  'index': 0},\n",
       " {'remainingOverageTime': 60,\n",
       "  'step': 63,\n",
       "  'geese': [[2], [3, 14]],\n",
       "  'food': [67, 22],\n",
       "  'index': 0},\n",
       " {'remainingOverageTime': 60,\n",
       "  'step': 64,\n",
       "  'geese': [[68], [69, 3]],\n",
       "  'food': [67, 22],\n",
       "  'index': 0},\n",
       " {'remainingOverageTime': 60,\n",
       "  'step': 65,\n",
       "  'geese': [[57], [58, 69]],\n",
       "  'food': [67, 22],\n",
       "  'index': 0},\n",
       " {'remainingOverageTime': 60,\n",
       "  'step': 66,\n",
       "  'geese': [[46], [47, 58]],\n",
       "  'food': [67, 22],\n",
       "  'index': 0},\n",
       " {'remainingOverageTime': 60,\n",
       "  'step': 67,\n",
       "  'geese': [[35], [36, 47]],\n",
       "  'food': [67, 22],\n",
       "  'index': 0},\n",
       " {'remainingOverageTime': 60,\n",
       "  'step': 68,\n",
       "  'geese': [[24], [25, 36]],\n",
       "  'food': [67, 22],\n",
       "  'index': 0},\n",
       " {'remainingOverageTime': 60,\n",
       "  'step': 69,\n",
       "  'geese': [[13], [14, 25]],\n",
       "  'food': [67, 22],\n",
       "  'index': 0},\n",
       " {'remainingOverageTime': 60,\n",
       "  'step': 70,\n",
       "  'geese': [[2], [3, 14]],\n",
       "  'food': [67, 22],\n",
       "  'index': 0},\n",
       " {'remainingOverageTime': 60,\n",
       "  'step': 71,\n",
       "  'geese': [[68], [69, 3]],\n",
       "  'food': [67, 22],\n",
       "  'index': 0},\n",
       " {'remainingOverageTime': 60,\n",
       "  'step': 72,\n",
       "  'geese': [[57], [58, 69]],\n",
       "  'food': [67, 22],\n",
       "  'index': 0},\n",
       " {'remainingOverageTime': 60,\n",
       "  'step': 73,\n",
       "  'geese': [[46], [47, 58]],\n",
       "  'food': [67, 22],\n",
       "  'index': 0},\n",
       " {'remainingOverageTime': 60,\n",
       "  'step': 74,\n",
       "  'geese': [[35], [36, 47]],\n",
       "  'food': [67, 22],\n",
       "  'index': 0},\n",
       " {'remainingOverageTime': 60,\n",
       "  'step': 75,\n",
       "  'geese': [[24], [25, 36]],\n",
       "  'food': [67, 22],\n",
       "  'index': 0},\n",
       " {'remainingOverageTime': 60,\n",
       "  'step': 76,\n",
       "  'geese': [[13], [14, 25]],\n",
       "  'food': [67, 22],\n",
       "  'index': 0},\n",
       " {'remainingOverageTime': 60,\n",
       "  'step': 77,\n",
       "  'geese': [[2], [3, 14]],\n",
       "  'food': [67, 22],\n",
       "  'index': 0},\n",
       " {'remainingOverageTime': 60,\n",
       "  'step': 78,\n",
       "  'geese': [[68], [69, 3]],\n",
       "  'food': [67, 22],\n",
       "  'index': 0},\n",
       " {'remainingOverageTime': 60,\n",
       "  'step': 79,\n",
       "  'geese': [[57], [58, 69]],\n",
       "  'food': [67, 22],\n",
       "  'index': 0}]"
      ]
     },
     "execution_count": 41,
     "metadata": {},
     "output_type": "execute_result"
    }
   ],
   "source": [
    "print_agent.observations"
   ]
  },
  {
   "cell_type": "code",
   "execution_count": 42,
   "metadata": {
    "ExecuteTime": {
     "end_time": "2021-02-28T07:36:24.202890Z",
     "start_time": "2021-02-28T07:36:24.195599Z"
    },
    "deletable": false,
    "editable": false,
    "hidden": true,
    "run_control": {
     "frozen": true
    }
   },
   "outputs": [
    {
     "data": {
      "text/plain": [
       "[{'action': 'NORTH',\n",
       "  'reward': 8001,\n",
       "  'info': {},\n",
       "  'observation': {'remainingOverageTime': 60,\n",
       "   'step': 80,\n",
       "   'geese': [[], [47]],\n",
       "   'food': [67, 22],\n",
       "   'index': 0},\n",
       "  'status': 'DONE'},\n",
       " {'action': 'NORTH',\n",
       "  'reward': 8101,\n",
       "  'info': {},\n",
       "  'observation': {'remainingOverageTime': 60, 'index': 1},\n",
       "  'status': 'DONE'}]"
      ]
     },
     "execution_count": 42,
     "metadata": {},
     "output_type": "execute_result"
    }
   ],
   "source": [
    "ret[-1]"
   ]
  },
  {
   "cell_type": "code",
   "execution_count": 43,
   "metadata": {
    "ExecuteTime": {
     "end_time": "2021-02-28T07:37:48.787592Z",
     "start_time": "2021-02-28T07:37:48.755325Z"
    },
    "deletable": false,
    "editable": false,
    "hidden": true,
    "run_control": {
     "frozen": true
    }
   },
   "outputs": [
    {
     "data": {
      "text/plain": [
       "[{'episodeSteps': 200,\n",
       "  'actTimeout': 1,\n",
       "  'runTimeout': 1200,\n",
       "  'columns': 11,\n",
       "  'rows': 7,\n",
       "  'hunger_rate': 40,\n",
       "  'min_food': 2,\n",
       "  'max_length': 99},\n",
       " {'episodeSteps': 200,\n",
       "  'actTimeout': 1,\n",
       "  'runTimeout': 1200,\n",
       "  'columns': 11,\n",
       "  'rows': 7,\n",
       "  'hunger_rate': 40,\n",
       "  'min_food': 2,\n",
       "  'max_length': 99},\n",
       " {'episodeSteps': 200,\n",
       "  'actTimeout': 1,\n",
       "  'runTimeout': 1200,\n",
       "  'columns': 11,\n",
       "  'rows': 7,\n",
       "  'hunger_rate': 40,\n",
       "  'min_food': 2,\n",
       "  'max_length': 99},\n",
       " {'episodeSteps': 200,\n",
       "  'actTimeout': 1,\n",
       "  'runTimeout': 1200,\n",
       "  'columns': 11,\n",
       "  'rows': 7,\n",
       "  'hunger_rate': 40,\n",
       "  'min_food': 2,\n",
       "  'max_length': 99},\n",
       " {'episodeSteps': 200,\n",
       "  'actTimeout': 1,\n",
       "  'runTimeout': 1200,\n",
       "  'columns': 11,\n",
       "  'rows': 7,\n",
       "  'hunger_rate': 40,\n",
       "  'min_food': 2,\n",
       "  'max_length': 99},\n",
       " {'episodeSteps': 200,\n",
       "  'actTimeout': 1,\n",
       "  'runTimeout': 1200,\n",
       "  'columns': 11,\n",
       "  'rows': 7,\n",
       "  'hunger_rate': 40,\n",
       "  'min_food': 2,\n",
       "  'max_length': 99},\n",
       " {'episodeSteps': 200,\n",
       "  'actTimeout': 1,\n",
       "  'runTimeout': 1200,\n",
       "  'columns': 11,\n",
       "  'rows': 7,\n",
       "  'hunger_rate': 40,\n",
       "  'min_food': 2,\n",
       "  'max_length': 99},\n",
       " {'episodeSteps': 200,\n",
       "  'actTimeout': 1,\n",
       "  'runTimeout': 1200,\n",
       "  'columns': 11,\n",
       "  'rows': 7,\n",
       "  'hunger_rate': 40,\n",
       "  'min_food': 2,\n",
       "  'max_length': 99},\n",
       " {'episodeSteps': 200,\n",
       "  'actTimeout': 1,\n",
       "  'runTimeout': 1200,\n",
       "  'columns': 11,\n",
       "  'rows': 7,\n",
       "  'hunger_rate': 40,\n",
       "  'min_food': 2,\n",
       "  'max_length': 99},\n",
       " {'episodeSteps': 200,\n",
       "  'actTimeout': 1,\n",
       "  'runTimeout': 1200,\n",
       "  'columns': 11,\n",
       "  'rows': 7,\n",
       "  'hunger_rate': 40,\n",
       "  'min_food': 2,\n",
       "  'max_length': 99},\n",
       " {'episodeSteps': 200,\n",
       "  'actTimeout': 1,\n",
       "  'runTimeout': 1200,\n",
       "  'columns': 11,\n",
       "  'rows': 7,\n",
       "  'hunger_rate': 40,\n",
       "  'min_food': 2,\n",
       "  'max_length': 99},\n",
       " {'episodeSteps': 200,\n",
       "  'actTimeout': 1,\n",
       "  'runTimeout': 1200,\n",
       "  'columns': 11,\n",
       "  'rows': 7,\n",
       "  'hunger_rate': 40,\n",
       "  'min_food': 2,\n",
       "  'max_length': 99},\n",
       " {'episodeSteps': 200,\n",
       "  'actTimeout': 1,\n",
       "  'runTimeout': 1200,\n",
       "  'columns': 11,\n",
       "  'rows': 7,\n",
       "  'hunger_rate': 40,\n",
       "  'min_food': 2,\n",
       "  'max_length': 99},\n",
       " {'episodeSteps': 200,\n",
       "  'actTimeout': 1,\n",
       "  'runTimeout': 1200,\n",
       "  'columns': 11,\n",
       "  'rows': 7,\n",
       "  'hunger_rate': 40,\n",
       "  'min_food': 2,\n",
       "  'max_length': 99},\n",
       " {'episodeSteps': 200,\n",
       "  'actTimeout': 1,\n",
       "  'runTimeout': 1200,\n",
       "  'columns': 11,\n",
       "  'rows': 7,\n",
       "  'hunger_rate': 40,\n",
       "  'min_food': 2,\n",
       "  'max_length': 99},\n",
       " {'episodeSteps': 200,\n",
       "  'actTimeout': 1,\n",
       "  'runTimeout': 1200,\n",
       "  'columns': 11,\n",
       "  'rows': 7,\n",
       "  'hunger_rate': 40,\n",
       "  'min_food': 2,\n",
       "  'max_length': 99},\n",
       " {'episodeSteps': 200,\n",
       "  'actTimeout': 1,\n",
       "  'runTimeout': 1200,\n",
       "  'columns': 11,\n",
       "  'rows': 7,\n",
       "  'hunger_rate': 40,\n",
       "  'min_food': 2,\n",
       "  'max_length': 99},\n",
       " {'episodeSteps': 200,\n",
       "  'actTimeout': 1,\n",
       "  'runTimeout': 1200,\n",
       "  'columns': 11,\n",
       "  'rows': 7,\n",
       "  'hunger_rate': 40,\n",
       "  'min_food': 2,\n",
       "  'max_length': 99},\n",
       " {'episodeSteps': 200,\n",
       "  'actTimeout': 1,\n",
       "  'runTimeout': 1200,\n",
       "  'columns': 11,\n",
       "  'rows': 7,\n",
       "  'hunger_rate': 40,\n",
       "  'min_food': 2,\n",
       "  'max_length': 99},\n",
       " {'episodeSteps': 200,\n",
       "  'actTimeout': 1,\n",
       "  'runTimeout': 1200,\n",
       "  'columns': 11,\n",
       "  'rows': 7,\n",
       "  'hunger_rate': 40,\n",
       "  'min_food': 2,\n",
       "  'max_length': 99},\n",
       " {'episodeSteps': 200,\n",
       "  'actTimeout': 1,\n",
       "  'runTimeout': 1200,\n",
       "  'columns': 11,\n",
       "  'rows': 7,\n",
       "  'hunger_rate': 40,\n",
       "  'min_food': 2,\n",
       "  'max_length': 99},\n",
       " {'episodeSteps': 200,\n",
       "  'actTimeout': 1,\n",
       "  'runTimeout': 1200,\n",
       "  'columns': 11,\n",
       "  'rows': 7,\n",
       "  'hunger_rate': 40,\n",
       "  'min_food': 2,\n",
       "  'max_length': 99},\n",
       " {'episodeSteps': 200,\n",
       "  'actTimeout': 1,\n",
       "  'runTimeout': 1200,\n",
       "  'columns': 11,\n",
       "  'rows': 7,\n",
       "  'hunger_rate': 40,\n",
       "  'min_food': 2,\n",
       "  'max_length': 99},\n",
       " {'episodeSteps': 200,\n",
       "  'actTimeout': 1,\n",
       "  'runTimeout': 1200,\n",
       "  'columns': 11,\n",
       "  'rows': 7,\n",
       "  'hunger_rate': 40,\n",
       "  'min_food': 2,\n",
       "  'max_length': 99},\n",
       " {'episodeSteps': 200,\n",
       "  'actTimeout': 1,\n",
       "  'runTimeout': 1200,\n",
       "  'columns': 11,\n",
       "  'rows': 7,\n",
       "  'hunger_rate': 40,\n",
       "  'min_food': 2,\n",
       "  'max_length': 99},\n",
       " {'episodeSteps': 200,\n",
       "  'actTimeout': 1,\n",
       "  'runTimeout': 1200,\n",
       "  'columns': 11,\n",
       "  'rows': 7,\n",
       "  'hunger_rate': 40,\n",
       "  'min_food': 2,\n",
       "  'max_length': 99},\n",
       " {'episodeSteps': 200,\n",
       "  'actTimeout': 1,\n",
       "  'runTimeout': 1200,\n",
       "  'columns': 11,\n",
       "  'rows': 7,\n",
       "  'hunger_rate': 40,\n",
       "  'min_food': 2,\n",
       "  'max_length': 99},\n",
       " {'episodeSteps': 200,\n",
       "  'actTimeout': 1,\n",
       "  'runTimeout': 1200,\n",
       "  'columns': 11,\n",
       "  'rows': 7,\n",
       "  'hunger_rate': 40,\n",
       "  'min_food': 2,\n",
       "  'max_length': 99},\n",
       " {'episodeSteps': 200,\n",
       "  'actTimeout': 1,\n",
       "  'runTimeout': 1200,\n",
       "  'columns': 11,\n",
       "  'rows': 7,\n",
       "  'hunger_rate': 40,\n",
       "  'min_food': 2,\n",
       "  'max_length': 99},\n",
       " {'episodeSteps': 200,\n",
       "  'actTimeout': 1,\n",
       "  'runTimeout': 1200,\n",
       "  'columns': 11,\n",
       "  'rows': 7,\n",
       "  'hunger_rate': 40,\n",
       "  'min_food': 2,\n",
       "  'max_length': 99},\n",
       " {'episodeSteps': 200,\n",
       "  'actTimeout': 1,\n",
       "  'runTimeout': 1200,\n",
       "  'columns': 11,\n",
       "  'rows': 7,\n",
       "  'hunger_rate': 40,\n",
       "  'min_food': 2,\n",
       "  'max_length': 99},\n",
       " {'episodeSteps': 200,\n",
       "  'actTimeout': 1,\n",
       "  'runTimeout': 1200,\n",
       "  'columns': 11,\n",
       "  'rows': 7,\n",
       "  'hunger_rate': 40,\n",
       "  'min_food': 2,\n",
       "  'max_length': 99},\n",
       " {'episodeSteps': 200,\n",
       "  'actTimeout': 1,\n",
       "  'runTimeout': 1200,\n",
       "  'columns': 11,\n",
       "  'rows': 7,\n",
       "  'hunger_rate': 40,\n",
       "  'min_food': 2,\n",
       "  'max_length': 99},\n",
       " {'episodeSteps': 200,\n",
       "  'actTimeout': 1,\n",
       "  'runTimeout': 1200,\n",
       "  'columns': 11,\n",
       "  'rows': 7,\n",
       "  'hunger_rate': 40,\n",
       "  'min_food': 2,\n",
       "  'max_length': 99},\n",
       " {'episodeSteps': 200,\n",
       "  'actTimeout': 1,\n",
       "  'runTimeout': 1200,\n",
       "  'columns': 11,\n",
       "  'rows': 7,\n",
       "  'hunger_rate': 40,\n",
       "  'min_food': 2,\n",
       "  'max_length': 99},\n",
       " {'episodeSteps': 200,\n",
       "  'actTimeout': 1,\n",
       "  'runTimeout': 1200,\n",
       "  'columns': 11,\n",
       "  'rows': 7,\n",
       "  'hunger_rate': 40,\n",
       "  'min_food': 2,\n",
       "  'max_length': 99},\n",
       " {'episodeSteps': 200,\n",
       "  'actTimeout': 1,\n",
       "  'runTimeout': 1200,\n",
       "  'columns': 11,\n",
       "  'rows': 7,\n",
       "  'hunger_rate': 40,\n",
       "  'min_food': 2,\n",
       "  'max_length': 99},\n",
       " {'episodeSteps': 200,\n",
       "  'actTimeout': 1,\n",
       "  'runTimeout': 1200,\n",
       "  'columns': 11,\n",
       "  'rows': 7,\n",
       "  'hunger_rate': 40,\n",
       "  'min_food': 2,\n",
       "  'max_length': 99},\n",
       " {'episodeSteps': 200,\n",
       "  'actTimeout': 1,\n",
       "  'runTimeout': 1200,\n",
       "  'columns': 11,\n",
       "  'rows': 7,\n",
       "  'hunger_rate': 40,\n",
       "  'min_food': 2,\n",
       "  'max_length': 99},\n",
       " {'episodeSteps': 200,\n",
       "  'actTimeout': 1,\n",
       "  'runTimeout': 1200,\n",
       "  'columns': 11,\n",
       "  'rows': 7,\n",
       "  'hunger_rate': 40,\n",
       "  'min_food': 2,\n",
       "  'max_length': 99},\n",
       " {'episodeSteps': 200,\n",
       "  'actTimeout': 1,\n",
       "  'runTimeout': 1200,\n",
       "  'columns': 11,\n",
       "  'rows': 7,\n",
       "  'hunger_rate': 40,\n",
       "  'min_food': 2,\n",
       "  'max_length': 99},\n",
       " {'episodeSteps': 200,\n",
       "  'actTimeout': 1,\n",
       "  'runTimeout': 1200,\n",
       "  'columns': 11,\n",
       "  'rows': 7,\n",
       "  'hunger_rate': 40,\n",
       "  'min_food': 2,\n",
       "  'max_length': 99},\n",
       " {'episodeSteps': 200,\n",
       "  'actTimeout': 1,\n",
       "  'runTimeout': 1200,\n",
       "  'columns': 11,\n",
       "  'rows': 7,\n",
       "  'hunger_rate': 40,\n",
       "  'min_food': 2,\n",
       "  'max_length': 99},\n",
       " {'episodeSteps': 200,\n",
       "  'actTimeout': 1,\n",
       "  'runTimeout': 1200,\n",
       "  'columns': 11,\n",
       "  'rows': 7,\n",
       "  'hunger_rate': 40,\n",
       "  'min_food': 2,\n",
       "  'max_length': 99},\n",
       " {'episodeSteps': 200,\n",
       "  'actTimeout': 1,\n",
       "  'runTimeout': 1200,\n",
       "  'columns': 11,\n",
       "  'rows': 7,\n",
       "  'hunger_rate': 40,\n",
       "  'min_food': 2,\n",
       "  'max_length': 99},\n",
       " {'episodeSteps': 200,\n",
       "  'actTimeout': 1,\n",
       "  'runTimeout': 1200,\n",
       "  'columns': 11,\n",
       "  'rows': 7,\n",
       "  'hunger_rate': 40,\n",
       "  'min_food': 2,\n",
       "  'max_length': 99},\n",
       " {'episodeSteps': 200,\n",
       "  'actTimeout': 1,\n",
       "  'runTimeout': 1200,\n",
       "  'columns': 11,\n",
       "  'rows': 7,\n",
       "  'hunger_rate': 40,\n",
       "  'min_food': 2,\n",
       "  'max_length': 99},\n",
       " {'episodeSteps': 200,\n",
       "  'actTimeout': 1,\n",
       "  'runTimeout': 1200,\n",
       "  'columns': 11,\n",
       "  'rows': 7,\n",
       "  'hunger_rate': 40,\n",
       "  'min_food': 2,\n",
       "  'max_length': 99},\n",
       " {'episodeSteps': 200,\n",
       "  'actTimeout': 1,\n",
       "  'runTimeout': 1200,\n",
       "  'columns': 11,\n",
       "  'rows': 7,\n",
       "  'hunger_rate': 40,\n",
       "  'min_food': 2,\n",
       "  'max_length': 99},\n",
       " {'episodeSteps': 200,\n",
       "  'actTimeout': 1,\n",
       "  'runTimeout': 1200,\n",
       "  'columns': 11,\n",
       "  'rows': 7,\n",
       "  'hunger_rate': 40,\n",
       "  'min_food': 2,\n",
       "  'max_length': 99},\n",
       " {'episodeSteps': 200,\n",
       "  'actTimeout': 1,\n",
       "  'runTimeout': 1200,\n",
       "  'columns': 11,\n",
       "  'rows': 7,\n",
       "  'hunger_rate': 40,\n",
       "  'min_food': 2,\n",
       "  'max_length': 99},\n",
       " {'episodeSteps': 200,\n",
       "  'actTimeout': 1,\n",
       "  'runTimeout': 1200,\n",
       "  'columns': 11,\n",
       "  'rows': 7,\n",
       "  'hunger_rate': 40,\n",
       "  'min_food': 2,\n",
       "  'max_length': 99},\n",
       " {'episodeSteps': 200,\n",
       "  'actTimeout': 1,\n",
       "  'runTimeout': 1200,\n",
       "  'columns': 11,\n",
       "  'rows': 7,\n",
       "  'hunger_rate': 40,\n",
       "  'min_food': 2,\n",
       "  'max_length': 99},\n",
       " {'episodeSteps': 200,\n",
       "  'actTimeout': 1,\n",
       "  'runTimeout': 1200,\n",
       "  'columns': 11,\n",
       "  'rows': 7,\n",
       "  'hunger_rate': 40,\n",
       "  'min_food': 2,\n",
       "  'max_length': 99},\n",
       " {'episodeSteps': 200,\n",
       "  'actTimeout': 1,\n",
       "  'runTimeout': 1200,\n",
       "  'columns': 11,\n",
       "  'rows': 7,\n",
       "  'hunger_rate': 40,\n",
       "  'min_food': 2,\n",
       "  'max_length': 99},\n",
       " {'episodeSteps': 200,\n",
       "  'actTimeout': 1,\n",
       "  'runTimeout': 1200,\n",
       "  'columns': 11,\n",
       "  'rows': 7,\n",
       "  'hunger_rate': 40,\n",
       "  'min_food': 2,\n",
       "  'max_length': 99},\n",
       " {'episodeSteps': 200,\n",
       "  'actTimeout': 1,\n",
       "  'runTimeout': 1200,\n",
       "  'columns': 11,\n",
       "  'rows': 7,\n",
       "  'hunger_rate': 40,\n",
       "  'min_food': 2,\n",
       "  'max_length': 99},\n",
       " {'episodeSteps': 200,\n",
       "  'actTimeout': 1,\n",
       "  'runTimeout': 1200,\n",
       "  'columns': 11,\n",
       "  'rows': 7,\n",
       "  'hunger_rate': 40,\n",
       "  'min_food': 2,\n",
       "  'max_length': 99},\n",
       " {'episodeSteps': 200,\n",
       "  'actTimeout': 1,\n",
       "  'runTimeout': 1200,\n",
       "  'columns': 11,\n",
       "  'rows': 7,\n",
       "  'hunger_rate': 40,\n",
       "  'min_food': 2,\n",
       "  'max_length': 99},\n",
       " {'episodeSteps': 200,\n",
       "  'actTimeout': 1,\n",
       "  'runTimeout': 1200,\n",
       "  'columns': 11,\n",
       "  'rows': 7,\n",
       "  'hunger_rate': 40,\n",
       "  'min_food': 2,\n",
       "  'max_length': 99},\n",
       " {'episodeSteps': 200,\n",
       "  'actTimeout': 1,\n",
       "  'runTimeout': 1200,\n",
       "  'columns': 11,\n",
       "  'rows': 7,\n",
       "  'hunger_rate': 40,\n",
       "  'min_food': 2,\n",
       "  'max_length': 99},\n",
       " {'episodeSteps': 200,\n",
       "  'actTimeout': 1,\n",
       "  'runTimeout': 1200,\n",
       "  'columns': 11,\n",
       "  'rows': 7,\n",
       "  'hunger_rate': 40,\n",
       "  'min_food': 2,\n",
       "  'max_length': 99},\n",
       " {'episodeSteps': 200,\n",
       "  'actTimeout': 1,\n",
       "  'runTimeout': 1200,\n",
       "  'columns': 11,\n",
       "  'rows': 7,\n",
       "  'hunger_rate': 40,\n",
       "  'min_food': 2,\n",
       "  'max_length': 99},\n",
       " {'episodeSteps': 200,\n",
       "  'actTimeout': 1,\n",
       "  'runTimeout': 1200,\n",
       "  'columns': 11,\n",
       "  'rows': 7,\n",
       "  'hunger_rate': 40,\n",
       "  'min_food': 2,\n",
       "  'max_length': 99},\n",
       " {'episodeSteps': 200,\n",
       "  'actTimeout': 1,\n",
       "  'runTimeout': 1200,\n",
       "  'columns': 11,\n",
       "  'rows': 7,\n",
       "  'hunger_rate': 40,\n",
       "  'min_food': 2,\n",
       "  'max_length': 99},\n",
       " {'episodeSteps': 200,\n",
       "  'actTimeout': 1,\n",
       "  'runTimeout': 1200,\n",
       "  'columns': 11,\n",
       "  'rows': 7,\n",
       "  'hunger_rate': 40,\n",
       "  'min_food': 2,\n",
       "  'max_length': 99},\n",
       " {'episodeSteps': 200,\n",
       "  'actTimeout': 1,\n",
       "  'runTimeout': 1200,\n",
       "  'columns': 11,\n",
       "  'rows': 7,\n",
       "  'hunger_rate': 40,\n",
       "  'min_food': 2,\n",
       "  'max_length': 99},\n",
       " {'episodeSteps': 200,\n",
       "  'actTimeout': 1,\n",
       "  'runTimeout': 1200,\n",
       "  'columns': 11,\n",
       "  'rows': 7,\n",
       "  'hunger_rate': 40,\n",
       "  'min_food': 2,\n",
       "  'max_length': 99},\n",
       " {'episodeSteps': 200,\n",
       "  'actTimeout': 1,\n",
       "  'runTimeout': 1200,\n",
       "  'columns': 11,\n",
       "  'rows': 7,\n",
       "  'hunger_rate': 40,\n",
       "  'min_food': 2,\n",
       "  'max_length': 99},\n",
       " {'episodeSteps': 200,\n",
       "  'actTimeout': 1,\n",
       "  'runTimeout': 1200,\n",
       "  'columns': 11,\n",
       "  'rows': 7,\n",
       "  'hunger_rate': 40,\n",
       "  'min_food': 2,\n",
       "  'max_length': 99},\n",
       " {'episodeSteps': 200,\n",
       "  'actTimeout': 1,\n",
       "  'runTimeout': 1200,\n",
       "  'columns': 11,\n",
       "  'rows': 7,\n",
       "  'hunger_rate': 40,\n",
       "  'min_food': 2,\n",
       "  'max_length': 99},\n",
       " {'episodeSteps': 200,\n",
       "  'actTimeout': 1,\n",
       "  'runTimeout': 1200,\n",
       "  'columns': 11,\n",
       "  'rows': 7,\n",
       "  'hunger_rate': 40,\n",
       "  'min_food': 2,\n",
       "  'max_length': 99},\n",
       " {'episodeSteps': 200,\n",
       "  'actTimeout': 1,\n",
       "  'runTimeout': 1200,\n",
       "  'columns': 11,\n",
       "  'rows': 7,\n",
       "  'hunger_rate': 40,\n",
       "  'min_food': 2,\n",
       "  'max_length': 99},\n",
       " {'episodeSteps': 200,\n",
       "  'actTimeout': 1,\n",
       "  'runTimeout': 1200,\n",
       "  'columns': 11,\n",
       "  'rows': 7,\n",
       "  'hunger_rate': 40,\n",
       "  'min_food': 2,\n",
       "  'max_length': 99},\n",
       " {'episodeSteps': 200,\n",
       "  'actTimeout': 1,\n",
       "  'runTimeout': 1200,\n",
       "  'columns': 11,\n",
       "  'rows': 7,\n",
       "  'hunger_rate': 40,\n",
       "  'min_food': 2,\n",
       "  'max_length': 99},\n",
       " {'episodeSteps': 200,\n",
       "  'actTimeout': 1,\n",
       "  'runTimeout': 1200,\n",
       "  'columns': 11,\n",
       "  'rows': 7,\n",
       "  'hunger_rate': 40,\n",
       "  'min_food': 2,\n",
       "  'max_length': 99},\n",
       " {'episodeSteps': 200,\n",
       "  'actTimeout': 1,\n",
       "  'runTimeout': 1200,\n",
       "  'columns': 11,\n",
       "  'rows': 7,\n",
       "  'hunger_rate': 40,\n",
       "  'min_food': 2,\n",
       "  'max_length': 99},\n",
       " {'episodeSteps': 200,\n",
       "  'actTimeout': 1,\n",
       "  'runTimeout': 1200,\n",
       "  'columns': 11,\n",
       "  'rows': 7,\n",
       "  'hunger_rate': 40,\n",
       "  'min_food': 2,\n",
       "  'max_length': 99},\n",
       " {'episodeSteps': 200,\n",
       "  'actTimeout': 1,\n",
       "  'runTimeout': 1200,\n",
       "  'columns': 11,\n",
       "  'rows': 7,\n",
       "  'hunger_rate': 40,\n",
       "  'min_food': 2,\n",
       "  'max_length': 99},\n",
       " {'episodeSteps': 200,\n",
       "  'actTimeout': 1,\n",
       "  'runTimeout': 1200,\n",
       "  'columns': 11,\n",
       "  'rows': 7,\n",
       "  'hunger_rate': 40,\n",
       "  'min_food': 2,\n",
       "  'max_length': 99}]"
      ]
     },
     "execution_count": 43,
     "metadata": {},
     "output_type": "execute_result"
    }
   ],
   "source": [
    "print_agent.configurations"
   ]
  },
  {
   "cell_type": "markdown",
   "metadata": {
    "hidden": true
   },
   "source": [
    "Everything seems fine. I have also seen that I can use a class as agent."
   ]
  },
  {
   "cell_type": "markdown",
   "metadata": {},
   "source": [
    "## Implementing the GameState"
   ]
  },
  {
   "cell_type": "markdown",
   "metadata": {},
   "source": [
    "I'm going to implement the GameState on the library with nice tests, but I will also do some play here."
   ]
  },
  {
   "cell_type": "code",
   "execution_count": 32,
   "metadata": {
    "ExecuteTime": {
     "end_time": "2021-02-28T10:54:29.122400Z",
     "start_time": "2021-02-28T10:54:29.001916Z"
    }
   },
   "outputs": [],
   "source": [
    "env = make('hungry_geese')\n",
    "trainer = env.train([None, \"greedy\", \"greedy\", \"greedy\"])\n",
    "\n",
    "configuration = env.configuration\n",
    "\n",
    "obs = trainer.reset()\n",
    "\n",
    "state = GameState()\n",
    "\n",
    "state.update(obs, configuration)\n",
    "\n",
    "done = False\n",
    "while not done:\n",
    "    obs, reward, done, info = trainer.step('NORTH')\n",
    "    state.update(obs, configuration)"
   ]
  },
  {
   "cell_type": "code",
   "execution_count": 33,
   "metadata": {
    "ExecuteTime": {
     "end_time": "2021-02-28T10:54:29.356599Z",
     "start_time": "2021-02-28T10:54:29.326363Z"
    }
   },
   "outputs": [
    {
     "data": {
      "text/plain": [
       "[array([200.,  40.,  40.,  40.,  40.,  40.,   0.,   0.,   0.]),\n",
       " array([199.,  39.,  39.,  39.,  39.,  39.,   0.,   0.,   0.]),\n",
       " array([198.,  38.,  38.,  38.,  78.,  38.,   0.,  -1.,   0.]),\n",
       " array([197.,  37.,  37.,  37.,  77.,  37.,   0.,  -1.,   0.]),\n",
       " array([196.,  36.,  36.,  36.,  76.,  76.,   0.,  -1.,  -1.]),\n",
       " array([195.,  35.,  35.,  35.,  75.,  75.,   0.,  -1.,  -1.]),\n",
       " array([194.,  34.,  34.,  34.,  74.,  74.,   0.,  -1.,  -1.]),\n",
       " array([193.,  33.,  33.,  33.,  73.,  73.,   0.,  -1.,  -1.]),\n",
       " array([192.,  32.,  32.,  32.,  72., 112.,   0.,  -1.,  -2.]),\n",
       " array([191.,  31.,  31.,  31.,  71., 111.,   0.,  -1.,  -2.]),\n",
       " array([190.,  30.,  30.,  30., 110., 110.,   0.,  -2.,  -2.]),\n",
       " array([189.,  29.,  29.,  29., 109., 109.,   0.,  -2.,  -2.]),\n",
       " array([188.,  28.,  28.,  28., 108., 108.,   0.,  -2.,  -2.]),\n",
       " array([187.,  27.,  27.,  27., 107., 107.,   0.,  -2.,  -2.]),\n",
       " array([186.,  26.,  26.,  26., 146., 106.,   0.,  -3.,  -2.]),\n",
       " array([185.,  25.,   0.,  25., 145., 105.,  -1.,  -4.,  -3.])]"
      ]
     },
     "execution_count": 33,
     "metadata": {},
     "output_type": "execute_result"
    }
   ],
   "source": [
    "state.features"
   ]
  },
  {
   "cell_type": "code",
   "execution_count": null,
   "metadata": {},
   "outputs": [],
   "source": []
  },
  {
   "cell_type": "code",
   "execution_count": 11,
   "metadata": {
    "ExecuteTime": {
     "end_time": "2021-02-28T10:04:14.845642Z",
     "start_time": "2021-02-28T10:04:14.815115Z"
    }
   },
   "outputs": [
    {
     "data": {
      "text/plain": [
       "28"
      ]
     },
     "execution_count": 11,
     "metadata": {},
     "output_type": "execute_result"
    }
   ],
   "source": [
    "len(state.history)"
   ]
  },
  {
   "cell_type": "code",
   "execution_count": 13,
   "metadata": {
    "ExecuteTime": {
     "end_time": "2021-02-28T10:11:18.385327Z",
     "start_time": "2021-02-28T10:11:18.358744Z"
    }
   },
   "outputs": [
    {
     "data": {
      "text/plain": [
       "{'remainingOverageTime': 60,\n",
       " 'step': 0,\n",
       " 'geese': [[64], [57], [67], [0]],\n",
       " 'food': [22, 61],\n",
       " 'index': 0}"
      ]
     },
     "execution_count": 13,
     "metadata": {},
     "output_type": "execute_result"
    }
   ],
   "source": [
    "state.history[0]"
   ]
  },
  {
   "cell_type": "code",
   "execution_count": 12,
   "metadata": {
    "ExecuteTime": {
     "end_time": "2021-02-28T10:07:21.978579Z",
     "start_time": "2021-02-28T10:07:21.950621Z"
    }
   },
   "outputs": [
    {
     "data": {
      "text/plain": [
       "{'episodeSteps': 200,\n",
       " 'actTimeout': 1,\n",
       " 'runTimeout': 1200,\n",
       " 'columns': 11,\n",
       " 'rows': 7,\n",
       " 'hunger_rate': 40,\n",
       " 'min_food': 2,\n",
       " 'max_length': 99}"
      ]
     },
     "execution_count": 12,
     "metadata": {},
     "output_type": "execute_result"
    }
   ],
   "source": [
    "state.configuration"
   ]
  },
  {
   "cell_type": "markdown",
   "metadata": {},
   "source": [
    "## Summary"
   ]
  },
  {
   "cell_type": "code",
   "execution_count": null,
   "metadata": {},
   "outputs": [],
   "source": []
  }
 ],
 "metadata": {
  "hide_input": false,
  "kernelspec": {
   "display_name": "Python (goose)",
   "language": "python",
   "name": "goose"
  },
  "language_info": {
   "codemirror_mode": {
    "name": "ipython",
    "version": 3
   },
   "file_extension": ".py",
   "mimetype": "text/x-python",
   "name": "python",
   "nbconvert_exporter": "python",
   "pygments_lexer": "ipython3",
   "version": "3.7.9"
  },
  "toc": {
   "base_numbering": 1,
   "nav_menu": {},
   "number_sections": false,
   "sideBar": true,
   "skip_h1_title": false,
   "title_cell": "Table of Contents",
   "title_sidebar": "Contents",
   "toc_cell": true,
   "toc_position": {},
   "toc_section_display": true,
   "toc_window_display": false
  }
 },
 "nbformat": 4,
 "nbformat_minor": 4
}
