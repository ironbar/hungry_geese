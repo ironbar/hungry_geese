{
 "cells": [
  {
   "cell_type": "markdown",
   "metadata": {
    "toc": true
   },
   "source": [
    "<h1>Table of Contents<span class=\"tocSkip\"></span></h1>\n",
    "<div class=\"toc\"><ul class=\"toc-item\"><li><span><a href=\"#Q-value-learning\" data-toc-modified-id=\"Q-value-learning-1\">Q value learning</a></span><ul class=\"toc-item\"><li><span><a href=\"#Goal\" data-toc-modified-id=\"Goal-1.1\">Goal</a></span></li><li><span><a href=\"#Imports\" data-toc-modified-id=\"Imports-1.2\">Imports</a></span></li><li><span><a href=\"#Comparing-environment-interfaces\" data-toc-modified-id=\"Comparing-environment-interfaces-1.3\">Comparing environment interfaces</a></span><ul class=\"toc-item\"><li><span><a href=\"#Open-AI-Gym\" data-toc-modified-id=\"Open-AI-Gym-1.3.1\">Open AI Gym</a></span></li><li><span><a href=\"#Step\" data-toc-modified-id=\"Step-1.3.2\">Step</a></span></li><li><span><a href=\"#Decision\" data-toc-modified-id=\"Decision-1.3.3\">Decision</a></span></li></ul></li><li><span><a href=\"#Verifying-the-information-received-by-the-agent\" data-toc-modified-id=\"Verifying-the-information-received-by-the-agent-1.4\">Verifying the information received by the agent</a></span></li><li><span><a href=\"#Implementing-the-GameState\" data-toc-modified-id=\"Implementing-the-GameState-1.5\">Implementing the GameState</a></span></li><li><span><a href=\"#Model\" data-toc-modified-id=\"Model-1.6\">Model</a></span></li><li><span><a href=\"#Agent\" data-toc-modified-id=\"Agent-1.7\">Agent</a></span></li><li><span><a href=\"#Model-for-training\" data-toc-modified-id=\"Model-for-training-1.8\">Model for training</a></span></li><li><span><a href=\"#Prepare-data-for-training\" data-toc-modified-id=\"Prepare-data-for-training-1.9\">Prepare data for training</a></span></li><li><span><a href=\"#Simmetry-on-the-data\" data-toc-modified-id=\"Simmetry-on-the-data-1.10\">Simmetry on the data</a></span><ul class=\"toc-item\"><li><span><a href=\"#Vertical-and-horizontal-simmetry\" data-toc-modified-id=\"Vertical-and-horizontal-simmetry-1.10.1\">Vertical and horizontal simmetry</a></span></li><li><span><a href=\"#Player-simmetry\" data-toc-modified-id=\"Player-simmetry-1.10.2\">Player simmetry</a></span></li><li><span><a href=\"#Apply-all-simmetries\" data-toc-modified-id=\"Apply-all-simmetries-1.10.3\">Apply all simmetries</a></span></li></ul></li><li><span><a href=\"#First-training\" data-toc-modified-id=\"First-training-1.11\">First training</a></span></li><li><span><a href=\"#TODO\" data-toc-modified-id=\"TODO-1.12\">TODO</a></span></li><li><span><a href=\"#Summary\" data-toc-modified-id=\"Summary-1.13\">Summary</a></span></li></ul></li></ul></div>"
   ]
  },
  {
   "cell_type": "markdown",
   "metadata": {},
   "source": [
    "# Q value learning"
   ]
  },
  {
   "cell_type": "markdown",
   "metadata": {},
   "source": [
    "## Goal"
   ]
  },
  {
   "cell_type": "markdown",
   "metadata": {
    "ExecuteTime": {
     "end_time": "2021-02-28T07:06:28.564686Z",
     "start_time": "2021-02-28T07:06:28.557428Z"
    }
   },
   "source": [
    "On this notebook I will try to implement the first training of a model that uses Q value learning."
   ]
  },
  {
   "cell_type": "markdown",
   "metadata": {},
   "source": [
    "## Imports"
   ]
  },
  {
   "cell_type": "code",
   "execution_count": 1,
   "metadata": {
    "ExecuteTime": {
     "end_time": "2021-03-06T11:10:31.438761Z",
     "start_time": "2021-03-06T11:10:31.419612Z"
    }
   },
   "outputs": [],
   "source": [
    "# Use this to reload changes in python scripts\n",
    "%load_ext autoreload\n",
    "%autoreload 2"
   ]
  },
  {
   "cell_type": "code",
   "execution_count": 70,
   "metadata": {
    "ExecuteTime": {
     "end_time": "2021-03-06T12:04:32.319131Z",
     "start_time": "2021-03-06T12:04:32.269148Z"
    }
   },
   "outputs": [],
   "source": [
    "import os\n",
    "import kaggle_environments\n",
    "from kaggle_environments import make\n",
    "from kaggle_environments import evaluate\n",
    "from kaggle_environments.envs.hungry_geese.hungry_geese import Action\n",
    "import numpy as np\n",
    "import matplotlib.pyplot as plt\n",
    "import matplotlib as mpl\n",
    "import random\n",
    "import pandas as pd\n",
    "from tqdm.notebook import tqdm\n",
    "from concurrent.futures import ProcessPoolExecutor\n",
    "import time\n",
    "from itertools import permutations \n",
    "\n",
    "os.environ['TF_FORCE_GPU_ALLOW_GROWTH'] = 'true'\n",
    "os.environ['CUDA_VISIBLE_DEVICES'] = ''\n",
    "#os.environ['CUDA_VISIBLE_DEVICES'] = '0'\n",
    "\n",
    "import tensorflow.keras as keras\n",
    "\n",
    "from hungry_geese import GameState\n",
    "from hungry_geese.state import make_board_egocentric, get_head_position\n",
    "from hungry_geese.utils import ACTIONS, opposite_action\n",
    "from hungry_geese.definitions import ACTION_TO_IDX\n",
    "from hungry_geese.agents import EpsilonAgent\n",
    "\n",
    "%config Completer.use_jedi = False"
   ]
  },
  {
   "cell_type": "code",
   "execution_count": 3,
   "metadata": {
    "ExecuteTime": {
     "end_time": "2021-03-06T11:10:32.626476Z",
     "start_time": "2021-03-06T11:10:32.596504Z"
    }
   },
   "outputs": [],
   "source": [
    "plt.plot()\n",
    "plt.close('all')\n",
    "plt.rcParams[\"figure.figsize\"] = (30, 5)  \n",
    "mpl.rcParams['lines.linewidth'] = 3\n",
    "mpl.rcParams['font.size'] = 16"
   ]
  },
  {
   "cell_type": "markdown",
   "metadata": {},
   "source": [
    "## Comparing environment interfaces"
   ]
  },
  {
   "cell_type": "markdown",
   "metadata": {
    "heading_collapsed": true
   },
   "source": [
    "### Open AI Gym"
   ]
  },
  {
   "cell_type": "markdown",
   "metadata": {
    "hidden": true
   },
   "source": [
    "https://github.com/Kaggle/kaggle-environments#training"
   ]
  },
  {
   "cell_type": "code",
   "execution_count": 4,
   "metadata": {
    "ExecuteTime": {
     "end_time": "2021-02-28T07:10:29.717364Z",
     "start_time": "2021-02-28T07:10:29.664278Z"
    },
    "deletable": false,
    "editable": false,
    "hidden": true,
    "run_control": {
     "frozen": true
    }
   },
   "outputs": [],
   "source": [
    "env = make('hungry_geese')\n",
    "trainer = env.train([None, \"greedy\", \"greedy\", \"greedy\"])"
   ]
  },
  {
   "cell_type": "code",
   "execution_count": 11,
   "metadata": {
    "ExecuteTime": {
     "end_time": "2021-02-28T07:14:17.995044Z",
     "start_time": "2021-02-28T07:14:17.973420Z"
    },
    "deletable": false,
    "editable": false,
    "hidden": true,
    "run_control": {
     "frozen": true
    }
   },
   "outputs": [
    {
     "data": {
      "text/plain": [
       "{'remainingOverageTime': 60,\n",
       " 'step': 0,\n",
       " 'geese': [[17], [46], [0], [23]],\n",
       " 'food': [51, 34],\n",
       " 'index': 0}"
      ]
     },
     "execution_count": 11,
     "metadata": {},
     "output_type": "execute_result"
    }
   ],
   "source": [
    "obs = trainer.reset()\n",
    "obs"
   ]
  },
  {
   "cell_type": "code",
   "execution_count": 13,
   "metadata": {
    "ExecuteTime": {
     "end_time": "2021-02-28T07:14:37.012547Z",
     "start_time": "2021-02-28T07:14:36.997451Z"
    },
    "deletable": false,
    "editable": false,
    "hidden": true,
    "run_control": {
     "frozen": true
    }
   },
   "outputs": [
    {
     "data": {
      "text/plain": [
       "[{'remainingOverageTime': 60,\n",
       "  'step': 1,\n",
       "  'geese': [[6], [35], [1], [34, 23]],\n",
       "  'food': [51, 25],\n",
       "  'index': 0},\n",
       " 201,\n",
       " False,\n",
       " {}]"
      ]
     },
     "execution_count": 13,
     "metadata": {},
     "output_type": "execute_result"
    }
   ],
   "source": [
    "trainer.step('NORTH')"
   ]
  },
  {
   "cell_type": "code",
   "execution_count": 14,
   "metadata": {
    "ExecuteTime": {
     "end_time": "2021-02-28T07:15:14.290374Z",
     "start_time": "2021-02-28T07:15:14.277162Z"
    },
    "deletable": false,
    "editable": false,
    "hidden": true,
    "run_control": {
     "frozen": true
    }
   },
   "outputs": [
    {
     "data": {
      "text/plain": [
       "[{'remainingOverageTime': 60,\n",
       "  'step': 2,\n",
       "  'geese': [[72], [24], [2], [45, 34]],\n",
       "  'food': [51, 25],\n",
       "  'index': 0},\n",
       " 100,\n",
       " False,\n",
       " {}]"
      ]
     },
     "execution_count": 14,
     "metadata": {},
     "output_type": "execute_result"
    }
   ],
   "source": [
    "trainer.step('NORTH')"
   ]
  },
  {
   "cell_type": "code",
   "execution_count": 15,
   "metadata": {
    "ExecuteTime": {
     "end_time": "2021-02-28T07:15:22.680950Z",
     "start_time": "2021-02-28T07:15:22.668633Z"
    },
    "deletable": false,
    "editable": false,
    "hidden": true,
    "run_control": {
     "frozen": true
    }
   },
   "outputs": [
    {
     "data": {
      "text/plain": [
       "[{'remainingOverageTime': 60,\n",
       "  'step': 3,\n",
       "  'geese': [[61], [25, 24], [3], [46, 45]],\n",
       "  'food': [51, 2],\n",
       "  'index': 0},\n",
       " 100,\n",
       " False,\n",
       " {}]"
      ]
     },
     "execution_count": 15,
     "metadata": {},
     "output_type": "execute_result"
    }
   ],
   "source": [
    "trainer.step('NORTH')"
   ]
  },
  {
   "cell_type": "code",
   "execution_count": 16,
   "metadata": {
    "ExecuteTime": {
     "end_time": "2021-02-28T07:15:28.610446Z",
     "start_time": "2021-02-28T07:15:28.596422Z"
    },
    "deletable": false,
    "editable": false,
    "hidden": true,
    "run_control": {
     "frozen": true
    }
   },
   "outputs": [
    {
     "data": {
      "text/plain": [
       "[{'remainingOverageTime': 60,\n",
       "  'step': 4,\n",
       "  'geese': [[50], [26, 25], [4], [35, 46]],\n",
       "  'food': [51, 2],\n",
       "  'index': 0},\n",
       " 100,\n",
       " False,\n",
       " {}]"
      ]
     },
     "execution_count": 16,
     "metadata": {},
     "output_type": "execute_result"
    }
   ],
   "source": [
    "trainer.step('NORTH')"
   ]
  },
  {
   "cell_type": "code",
   "execution_count": 17,
   "metadata": {
    "ExecuteTime": {
     "end_time": "2021-02-28T07:15:39.950648Z",
     "start_time": "2021-02-28T07:15:39.936760Z"
    },
    "deletable": false,
    "editable": false,
    "hidden": true,
    "run_control": {
     "frozen": true
    }
   },
   "outputs": [
    {
     "data": {
      "text/plain": [
       "[{'remainingOverageTime': 60,\n",
       "  'step': 5,\n",
       "  'geese': [[49], [27, 26], [5], [24, 35]],\n",
       "  'food': [51, 2],\n",
       "  'index': 0},\n",
       " 100,\n",
       " False,\n",
       " {}]"
      ]
     },
     "execution_count": 17,
     "metadata": {},
     "output_type": "execute_result"
    }
   ],
   "source": [
    "trainer.step('WEST')"
   ]
  },
  {
   "cell_type": "code",
   "execution_count": 18,
   "metadata": {
    "ExecuteTime": {
     "end_time": "2021-02-28T07:15:57.826331Z",
     "start_time": "2021-02-28T07:15:57.812706Z"
    },
    "deletable": false,
    "editable": false,
    "hidden": true,
    "run_control": {
     "frozen": true
    }
   },
   "outputs": [
    {
     "data": {
      "text/plain": [
       "[{'remainingOverageTime': 60,\n",
       "  'step': 6,\n",
       "  'geese': [[], [28, 27], [71], [13, 24]],\n",
       "  'food': [51, 2],\n",
       "  'index': 0},\n",
       " 0,\n",
       " True,\n",
       " {}]"
      ]
     },
     "execution_count": 18,
     "metadata": {},
     "output_type": "execute_result"
    }
   ],
   "source": [
    "trainer.step('EAST')"
   ]
  },
  {
   "cell_type": "markdown",
   "metadata": {
    "hidden": true
   },
   "source": [
    "So it seems we could use this implementation for training. The advantage is that we just have to care about our agent, not about the others."
   ]
  },
  {
   "cell_type": "code",
   "execution_count": 19,
   "metadata": {
    "ExecuteTime": {
     "end_time": "2021-02-28T07:19:37.972154Z",
     "start_time": "2021-02-28T07:19:37.965769Z"
    },
    "deletable": false,
    "editable": false,
    "hidden": true,
    "run_control": {
     "frozen": true
    }
   },
   "outputs": [
    {
     "data": {
      "text/plain": [
       "{'episodeSteps': 200,\n",
       " 'actTimeout': 1,\n",
       " 'runTimeout': 1200,\n",
       " 'columns': 11,\n",
       " 'rows': 7,\n",
       " 'hunger_rate': 40,\n",
       " 'min_food': 2,\n",
       " 'max_length': 99}"
      ]
     },
     "execution_count": 19,
     "metadata": {},
     "output_type": "execute_result"
    }
   ],
   "source": [
    "env.configuration"
   ]
  },
  {
   "cell_type": "markdown",
   "metadata": {
    "heading_collapsed": true
   },
   "source": [
    "### Step"
   ]
  },
  {
   "cell_type": "markdown",
   "metadata": {
    "hidden": true
   },
   "source": [
    "https://github.com/Kaggle/kaggle-environments#stepping"
   ]
  },
  {
   "cell_type": "code",
   "execution_count": 20,
   "metadata": {
    "ExecuteTime": {
     "end_time": "2021-02-28T07:21:09.618237Z",
     "start_time": "2021-02-28T07:21:09.597433Z"
    },
    "deletable": false,
    "editable": false,
    "hidden": true,
    "run_control": {
     "frozen": true
    }
   },
   "outputs": [],
   "source": [
    "env = make('hungry_geese')"
   ]
  },
  {
   "cell_type": "code",
   "execution_count": 22,
   "metadata": {
    "ExecuteTime": {
     "end_time": "2021-02-28T07:21:36.561126Z",
     "start_time": "2021-02-28T07:21:36.532455Z"
    },
    "deletable": false,
    "editable": false,
    "hidden": true,
    "run_control": {
     "frozen": true
    }
   },
   "outputs": [
    {
     "data": {
      "text/plain": [
       "[{'action': 'NORTH',\n",
       "  'reward': 0,\n",
       "  'info': {},\n",
       "  'observation': {'remainingOverageTime': 60,\n",
       "   'step': 0,\n",
       "   'geese': [[22], [73], [20], [65]],\n",
       "   'food': [58, 37],\n",
       "   'index': 0},\n",
       "  'status': 'ACTIVE'},\n",
       " {'action': 'NORTH',\n",
       "  'reward': 0,\n",
       "  'info': {},\n",
       "  'observation': {'remainingOverageTime': 60, 'index': 1},\n",
       "  'status': 'ACTIVE'},\n",
       " {'action': 'NORTH',\n",
       "  'reward': 0,\n",
       "  'info': {},\n",
       "  'observation': {'remainingOverageTime': 60, 'index': 2},\n",
       "  'status': 'ACTIVE'},\n",
       " {'action': 'NORTH',\n",
       "  'reward': 0,\n",
       "  'info': {},\n",
       "  'observation': {'remainingOverageTime': 60, 'index': 3},\n",
       "  'status': 'ACTIVE'}]"
      ]
     },
     "execution_count": 22,
     "metadata": {},
     "output_type": "execute_result"
    }
   ],
   "source": [
    "env.reset(num_agents=4)"
   ]
  },
  {
   "cell_type": "code",
   "execution_count": 23,
   "metadata": {
    "ExecuteTime": {
     "end_time": "2021-02-28T07:21:39.885023Z",
     "start_time": "2021-02-28T07:21:39.876358Z"
    },
    "deletable": false,
    "editable": false,
    "hidden": true,
    "run_control": {
     "frozen": true
    }
   },
   "outputs": [
    {
     "data": {
      "text/plain": [
       "[{'action': 'NORTH',\n",
       "  'reward': 0,\n",
       "  'info': {},\n",
       "  'observation': {'remainingOverageTime': 60,\n",
       "   'step': 0,\n",
       "   'geese': [[22], [73], [20], [65]],\n",
       "   'food': [58, 37],\n",
       "   'index': 0},\n",
       "  'status': 'ACTIVE'},\n",
       " {'action': 'NORTH',\n",
       "  'reward': 0,\n",
       "  'info': {},\n",
       "  'observation': {'remainingOverageTime': 60, 'index': 1},\n",
       "  'status': 'ACTIVE'},\n",
       " {'action': 'NORTH',\n",
       "  'reward': 0,\n",
       "  'info': {},\n",
       "  'observation': {'remainingOverageTime': 60, 'index': 2},\n",
       "  'status': 'ACTIVE'},\n",
       " {'action': 'NORTH',\n",
       "  'reward': 0,\n",
       "  'info': {},\n",
       "  'observation': {'remainingOverageTime': 60, 'index': 3},\n",
       "  'status': 'ACTIVE'}]"
      ]
     },
     "execution_count": 23,
     "metadata": {},
     "output_type": "execute_result"
    }
   ],
   "source": [
    "env.state"
   ]
  },
  {
   "cell_type": "markdown",
   "metadata": {
    "ExecuteTime": {
     "end_time": "2021-02-28T07:22:47.281867Z",
     "start_time": "2021-02-28T07:22:47.275978Z"
    },
    "hidden": true
   },
   "source": [
    "I see a problem here, only the first state has information about the geese."
   ]
  },
  {
   "cell_type": "code",
   "execution_count": 25,
   "metadata": {
    "ExecuteTime": {
     "end_time": "2021-02-28T07:23:07.675255Z",
     "start_time": "2021-02-28T07:23:07.660808Z"
    },
    "deletable": false,
    "editable": false,
    "hidden": true,
    "run_control": {
     "frozen": true
    }
   },
   "outputs": [
    {
     "data": {
      "text/plain": [
       "[{'action': 'NORTH',\n",
       "  'reward': 201,\n",
       "  'info': {},\n",
       "  'observation': {'remainingOverageTime': 60,\n",
       "   'step': 1,\n",
       "   'geese': [[11], [62], [9], [54]],\n",
       "   'food': [58, 37],\n",
       "   'index': 0},\n",
       "  'status': 'ACTIVE'},\n",
       " {'action': 'NORTH',\n",
       "  'reward': 201,\n",
       "  'info': {},\n",
       "  'observation': {'remainingOverageTime': 60, 'index': 1},\n",
       "  'status': 'ACTIVE'},\n",
       " {'action': 'NORTH',\n",
       "  'reward': 201,\n",
       "  'info': {},\n",
       "  'observation': {'remainingOverageTime': 60, 'index': 2},\n",
       "  'status': 'ACTIVE'},\n",
       " {'action': 'NORTH',\n",
       "  'reward': 201,\n",
       "  'info': {},\n",
       "  'observation': {'remainingOverageTime': 60, 'index': 3},\n",
       "  'status': 'ACTIVE'}]"
      ]
     },
     "execution_count": 25,
     "metadata": {},
     "output_type": "execute_result"
    }
   ],
   "source": [
    "env.step(['NORTH', 'NORTH', 'NORTH', 'NORTH'])"
   ]
  },
  {
   "cell_type": "markdown",
   "metadata": {
    "hidden": true
   },
   "source": [
    "So if we would want to use this approach we will have to manually copy information about, step, goose and food for the other players."
   ]
  },
  {
   "cell_type": "markdown",
   "metadata": {},
   "source": [
    "### Decision"
   ]
  },
  {
   "cell_type": "markdown",
   "metadata": {},
   "source": [
    "I will be using Open AI gym interface since it is simpler."
   ]
  },
  {
   "cell_type": "markdown",
   "metadata": {
    "heading_collapsed": true
   },
   "source": [
    "## Verifying the information received by the agent"
   ]
  },
  {
   "cell_type": "markdown",
   "metadata": {
    "hidden": true
   },
   "source": [
    "Let's create a very simple agent that prints the information so I can be sure of what the agent receives as input."
   ]
  },
  {
   "cell_type": "code",
   "execution_count": 32,
   "metadata": {
    "ExecuteTime": {
     "end_time": "2021-02-28T07:33:27.521292Z",
     "start_time": "2021-02-28T07:33:27.516315Z"
    },
    "deletable": false,
    "editable": false,
    "hidden": true,
    "run_control": {
     "frozen": true
    }
   },
   "outputs": [],
   "source": [
    "def print_agent(obs_dict, config_dict):\n",
    "    print('observation', obs_dict)\n",
    "    print('config', config_dict)\n",
    "    return 'NORTH'"
   ]
  },
  {
   "cell_type": "code",
   "execution_count": 33,
   "metadata": {
    "ExecuteTime": {
     "end_time": "2021-02-28T07:33:28.786433Z",
     "start_time": "2021-02-28T07:33:28.771089Z"
    },
    "deletable": false,
    "editable": false,
    "hidden": true,
    "run_control": {
     "frozen": true
    }
   },
   "outputs": [],
   "source": [
    "env = make('hungry_geese')"
   ]
  },
  {
   "cell_type": "code",
   "execution_count": 34,
   "metadata": {
    "ExecuteTime": {
     "end_time": "2021-02-28T07:33:30.324813Z",
     "start_time": "2021-02-28T07:33:30.275074Z"
    },
    "deletable": false,
    "editable": false,
    "hidden": true,
    "run_control": {
     "frozen": true
    }
   },
   "outputs": [],
   "source": [
    "ret = env.run([print_agent, 'greedy'])"
   ]
  },
  {
   "cell_type": "markdown",
   "metadata": {
    "deletable": false,
    "editable": false,
    "hidden": true,
    "run_control": {
     "frozen": true
    }
   },
   "source": [
    "Does not print anything, so let's create a class to save that information."
   ]
  },
  {
   "cell_type": "code",
   "execution_count": 37,
   "metadata": {
    "ExecuteTime": {
     "end_time": "2021-02-28T07:35:26.234240Z",
     "start_time": "2021-02-28T07:35:26.228125Z"
    },
    "deletable": false,
    "editable": false,
    "hidden": true,
    "run_control": {
     "frozen": true
    }
   },
   "outputs": [],
   "source": [
    "class PrintAgent():\n",
    "    def __init__(self):\n",
    "        self.observations = []\n",
    "        self.configurations = []\n",
    "    \n",
    "    def __call__(self, obs_dict, config_dict):\n",
    "        self.observations.append(obs_dict)\n",
    "        self.configurations.append(config_dict)\n",
    "        return 'NORTH'"
   ]
  },
  {
   "cell_type": "code",
   "execution_count": 38,
   "metadata": {
    "ExecuteTime": {
     "end_time": "2021-02-28T07:35:36.624398Z",
     "start_time": "2021-02-28T07:35:36.620220Z"
    },
    "deletable": false,
    "editable": false,
    "hidden": true,
    "run_control": {
     "frozen": true
    }
   },
   "outputs": [],
   "source": [
    "print_agent = PrintAgent()"
   ]
  },
  {
   "cell_type": "code",
   "execution_count": 39,
   "metadata": {
    "ExecuteTime": {
     "end_time": "2021-02-28T07:35:39.974390Z",
     "start_time": "2021-02-28T07:35:39.876527Z"
    },
    "deletable": false,
    "editable": false,
    "hidden": true,
    "run_control": {
     "frozen": true
    }
   },
   "outputs": [],
   "source": [
    "ret = env.run([print_agent, 'greedy'])"
   ]
  },
  {
   "cell_type": "code",
   "execution_count": 40,
   "metadata": {
    "ExecuteTime": {
     "end_time": "2021-02-28T07:35:41.794515Z",
     "start_time": "2021-02-28T07:35:41.788241Z"
    },
    "deletable": false,
    "editable": false,
    "hidden": true,
    "run_control": {
     "frozen": true
    }
   },
   "outputs": [
    {
     "data": {
      "text/plain": [
       "81"
      ]
     },
     "execution_count": 40,
     "metadata": {},
     "output_type": "execute_result"
    }
   ],
   "source": [
    "len(ret)"
   ]
  },
  {
   "cell_type": "code",
   "execution_count": 41,
   "metadata": {
    "ExecuteTime": {
     "end_time": "2021-02-28T07:35:49.084151Z",
     "start_time": "2021-02-28T07:35:49.051966Z"
    },
    "deletable": false,
    "editable": false,
    "hidden": true,
    "run_control": {
     "frozen": true
    }
   },
   "outputs": [
    {
     "data": {
      "text/plain": [
       "[{'remainingOverageTime': 60,\n",
       "  'step': 0,\n",
       "  'geese': [[2], [25]],\n",
       "  'food': [16, 58],\n",
       "  'index': 0},\n",
       " {'remainingOverageTime': 60,\n",
       "  'step': 1,\n",
       "  'geese': [[68], [14]],\n",
       "  'food': [16, 58],\n",
       "  'index': 0},\n",
       " {'remainingOverageTime': 60,\n",
       "  'step': 2,\n",
       "  'geese': [[57], [15]],\n",
       "  'food': [16, 58],\n",
       "  'index': 0},\n",
       " {'remainingOverageTime': 60,\n",
       "  'step': 3,\n",
       "  'geese': [[46], [16, 15]],\n",
       "  'food': [58, 67],\n",
       "  'index': 0},\n",
       " {'remainingOverageTime': 60,\n",
       "  'step': 4,\n",
       "  'geese': [[35], [27, 16]],\n",
       "  'food': [58, 67],\n",
       "  'index': 0},\n",
       " {'remainingOverageTime': 60,\n",
       "  'step': 5,\n",
       "  'geese': [[24], [38, 27]],\n",
       "  'food': [58, 67],\n",
       "  'index': 0},\n",
       " {'remainingOverageTime': 60,\n",
       "  'step': 6,\n",
       "  'geese': [[13], [49, 38]],\n",
       "  'food': [58, 67],\n",
       "  'index': 0},\n",
       " {'remainingOverageTime': 60,\n",
       "  'step': 7,\n",
       "  'geese': [[2], [60, 49]],\n",
       "  'food': [58, 67],\n",
       "  'index': 0},\n",
       " {'remainingOverageTime': 60,\n",
       "  'step': 8,\n",
       "  'geese': [[68], [59, 60]],\n",
       "  'food': [58, 67],\n",
       "  'index': 0},\n",
       " {'remainingOverageTime': 60,\n",
       "  'step': 9,\n",
       "  'geese': [[57], [58, 59, 60]],\n",
       "  'food': [67, 35],\n",
       "  'index': 0},\n",
       " {'remainingOverageTime': 60,\n",
       "  'step': 10,\n",
       "  'geese': [[46], [47, 58, 59]],\n",
       "  'food': [67, 35],\n",
       "  'index': 0},\n",
       " {'remainingOverageTime': 60,\n",
       "  'step': 11,\n",
       "  'geese': [[35, 46], [36, 47, 58]],\n",
       "  'food': [67, 22],\n",
       "  'index': 0},\n",
       " {'remainingOverageTime': 60,\n",
       "  'step': 12,\n",
       "  'geese': [[24, 35], [25, 36, 47]],\n",
       "  'food': [67, 22],\n",
       "  'index': 0},\n",
       " {'remainingOverageTime': 60,\n",
       "  'step': 13,\n",
       "  'geese': [[13, 24], [14, 25, 36]],\n",
       "  'food': [67, 22],\n",
       "  'index': 0},\n",
       " {'remainingOverageTime': 60,\n",
       "  'step': 14,\n",
       "  'geese': [[2, 13], [3, 14, 25]],\n",
       "  'food': [67, 22],\n",
       "  'index': 0},\n",
       " {'remainingOverageTime': 60,\n",
       "  'step': 15,\n",
       "  'geese': [[68, 2], [69, 3, 14]],\n",
       "  'food': [67, 22],\n",
       "  'index': 0},\n",
       " {'remainingOverageTime': 60,\n",
       "  'step': 16,\n",
       "  'geese': [[57, 68], [58, 69, 3]],\n",
       "  'food': [67, 22],\n",
       "  'index': 0},\n",
       " {'remainingOverageTime': 60,\n",
       "  'step': 17,\n",
       "  'geese': [[46, 57], [47, 58, 69]],\n",
       "  'food': [67, 22],\n",
       "  'index': 0},\n",
       " {'remainingOverageTime': 60,\n",
       "  'step': 18,\n",
       "  'geese': [[35, 46], [36, 47, 58]],\n",
       "  'food': [67, 22],\n",
       "  'index': 0},\n",
       " {'remainingOverageTime': 60,\n",
       "  'step': 19,\n",
       "  'geese': [[24, 35], [25, 36, 47]],\n",
       "  'food': [67, 22],\n",
       "  'index': 0},\n",
       " {'remainingOverageTime': 60,\n",
       "  'step': 20,\n",
       "  'geese': [[13, 24], [14, 25, 36]],\n",
       "  'food': [67, 22],\n",
       "  'index': 0},\n",
       " {'remainingOverageTime': 60,\n",
       "  'step': 21,\n",
       "  'geese': [[2, 13], [3, 14, 25]],\n",
       "  'food': [67, 22],\n",
       "  'index': 0},\n",
       " {'remainingOverageTime': 60,\n",
       "  'step': 22,\n",
       "  'geese': [[68, 2], [69, 3, 14]],\n",
       "  'food': [67, 22],\n",
       "  'index': 0},\n",
       " {'remainingOverageTime': 60,\n",
       "  'step': 23,\n",
       "  'geese': [[57, 68], [58, 69, 3]],\n",
       "  'food': [67, 22],\n",
       "  'index': 0},\n",
       " {'remainingOverageTime': 60,\n",
       "  'step': 24,\n",
       "  'geese': [[46, 57], [47, 58, 69]],\n",
       "  'food': [67, 22],\n",
       "  'index': 0},\n",
       " {'remainingOverageTime': 60,\n",
       "  'step': 25,\n",
       "  'geese': [[35, 46], [36, 47, 58]],\n",
       "  'food': [67, 22],\n",
       "  'index': 0},\n",
       " {'remainingOverageTime': 60,\n",
       "  'step': 26,\n",
       "  'geese': [[24, 35], [25, 36, 47]],\n",
       "  'food': [67, 22],\n",
       "  'index': 0},\n",
       " {'remainingOverageTime': 60,\n",
       "  'step': 27,\n",
       "  'geese': [[13, 24], [14, 25, 36]],\n",
       "  'food': [67, 22],\n",
       "  'index': 0},\n",
       " {'remainingOverageTime': 60,\n",
       "  'step': 28,\n",
       "  'geese': [[2, 13], [3, 14, 25]],\n",
       "  'food': [67, 22],\n",
       "  'index': 0},\n",
       " {'remainingOverageTime': 60,\n",
       "  'step': 29,\n",
       "  'geese': [[68, 2], [69, 3, 14]],\n",
       "  'food': [67, 22],\n",
       "  'index': 0},\n",
       " {'remainingOverageTime': 60,\n",
       "  'step': 30,\n",
       "  'geese': [[57, 68], [58, 69, 3]],\n",
       "  'food': [67, 22],\n",
       "  'index': 0},\n",
       " {'remainingOverageTime': 60,\n",
       "  'step': 31,\n",
       "  'geese': [[46, 57], [47, 58, 69]],\n",
       "  'food': [67, 22],\n",
       "  'index': 0},\n",
       " {'remainingOverageTime': 60,\n",
       "  'step': 32,\n",
       "  'geese': [[35, 46], [36, 47, 58]],\n",
       "  'food': [67, 22],\n",
       "  'index': 0},\n",
       " {'remainingOverageTime': 60,\n",
       "  'step': 33,\n",
       "  'geese': [[24, 35], [25, 36, 47]],\n",
       "  'food': [67, 22],\n",
       "  'index': 0},\n",
       " {'remainingOverageTime': 60,\n",
       "  'step': 34,\n",
       "  'geese': [[13, 24], [14, 25, 36]],\n",
       "  'food': [67, 22],\n",
       "  'index': 0},\n",
       " {'remainingOverageTime': 60,\n",
       "  'step': 35,\n",
       "  'geese': [[2, 13], [3, 14, 25]],\n",
       "  'food': [67, 22],\n",
       "  'index': 0},\n",
       " {'remainingOverageTime': 60,\n",
       "  'step': 36,\n",
       "  'geese': [[68, 2], [69, 3, 14]],\n",
       "  'food': [67, 22],\n",
       "  'index': 0},\n",
       " {'remainingOverageTime': 60,\n",
       "  'step': 37,\n",
       "  'geese': [[57, 68], [58, 69, 3]],\n",
       "  'food': [67, 22],\n",
       "  'index': 0},\n",
       " {'remainingOverageTime': 60,\n",
       "  'step': 38,\n",
       "  'geese': [[46, 57], [47, 58, 69]],\n",
       "  'food': [67, 22],\n",
       "  'index': 0},\n",
       " {'remainingOverageTime': 60,\n",
       "  'step': 39,\n",
       "  'geese': [[35, 46], [36, 47, 58]],\n",
       "  'food': [67, 22],\n",
       "  'index': 0},\n",
       " {'remainingOverageTime': 60,\n",
       "  'step': 40,\n",
       "  'geese': [[24], [25, 36]],\n",
       "  'food': [67, 22],\n",
       "  'index': 0},\n",
       " {'remainingOverageTime': 60,\n",
       "  'step': 41,\n",
       "  'geese': [[13], [14, 25]],\n",
       "  'food': [67, 22],\n",
       "  'index': 0},\n",
       " {'remainingOverageTime': 60,\n",
       "  'step': 42,\n",
       "  'geese': [[2], [3, 14]],\n",
       "  'food': [67, 22],\n",
       "  'index': 0},\n",
       " {'remainingOverageTime': 60,\n",
       "  'step': 43,\n",
       "  'geese': [[68], [69, 3]],\n",
       "  'food': [67, 22],\n",
       "  'index': 0},\n",
       " {'remainingOverageTime': 60,\n",
       "  'step': 44,\n",
       "  'geese': [[57], [58, 69]],\n",
       "  'food': [67, 22],\n",
       "  'index': 0},\n",
       " {'remainingOverageTime': 60,\n",
       "  'step': 45,\n",
       "  'geese': [[46], [47, 58]],\n",
       "  'food': [67, 22],\n",
       "  'index': 0},\n",
       " {'remainingOverageTime': 60,\n",
       "  'step': 46,\n",
       "  'geese': [[35], [36, 47]],\n",
       "  'food': [67, 22],\n",
       "  'index': 0},\n",
       " {'remainingOverageTime': 60,\n",
       "  'step': 47,\n",
       "  'geese': [[24], [25, 36]],\n",
       "  'food': [67, 22],\n",
       "  'index': 0},\n",
       " {'remainingOverageTime': 60,\n",
       "  'step': 48,\n",
       "  'geese': [[13], [14, 25]],\n",
       "  'food': [67, 22],\n",
       "  'index': 0},\n",
       " {'remainingOverageTime': 60,\n",
       "  'step': 49,\n",
       "  'geese': [[2], [3, 14]],\n",
       "  'food': [67, 22],\n",
       "  'index': 0},\n",
       " {'remainingOverageTime': 60,\n",
       "  'step': 50,\n",
       "  'geese': [[68], [69, 3]],\n",
       "  'food': [67, 22],\n",
       "  'index': 0},\n",
       " {'remainingOverageTime': 60,\n",
       "  'step': 51,\n",
       "  'geese': [[57], [58, 69]],\n",
       "  'food': [67, 22],\n",
       "  'index': 0},\n",
       " {'remainingOverageTime': 60,\n",
       "  'step': 52,\n",
       "  'geese': [[46], [47, 58]],\n",
       "  'food': [67, 22],\n",
       "  'index': 0},\n",
       " {'remainingOverageTime': 60,\n",
       "  'step': 53,\n",
       "  'geese': [[35], [36, 47]],\n",
       "  'food': [67, 22],\n",
       "  'index': 0},\n",
       " {'remainingOverageTime': 60,\n",
       "  'step': 54,\n",
       "  'geese': [[24], [25, 36]],\n",
       "  'food': [67, 22],\n",
       "  'index': 0},\n",
       " {'remainingOverageTime': 60,\n",
       "  'step': 55,\n",
       "  'geese': [[13], [14, 25]],\n",
       "  'food': [67, 22],\n",
       "  'index': 0},\n",
       " {'remainingOverageTime': 60,\n",
       "  'step': 56,\n",
       "  'geese': [[2], [3, 14]],\n",
       "  'food': [67, 22],\n",
       "  'index': 0},\n",
       " {'remainingOverageTime': 60,\n",
       "  'step': 57,\n",
       "  'geese': [[68], [69, 3]],\n",
       "  'food': [67, 22],\n",
       "  'index': 0},\n",
       " {'remainingOverageTime': 60,\n",
       "  'step': 58,\n",
       "  'geese': [[57], [58, 69]],\n",
       "  'food': [67, 22],\n",
       "  'index': 0},\n",
       " {'remainingOverageTime': 60,\n",
       "  'step': 59,\n",
       "  'geese': [[46], [47, 58]],\n",
       "  'food': [67, 22],\n",
       "  'index': 0},\n",
       " {'remainingOverageTime': 60,\n",
       "  'step': 60,\n",
       "  'geese': [[35], [36, 47]],\n",
       "  'food': [67, 22],\n",
       "  'index': 0},\n",
       " {'remainingOverageTime': 60,\n",
       "  'step': 61,\n",
       "  'geese': [[24], [25, 36]],\n",
       "  'food': [67, 22],\n",
       "  'index': 0},\n",
       " {'remainingOverageTime': 60,\n",
       "  'step': 62,\n",
       "  'geese': [[13], [14, 25]],\n",
       "  'food': [67, 22],\n",
       "  'index': 0},\n",
       " {'remainingOverageTime': 60,\n",
       "  'step': 63,\n",
       "  'geese': [[2], [3, 14]],\n",
       "  'food': [67, 22],\n",
       "  'index': 0},\n",
       " {'remainingOverageTime': 60,\n",
       "  'step': 64,\n",
       "  'geese': [[68], [69, 3]],\n",
       "  'food': [67, 22],\n",
       "  'index': 0},\n",
       " {'remainingOverageTime': 60,\n",
       "  'step': 65,\n",
       "  'geese': [[57], [58, 69]],\n",
       "  'food': [67, 22],\n",
       "  'index': 0},\n",
       " {'remainingOverageTime': 60,\n",
       "  'step': 66,\n",
       "  'geese': [[46], [47, 58]],\n",
       "  'food': [67, 22],\n",
       "  'index': 0},\n",
       " {'remainingOverageTime': 60,\n",
       "  'step': 67,\n",
       "  'geese': [[35], [36, 47]],\n",
       "  'food': [67, 22],\n",
       "  'index': 0},\n",
       " {'remainingOverageTime': 60,\n",
       "  'step': 68,\n",
       "  'geese': [[24], [25, 36]],\n",
       "  'food': [67, 22],\n",
       "  'index': 0},\n",
       " {'remainingOverageTime': 60,\n",
       "  'step': 69,\n",
       "  'geese': [[13], [14, 25]],\n",
       "  'food': [67, 22],\n",
       "  'index': 0},\n",
       " {'remainingOverageTime': 60,\n",
       "  'step': 70,\n",
       "  'geese': [[2], [3, 14]],\n",
       "  'food': [67, 22],\n",
       "  'index': 0},\n",
       " {'remainingOverageTime': 60,\n",
       "  'step': 71,\n",
       "  'geese': [[68], [69, 3]],\n",
       "  'food': [67, 22],\n",
       "  'index': 0},\n",
       " {'remainingOverageTime': 60,\n",
       "  'step': 72,\n",
       "  'geese': [[57], [58, 69]],\n",
       "  'food': [67, 22],\n",
       "  'index': 0},\n",
       " {'remainingOverageTime': 60,\n",
       "  'step': 73,\n",
       "  'geese': [[46], [47, 58]],\n",
       "  'food': [67, 22],\n",
       "  'index': 0},\n",
       " {'remainingOverageTime': 60,\n",
       "  'step': 74,\n",
       "  'geese': [[35], [36, 47]],\n",
       "  'food': [67, 22],\n",
       "  'index': 0},\n",
       " {'remainingOverageTime': 60,\n",
       "  'step': 75,\n",
       "  'geese': [[24], [25, 36]],\n",
       "  'food': [67, 22],\n",
       "  'index': 0},\n",
       " {'remainingOverageTime': 60,\n",
       "  'step': 76,\n",
       "  'geese': [[13], [14, 25]],\n",
       "  'food': [67, 22],\n",
       "  'index': 0},\n",
       " {'remainingOverageTime': 60,\n",
       "  'step': 77,\n",
       "  'geese': [[2], [3, 14]],\n",
       "  'food': [67, 22],\n",
       "  'index': 0},\n",
       " {'remainingOverageTime': 60,\n",
       "  'step': 78,\n",
       "  'geese': [[68], [69, 3]],\n",
       "  'food': [67, 22],\n",
       "  'index': 0},\n",
       " {'remainingOverageTime': 60,\n",
       "  'step': 79,\n",
       "  'geese': [[57], [58, 69]],\n",
       "  'food': [67, 22],\n",
       "  'index': 0}]"
      ]
     },
     "execution_count": 41,
     "metadata": {},
     "output_type": "execute_result"
    }
   ],
   "source": [
    "print_agent.observations"
   ]
  },
  {
   "cell_type": "code",
   "execution_count": 42,
   "metadata": {
    "ExecuteTime": {
     "end_time": "2021-02-28T07:36:24.202890Z",
     "start_time": "2021-02-28T07:36:24.195599Z"
    },
    "deletable": false,
    "editable": false,
    "hidden": true,
    "run_control": {
     "frozen": true
    }
   },
   "outputs": [
    {
     "data": {
      "text/plain": [
       "[{'action': 'NORTH',\n",
       "  'reward': 8001,\n",
       "  'info': {},\n",
       "  'observation': {'remainingOverageTime': 60,\n",
       "   'step': 80,\n",
       "   'geese': [[], [47]],\n",
       "   'food': [67, 22],\n",
       "   'index': 0},\n",
       "  'status': 'DONE'},\n",
       " {'action': 'NORTH',\n",
       "  'reward': 8101,\n",
       "  'info': {},\n",
       "  'observation': {'remainingOverageTime': 60, 'index': 1},\n",
       "  'status': 'DONE'}]"
      ]
     },
     "execution_count": 42,
     "metadata": {},
     "output_type": "execute_result"
    }
   ],
   "source": [
    "ret[-1]"
   ]
  },
  {
   "cell_type": "code",
   "execution_count": 43,
   "metadata": {
    "ExecuteTime": {
     "end_time": "2021-02-28T07:37:48.787592Z",
     "start_time": "2021-02-28T07:37:48.755325Z"
    },
    "deletable": false,
    "editable": false,
    "hidden": true,
    "run_control": {
     "frozen": true
    }
   },
   "outputs": [
    {
     "data": {
      "text/plain": [
       "[{'episodeSteps': 200,\n",
       "  'actTimeout': 1,\n",
       "  'runTimeout': 1200,\n",
       "  'columns': 11,\n",
       "  'rows': 7,\n",
       "  'hunger_rate': 40,\n",
       "  'min_food': 2,\n",
       "  'max_length': 99},\n",
       " {'episodeSteps': 200,\n",
       "  'actTimeout': 1,\n",
       "  'runTimeout': 1200,\n",
       "  'columns': 11,\n",
       "  'rows': 7,\n",
       "  'hunger_rate': 40,\n",
       "  'min_food': 2,\n",
       "  'max_length': 99},\n",
       " {'episodeSteps': 200,\n",
       "  'actTimeout': 1,\n",
       "  'runTimeout': 1200,\n",
       "  'columns': 11,\n",
       "  'rows': 7,\n",
       "  'hunger_rate': 40,\n",
       "  'min_food': 2,\n",
       "  'max_length': 99},\n",
       " {'episodeSteps': 200,\n",
       "  'actTimeout': 1,\n",
       "  'runTimeout': 1200,\n",
       "  'columns': 11,\n",
       "  'rows': 7,\n",
       "  'hunger_rate': 40,\n",
       "  'min_food': 2,\n",
       "  'max_length': 99},\n",
       " {'episodeSteps': 200,\n",
       "  'actTimeout': 1,\n",
       "  'runTimeout': 1200,\n",
       "  'columns': 11,\n",
       "  'rows': 7,\n",
       "  'hunger_rate': 40,\n",
       "  'min_food': 2,\n",
       "  'max_length': 99},\n",
       " {'episodeSteps': 200,\n",
       "  'actTimeout': 1,\n",
       "  'runTimeout': 1200,\n",
       "  'columns': 11,\n",
       "  'rows': 7,\n",
       "  'hunger_rate': 40,\n",
       "  'min_food': 2,\n",
       "  'max_length': 99},\n",
       " {'episodeSteps': 200,\n",
       "  'actTimeout': 1,\n",
       "  'runTimeout': 1200,\n",
       "  'columns': 11,\n",
       "  'rows': 7,\n",
       "  'hunger_rate': 40,\n",
       "  'min_food': 2,\n",
       "  'max_length': 99},\n",
       " {'episodeSteps': 200,\n",
       "  'actTimeout': 1,\n",
       "  'runTimeout': 1200,\n",
       "  'columns': 11,\n",
       "  'rows': 7,\n",
       "  'hunger_rate': 40,\n",
       "  'min_food': 2,\n",
       "  'max_length': 99},\n",
       " {'episodeSteps': 200,\n",
       "  'actTimeout': 1,\n",
       "  'runTimeout': 1200,\n",
       "  'columns': 11,\n",
       "  'rows': 7,\n",
       "  'hunger_rate': 40,\n",
       "  'min_food': 2,\n",
       "  'max_length': 99},\n",
       " {'episodeSteps': 200,\n",
       "  'actTimeout': 1,\n",
       "  'runTimeout': 1200,\n",
       "  'columns': 11,\n",
       "  'rows': 7,\n",
       "  'hunger_rate': 40,\n",
       "  'min_food': 2,\n",
       "  'max_length': 99},\n",
       " {'episodeSteps': 200,\n",
       "  'actTimeout': 1,\n",
       "  'runTimeout': 1200,\n",
       "  'columns': 11,\n",
       "  'rows': 7,\n",
       "  'hunger_rate': 40,\n",
       "  'min_food': 2,\n",
       "  'max_length': 99},\n",
       " {'episodeSteps': 200,\n",
       "  'actTimeout': 1,\n",
       "  'runTimeout': 1200,\n",
       "  'columns': 11,\n",
       "  'rows': 7,\n",
       "  'hunger_rate': 40,\n",
       "  'min_food': 2,\n",
       "  'max_length': 99},\n",
       " {'episodeSteps': 200,\n",
       "  'actTimeout': 1,\n",
       "  'runTimeout': 1200,\n",
       "  'columns': 11,\n",
       "  'rows': 7,\n",
       "  'hunger_rate': 40,\n",
       "  'min_food': 2,\n",
       "  'max_length': 99},\n",
       " {'episodeSteps': 200,\n",
       "  'actTimeout': 1,\n",
       "  'runTimeout': 1200,\n",
       "  'columns': 11,\n",
       "  'rows': 7,\n",
       "  'hunger_rate': 40,\n",
       "  'min_food': 2,\n",
       "  'max_length': 99},\n",
       " {'episodeSteps': 200,\n",
       "  'actTimeout': 1,\n",
       "  'runTimeout': 1200,\n",
       "  'columns': 11,\n",
       "  'rows': 7,\n",
       "  'hunger_rate': 40,\n",
       "  'min_food': 2,\n",
       "  'max_length': 99},\n",
       " {'episodeSteps': 200,\n",
       "  'actTimeout': 1,\n",
       "  'runTimeout': 1200,\n",
       "  'columns': 11,\n",
       "  'rows': 7,\n",
       "  'hunger_rate': 40,\n",
       "  'min_food': 2,\n",
       "  'max_length': 99},\n",
       " {'episodeSteps': 200,\n",
       "  'actTimeout': 1,\n",
       "  'runTimeout': 1200,\n",
       "  'columns': 11,\n",
       "  'rows': 7,\n",
       "  'hunger_rate': 40,\n",
       "  'min_food': 2,\n",
       "  'max_length': 99},\n",
       " {'episodeSteps': 200,\n",
       "  'actTimeout': 1,\n",
       "  'runTimeout': 1200,\n",
       "  'columns': 11,\n",
       "  'rows': 7,\n",
       "  'hunger_rate': 40,\n",
       "  'min_food': 2,\n",
       "  'max_length': 99},\n",
       " {'episodeSteps': 200,\n",
       "  'actTimeout': 1,\n",
       "  'runTimeout': 1200,\n",
       "  'columns': 11,\n",
       "  'rows': 7,\n",
       "  'hunger_rate': 40,\n",
       "  'min_food': 2,\n",
       "  'max_length': 99},\n",
       " {'episodeSteps': 200,\n",
       "  'actTimeout': 1,\n",
       "  'runTimeout': 1200,\n",
       "  'columns': 11,\n",
       "  'rows': 7,\n",
       "  'hunger_rate': 40,\n",
       "  'min_food': 2,\n",
       "  'max_length': 99},\n",
       " {'episodeSteps': 200,\n",
       "  'actTimeout': 1,\n",
       "  'runTimeout': 1200,\n",
       "  'columns': 11,\n",
       "  'rows': 7,\n",
       "  'hunger_rate': 40,\n",
       "  'min_food': 2,\n",
       "  'max_length': 99},\n",
       " {'episodeSteps': 200,\n",
       "  'actTimeout': 1,\n",
       "  'runTimeout': 1200,\n",
       "  'columns': 11,\n",
       "  'rows': 7,\n",
       "  'hunger_rate': 40,\n",
       "  'min_food': 2,\n",
       "  'max_length': 99},\n",
       " {'episodeSteps': 200,\n",
       "  'actTimeout': 1,\n",
       "  'runTimeout': 1200,\n",
       "  'columns': 11,\n",
       "  'rows': 7,\n",
       "  'hunger_rate': 40,\n",
       "  'min_food': 2,\n",
       "  'max_length': 99},\n",
       " {'episodeSteps': 200,\n",
       "  'actTimeout': 1,\n",
       "  'runTimeout': 1200,\n",
       "  'columns': 11,\n",
       "  'rows': 7,\n",
       "  'hunger_rate': 40,\n",
       "  'min_food': 2,\n",
       "  'max_length': 99},\n",
       " {'episodeSteps': 200,\n",
       "  'actTimeout': 1,\n",
       "  'runTimeout': 1200,\n",
       "  'columns': 11,\n",
       "  'rows': 7,\n",
       "  'hunger_rate': 40,\n",
       "  'min_food': 2,\n",
       "  'max_length': 99},\n",
       " {'episodeSteps': 200,\n",
       "  'actTimeout': 1,\n",
       "  'runTimeout': 1200,\n",
       "  'columns': 11,\n",
       "  'rows': 7,\n",
       "  'hunger_rate': 40,\n",
       "  'min_food': 2,\n",
       "  'max_length': 99},\n",
       " {'episodeSteps': 200,\n",
       "  'actTimeout': 1,\n",
       "  'runTimeout': 1200,\n",
       "  'columns': 11,\n",
       "  'rows': 7,\n",
       "  'hunger_rate': 40,\n",
       "  'min_food': 2,\n",
       "  'max_length': 99},\n",
       " {'episodeSteps': 200,\n",
       "  'actTimeout': 1,\n",
       "  'runTimeout': 1200,\n",
       "  'columns': 11,\n",
       "  'rows': 7,\n",
       "  'hunger_rate': 40,\n",
       "  'min_food': 2,\n",
       "  'max_length': 99},\n",
       " {'episodeSteps': 200,\n",
       "  'actTimeout': 1,\n",
       "  'runTimeout': 1200,\n",
       "  'columns': 11,\n",
       "  'rows': 7,\n",
       "  'hunger_rate': 40,\n",
       "  'min_food': 2,\n",
       "  'max_length': 99},\n",
       " {'episodeSteps': 200,\n",
       "  'actTimeout': 1,\n",
       "  'runTimeout': 1200,\n",
       "  'columns': 11,\n",
       "  'rows': 7,\n",
       "  'hunger_rate': 40,\n",
       "  'min_food': 2,\n",
       "  'max_length': 99},\n",
       " {'episodeSteps': 200,\n",
       "  'actTimeout': 1,\n",
       "  'runTimeout': 1200,\n",
       "  'columns': 11,\n",
       "  'rows': 7,\n",
       "  'hunger_rate': 40,\n",
       "  'min_food': 2,\n",
       "  'max_length': 99},\n",
       " {'episodeSteps': 200,\n",
       "  'actTimeout': 1,\n",
       "  'runTimeout': 1200,\n",
       "  'columns': 11,\n",
       "  'rows': 7,\n",
       "  'hunger_rate': 40,\n",
       "  'min_food': 2,\n",
       "  'max_length': 99},\n",
       " {'episodeSteps': 200,\n",
       "  'actTimeout': 1,\n",
       "  'runTimeout': 1200,\n",
       "  'columns': 11,\n",
       "  'rows': 7,\n",
       "  'hunger_rate': 40,\n",
       "  'min_food': 2,\n",
       "  'max_length': 99},\n",
       " {'episodeSteps': 200,\n",
       "  'actTimeout': 1,\n",
       "  'runTimeout': 1200,\n",
       "  'columns': 11,\n",
       "  'rows': 7,\n",
       "  'hunger_rate': 40,\n",
       "  'min_food': 2,\n",
       "  'max_length': 99},\n",
       " {'episodeSteps': 200,\n",
       "  'actTimeout': 1,\n",
       "  'runTimeout': 1200,\n",
       "  'columns': 11,\n",
       "  'rows': 7,\n",
       "  'hunger_rate': 40,\n",
       "  'min_food': 2,\n",
       "  'max_length': 99},\n",
       " {'episodeSteps': 200,\n",
       "  'actTimeout': 1,\n",
       "  'runTimeout': 1200,\n",
       "  'columns': 11,\n",
       "  'rows': 7,\n",
       "  'hunger_rate': 40,\n",
       "  'min_food': 2,\n",
       "  'max_length': 99},\n",
       " {'episodeSteps': 200,\n",
       "  'actTimeout': 1,\n",
       "  'runTimeout': 1200,\n",
       "  'columns': 11,\n",
       "  'rows': 7,\n",
       "  'hunger_rate': 40,\n",
       "  'min_food': 2,\n",
       "  'max_length': 99},\n",
       " {'episodeSteps': 200,\n",
       "  'actTimeout': 1,\n",
       "  'runTimeout': 1200,\n",
       "  'columns': 11,\n",
       "  'rows': 7,\n",
       "  'hunger_rate': 40,\n",
       "  'min_food': 2,\n",
       "  'max_length': 99},\n",
       " {'episodeSteps': 200,\n",
       "  'actTimeout': 1,\n",
       "  'runTimeout': 1200,\n",
       "  'columns': 11,\n",
       "  'rows': 7,\n",
       "  'hunger_rate': 40,\n",
       "  'min_food': 2,\n",
       "  'max_length': 99},\n",
       " {'episodeSteps': 200,\n",
       "  'actTimeout': 1,\n",
       "  'runTimeout': 1200,\n",
       "  'columns': 11,\n",
       "  'rows': 7,\n",
       "  'hunger_rate': 40,\n",
       "  'min_food': 2,\n",
       "  'max_length': 99},\n",
       " {'episodeSteps': 200,\n",
       "  'actTimeout': 1,\n",
       "  'runTimeout': 1200,\n",
       "  'columns': 11,\n",
       "  'rows': 7,\n",
       "  'hunger_rate': 40,\n",
       "  'min_food': 2,\n",
       "  'max_length': 99},\n",
       " {'episodeSteps': 200,\n",
       "  'actTimeout': 1,\n",
       "  'runTimeout': 1200,\n",
       "  'columns': 11,\n",
       "  'rows': 7,\n",
       "  'hunger_rate': 40,\n",
       "  'min_food': 2,\n",
       "  'max_length': 99},\n",
       " {'episodeSteps': 200,\n",
       "  'actTimeout': 1,\n",
       "  'runTimeout': 1200,\n",
       "  'columns': 11,\n",
       "  'rows': 7,\n",
       "  'hunger_rate': 40,\n",
       "  'min_food': 2,\n",
       "  'max_length': 99},\n",
       " {'episodeSteps': 200,\n",
       "  'actTimeout': 1,\n",
       "  'runTimeout': 1200,\n",
       "  'columns': 11,\n",
       "  'rows': 7,\n",
       "  'hunger_rate': 40,\n",
       "  'min_food': 2,\n",
       "  'max_length': 99},\n",
       " {'episodeSteps': 200,\n",
       "  'actTimeout': 1,\n",
       "  'runTimeout': 1200,\n",
       "  'columns': 11,\n",
       "  'rows': 7,\n",
       "  'hunger_rate': 40,\n",
       "  'min_food': 2,\n",
       "  'max_length': 99},\n",
       " {'episodeSteps': 200,\n",
       "  'actTimeout': 1,\n",
       "  'runTimeout': 1200,\n",
       "  'columns': 11,\n",
       "  'rows': 7,\n",
       "  'hunger_rate': 40,\n",
       "  'min_food': 2,\n",
       "  'max_length': 99},\n",
       " {'episodeSteps': 200,\n",
       "  'actTimeout': 1,\n",
       "  'runTimeout': 1200,\n",
       "  'columns': 11,\n",
       "  'rows': 7,\n",
       "  'hunger_rate': 40,\n",
       "  'min_food': 2,\n",
       "  'max_length': 99},\n",
       " {'episodeSteps': 200,\n",
       "  'actTimeout': 1,\n",
       "  'runTimeout': 1200,\n",
       "  'columns': 11,\n",
       "  'rows': 7,\n",
       "  'hunger_rate': 40,\n",
       "  'min_food': 2,\n",
       "  'max_length': 99},\n",
       " {'episodeSteps': 200,\n",
       "  'actTimeout': 1,\n",
       "  'runTimeout': 1200,\n",
       "  'columns': 11,\n",
       "  'rows': 7,\n",
       "  'hunger_rate': 40,\n",
       "  'min_food': 2,\n",
       "  'max_length': 99},\n",
       " {'episodeSteps': 200,\n",
       "  'actTimeout': 1,\n",
       "  'runTimeout': 1200,\n",
       "  'columns': 11,\n",
       "  'rows': 7,\n",
       "  'hunger_rate': 40,\n",
       "  'min_food': 2,\n",
       "  'max_length': 99},\n",
       " {'episodeSteps': 200,\n",
       "  'actTimeout': 1,\n",
       "  'runTimeout': 1200,\n",
       "  'columns': 11,\n",
       "  'rows': 7,\n",
       "  'hunger_rate': 40,\n",
       "  'min_food': 2,\n",
       "  'max_length': 99},\n",
       " {'episodeSteps': 200,\n",
       "  'actTimeout': 1,\n",
       "  'runTimeout': 1200,\n",
       "  'columns': 11,\n",
       "  'rows': 7,\n",
       "  'hunger_rate': 40,\n",
       "  'min_food': 2,\n",
       "  'max_length': 99},\n",
       " {'episodeSteps': 200,\n",
       "  'actTimeout': 1,\n",
       "  'runTimeout': 1200,\n",
       "  'columns': 11,\n",
       "  'rows': 7,\n",
       "  'hunger_rate': 40,\n",
       "  'min_food': 2,\n",
       "  'max_length': 99},\n",
       " {'episodeSteps': 200,\n",
       "  'actTimeout': 1,\n",
       "  'runTimeout': 1200,\n",
       "  'columns': 11,\n",
       "  'rows': 7,\n",
       "  'hunger_rate': 40,\n",
       "  'min_food': 2,\n",
       "  'max_length': 99},\n",
       " {'episodeSteps': 200,\n",
       "  'actTimeout': 1,\n",
       "  'runTimeout': 1200,\n",
       "  'columns': 11,\n",
       "  'rows': 7,\n",
       "  'hunger_rate': 40,\n",
       "  'min_food': 2,\n",
       "  'max_length': 99},\n",
       " {'episodeSteps': 200,\n",
       "  'actTimeout': 1,\n",
       "  'runTimeout': 1200,\n",
       "  'columns': 11,\n",
       "  'rows': 7,\n",
       "  'hunger_rate': 40,\n",
       "  'min_food': 2,\n",
       "  'max_length': 99},\n",
       " {'episodeSteps': 200,\n",
       "  'actTimeout': 1,\n",
       "  'runTimeout': 1200,\n",
       "  'columns': 11,\n",
       "  'rows': 7,\n",
       "  'hunger_rate': 40,\n",
       "  'min_food': 2,\n",
       "  'max_length': 99},\n",
       " {'episodeSteps': 200,\n",
       "  'actTimeout': 1,\n",
       "  'runTimeout': 1200,\n",
       "  'columns': 11,\n",
       "  'rows': 7,\n",
       "  'hunger_rate': 40,\n",
       "  'min_food': 2,\n",
       "  'max_length': 99},\n",
       " {'episodeSteps': 200,\n",
       "  'actTimeout': 1,\n",
       "  'runTimeout': 1200,\n",
       "  'columns': 11,\n",
       "  'rows': 7,\n",
       "  'hunger_rate': 40,\n",
       "  'min_food': 2,\n",
       "  'max_length': 99},\n",
       " {'episodeSteps': 200,\n",
       "  'actTimeout': 1,\n",
       "  'runTimeout': 1200,\n",
       "  'columns': 11,\n",
       "  'rows': 7,\n",
       "  'hunger_rate': 40,\n",
       "  'min_food': 2,\n",
       "  'max_length': 99},\n",
       " {'episodeSteps': 200,\n",
       "  'actTimeout': 1,\n",
       "  'runTimeout': 1200,\n",
       "  'columns': 11,\n",
       "  'rows': 7,\n",
       "  'hunger_rate': 40,\n",
       "  'min_food': 2,\n",
       "  'max_length': 99},\n",
       " {'episodeSteps': 200,\n",
       "  'actTimeout': 1,\n",
       "  'runTimeout': 1200,\n",
       "  'columns': 11,\n",
       "  'rows': 7,\n",
       "  'hunger_rate': 40,\n",
       "  'min_food': 2,\n",
       "  'max_length': 99},\n",
       " {'episodeSteps': 200,\n",
       "  'actTimeout': 1,\n",
       "  'runTimeout': 1200,\n",
       "  'columns': 11,\n",
       "  'rows': 7,\n",
       "  'hunger_rate': 40,\n",
       "  'min_food': 2,\n",
       "  'max_length': 99},\n",
       " {'episodeSteps': 200,\n",
       "  'actTimeout': 1,\n",
       "  'runTimeout': 1200,\n",
       "  'columns': 11,\n",
       "  'rows': 7,\n",
       "  'hunger_rate': 40,\n",
       "  'min_food': 2,\n",
       "  'max_length': 99},\n",
       " {'episodeSteps': 200,\n",
       "  'actTimeout': 1,\n",
       "  'runTimeout': 1200,\n",
       "  'columns': 11,\n",
       "  'rows': 7,\n",
       "  'hunger_rate': 40,\n",
       "  'min_food': 2,\n",
       "  'max_length': 99},\n",
       " {'episodeSteps': 200,\n",
       "  'actTimeout': 1,\n",
       "  'runTimeout': 1200,\n",
       "  'columns': 11,\n",
       "  'rows': 7,\n",
       "  'hunger_rate': 40,\n",
       "  'min_food': 2,\n",
       "  'max_length': 99},\n",
       " {'episodeSteps': 200,\n",
       "  'actTimeout': 1,\n",
       "  'runTimeout': 1200,\n",
       "  'columns': 11,\n",
       "  'rows': 7,\n",
       "  'hunger_rate': 40,\n",
       "  'min_food': 2,\n",
       "  'max_length': 99},\n",
       " {'episodeSteps': 200,\n",
       "  'actTimeout': 1,\n",
       "  'runTimeout': 1200,\n",
       "  'columns': 11,\n",
       "  'rows': 7,\n",
       "  'hunger_rate': 40,\n",
       "  'min_food': 2,\n",
       "  'max_length': 99},\n",
       " {'episodeSteps': 200,\n",
       "  'actTimeout': 1,\n",
       "  'runTimeout': 1200,\n",
       "  'columns': 11,\n",
       "  'rows': 7,\n",
       "  'hunger_rate': 40,\n",
       "  'min_food': 2,\n",
       "  'max_length': 99},\n",
       " {'episodeSteps': 200,\n",
       "  'actTimeout': 1,\n",
       "  'runTimeout': 1200,\n",
       "  'columns': 11,\n",
       "  'rows': 7,\n",
       "  'hunger_rate': 40,\n",
       "  'min_food': 2,\n",
       "  'max_length': 99},\n",
       " {'episodeSteps': 200,\n",
       "  'actTimeout': 1,\n",
       "  'runTimeout': 1200,\n",
       "  'columns': 11,\n",
       "  'rows': 7,\n",
       "  'hunger_rate': 40,\n",
       "  'min_food': 2,\n",
       "  'max_length': 99},\n",
       " {'episodeSteps': 200,\n",
       "  'actTimeout': 1,\n",
       "  'runTimeout': 1200,\n",
       "  'columns': 11,\n",
       "  'rows': 7,\n",
       "  'hunger_rate': 40,\n",
       "  'min_food': 2,\n",
       "  'max_length': 99},\n",
       " {'episodeSteps': 200,\n",
       "  'actTimeout': 1,\n",
       "  'runTimeout': 1200,\n",
       "  'columns': 11,\n",
       "  'rows': 7,\n",
       "  'hunger_rate': 40,\n",
       "  'min_food': 2,\n",
       "  'max_length': 99},\n",
       " {'episodeSteps': 200,\n",
       "  'actTimeout': 1,\n",
       "  'runTimeout': 1200,\n",
       "  'columns': 11,\n",
       "  'rows': 7,\n",
       "  'hunger_rate': 40,\n",
       "  'min_food': 2,\n",
       "  'max_length': 99},\n",
       " {'episodeSteps': 200,\n",
       "  'actTimeout': 1,\n",
       "  'runTimeout': 1200,\n",
       "  'columns': 11,\n",
       "  'rows': 7,\n",
       "  'hunger_rate': 40,\n",
       "  'min_food': 2,\n",
       "  'max_length': 99},\n",
       " {'episodeSteps': 200,\n",
       "  'actTimeout': 1,\n",
       "  'runTimeout': 1200,\n",
       "  'columns': 11,\n",
       "  'rows': 7,\n",
       "  'hunger_rate': 40,\n",
       "  'min_food': 2,\n",
       "  'max_length': 99},\n",
       " {'episodeSteps': 200,\n",
       "  'actTimeout': 1,\n",
       "  'runTimeout': 1200,\n",
       "  'columns': 11,\n",
       "  'rows': 7,\n",
       "  'hunger_rate': 40,\n",
       "  'min_food': 2,\n",
       "  'max_length': 99},\n",
       " {'episodeSteps': 200,\n",
       "  'actTimeout': 1,\n",
       "  'runTimeout': 1200,\n",
       "  'columns': 11,\n",
       "  'rows': 7,\n",
       "  'hunger_rate': 40,\n",
       "  'min_food': 2,\n",
       "  'max_length': 99},\n",
       " {'episodeSteps': 200,\n",
       "  'actTimeout': 1,\n",
       "  'runTimeout': 1200,\n",
       "  'columns': 11,\n",
       "  'rows': 7,\n",
       "  'hunger_rate': 40,\n",
       "  'min_food': 2,\n",
       "  'max_length': 99},\n",
       " {'episodeSteps': 200,\n",
       "  'actTimeout': 1,\n",
       "  'runTimeout': 1200,\n",
       "  'columns': 11,\n",
       "  'rows': 7,\n",
       "  'hunger_rate': 40,\n",
       "  'min_food': 2,\n",
       "  'max_length': 99}]"
      ]
     },
     "execution_count": 43,
     "metadata": {},
     "output_type": "execute_result"
    }
   ],
   "source": [
    "print_agent.configurations"
   ]
  },
  {
   "cell_type": "markdown",
   "metadata": {
    "hidden": true
   },
   "source": [
    "Everything seems fine. I have also seen that I can use a class as agent."
   ]
  },
  {
   "cell_type": "markdown",
   "metadata": {
    "heading_collapsed": true
   },
   "source": [
    "## Implementing the GameState"
   ]
  },
  {
   "cell_type": "markdown",
   "metadata": {
    "hidden": true
   },
   "source": [
    "I'm going to implement the GameState on the library with nice tests, but I will also do some play here."
   ]
  },
  {
   "cell_type": "code",
   "execution_count": 4,
   "metadata": {
    "ExecuteTime": {
     "end_time": "2021-03-06T07:45:10.573324Z",
     "start_time": "2021-03-06T07:45:10.383648Z"
    },
    "deletable": false,
    "editable": false,
    "hidden": true,
    "run_control": {
     "frozen": true
    }
   },
   "outputs": [],
   "source": [
    "env = make('hungry_geese', configuration=dict(episodeSteps=200))\n",
    "trainer = env.train([None, \"greedy\", \"greedy\", \"greedy\"])\n",
    "\n",
    "configuration = env.configuration\n",
    "\n",
    "obs = trainer.reset()\n",
    "\n",
    "state = GameState()\n",
    "\n",
    "state.update(obs, configuration)\n",
    "\n",
    "done = False\n",
    "while not done:\n",
    "    action = 'NORTH'\n",
    "    obs, reward, done, info = trainer.step(action)\n",
    "    state.add_action(action)\n",
    "    state.update(obs, configuration)"
   ]
  },
  {
   "cell_type": "code",
   "execution_count": 5,
   "metadata": {
    "ExecuteTime": {
     "end_time": "2021-03-06T07:45:11.636910Z",
     "start_time": "2021-03-06T07:45:11.598917Z"
    },
    "deletable": false,
    "editable": false,
    "hidden": true,
    "run_control": {
     "frozen": true
    },
    "scrolled": true
   },
   "outputs": [
    {
     "data": {
      "text/plain": [
       "[0,\n",
       " 0,\n",
       " 0,\n",
       " 0,\n",
       " 0,\n",
       " 0,\n",
       " 0,\n",
       " 0,\n",
       " 0,\n",
       " 1,\n",
       " 0,\n",
       " 0,\n",
       " 0,\n",
       " 0,\n",
       " 0,\n",
       " 0,\n",
       " 0,\n",
       " 0,\n",
       " 0,\n",
       " 0,\n",
       " 0,\n",
       " 0,\n",
       " 0,\n",
       " 0,\n",
       " 0,\n",
       " 0,\n",
       " 0,\n",
       " 0,\n",
       " 0,\n",
       " 0,\n",
       " 0,\n",
       " 0,\n",
       " 0,\n",
       " 0,\n",
       " 0,\n",
       " 0,\n",
       " 0,\n",
       " 0,\n",
       " 0,\n",
       " 0,\n",
       " 0,\n",
       " 0,\n",
       " 0,\n",
       " 0,\n",
       " 0,\n",
       " 0,\n",
       " 0,\n",
       " 0,\n",
       " 0,\n",
       " 0,\n",
       " 0,\n",
       " 0,\n",
       " 0,\n",
       " 0,\n",
       " 0,\n",
       " 0,\n",
       " 0,\n",
       " 0,\n",
       " 0,\n",
       " 0,\n",
       " -1]"
      ]
     },
     "execution_count": 5,
     "metadata": {},
     "output_type": "execute_result"
    }
   ],
   "source": [
    "state.rewards"
   ]
  },
  {
   "cell_type": "code",
   "execution_count": 6,
   "metadata": {
    "ExecuteTime": {
     "end_time": "2021-03-06T07:45:16.386379Z",
     "start_time": "2021-03-06T07:45:16.351288Z"
    },
    "deletable": false,
    "editable": false,
    "hidden": true,
    "run_control": {
     "frozen": true
    }
   },
   "outputs": [],
   "source": [
    "non_egocentric_state = GameState(egocentric_board=False)\n",
    "for obs in state.history:\n",
    "    non_egocentric_state.update(obs, configuration)"
   ]
  },
  {
   "cell_type": "code",
   "execution_count": 7,
   "metadata": {
    "ExecuteTime": {
     "end_time": "2021-03-06T07:45:19.597323Z",
     "start_time": "2021-03-06T07:45:18.991564Z"
    },
    "deletable": false,
    "editable": false,
    "hidden": true,
    "run_control": {
     "frozen": true
    }
   },
   "outputs": [
    {
     "data": {
      "image/png": "[encoded data removed]",
      "text/plain": [
       "<Figure size 2160x360 with 5 Axes>"
      ]
     },
     "metadata": {
      "needs_background": "light"
     },
     "output_type": "display_data"
    },
    {
     "data": {
      "image/png": "[encoded data removed]",
      "text/plain": [
       "<Figure size 2160x360 with 5 Axes>"
      ]
     },
     "metadata": {
      "needs_background": "light"
     },
     "output_type": "display_data"
    }
   ],
   "source": [
    "steps = list(range(-5, 0, 1))\n",
    "for idx, step in enumerate(steps):\n",
    "    plt.subplot(1, len(steps), idx+1)\n",
    "    plt.grid(which='both'); plt.yticks(np.arange(-0.5, 6.5),[]);  plt.xticks(np.arange(-0.5, 10.5),[])\n",
    "    plt.imshow(state.render_board(state.boards[step]))\n",
    "plt.show()\n",
    "for idx, step in enumerate(steps):\n",
    "    plt.subplot(1, len(steps), idx+1)\n",
    "    plt.grid(which='both'); plt.yticks(np.arange(-0.5, 6.5),[]);  plt.xticks(np.arange(-0.5, 10.5),[])\n",
    "    plt.imshow(non_egocentric_state.render_board(non_egocentric_state.boards[step]))"
   ]
  },
  {
   "cell_type": "code",
   "execution_count": 9,
   "metadata": {
    "ExecuteTime": {
     "end_time": "2021-03-06T07:46:09.876587Z",
     "start_time": "2021-03-06T07:46:09.511716Z"
    },
    "deletable": false,
    "editable": false,
    "hidden": true,
    "run_control": {
     "frozen": true
    }
   },
   "outputs": [
    {
     "data": {
      "image/png": "[encoded data removed]",
      "text/plain": [
       "<Figure size 2160x360 with 5 Axes>"
      ]
     },
     "metadata": {
      "needs_background": "light"
     },
     "output_type": "display_data"
    }
   ],
   "source": [
    "steps = list(range(0, 5))\n",
    "for idx, step in enumerate(steps):\n",
    "    plt.subplot(1, len(steps), idx+1)\n",
    "    plt.grid(which='both'); plt.yticks(np.arange(-0.5, 6.5),[]);  plt.xticks(np.arange(-0.5, 10.5),[])\n",
    "    plt.imshow(non_egocentric_state.render_board(non_egocentric_state.boards[step]))"
   ]
  },
  {
   "cell_type": "markdown",
   "metadata": {
    "deletable": false,
    "editable": false,
    "hidden": true,
    "run_control": {
     "frozen": true
    }
   },
   "source": [
    "When the goose eats the tail does not move in that turn."
   ]
  },
  {
   "cell_type": "code",
   "execution_count": 27,
   "metadata": {
    "ExecuteTime": {
     "end_time": "2021-03-04T18:13:50.407302Z",
     "start_time": "2021-03-04T18:13:50.380178Z"
    },
    "deletable": false,
    "editable": false,
    "hidden": true,
    "run_control": {
     "frozen": true
    }
   },
   "outputs": [
    {
     "data": {
      "text/plain": [
       "array([[1.   , 1.   , 0.2  , 0.2  , 0.2  , 0.2  ],\n",
       "       [0.995, 0.975, 0.195, 0.195, 0.195, 0.195],\n",
       "       [0.99 , 0.95 , 0.19 , 0.19 , 0.19 , 0.19 ],\n",
       "       [0.985, 0.925, 0.185, 0.185, 0.185, 0.385],\n",
       "       [0.98 , 0.9  , 0.18 , 0.18 , 0.38 , 0.38 ],\n",
       "       [0.975, 0.875, 0.175, 0.175, 0.375, 0.375],\n",
       "       [0.97 , 0.85 , 0.17 , 0.17 , 0.37 , 0.37 ],\n",
       "       [0.965, 0.825, 0.165, 0.165, 0.365, 0.565],\n",
       "       [0.96 , 0.8  , 0.16 , 0.16 , 0.36 , 0.56 ],\n",
       "       [0.955, 0.775, 0.155, 0.155, 0.555, 0.555],\n",
       "       [0.95 , 0.75 , 0.15 , 0.15 , 0.55 , 0.55 ],\n",
       "       [0.945, 0.725, 0.145, 0.145, 0.545, 0.545],\n",
       "       [0.94 , 0.7  , 0.14 , 0.14 , 0.54 , 0.54 ],\n",
       "       [0.935, 0.675, 0.135, 0.135, 0.535, 0.735],\n",
       "       [0.93 , 0.65 , 0.13 , 0.13 , 0.53 , 0.73 ],\n",
       "       [0.925, 0.625, 0.125, 0.125, 0.525, 0.925],\n",
       "       [0.92 , 0.6  , 0.12 , 0.12 , 0.52 , 0.92 ],\n",
       "       [0.915, 0.575, 0.115, 0.315, 0.515, 0.915],\n",
       "       [0.91 , 0.55 , 0.11 , 0.31 , 0.51 , 1.11 ],\n",
       "       [0.905, 0.525, 0.105, 0.505, 0.505, 1.105],\n",
       "       [0.9  , 0.5  , 0.1  , 0.5  , 0.5  , 1.1  ],\n",
       "       [0.895, 0.475, 0.095, 0.495, 0.495, 1.295],\n",
       "       [0.89 , 0.45 , 0.09 , 0.49 , 0.49 , 1.29 ],\n",
       "       [0.885, 0.425, 0.085, 0.485, 0.485, 1.285],\n",
       "       [0.88 , 0.4  , 0.08 , 0.48 , 0.48 , 1.28 ],\n",
       "       [0.875, 0.375, 0.075, 0.675, 0.475, 1.275],\n",
       "       [0.87 , 0.35 , 0.07 , 0.67 , 0.47 , 1.27 ],\n",
       "       [0.865, 0.325, 0.065, 0.665, 0.665, 1.465],\n",
       "       [0.86 , 0.3  , 0.06 , 0.66 , 0.66 , 1.66 ],\n",
       "       [0.855, 0.275, 0.055, 0.655, 0.855, 1.655],\n",
       "       [0.85 , 0.25 , 0.05 , 0.65 , 0.85 , 1.65 ],\n",
       "       [0.845, 0.225, 0.045, 0.645, 0.845, 1.645],\n",
       "       [0.84 , 0.2  , 0.   , 0.64 , 0.84 , 1.84 ]], dtype=float32)"
      ]
     },
     "execution_count": 27,
     "metadata": {},
     "output_type": "execute_result"
    }
   ],
   "source": [
    "np.array(state.features)[:, 0:-3]"
   ]
  },
  {
   "cell_type": "code",
   "execution_count": 12,
   "metadata": {
    "ExecuteTime": {
     "end_time": "2021-03-01T11:14:00.295271Z",
     "start_time": "2021-03-01T11:14:00.270565Z"
    },
    "deletable": false,
    "editable": false,
    "hidden": true,
    "run_control": {
     "frozen": true
    }
   },
   "outputs": [
    {
     "data": {
      "text/plain": [
       "{'remainingOverageTime': 60,\n",
       " 'step': 9,\n",
       " 'geese': [[13], [75, 64], [3, 14], []],\n",
       " 'food': [56, 68],\n",
       " 'index': 0}"
      ]
     },
     "execution_count": 12,
     "metadata": {},
     "output_type": "execute_result"
    }
   ],
   "source": [
    "state.history[-1]"
   ]
  },
  {
   "cell_type": "code",
   "execution_count": 11,
   "metadata": {
    "ExecuteTime": {
     "end_time": "2021-02-28T10:04:14.845642Z",
     "start_time": "2021-02-28T10:04:14.815115Z"
    },
    "deletable": false,
    "editable": false,
    "hidden": true,
    "run_control": {
     "frozen": true
    }
   },
   "outputs": [
    {
     "data": {
      "text/plain": [
       "28"
      ]
     },
     "execution_count": 11,
     "metadata": {},
     "output_type": "execute_result"
    }
   ],
   "source": [
    "len(state.history)"
   ]
  },
  {
   "cell_type": "code",
   "execution_count": 13,
   "metadata": {
    "ExecuteTime": {
     "end_time": "2021-02-28T10:11:18.385327Z",
     "start_time": "2021-02-28T10:11:18.358744Z"
    },
    "deletable": false,
    "editable": false,
    "hidden": true,
    "run_control": {
     "frozen": true
    }
   },
   "outputs": [
    {
     "data": {
      "text/plain": [
       "{'remainingOverageTime': 60,\n",
       " 'step': 0,\n",
       " 'geese': [[64], [57], [67], [0]],\n",
       " 'food': [22, 61],\n",
       " 'index': 0}"
      ]
     },
     "execution_count": 13,
     "metadata": {},
     "output_type": "execute_result"
    }
   ],
   "source": [
    "state.history[0]"
   ]
  },
  {
   "cell_type": "code",
   "execution_count": 12,
   "metadata": {
    "ExecuteTime": {
     "end_time": "2021-02-28T10:07:21.978579Z",
     "start_time": "2021-02-28T10:07:21.950621Z"
    },
    "deletable": false,
    "editable": false,
    "hidden": true,
    "run_control": {
     "frozen": true
    }
   },
   "outputs": [
    {
     "data": {
      "text/plain": [
       "{'episodeSteps': 200,\n",
       " 'actTimeout': 1,\n",
       " 'runTimeout': 1200,\n",
       " 'columns': 11,\n",
       " 'rows': 7,\n",
       " 'hunger_rate': 40,\n",
       " 'min_food': 2,\n",
       " 'max_length': 99}"
      ]
     },
     "execution_count": 12,
     "metadata": {},
     "output_type": "execute_result"
    }
   ],
   "source": [
    "state.configuration"
   ]
  },
  {
   "cell_type": "markdown",
   "metadata": {
    "heading_collapsed": true
   },
   "source": [
    "## Model"
   ]
  },
  {
   "cell_type": "code",
   "execution_count": 4,
   "metadata": {
    "ExecuteTime": {
     "end_time": "2021-03-06T11:10:32.648315Z",
     "start_time": "2021-03-06T11:10:32.628094Z"
    },
    "hidden": true
   },
   "outputs": [],
   "source": [
    "def simple_model():\n",
    "    board_input = keras.layers.Input((7, 11, 17))\n",
    "    features_input = keras.layers.Input((9,))\n",
    "    \n",
    "    board_encoder = board_input\n",
    "    for _ in range(3):\n",
    "        board_encoder = keras.layers.Conv2D(16, (3, 3), activation='relu', padding='valid')(board_encoder)\n",
    "    board_encoder = keras.layers.Flatten()(board_encoder)\n",
    "    \n",
    "    mlp_input = keras.layers.concatenate([board_encoder, features_input])\n",
    "    output = keras.layers.Dense(16, activation='relu')(mlp_input)\n",
    "    output = keras.layers.Dense(4, activation='linear')(output)\n",
    "    \n",
    "    model = keras.models.Model(inputs=[board_input, features_input], outputs=output)\n",
    "    return model"
   ]
  },
  {
   "cell_type": "code",
   "execution_count": 6,
   "metadata": {
    "ExecuteTime": {
     "end_time": "2021-03-06T08:57:47.569147Z",
     "start_time": "2021-03-06T08:57:47.021963Z"
    },
    "deletable": false,
    "editable": false,
    "hidden": true,
    "run_control": {
     "frozen": true
    }
   },
   "outputs": [
    {
     "name": "stdout",
     "output_type": "stream",
     "text": [
      "Model: \"model\"\n",
      "__________________________________________________________________________________________________\n",
      "Layer (type)                    Output Shape         Param #     Connected to                     \n",
      "==================================================================================================\n",
      "input_1 (InputLayer)            [(None, 7, 11, 13)]  0                                            \n",
      "__________________________________________________________________________________________________\n",
      "conv2d (Conv2D)                 (None, 5, 9, 16)     1888        input_1[0][0]                    \n",
      "__________________________________________________________________________________________________\n",
      "conv2d_1 (Conv2D)               (None, 3, 7, 16)     2320        conv2d[0][0]                     \n",
      "__________________________________________________________________________________________________\n",
      "conv2d_2 (Conv2D)               (None, 1, 5, 16)     2320        conv2d_1[0][0]                   \n",
      "__________________________________________________________________________________________________\n",
      "flatten (Flatten)               (None, 80)           0           conv2d_2[0][0]                   \n",
      "__________________________________________________________________________________________________\n",
      "input_2 (InputLayer)            [(None, 9)]          0                                            \n",
      "__________________________________________________________________________________________________\n",
      "concatenate (Concatenate)       (None, 89)           0           flatten[0][0]                    \n",
      "                                                                 input_2[0][0]                    \n",
      "__________________________________________________________________________________________________\n",
      "dense (Dense)                   (None, 16)           1440        concatenate[0][0]                \n",
      "__________________________________________________________________________________________________\n",
      "dense_1 (Dense)                 (None, 4)            68          dense[0][0]                      \n",
      "==================================================================================================\n",
      "Total params: 8,036\n",
      "Trainable params: 8,036\n",
      "Non-trainable params: 0\n",
      "__________________________________________________________________________________________________\n"
     ]
    }
   ],
   "source": [
    "model = simple_model()\n",
    "model.summary()"
   ]
  },
  {
   "cell_type": "code",
   "execution_count": 7,
   "metadata": {
    "ExecuteTime": {
     "end_time": "2021-03-06T08:57:56.158868Z",
     "start_time": "2021-03-06T08:57:47.571246Z"
    },
    "deletable": false,
    "editable": false,
    "hidden": true,
    "run_control": {
     "frozen": true
    }
   },
   "outputs": [
    {
     "data": {
      "text/plain": [
       "array([[0., 0., 0., 0.]], dtype=float32)"
      ]
     },
     "execution_count": 7,
     "metadata": {},
     "output_type": "execute_result"
    }
   ],
   "source": [
    "model.predict([np.zeros((1, 7, 11, 13), dtype=np.float32), np.zeros((1, 9), dtype=np.float32)])"
   ]
  },
  {
   "cell_type": "code",
   "execution_count": 9,
   "metadata": {
    "ExecuteTime": {
     "end_time": "2021-03-06T08:11:02.747836Z",
     "start_time": "2021-03-06T08:11:00.625945Z"
    },
    "deletable": false,
    "editable": false,
    "hidden": true,
    "run_control": {
     "frozen": true
    }
   },
   "outputs": [],
   "source": [
    "# cpu\n",
    "for _ in range(100):\n",
    "    model.predict([np.zeros((1, 7, 11, 13), dtype=np.float32), np.zeros((1, 9), dtype=np.float32)])"
   ]
  },
  {
   "cell_type": "code",
   "execution_count": 9,
   "metadata": {
    "ExecuteTime": {
     "end_time": "2021-03-06T08:58:18.658573Z",
     "start_time": "2021-03-06T08:58:15.747542Z"
    },
    "deletable": false,
    "editable": false,
    "hidden": true,
    "run_control": {
     "frozen": true
    }
   },
   "outputs": [],
   "source": [
    "# gpu0\n",
    "for _ in range(100):\n",
    "    model.predict([np.zeros((1, 7, 11, 13), dtype=np.float32), np.zeros((1, 9), dtype=np.float32)])"
   ]
  },
  {
   "cell_type": "code",
   "execution_count": 15,
   "metadata": {
    "ExecuteTime": {
     "end_time": "2021-03-06T09:00:31.492662Z",
     "start_time": "2021-03-06T09:00:31.421459Z"
    },
    "deletable": false,
    "editable": false,
    "hidden": true,
    "hide_input": false,
    "run_control": {
     "frozen": true
    }
   },
   "outputs": [],
   "source": [
    "# gpu0\n",
    "batch_size = 100\n",
    "model.predict([np.zeros((batch_size, 7, 11, 13), dtype=np.float32), np.zeros((batch_size, 9), dtype=np.float32)], batch_size=batch_size);"
   ]
  },
  {
   "cell_type": "code",
   "execution_count": 18,
   "metadata": {
    "ExecuteTime": {
     "end_time": "2021-03-06T09:01:06.897813Z",
     "start_time": "2021-03-06T09:01:06.819461Z"
    },
    "deletable": false,
    "editable": false,
    "hidden": true,
    "run_control": {
     "frozen": true
    }
   },
   "outputs": [],
   "source": [
    "# gpu0\n",
    "batch_size = 1000\n",
    "model.predict([np.zeros((batch_size, 7, 11, 13), dtype=np.float32), np.zeros((batch_size, 9), dtype=np.float32)], batch_size=batch_size);"
   ]
  },
  {
   "cell_type": "code",
   "execution_count": 20,
   "metadata": {
    "ExecuteTime": {
     "end_time": "2021-03-06T09:01:55.150739Z",
     "start_time": "2021-03-06T09:01:55.017863Z"
    },
    "deletable": false,
    "editable": false,
    "hidden": true,
    "run_control": {
     "frozen": true
    }
   },
   "outputs": [],
   "source": [
    "# gpu0\n",
    "batch_size = 10000\n",
    "model.predict([np.zeros((batch_size, 7, 11, 13), dtype=np.float32), np.zeros((batch_size, 9), dtype=np.float32)], batch_size=batch_size);"
   ]
  },
  {
   "cell_type": "markdown",
   "metadata": {
    "hidden": true
   },
   "source": [
    "On cpu it takes around 20ms to make a prediction.\n",
    "\n",
    "With tensorboard 2.1 it is very slow to create an to make predictions, I have stopped it after more than 10 minutes of initialization.  \n",
    "So I'm going to advance to 2.4.1\n",
    "\n",
    "https://www.reddit.com/r/tensorflow/comments/jbp2sh/tensorflow_with_rtx_3080_extremely_slow/\n",
    "\n",
    "> I use RTX 3070 and experienced similar issue, but when switched to conda with cudatoolkit 11.0.221, cudnn 8.0.4 and tensorflow-gpu 2.4.1 it initialized model instantly!\n",
    "\n",
    "- cudatoolkit with conda\n",
    "- tensorflow with pip\n",
    "- cudnn copying the files manually: https://stackoverflow.com/questions/55256671/how-to-install-latest-cudnn-to-conda\n",
    "\n",
    "```bash\n",
    "tar -xzf cudnn-11.2-linux-x64-v8.1.1.33.tgz\n",
    "cp cuda/include/cudnn*.h ~/miniconda3/envs/goose/include\n",
    "cp cuda/lib64/libcudnn* ~/miniconda3/envs/goose/lib\n",
    "```\n",
    "\n",
    "We can see that if we want to make single predictions in this case cpu is faster, probably with a bigger model this will be different.\n",
    "In the other hand when we do batch predictions gpu is way more faster."
   ]
  },
  {
   "cell_type": "markdown",
   "metadata": {},
   "source": [
    "## Agent"
   ]
  },
  {
   "cell_type": "markdown",
   "metadata": {},
   "source": [
    "The agent will have an internal GameState for playing an a model that uses the game state as input to return which action to take.\n",
    "\n",
    "I'm going to implement it on the library also."
   ]
  },
  {
   "cell_type": "code",
   "execution_count": 5,
   "metadata": {
    "ExecuteTime": {
     "end_time": "2021-03-06T11:10:32.670879Z",
     "start_time": "2021-03-06T11:10:32.649608Z"
    }
   },
   "outputs": [],
   "source": [
    "class QValueAgent():\n",
    "    def __init__(self, model):\n",
    "        self.model = model\n",
    "        self.state = GameState()\n",
    "        self.previous_action = None\n",
    "    \n",
    "    def __call__(self, observation, configuration):\n",
    "        board, features = self.state.update(observation, configuration)\n",
    "        q_value = self.model.predict([np.expand_dims(board, axis=0), np.expand_dims(features, axis=0)])[0]\n",
    "        action = ACTIONS[self.select_action(q_value)]\n",
    "        self.previous_action = action\n",
    "        self.state.add_action(action)\n",
    "        return action\n",
    "        # TODO: how to deal with previous action if epsilon agent is playing, add a method to change previous action\n",
    "    \n",
    "    def reset(self):\n",
    "        self.state.reset()\n",
    "        self.previous_action = None\n",
    "        \n",
    "    def update_previous_action(self, previous_action):\n",
    "        \"\"\" Allows to change previous action if an agent such as epsilon-greedy agent is playing\"\"\"\n",
    "        self.previous_action = previous_action\n",
    "        self.state.update_last_action(previous_action)\n",
    "    \n",
    "    def select_action(self, q_value):\n",
    "        q_value += np.random.uniform(0, 1e-3, len(q_value))\n",
    "        if self.previous_action is not None:\n",
    "            q_value[ACTION_TO_IDX[opposite_action(self.previous_action)]] -= 1e6\n",
    "        return np.argmax(q_value)"
   ]
  },
  {
   "cell_type": "code",
   "execution_count": 6,
   "metadata": {
    "ExecuteTime": {
     "end_time": "2021-03-06T11:10:32.759118Z",
     "start_time": "2021-03-06T11:10:32.672118Z"
    }
   },
   "outputs": [],
   "source": [
    "model = simple_model()\n",
    "agent = QValueAgent(model)"
   ]
  },
  {
   "cell_type": "code",
   "execution_count": 37,
   "metadata": {
    "ExecuteTime": {
     "end_time": "2021-03-06T10:06:40.610737Z",
     "start_time": "2021-03-06T10:06:39.654085Z"
    },
    "deletable": false,
    "editable": false,
    "run_control": {
     "frozen": true
    }
   },
   "outputs": [],
   "source": [
    "agent.reset()\n",
    "env = make('hungry_geese', configuration=dict(episodeSteps=200))\n",
    "trainer = env.train([None, \"greedy\", \"greedy\", \"greedy\"])\n",
    "\n",
    "configuration = env.configuration\n",
    "\n",
    "obs = trainer.reset()\n",
    "done = False\n",
    "while not done:\n",
    "    action = agent(obs, configuration)\n",
    "    obs, reward, done, info = trainer.step(action)\n",
    "agent(obs, configuration);"
   ]
  },
  {
   "cell_type": "code",
   "execution_count": 38,
   "metadata": {
    "ExecuteTime": {
     "end_time": "2021-03-06T10:06:40.640376Z",
     "start_time": "2021-03-06T10:06:40.612805Z"
    },
    "deletable": false,
    "editable": false,
    "run_control": {
     "frozen": true
    }
   },
   "outputs": [
    {
     "data": {
      "text/plain": [
       "((35, 7, 11, 17), (35, 9), (35,), (34,))"
      ]
     },
     "execution_count": 38,
     "metadata": {},
     "output_type": "execute_result"
    }
   ],
   "source": [
    "np.array(agent.state.boards).shape, np.array(agent.state.features).shape, np.array(agent.state.actions).shape, np.array(agent.state.rewards).shape"
   ]
  },
  {
   "cell_type": "code",
   "execution_count": 39,
   "metadata": {
    "ExecuteTime": {
     "end_time": "2021-03-06T10:06:40.660105Z",
     "start_time": "2021-03-06T10:06:40.641691Z"
    },
    "deletable": false,
    "editable": false,
    "run_control": {
     "frozen": true
    }
   },
   "outputs": [],
   "source": [
    "rewards = np.array(agent.state.rewards)"
   ]
  },
  {
   "cell_type": "code",
   "execution_count": 40,
   "metadata": {
    "ExecuteTime": {
     "end_time": "2021-03-06T10:06:40.698448Z",
     "start_time": "2021-03-06T10:06:40.661741Z"
    },
    "deletable": false,
    "editable": false,
    "run_control": {
     "frozen": true
    }
   },
   "outputs": [
    {
     "data": {
      "text/plain": [
       "array([ 0,  0,  0,  0,  0,  0,  0,  0,  0,  0,  0,  0,  0,  0,  0,  0,  0,\n",
       "        0,  0,  0,  0,  1,  0,  0,  0,  0,  0,  0,  0,  0,  0,  0,  0, -1])"
      ]
     },
     "execution_count": 40,
     "metadata": {},
     "output_type": "execute_result"
    }
   ],
   "source": [
    "rewards"
   ]
  },
  {
   "cell_type": "code",
   "execution_count": 42,
   "metadata": {
    "ExecuteTime": {
     "end_time": "2021-03-06T10:06:51.385156Z",
     "start_time": "2021-03-06T10:06:51.342885Z"
    },
    "deletable": false,
    "editable": false,
    "run_control": {
     "frozen": true
    }
   },
   "outputs": [
    {
     "data": {
      "text/plain": [
       "array([ 0,  0,  0,  0,  0,  0,  0,  0,  0,  0,  0,  0,  0,  0,  0,  0,  0,\n",
       "        0,  0,  0,  0,  0, -1, -1, -1, -1, -1, -1, -1, -1, -1, -1, -1, -1])"
      ]
     },
     "execution_count": 42,
     "metadata": {},
     "output_type": "execute_result"
    }
   ],
   "source": [
    "np.cumsum(rewards[::-1])[::-1]"
   ]
  },
  {
   "cell_type": "markdown",
   "metadata": {},
   "source": [
    "This is the way to compute the cumulative reward for each state."
   ]
  },
  {
   "cell_type": "markdown",
   "metadata": {
    "heading_collapsed": true
   },
   "source": [
    "## Model for training"
   ]
  },
  {
   "cell_type": "code",
   "execution_count": 7,
   "metadata": {
    "ExecuteTime": {
     "end_time": "2021-03-06T11:10:32.780503Z",
     "start_time": "2021-03-06T11:10:32.760423Z"
    },
    "hidden": true
   },
   "outputs": [],
   "source": [
    "def create_model_for_training(model):\n",
    "    input_mask = keras.layers.Input((4,))\n",
    "    output = keras.backend.sum(input_mask*model.output, axis=-1)\n",
    "    new_model = keras.models.Model(inputs=(model.inputs + [input_mask]), outputs=output)\n",
    "    return new_model"
   ]
  },
  {
   "cell_type": "code",
   "execution_count": 48,
   "metadata": {
    "ExecuteTime": {
     "end_time": "2021-03-06T10:28:01.176201Z",
     "start_time": "2021-03-06T10:28:01.123583Z"
    },
    "deletable": false,
    "editable": false,
    "hidden": true,
    "run_control": {
     "frozen": true
    }
   },
   "outputs": [
    {
     "name": "stdout",
     "output_type": "stream",
     "text": [
      "Model: \"model_2\"\n",
      "__________________________________________________________________________________________________\n",
      "Layer (type)                    Output Shape         Param #     Connected to                     \n",
      "==================================================================================================\n",
      "input_1 (InputLayer)            [(None, 7, 11, 17)]  0                                            \n",
      "__________________________________________________________________________________________________\n",
      "conv2d (Conv2D)                 (None, 5, 9, 16)     2464        input_1[0][0]                    \n",
      "__________________________________________________________________________________________________\n",
      "conv2d_1 (Conv2D)               (None, 3, 7, 16)     2320        conv2d[0][0]                     \n",
      "__________________________________________________________________________________________________\n",
      "conv2d_2 (Conv2D)               (None, 1, 5, 16)     2320        conv2d_1[0][0]                   \n",
      "__________________________________________________________________________________________________\n",
      "flatten (Flatten)               (None, 80)           0           conv2d_2[0][0]                   \n",
      "__________________________________________________________________________________________________\n",
      "input_2 (InputLayer)            [(None, 9)]          0                                            \n",
      "__________________________________________________________________________________________________\n",
      "concatenate (Concatenate)       (None, 89)           0           flatten[0][0]                    \n",
      "                                                                 input_2[0][0]                    \n",
      "__________________________________________________________________________________________________\n",
      "dense (Dense)                   (None, 16)           1440        concatenate[0][0]                \n",
      "__________________________________________________________________________________________________\n",
      "input_4 (InputLayer)            [(None, 4)]          0                                            \n",
      "__________________________________________________________________________________________________\n",
      "dense_1 (Dense)                 (None, 4)            68          dense[0][0]                      \n",
      "__________________________________________________________________________________________________\n",
      "tf.math.multiply_1 (TFOpLambda) (None, 4)            0           input_4[0][0]                    \n",
      "                                                                 dense_1[0][0]                    \n",
      "__________________________________________________________________________________________________\n",
      "tf.math.reduce_sum_1 (TFOpLambd (None,)              0           tf.math.multiply_1[0][0]         \n",
      "==================================================================================================\n",
      "Total params: 8,612\n",
      "Trainable params: 8,612\n",
      "Non-trainable params: 0\n",
      "__________________________________________________________________________________________________\n"
     ]
    }
   ],
   "source": [
    "traininig_model = create_model_for_training(model)\n",
    "traininig_model.summary()"
   ]
  },
  {
   "cell_type": "code",
   "execution_count": 47,
   "metadata": {
    "ExecuteTime": {
     "end_time": "2021-03-06T10:27:39.351955Z",
     "start_time": "2021-03-06T10:27:39.282737Z"
    },
    "deletable": false,
    "editable": false,
    "hidden": true,
    "run_control": {
     "frozen": true
    }
   },
   "outputs": [
    {
     "data": {
      "text/plain": [
       "array([[-0.14275733, -0.07466232, -0.26412973, -0.01538348]],\n",
       "      dtype=float32)"
      ]
     },
     "execution_count": 47,
     "metadata": {},
     "output_type": "execute_result"
    }
   ],
   "source": [
    "model.predict([np.ones((1, 7, 11, 17)), np.zeros((1, 9))])"
   ]
  },
  {
   "cell_type": "code",
   "execution_count": 50,
   "metadata": {
    "ExecuteTime": {
     "end_time": "2021-03-06T10:28:36.671216Z",
     "start_time": "2021-03-06T10:28:36.563791Z"
    },
    "deletable": false,
    "editable": false,
    "hidden": true,
    "run_control": {
     "frozen": true
    }
   },
   "outputs": [
    {
     "data": {
      "text/plain": [
       "array([-0.14275734, -0.07466233, -0.26412973, -0.01538347], dtype=float32)"
      ]
     },
     "execution_count": 50,
     "metadata": {},
     "output_type": "execute_result"
    }
   ],
   "source": [
    "traininig_model.predict([np.ones((4, 7, 11, 17)), np.zeros((4, 9)), np.eye(4)])"
   ]
  },
  {
   "cell_type": "markdown",
   "metadata": {
    "hidden": true
   },
   "source": [
    "Seems to be working. So I can use the model for playing and the training_model for training."
   ]
  },
  {
   "cell_type": "markdown",
   "metadata": {},
   "source": [
    "## Prepare data for training"
   ]
  },
  {
   "cell_type": "markdown",
   "metadata": {},
   "source": [
    "I will implement that functionality on the GameState."
   ]
  },
  {
   "cell_type": "code",
   "execution_count": 8,
   "metadata": {
    "ExecuteTime": {
     "end_time": "2021-03-06T11:10:32.834637Z",
     "start_time": "2021-03-06T11:10:32.782271Z"
    },
    "deletable": false,
    "editable": false,
    "run_control": {
     "frozen": true
    }
   },
   "outputs": [],
   "source": [
    "model = simple_model()\n",
    "traininig_model = create_model_for_training(model)\n",
    "agent = QValueAgent(model)"
   ]
  },
  {
   "cell_type": "code",
   "execution_count": 9,
   "metadata": {
    "ExecuteTime": {
     "end_time": "2021-03-06T11:10:33.753367Z",
     "start_time": "2021-03-06T11:10:32.836154Z"
    },
    "deletable": false,
    "editable": false,
    "run_control": {
     "frozen": true
    }
   },
   "outputs": [],
   "source": [
    "agent.reset()\n",
    "env = make('hungry_geese', configuration=dict(episodeSteps=200))\n",
    "trainer = env.train([None, \"greedy\", \"greedy\", \"greedy\"])\n",
    "configuration = env.configuration\n",
    "\n",
    "obs = trainer.reset()\n",
    "done = False\n",
    "while not done:\n",
    "    action = agent(obs, configuration)\n",
    "    obs, reward, done, info = trainer.step(action)\n",
    "agent(obs, configuration);"
   ]
  },
  {
   "cell_type": "code",
   "execution_count": 24,
   "metadata": {
    "ExecuteTime": {
     "end_time": "2021-03-06T11:17:23.497885Z",
     "start_time": "2021-03-06T11:17:23.396680Z"
    },
    "deletable": false,
    "editable": false,
    "run_control": {
     "frozen": true
    }
   },
   "outputs": [
    {
     "name": "stdout",
     "output_type": "stream",
     "text": [
      "[(27, 7, 11, 17), (27, 9), (27, 4), (27,)]\n"
     ]
    }
   ],
   "source": [
    "data = agent.state.prepare_data_for_training()\n",
    "print([element.shape for element in data])"
   ]
  },
  {
   "cell_type": "code",
   "execution_count": 27,
   "metadata": {
    "ExecuteTime": {
     "end_time": "2021-03-06T11:21:32.544357Z",
     "start_time": "2021-03-06T11:21:32.420329Z"
    },
    "deletable": false,
    "editable": false,
    "run_control": {
     "frozen": true
    }
   },
   "outputs": [],
   "source": [
    "traininig_model.compile(optimizer='Adam', loss='mean_squared_error')"
   ]
  },
  {
   "cell_type": "code",
   "execution_count": 29,
   "metadata": {
    "ExecuteTime": {
     "end_time": "2021-03-06T11:22:11.480791Z",
     "start_time": "2021-03-06T11:22:11.370723Z"
    },
    "deletable": false,
    "editable": false,
    "run_control": {
     "frozen": true
    }
   },
   "outputs": [
    {
     "name": "stdout",
     "output_type": "stream",
     "text": [
      "Epoch 1/5\n",
      "1/1 [==============================] - 0s 6ms/step - loss: 0.7556\n",
      "Epoch 2/5\n",
      "1/1 [==============================] - 0s 4ms/step - loss: 0.6886\n",
      "Epoch 3/5\n",
      "1/1 [==============================] - 0s 4ms/step - loss: 0.6231\n",
      "Epoch 4/5\n",
      "1/1 [==============================] - 0s 5ms/step - loss: 0.5588\n",
      "Epoch 5/5\n",
      "1/1 [==============================] - 0s 5ms/step - loss: 0.4947\n"
     ]
    },
    {
     "data": {
      "text/plain": [
       "<tensorflow.python.keras.callbacks.History at 0x7f3ec46a1450>"
      ]
     },
     "execution_count": 29,
     "metadata": {},
     "output_type": "execute_result"
    }
   ],
   "source": [
    "traininig_model.fit(x=data[:3], y=data[-1], epochs=5)"
   ]
  },
  {
   "cell_type": "markdown",
   "metadata": {},
   "source": [
    "We can use the data for training, so let's continue."
   ]
  },
  {
   "cell_type": "markdown",
   "metadata": {},
   "source": [
    "## Simmetry on the data"
   ]
  },
  {
   "cell_type": "markdown",
   "metadata": {},
   "source": [
    "The board is simmetric and we cannot do anything to solve that, however the order of the other goose is irrelevant. But I cannot think of a representation that is order irrelevant but preserves individual information."
   ]
  },
  {
   "cell_type": "markdown",
   "metadata": {},
   "source": [
    "On a first step I will simply apply all simmetries: 2x2x6 = x24"
   ]
  },
  {
   "cell_type": "markdown",
   "metadata": {
    "ExecuteTime": {
     "end_time": "2021-03-06T10:46:50.334569Z",
     "start_time": "2021-03-06T10:46:50.299358Z"
    }
   },
   "source": [
    "I will visualize the simmetries to verify they are correctly applied."
   ]
  },
  {
   "cell_type": "markdown",
   "metadata": {},
   "source": [
    "As input this functions will receive the data for training."
   ]
  },
  {
   "cell_type": "markdown",
   "metadata": {
    "heading_collapsed": true
   },
   "source": [
    "### Vertical and horizontal simmetry"
   ]
  },
  {
   "cell_type": "code",
   "execution_count": 30,
   "metadata": {
    "ExecuteTime": {
     "end_time": "2021-03-06T11:28:41.530052Z",
     "start_time": "2021-03-06T11:28:41.484009Z"
    },
    "hidden": true
   },
   "outputs": [],
   "source": [
    "def vertical_simmetry(data):\n",
    "    boards = data[0][:, ::-1].copy()\n",
    "    actions = data[2].copy()\n",
    "    # change north by south and viceversa\n",
    "    actions[:, 0] = data[2][:, 2]\n",
    "    actions[:, 2] = data[2][:, 0]\n",
    "    return boards, data[1], actions, data[-1]"
   ]
  },
  {
   "cell_type": "code",
   "execution_count": 35,
   "metadata": {
    "ExecuteTime": {
     "end_time": "2021-03-06T11:31:35.685347Z",
     "start_time": "2021-03-06T11:31:35.642722Z"
    },
    "hidden": true
   },
   "outputs": [],
   "source": [
    "def horizontal_simmetry(data):\n",
    "    boards = data[0][:, :, ::-1].copy()\n",
    "    actions = data[2].copy()\n",
    "    # change west by east and viceversa\n",
    "    actions[:, 1] = data[2][:, 3]\n",
    "    actions[:, 3] = data[2][:, 1]\n",
    "    return boards, data[1], actions, data[-1]"
   ]
  },
  {
   "cell_type": "code",
   "execution_count": 41,
   "metadata": {
    "ExecuteTime": {
     "end_time": "2021-03-06T11:33:26.590795Z",
     "start_time": "2021-03-06T11:33:26.314077Z"
    },
    "deletable": false,
    "editable": false,
    "hidden": true,
    "hide_input": false,
    "run_control": {
     "frozen": true
    },
    "scrolled": true
   },
   "outputs": [
    {
     "data": {
      "image/png": "[encoded data removed]",
      "text/plain": [
       "<Figure size 2160x360 with 4 Axes>"
      ]
     },
     "metadata": {
      "needs_background": "light"
     },
     "output_type": "display_data"
    }
   ],
   "source": [
    "data_vertical = vertical_simmetry(data)\n",
    "data_horizontal = horizontal_simmetry(data)\n",
    "data_both = vertical_simmetry(horizontal_simmetry(data))\n",
    "\n",
    "plt.subplot(1, 4, 1)\n",
    "plt.title('original')\n",
    "plt.grid(which='both'); plt.yticks(np.arange(-0.5, 6.5),[]);  plt.xticks(np.arange(-0.5, 10.5),[])\n",
    "plt.imshow(agent.state.render_board(data[0][-1]))\n",
    "\n",
    "plt.subplot(1, 4, 2)\n",
    "plt.title('vertical simmetry')\n",
    "plt.grid(which='both'); plt.yticks(np.arange(-0.5, 6.5),[]);  plt.xticks(np.arange(-0.5, 10.5),[])\n",
    "plt.imshow(agent.state.render_board(data_vertical[0][-1]))\n",
    "\n",
    "plt.subplot(1, 4, 3)\n",
    "plt.title('horizontal simmetry')\n",
    "plt.grid(which='both'); plt.yticks(np.arange(-0.5, 6.5),[]);  plt.xticks(np.arange(-0.5, 10.5),[])\n",
    "plt.imshow(agent.state.render_board(data_horizontal[0][-1]))\n",
    "\n",
    "plt.subplot(1, 4, 4)\n",
    "plt.title('both simmetry')\n",
    "plt.grid(which='both'); plt.yticks(np.arange(-0.5, 6.5),[]);  plt.xticks(np.arange(-0.5, 10.5),[])\n",
    "plt.imshow(agent.state.render_board(data_both[0][-1]));"
   ]
  },
  {
   "cell_type": "markdown",
   "metadata": {
    "hidden": true
   },
   "source": [
    "Looks good."
   ]
  },
  {
   "cell_type": "markdown",
   "metadata": {
    "heading_collapsed": true
   },
   "source": [
    "### Player simmetry"
   ]
  },
  {
   "cell_type": "markdown",
   "metadata": {
    "hidden": true
   },
   "source": [
    "On player simmetry we are going to change the position of the other players. So we have to change the board, and also the features because some of them are position dependent."
   ]
  },
  {
   "cell_type": "markdown",
   "metadata": {
    "hidden": true
   },
   "source": [
    "As input we should probably give the new positions, for example \\[2, 0, 1]"
   ]
  },
  {
   "cell_type": "code",
   "execution_count": 57,
   "metadata": {
    "ExecuteTime": {
     "end_time": "2021-03-06T11:49:21.125596Z",
     "start_time": "2021-03-06T11:49:21.087665Z"
    },
    "hidden": true
   },
   "outputs": [],
   "source": [
    "def player_simmetry(data, new_positions):\n",
    "    boards = data[0].copy()\n",
    "    features = data[1].copy()\n",
    "    for old_idx, new_idx in enumerate(new_positions):\n",
    "        boards[:, :, :, 4*(new_idx+1):4*(new_idx+2)] = data[0][:, :, :, 4*(old_idx+1):4*(old_idx+2)]\n",
    "        features[:, 3+new_idx] = data[1][:, 3+old_idx]\n",
    "        features[:, 6+new_idx] = data[1][:, 6+old_idx]\n",
    "    return boards, features, data[2], data[3]"
   ]
  },
  {
   "cell_type": "code",
   "execution_count": 62,
   "metadata": {
    "ExecuteTime": {
     "end_time": "2021-03-06T11:49:57.965584Z",
     "start_time": "2021-03-06T11:49:57.607621Z"
    },
    "deletable": false,
    "editable": false,
    "hidden": true,
    "run_control": {
     "frozen": true
    }
   },
   "outputs": [
    {
     "data": {
      "image/png": "[encoded data removed]",
      "text/plain": [
       "<Figure size 2160x360 with 6 Axes>"
      ]
     },
     "metadata": {
      "needs_background": "light"
     },
     "output_type": "display_data"
    }
   ],
   "source": [
    "all_permutations = list(permutations([0, 1, 2]))\n",
    "for idx, new_positions in enumerate(all_permutations):\n",
    "    new_data = player_simmetry(data, new_positions)\n",
    "    plt.subplot(1, len(all_permutations), idx+1)\n",
    "    plt.title(new_positions)\n",
    "    plt.grid(which='both'); plt.yticks(np.arange(-0.5, 6.5),[]);  plt.xticks(np.arange(-0.5, 10.5),[])\n",
    "    plt.imshow(agent.state.render_board(new_data[0][-1]));"
   ]
  },
  {
   "cell_type": "markdown",
   "metadata": {
    "heading_collapsed": true
   },
   "source": [
    "### Apply all simmetries"
   ]
  },
  {
   "cell_type": "code",
   "execution_count": 68,
   "metadata": {
    "ExecuteTime": {
     "end_time": "2021-03-06T12:01:21.859447Z",
     "start_time": "2021-03-06T12:01:21.816071Z"
    },
    "hidden": true
   },
   "outputs": [],
   "source": [
    "def apply_all_simetries(data):\n",
    "    all_data = []\n",
    "    \n",
    "    data_vertical = vertical_simmetry(data)\n",
    "    data_horizontal = horizontal_simmetry(data)\n",
    "    data_both = vertical_simmetry(horizontal_simmetry(data))\n",
    "    all_permutations = list(permutations([0, 1, 2]))\n",
    "    for new_positions in all_permutations:\n",
    "        all_data.append(player_simmetry(data, new_positions))\n",
    "        all_data.append(player_simmetry(data_vertical, new_positions))\n",
    "        all_data.append(player_simmetry(data_horizontal, new_positions))\n",
    "        all_data.append(player_simmetry(data_both, new_positions))\n",
    "    return combine_data(all_data)\n",
    "\n",
    "def combine_data(all_data):\n",
    "    boards = np.concatenate([_data[0] for _data in all_data])\n",
    "    features = np.concatenate([_data[1] for _data in all_data])\n",
    "    actions = np.concatenate([_data[2] for _data in all_data])\n",
    "    rewards = np.concatenate([_data[3] for _data in all_data])\n",
    "    return boards, features, actions, rewards"
   ]
  },
  {
   "cell_type": "code",
   "execution_count": 69,
   "metadata": {
    "ExecuteTime": {
     "end_time": "2021-03-06T12:01:25.440614Z",
     "start_time": "2021-03-06T12:01:25.397801Z"
    },
    "deletable": false,
    "editable": false,
    "hidden": true,
    "run_control": {
     "frozen": true
    }
   },
   "outputs": [
    {
     "name": "stdout",
     "output_type": "stream",
     "text": [
      "[(648, 7, 11, 17), (648, 9), (648, 4), (648,)]\n"
     ]
    }
   ],
   "source": [
    "all_data = apply_all_simetries(data)\n",
    "print([element.shape for element in all_data])"
   ]
  },
  {
   "cell_type": "code",
   "execution_count": 67,
   "metadata": {
    "ExecuteTime": {
     "end_time": "2021-03-06T11:59:33.970429Z",
     "start_time": "2021-03-06T11:59:33.501834Z"
    },
    "deletable": false,
    "editable": false,
    "hidden": true,
    "run_control": {
     "frozen": true
    }
   },
   "outputs": [
    {
     "name": "stdout",
     "output_type": "stream",
     "text": [
      "Epoch 1/5\n",
      "21/21 [==============================] - 0s 3ms/step - loss: 0.2556\n",
      "Epoch 2/5\n",
      "21/21 [==============================] - 0s 3ms/step - loss: 0.1371\n",
      "Epoch 3/5\n",
      "21/21 [==============================] - 0s 4ms/step - loss: 0.0843\n",
      "Epoch 4/5\n",
      "21/21 [==============================] - 0s 4ms/step - loss: 0.0599\n",
      "Epoch 5/5\n",
      "21/21 [==============================] - 0s 4ms/step - loss: 0.0466\n"
     ]
    },
    {
     "data": {
      "text/plain": [
       "<tensorflow.python.keras.callbacks.History at 0x7f3f91849b50>"
      ]
     },
     "execution_count": 67,
     "metadata": {},
     "output_type": "execute_result"
    }
   ],
   "source": [
    "traininig_model.fit(x=all_data[:3], y=all_data[-1], epochs=5)"
   ]
  },
  {
   "cell_type": "markdown",
   "metadata": {
    "hidden": true
   },
   "source": [
    "It is still working, so we can continue."
   ]
  },
  {
   "cell_type": "markdown",
   "metadata": {},
   "source": [
    "## First training"
   ]
  },
  {
   "cell_type": "code",
   "execution_count": null,
   "metadata": {},
   "outputs": [],
   "source": [
    "model = simple_model()\n",
    "traininig_model = create_model_for_training(model)\n",
    "base_agent = QValueAgent(model)\n",
    "epsilon_agent = EpsilonAgent(base_agent, epsilon=0.1)"
   ]
  },
  {
   "cell_type": "code",
   "execution_count": null,
   "metadata": {},
   "outputs": [],
   "source": [
    "agent.reset()\n",
    "env = make('hungry_geese', configuration=dict(episodeSteps=200))\n",
    "trainer = env.train([None, \"greedy\", \"greedy\", \"greedy\"])\n",
    "configuration = env.configuration\n",
    "\n",
    "obs = trainer.reset()\n",
    "done = False\n",
    "while not done:\n",
    "    action = agent(obs, configuration)\n",
    "    obs, reward, done, info = trainer.step(action)\n",
    "agent(obs, configuration);"
   ]
  },
  {
   "cell_type": "markdown",
   "metadata": {},
   "source": [
    "## TODO"
   ]
  },
  {
   "cell_type": "markdown",
   "metadata": {},
   "source": [
    "- Function to prepare data for training\n",
    "- More tests\n",
    "- First trainings\n",
    "- Simmetry transformations"
   ]
  },
  {
   "cell_type": "markdown",
   "metadata": {},
   "source": [
    "## Summary"
   ]
  },
  {
   "cell_type": "code",
   "execution_count": null,
   "metadata": {},
   "outputs": [],
   "source": []
  }
 ],
 "metadata": {
  "hide_input": false,
  "kernelspec": {
   "display_name": "Python (goose)",
   "language": "python",
   "name": "goose"
  },
  "language_info": {
   "codemirror_mode": {
    "name": "ipython",
    "version": 3
   },
   "file_extension": ".py",
   "mimetype": "text/x-python",
   "name": "python",
   "nbconvert_exporter": "python",
   "pygments_lexer": "ipython3",
   "version": "3.7.9"
  },
  "toc": {
   "base_numbering": 1,
   "nav_menu": {},
   "number_sections": false,
   "sideBar": true,
   "skip_h1_title": false,
   "title_cell": "Table of Contents",
   "title_sidebar": "Contents",
   "toc_cell": true,
   "toc_position": {},
   "toc_section_display": true,
   "toc_window_display": false
  }
 },
 "nbformat": 4,
 "nbformat_minor": 4
}
